{
 "cells": [
  {
   "cell_type": "code",
   "execution_count": 6,
   "id": "c4854413",
   "metadata": {},
   "outputs": [
    {
     "name": "stdout",
     "output_type": "stream",
     "text": [
      "name Francis salary 60000\n",
      "name: Francis salary 60000\n"
     ]
    }
   ],
   "source": [
    "class Account:\n",
    "    #constructor\n",
    "    def __init__(self,name,salary):\n",
    "        #public data members\n",
    "        self.name=name\n",
    "        self.salary=salary\n",
    "    #public instance method\n",
    "    def show(self):\n",
    "        #accesing public data member\n",
    "        print('name:',self.name,'salary',self.salary)\n",
    "acc=Account('Francis',60000)\n",
    "print('name',acc.name,'salary',acc.salary)\n",
    "# call public method of class\n",
    "acc.show()"
   ]
  },
  {
   "cell_type": "code",
   "execution_count": 7,
   "id": "76cd4f6d",
   "metadata": {},
   "outputs": [
    {
     "ename": "AttributeError",
     "evalue": "'Employee' object has no attribute '__salary'",
     "output_type": "error",
     "traceback": [
      "\u001b[1;31m---------------------------------------------------------------------------\u001b[0m",
      "\u001b[1;31mAttributeError\u001b[0m                            Traceback (most recent call last)",
      "Input \u001b[1;32mIn [7]\u001b[0m, in \u001b[0;36m<cell line: 13>\u001b[1;34m()\u001b[0m\n\u001b[0;32m     10\u001b[0m emp \u001b[38;5;241m=\u001b[39m Employee(\u001b[38;5;124m'\u001b[39m\u001b[38;5;124mJessa\u001b[39m\u001b[38;5;124m'\u001b[39m, \u001b[38;5;241m10000\u001b[39m)\n\u001b[0;32m     12\u001b[0m \u001b[38;5;66;03m# accessing private data members\u001b[39;00m\n\u001b[1;32m---> 13\u001b[0m \u001b[38;5;28mprint\u001b[39m(\u001b[38;5;124m'\u001b[39m\u001b[38;5;124mSalary:\u001b[39m\u001b[38;5;124m'\u001b[39m, \u001b[43memp\u001b[49m\u001b[38;5;241;43m.\u001b[39;49m\u001b[43m__salary\u001b[49m)\n",
      "\u001b[1;31mAttributeError\u001b[0m: 'Employee' object has no attribute '__salary'"
     ]
    }
   ],
   "source": [
    "class Employee:\n",
    "    # constructor\n",
    "    def __init__(self, name, salary):\n",
    "        # public data member\n",
    "        self.name = name\n",
    "        # private member\n",
    "        self.__salary = salary\n",
    "\n",
    "# creating object of a class\n",
    "emp = Employee('Jessa', 10000)\n",
    "\n",
    "# accessing private data members\n",
    "print('Salary:', emp.__salary)"
   ]
  },
  {
   "cell_type": "code",
   "execution_count": 2,
   "id": "5576a22b",
   "metadata": {},
   "outputs": [
    {
     "name": "stdout",
     "output_type": "stream",
     "text": [
      "Name:  Jessa Salary: 10000\n"
     ]
    }
   ],
   "source": [
    "class Employee:\n",
    "    # constructor\n",
    "    def __init__(self, name, salary):\n",
    "        # public data member\n",
    "        self.name = name\n",
    "        # private member\n",
    "        self.__salary = salary\n",
    "\n",
    "    # public instance methods\n",
    "    def show(self):\n",
    "        # private members are accessible from a class\n",
    "        print(\"Name: \", self.name, 'Salary:', self.__salary)\n",
    "\n",
    "# creating object of a class\n",
    "emp = Employee('Jessa', 10000)\n",
    "\n",
    "# calling public method of the class\n",
    "emp.show()"
   ]
  },
  {
   "cell_type": "code",
   "execution_count": 6,
   "id": "eaa8e827",
   "metadata": {},
   "outputs": [
    {
     "name": "stdout",
     "output_type": "stream",
     "text": [
      "name: watson\n",
      "salary: 10000\n"
     ]
    }
   ],
   "source": [
    "class Employee:\n",
    "    def __init__(self,name,salary):\n",
    "        self.name=name\n",
    "        self.__salary=salary\n",
    "emp=Employee('watson',10000)\n",
    "print('name:',emp.name)\n",
    "print('salary:', emp._Employee__salary)"
   ]
  },
  {
   "cell_type": "code",
   "execution_count": 9,
   "id": "e41267ca",
   "metadata": {},
   "outputs": [
    {
     "name": "stdout",
     "output_type": "stream",
     "text": [
      "Employee name Rosalind\n",
      "working on project MPL\n",
      "Project: MPL\n"
     ]
    }
   ],
   "source": [
    "class Company:\n",
    "    def __init__(self):\n",
    "        self._project=\"MPL\"\n",
    "class Employee(Company):\n",
    "    def __init__(self,name):\n",
    "        self.name=name\n",
    "        Company.__init__(self)\n",
    "    def show(self):\n",
    "        print('Employee name',self.name)\n",
    "        print('working on project',self._project)\n",
    "d=Employee('Rosalind')\n",
    "d.show()\n",
    "print('Project:',d._project)"
   ]
  },
  {
   "cell_type": "code",
   "execution_count": 13,
   "id": "7e39607c",
   "metadata": {},
   "outputs": [
    {
     "name": "stdout",
     "output_type": "stream",
     "text": [
      "name: jack 20\n",
      "name: jack 30\n"
     ]
    }
   ],
   "source": [
    "class Aspirant:\n",
    "    def __init__(self,name,age):\n",
    "        self.name=name\n",
    "        self.__age=age\n",
    "    def get_age(self):\n",
    "        return self.__age\n",
    "    def set_age(self,age):\n",
    "        self.__age=age\n",
    "a=Aspirant('jack',20)\n",
    "print('name:',a.name,a.get_age())\n",
    "a.set_age(30)\n",
    "print('name:',a.name,a.get_age())"
   ]
  },
  {
   "cell_type": "code",
   "execution_count": 16,
   "id": "33227a63",
   "metadata": {},
   "outputs": [
    {
     "name": "stdout",
     "output_type": "stream",
     "text": [
      "name: maha 10\n",
      "name: maha 20\n"
     ]
    }
   ],
   "source": [
    "class student:\n",
    "    def __init__(self,name,age):\n",
    "        self.name=name\n",
    "        self.__age=age\n",
    "    def get(self):\n",
    "        return self.__age\n",
    "    def set(self,age):\n",
    "        self.__age=age\n",
    "b=student('maha',10)\n",
    "print('name:',b.name,b.get())\n",
    "b.set(20)\n",
    "print('name:',b.name,b.get())"
   ]
  },
  {
   "cell_type": "code",
   "execution_count": 25,
   "id": "449c2e62",
   "metadata": {},
   "outputs": [
    {
     "name": "stdout",
     "output_type": "stream",
     "text": [
      "student name: Neon 20 25\n",
      "Invalid rollno please set correct roll no\n",
      "student name: Neon 20 25\n"
     ]
    }
   ],
   "source": [
    "class Student:\n",
    "    def __init__(self,name,rollno,age):\n",
    "        self.name=name\n",
    "        self.__rollno=rollno\n",
    "        self.__age=age\n",
    "    def show(self):\n",
    "        print('student name:',self.name,self.__rollno,self.__age)\n",
    "    def get_roll(self):\n",
    "        return self.__rollno\n",
    "    #setter method to modifyndata \n",
    "    #conditn to allow data modificatn with rules\n",
    "    def set_roll(self,number):\n",
    "        if number>30:\n",
    "            print('Invalid rollno please set correct roll no')\n",
    "        else:\n",
    "            self.__rollno=number\n",
    "obj=Student('Neon',20,25)\n",
    "obj.show()\n",
    "obj.set_roll(50)\n",
    "# obj.set_roll(10)\n",
    "obj.show()"
   ]
  },
  {
   "cell_type": "code",
   "execution_count": null,
   "id": "80a4c98b",
   "metadata": {},
   "outputs": [],
   "source": []
  },
  {
   "cell_type": "code",
   "execution_count": null,
   "id": "ed6907df",
   "metadata": {},
   "outputs": [],
   "source": []
  },
  {
   "cell_type": "code",
   "execution_count": null,
   "id": "97923ea7",
   "metadata": {},
   "outputs": [],
   "source": []
  },
  {
   "cell_type": "code",
   "execution_count": null,
   "id": "4b304b18",
   "metadata": {},
   "outputs": [],
   "source": []
  },
  {
   "cell_type": "code",
   "execution_count": null,
   "id": "ca162471",
   "metadata": {},
   "outputs": [],
   "source": []
  },
  {
   "cell_type": "code",
   "execution_count": null,
   "id": "db7fdcba",
   "metadata": {},
   "outputs": [],
   "source": []
  },
  {
   "cell_type": "code",
   "execution_count": null,
   "id": "96b81777",
   "metadata": {},
   "outputs": [],
   "source": []
  },
  {
   "cell_type": "code",
   "execution_count": null,
   "id": "ffd7fe15",
   "metadata": {},
   "outputs": [],
   "source": []
  },
  {
   "cell_type": "code",
   "execution_count": null,
   "id": "951c16af",
   "metadata": {},
   "outputs": [],
   "source": []
  },
  {
   "cell_type": "code",
   "execution_count": null,
   "id": "0c1d9492",
   "metadata": {},
   "outputs": [],
   "source": []
  }
 ],
 "metadata": {
  "kernelspec": {
   "display_name": "Python 3 (ipykernel)",
   "language": "python",
   "name": "python3"
  },
  "language_info": {
   "codemirror_mode": {
    "name": "ipython",
    "version": 3
   },
   "file_extension": ".py",
   "mimetype": "text/x-python",
   "name": "python",
   "nbconvert_exporter": "python",
   "pygments_lexer": "ipython3",
   "version": "3.10.4"
  }
 },
 "nbformat": 4,
 "nbformat_minor": 5
}
