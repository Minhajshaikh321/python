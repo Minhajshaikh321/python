{
 "cells": [
  {
   "cell_type": "code",
   "execution_count": null,
   "id": "e8c2a2a9",
   "metadata": {},
   "outputs": [],
   "source": []
  },
  {
   "cell_type": "markdown",
   "id": "9c3d8092",
   "metadata": {},
   "source": [
    "# swap adjacent elements in a list without using inbuilt functions?\n"
   ]
  },
  {
   "cell_type": "code",
   "execution_count": null,
   "id": "a54986ae",
   "metadata": {},
   "outputs": [],
   "source": [
    "def swap(lst,pos1,pos2):\n",
    "    lst[pos1],lst[pos2] =lst[pos2],lst[pos1]\n",
    "    return lst\n",
    "    \n",
    "lst=[20,30,40,50]\n",
    "pos1=0\n",
    "pos2=2\n",
    "print(swap(lst,pos1,pos2))"
   ]
  },
  {
   "cell_type": "code",
   "execution_count": 3,
   "id": "059fc4dc",
   "metadata": {},
   "outputs": [
    {
     "name": "stdout",
     "output_type": "stream",
     "text": [
      "[2, 1, 3, 4]\n",
      "[2, 3, 1, 4]\n",
      "[2, 3, 4, 1]\n",
      "[2, 3, 4, 1]\n"
     ]
    }
   ],
   "source": [
    "x=[1,2,3,4]\n",
    "i=1\n",
    "for i in range(1,len(x)):\n",
    "    x[i],x[i-1]=x[i-1],x[i]\n",
    "    print(x)\n",
    "print(x)    "
   ]
  },
  {
   "cell_type": "markdown",
   "id": "12e022e7",
   "metadata": {},
   "source": [
    "###### "
   ]
  }
 ],
 "metadata": {
  "kernelspec": {
   "display_name": "Python 3 (ipykernel)",
   "language": "python",
   "name": "python3"
  },
  "language_info": {
   "codemirror_mode": {
    "name": "ipython",
    "version": 3
   },
   "file_extension": ".py",
   "mimetype": "text/x-python",
   "name": "python",
   "nbconvert_exporter": "python",
   "pygments_lexer": "ipython3",
   "version": "3.10.6"
  }
 },
 "nbformat": 4,
 "nbformat_minor": 5
}
