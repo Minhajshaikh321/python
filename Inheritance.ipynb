{
 "cells": [
  {
   "cell_type": "markdown",
   "id": "01dc1da1",
   "metadata": {},
   "source": [
    "# Single inheritance"
   ]
  },
  {
   "cell_type": "code",
   "execution_count": 5,
   "id": "99bf92aa",
   "metadata": {},
   "outputs": [
    {
     "name": "stdout",
     "output_type": "stream",
     "text": [
      "Inside car class\n",
      "Inside vehical class\n"
     ]
    }
   ],
   "source": [
    "# In single inheritance, a child class inherits from a single-parent class. Here is one child class and one parent class.\n",
    "class Vehical:\n",
    "    def Vehical_data(self):\n",
    "        print('Inside vehical class')\n",
    "class Car(Vehical):\n",
    "    def Car_data(self):\n",
    "        print('Inside car class')\n",
    "obj=Car()\n",
    "obj.Car_data()\n",
    "obj.Vehical_data()"
   ]
  },
  {
   "cell_type": "markdown",
   "id": "bbcb835d",
   "metadata": {},
   "source": [
    "# multiple inheritance:"
   ]
  },
  {
   "cell_type": "code",
   "execution_count": 21,
   "id": "1bfd4785",
   "metadata": {},
   "outputs": [
    {
     "name": "stdout",
     "output_type": "stream",
     "text": [
      "Inside person 1\n",
      "Name: suraiya ;age 23\n",
      "Inside person 2\n",
      "Company name: microsoft ;location: mumbai\n",
      "Inside child class\n",
      "Salary: 40000 ;skills developer\n"
     ]
    }
   ],
   "source": [
    "class Parent1:\n",
    "    def person_data(self,name,age):\n",
    "        print('Inside person 1')\n",
    "        print('Name:',name,';age',age)\n",
    "class Parent2:\n",
    "    def person2_data(self,company,location):\n",
    "        print('Inside person 2')\n",
    "        print('Company name:',company,';location:',location)\n",
    "class Child(Parent1,Parent2):\n",
    "    def child_data(self,salary,skill):\n",
    "        print('Inside child class')\n",
    "        print('Salary:',salary,';skills',skill)\n",
    "emp=Child()\n",
    "emp.person_data('suraiya',23)\n",
    "emp.person2_data('microsoft','mumbai')\n",
    "emp.child_data(40000,'developer')\n",
    "# print(Child.mro())"
   ]
  },
  {
   "cell_type": "markdown",
   "id": "027896e4",
   "metadata": {},
   "source": [
    "# Multilevel inheritance:"
   ]
  },
  {
   "cell_type": "code",
   "execution_count": 2,
   "id": "c8f8a75c",
   "metadata": {},
   "outputs": [
    {
     "name": "stdout",
     "output_type": "stream",
     "text": [
      "inside grandfather class\n",
      "inside father class\n",
      "inside son class \n",
      "[<class '__main__.Son'>, <class '__main__.Father'>, <class '__main__.Grandfather'>, <class 'object'>]\n"
     ]
    }
   ],
   "source": [
    "class Grandfather:\n",
    "    def person(self):\n",
    "        print('inside grandfather class')\n",
    "class Father(Grandfather):\n",
    "    def person2(self):\n",
    "        print('inside father class')\n",
    "class Son(Father,Grandfather):\n",
    "    def person3(self):\n",
    "        print('inside son class ')\n",
    "obj=Son()\n",
    "obj.person()\n",
    "obj.person2()\n",
    "obj.person3()\n",
    "print(Son.mro())"
   ]
  },
  {
   "cell_type": "markdown",
   "id": "5033aa67",
   "metadata": {},
   "source": [
    "# Hierarchical inheritance:"
   ]
  },
  {
   "cell_type": "code",
   "execution_count": 1,
   "id": "c0ac3155",
   "metadata": {},
   "outputs": [
    {
     "name": "stdout",
     "output_type": "stream",
     "text": [
      "inside main class\n",
      "inside brother1 class munazzir\n",
      "inside main class\n"
     ]
    }
   ],
   "source": [
    "class father:\n",
    "    def info(self):\n",
    "        print('inside main class')\n",
    "class brother1(father):\n",
    "    def brother1(self,name):\n",
    "        print('inside brother1 class',name)\n",
    "class brother2(father):\n",
    "    def brother2(self,age):\n",
    "        print('inside brother2 class',age)\n",
    "obj=brother1()\n",
    "obj.info()\n",
    "obj.brother1('munazzir')\n",
    "obj2=brother2()\n",
    "obj2.info()\n"
   ]
  },
  {
   "cell_type": "markdown",
   "id": "d3436fe0",
   "metadata": {},
   "source": [
    "# Hybrid inheritance:"
   ]
  },
  {
   "cell_type": "code",
   "execution_count": 12,
   "id": "b9aa8830",
   "metadata": {},
   "outputs": [
    {
     "name": "stdout",
     "output_type": "stream",
     "text": [
      "inside car data\n",
      "inside sports data\n",
      "inside vehical data\n"
     ]
    }
   ],
   "source": [
    "class Parent:\n",
    "    def vehical_data(self):\n",
    "        print('inside vehical data')\n",
    "class Child1(Parent):\n",
    "    def car_data(self):\n",
    "        print('inside car data')\n",
    "class Child2(Parent):\n",
    "    def truck_data(self):\n",
    "        print('inside truck data')\n",
    "class Child3(Child1,Parent):\n",
    "    def sports_data(self):\n",
    "        print('inside sports data')\n",
    "s=Child3()\n",
    "s.car_data()\n",
    "# s.truck_data()\n",
    "s.sports_data()\n",
    "s.vehical_data()"
   ]
  },
  {
   "cell_type": "code",
   "execution_count": 14,
   "id": "c380a700",
   "metadata": {},
   "outputs": [
    {
     "ename": "NameError",
     "evalue": "name 'Emp1' is not defined",
     "output_type": "error",
     "traceback": [
      "\u001b[1;31m---------------------------------------------------------------------------\u001b[0m",
      "\u001b[1;31mNameError\u001b[0m                                 Traceback (most recent call last)",
      "Input \u001b[1;32mIn [14]\u001b[0m, in \u001b[0;36m<cell line: 7>\u001b[1;34m()\u001b[0m\n\u001b[0;32m      5\u001b[0m     \u001b[38;5;28;01mdef\u001b[39;00m \u001b[38;5;21mshow\u001b[39m(\u001b[38;5;28mself\u001b[39m):\n\u001b[0;32m      6\u001b[0m         \u001b[38;5;28mprint\u001b[39m(\u001b[38;5;124m'\u001b[39m\u001b[38;5;124memp name is\u001b[39m\u001b[38;5;124m'\u001b[39m,\u001b[38;5;28mself\u001b[39m\u001b[38;5;241m.\u001b[39mname,\u001b[38;5;28mself\u001b[39m\u001b[38;5;241m.\u001b[39mid)\n\u001b[1;32m----> 7\u001b[0m \u001b[38;5;28;01mclass\u001b[39;00m \u001b[38;5;21;01mEmp2\u001b[39;00m(\u001b[43mEmp1\u001b[49m):\n\u001b[0;32m      8\u001b[0m     \u001b[38;5;28;01mdef\u001b[39;00m \u001b[38;5;21m__init__\u001b[39m(\u001b[38;5;28mself\u001b[39m,name,\u001b[38;5;28mid\u001b[39m,age):\n\u001b[0;32m      9\u001b[0m         \u001b[38;5;28mself\u001b[39m\u001b[38;5;241m.\u001b[39mage\u001b[38;5;241m=\u001b[39mage\n",
      "\u001b[1;31mNameError\u001b[0m: name 'Emp1' is not defined"
     ]
    }
   ],
   "source": [
    "class Emp:\n",
    "    def __init__(self,name,id):\n",
    "        self.name=name\n",
    "        self.id=id\n",
    "    def show(self):\n",
    "        print('emp name is',self.name,self.id)\n",
    "class Emp2(Emp1):\n",
    "    def __init__(self,name,id,age):\n",
    "        self.age=age\n",
    "        super().__init__(name,id)\n",
    "        s1=super().show()\n",
    "        print('emp 2 is having age also',self.age)\n",
    "obj=Emp2('suraiya',163,90)\n",
    "print(obj.name)"
   ]
  },
  {
   "cell_type": "code",
   "execution_count": 6,
   "id": "31d51337",
   "metadata": {},
   "outputs": [
    {
     "name": "stdout",
     "output_type": "stream",
     "text": [
      "student name is: suraiya roll no: 35\n",
      "school name: abc school age: 23\n"
     ]
    }
   ],
   "source": [
    "class Teacher:\n",
    "    def __init__(self,name,rollno):\n",
    "        self.name=name\n",
    "        self.rollno=rollno\n",
    "    def show(self):\n",
    "        print('student name is:',self.name,'roll no:',self.rollno)\n",
    "class Student(Teacher):\n",
    "    def __init__(self,name,rollno,age):\n",
    "        self.age=age\n",
    "        super().__init__(name,rollno)\n",
    "        var=super().show()\n",
    "    def show(self):\n",
    "        self.school='abc school'\n",
    "        print('school name:',self.school,'age:',self.age)\n",
    "s1=Student('suraiya',35,23)\n",
    "s1.show()"
   ]
  },
  {
   "cell_type": "code",
   "execution_count": 2,
   "id": "e5ab4051",
   "metadata": {},
   "outputs": [
    {
     "ename": "AttributeError",
     "evalue": "'inherit' object has no attribute 'var'",
     "output_type": "error",
     "traceback": [
      "\u001b[1;31m---------------------------------------------------------------------------\u001b[0m",
      "\u001b[1;31mAttributeError\u001b[0m                            Traceback (most recent call last)",
      "Input \u001b[1;32mIn [2]\u001b[0m, in \u001b[0;36m<cell line: 13>\u001b[1;34m()\u001b[0m\n\u001b[0;32m     10\u001b[0m     \u001b[38;5;28;01mdef\u001b[39;00m \u001b[38;5;21m__init__\u001b[39m(\u001b[38;5;28mself\u001b[39m, num\u001b[38;5;241m=\u001b[39m\u001b[38;5;241m10\u001b[39m):\n\u001b[0;32m     11\u001b[0m         x \u001b[38;5;241m=\u001b[39m \u001b[38;5;28msuper\u001b[39m()\u001b[38;5;241m.\u001b[39madd(num)\n\u001b[1;32m---> 13\u001b[0m a \u001b[38;5;241m=\u001b[39m \u001b[43minherit\u001b[49m\u001b[43m(\u001b[49m\u001b[43m)\u001b[49m\n\u001b[0;32m     14\u001b[0m \u001b[38;5;28mprint\u001b[39m(a)\n",
      "Input \u001b[1;32mIn [2]\u001b[0m, in \u001b[0;36minherit.__init__\u001b[1;34m(self, num)\u001b[0m\n\u001b[0;32m     10\u001b[0m \u001b[38;5;28;01mdef\u001b[39;00m \u001b[38;5;21m__init__\u001b[39m(\u001b[38;5;28mself\u001b[39m, num\u001b[38;5;241m=\u001b[39m\u001b[38;5;241m10\u001b[39m):\n\u001b[1;32m---> 11\u001b[0m     x \u001b[38;5;241m=\u001b[39m \u001b[38;5;28;43msuper\u001b[39;49m\u001b[43m(\u001b[49m\u001b[43m)\u001b[49m\u001b[38;5;241;43m.\u001b[39;49m\u001b[43madd\u001b[49m\u001b[43m(\u001b[49m\u001b[43mnum\u001b[49m\u001b[43m)\u001b[49m\n",
      "Input \u001b[1;32mIn [2]\u001b[0m, in \u001b[0;36mbase.add\u001b[1;34m(self, num)\u001b[0m\n\u001b[0;32m      5\u001b[0m \u001b[38;5;28;01mdef\u001b[39;00m \u001b[38;5;21madd\u001b[39m(\u001b[38;5;28mself\u001b[39m, num):\n\u001b[1;32m----> 6\u001b[0m     res \u001b[38;5;241m=\u001b[39m \u001b[38;5;28;43mself\u001b[39;49m\u001b[38;5;241;43m.\u001b[39;49m\u001b[43mvar\u001b[49m\u001b[38;5;241m+\u001b[39mnum\n\u001b[0;32m      7\u001b[0m     \u001b[38;5;28;01mreturn\u001b[39;00m res\n",
      "\u001b[1;31mAttributeError\u001b[0m: 'inherit' object has no attribute 'var'"
     ]
    }
   ],
   "source": [
    "class base():\n",
    "    def __init__(self):\n",
    "        self.var = 10\n",
    "        \n",
    "    def add(self, num):\n",
    "        res = self.var+num\n",
    "        return res\n",
    "    \n",
    "class inherit(base):\n",
    "    def __init__(self, num=10):\n",
    "        x = super().add(num)\n",
    "\n",
    "a = inherit()\n",
    "print(a)\n"
   ]
  },
  {
   "cell_type": "code",
   "execution_count": 7,
   "id": "6d03251b",
   "metadata": {},
   "outputs": [
    {
     "data": {
      "text/plain": [
       "('school name:', 'abp school', 'rollno.:', 55, 'subject:', 'Maths', None)"
      ]
     },
     "execution_count": 7,
     "metadata": {},
     "output_type": "execute_result"
    }
   ],
   "source": [
    "class student:    \n",
    "    def __init__(self,name,rollno):\n",
    "        self.name=name\n",
    "        self.rollno=rollno\n",
    "    def show(self):\n",
    "        return \"Name of the student:\",self.name,\"Roll no of the student:\",self.rollno\n",
    "class school(student):\n",
    "    def __init__(self, name, rollno,age):\n",
    "        super().__init__(name, rollno)       \n",
    "        self.age = age\n",
    "        zikra = super().show()\n",
    "    def show(self):\n",
    "        self.school=\"abp school\"\n",
    "        \"school name:\",self.school, \"rollno.:\",self.rollno, \"age:\", self.age  \n",
    "class home(school):\n",
    "    def __init__(self, name, rollno,age, subject):\n",
    "        super().__init__(name, rollno, age)\n",
    "        self.subject = subject     \n",
    "    def show(self):\n",
    "        zikra = super().show()\n",
    "        self.school=\"abp school\"\n",
    "        return \"school name:\",self.school, \"rollno.:\",self.rollno, \"subject:\", self.subject,zikra \n",
    "s1=home('iram',55,33,\"Maths\")\n",
    "s1.show()"
   ]
  },
  {
   "cell_type": "code",
   "execution_count": null,
   "id": "55407b45",
   "metadata": {},
   "outputs": [],
   "source": [
    "class A:\n",
    "    def __init__(self,name):\n",
    "        self.name=name\n",
    "    def show(self):\n",
    "        print(\"name :\",self.name)\n",
    "class B(A):\n",
    "    def __init__(self,name,rollno):\n",
    "        super().__init__(name)\n",
    "        x=super().show()\n",
    "        self.rollno=rollno\n",
    "    def show(self):\n",
    "        self.school=\"abp school\"\n",
    "        print=(\"school name:\",self.school, \"rollno.:\",self.rollno)  \n",
    "class C(B):\n",
    "    def __init__(self,name,rollno,subject):\n",
    "        \n",
    "        super().__init__(name,rollno)\n",
    "        x=super().show()\n",
    "\n",
    "        \n",
    "        self.subject=subject\n",
    "    def show(self):\n",
    "        self.school=\"abp school\"\n",
    "        print=(\"school name:\",self.school, \"rollno.:\",self.rollno,\"subject: \",self.subject) \n",
    "s1=C(\"iram\",22,\"english\")  \n",
    "s1.show()"
   ]
  },
  {
   "cell_type": "code",
   "execution_count": 8,
   "id": "3840528a",
   "metadata": {},
   "outputs": [
    {
     "name": "stdout",
     "output_type": "stream",
     "text": [
      "Jessa works at Google\n"
     ]
    }
   ],
   "source": [
    "class Company:\n",
    "    def company_name(self):\n",
    "        return 'Google'\n",
    "\n",
    "class Employee(Company):\n",
    "    def info(self):\n",
    "        # Calling the superclass method using super()function\n",
    "        c_name = super().company_name()\n",
    "        print(\"Jessa works at\", c_name)\n",
    "\n",
    "# Creating object of child class\n",
    "emp = Employee()\n",
    "emp.info()"
   ]
  },
  {
   "cell_type": "code",
   "execution_count": 10,
   "id": "125c7c10",
   "metadata": {},
   "outputs": [
    {
     "name": "stdout",
     "output_type": "stream",
     "text": [
      "[2, 3, 4]\n"
     ]
    }
   ],
   "source": [
    "lst=list ((2,3,4))\n",
    "print(lst)"
   ]
  },
  {
   "cell_type": "code",
   "execution_count": 11,
   "id": "09fe1634",
   "metadata": {},
   "outputs": [
    {
     "ename": "TypeError",
     "evalue": "list expected at most 1 argument, got 3",
     "output_type": "error",
     "traceback": [
      "\u001b[1;31m---------------------------------------------------------------------------\u001b[0m",
      "\u001b[1;31mTypeError\u001b[0m                                 Traceback (most recent call last)",
      "Input \u001b[1;32mIn [11]\u001b[0m, in \u001b[0;36m<cell line: 1>\u001b[1;34m()\u001b[0m\n\u001b[1;32m----> 1\u001b[0m lst\u001b[38;5;241m=\u001b[39m\u001b[38;5;28;43mlist\u001b[39;49m\u001b[43m \u001b[49m\u001b[43m(\u001b[49m\u001b[38;5;241;43m2\u001b[39;49m\u001b[43m,\u001b[49m\u001b[38;5;241;43m3\u001b[39;49m\u001b[43m,\u001b[49m\u001b[38;5;241;43m4\u001b[39;49m\u001b[43m)\u001b[49m\n\u001b[0;32m      2\u001b[0m \u001b[38;5;28mprint\u001b[39m(lst)\n",
      "\u001b[1;31mTypeError\u001b[0m: list expected at most 1 argument, got 3"
     ]
    }
   ],
   "source": [
    "lst=list (2,3,4)\n",
    "print(lst)"
   ]
  },
  {
   "cell_type": "markdown",
   "id": "2c7be607",
   "metadata": {},
   "source": [
    "# issubclass:"
   ]
  },
  {
   "cell_type": "code",
   "execution_count": 9,
   "id": "6fd6a774",
   "metadata": {},
   "outputs": [
    {
     "name": "stdout",
     "output_type": "stream",
     "text": [
      "True\n",
      "False\n",
      "False\n",
      "True\n",
      "True\n",
      "True\n"
     ]
    }
   ],
   "source": [
    "class College:\n",
    "    def func1(self):\n",
    "        print(\"Inside parent class\")\n",
    "\n",
    "class School(College):\n",
    "    def func2(self):\n",
    "        print(\"Inside child class\")\n",
    "\n",
    "class Institute:\n",
    "    def func3(self):\n",
    "        print(\"Inside parent class\")\n",
    "\n",
    "print(issubclass(School,College)) #school is a sub class(child class) of college\n",
    "print(issubclass(School,list))\n",
    "print(issubclass(Institute,College))\n",
    "print(issubclass(School,(list,College)))\n",
    "print(issubclass(School,School))\n",
    "print(issubclass(School,(int,School)))"
   ]
  },
  {
   "cell_type": "code",
   "execution_count": 11,
   "id": "ab686589",
   "metadata": {},
   "outputs": [
    {
     "name": "stdout",
     "output_type": "stream",
     "text": [
      "max speed is 200 Km/Hour\n"
     ]
    }
   ],
   "source": [
    "class Vehicle:\n",
    "    def max_speed(self):\n",
    "        print(\"max speed is 100 Km/Hour\")\n",
    "\n",
    "class Car(Vehicle):\n",
    "#     pass\n",
    "    # overridden the implementation of Vehicle class\n",
    "    def max_speed(self):\n",
    "        print(\"max speed is 200 Km/Hour\")\n",
    "\n",
    "# Creating object of Car class\n",
    "car = Car()\n",
    "car.max_speed()"
   ]
  },
  {
   "cell_type": "code",
   "execution_count": 15,
   "id": "90095f84",
   "metadata": {},
   "outputs": [
    {
     "name": "stdout",
     "output_type": "stream",
     "text": [
      " In class C\n",
      "[<class '__main__.C'>, <class '__main__.B'>, <class '__main__.A'>, <class 'object'>]\n"
     ]
    }
   ],
   "source": [
    "class A:\n",
    "    def process(self):\n",
    "        print(\" In class A\")\n",
    "\n",
    "class B(A):\n",
    "    def process(self):\n",
    "        print(\" In class B\")\n",
    "\n",
    "class C(B, A):\n",
    "    def process(self):\n",
    "        print(\" In class C\")\n",
    "\n",
    "# Creating object of C class\n",
    "C1 = C()\n",
    "C1.process()\n",
    "print(C.mro())"
   ]
  },
  {
   "cell_type": "code",
   "execution_count": 5,
   "id": "97c593b7",
   "metadata": {},
   "outputs": [
    {
     "name": "stdout",
     "output_type": "stream",
     "text": [
      "inside grandfather class\n",
      "inside father class\n",
      "inside son class \n",
      "[<class '__main__.Son'>, <class '__main__.Father'>, <class '__main__.Grandfather'>, <class 'object'>]\n"
     ]
    }
   ],
   "source": [
    "class Grandfather:\n",
    "    def person(self):\n",
    "        print('inside grandfather class')\n",
    "class Father(Grandfather):\n",
    "    def person2(self):\n",
    "        print('inside father class')\n",
    "class Son(Father,Grandfather):\n",
    "    def person3(self):\n",
    "        print('inside son class ')\n",
    "obj=Son()\n",
    "obj.person()\n",
    "obj.person2()\n",
    "obj.person3()\n",
    "print(Son.mro())"
   ]
  },
  {
   "cell_type": "code",
   "execution_count": 7,
   "id": "4f2fd76b",
   "metadata": {},
   "outputs": [
    {
     "data": {
      "text/plain": [
       "<bound method B.rk of <__main__.D object at 0x0000025AFC397FA0>>"
      ]
     },
     "execution_count": 7,
     "metadata": {},
     "output_type": "execute_result"
    }
   ],
   "source": [
    "class A:\n",
    "    def rk(self):\n",
    "        print(\" In class A\")\n",
    "class B(A):\n",
    "    def rk(self):\n",
    "        print(\" In class B\")\n",
    "class C(A):\n",
    "    def rk(self):\n",
    "        print(\"In class C\")\n",
    " \n",
    "# classes ordering\n",
    "class D(B, C):\n",
    "    pass\n",
    "    \n",
    "r = D()\n",
    "r.rk"
   ]
  },
  {
   "cell_type": "code",
   "execution_count": null,
   "id": "d8db6419",
   "metadata": {},
   "outputs": [],
   "source": []
  },
  {
   "cell_type": "code",
   "execution_count": null,
   "id": "29c6ff53",
   "metadata": {},
   "outputs": [],
   "source": []
  },
  {
   "cell_type": "code",
   "execution_count": null,
   "id": "aa71de1a",
   "metadata": {},
   "outputs": [],
   "source": []
  },
  {
   "cell_type": "code",
   "execution_count": null,
   "id": "4c0e2666",
   "metadata": {},
   "outputs": [],
   "source": []
  },
  {
   "cell_type": "code",
   "execution_count": null,
   "id": "1e74ef4e",
   "metadata": {},
   "outputs": [],
   "source": []
  }
 ],
 "metadata": {
  "kernelspec": {
   "display_name": "Python 3 (ipykernel)",
   "language": "python",
   "name": "python3"
  },
  "language_info": {
   "codemirror_mode": {
    "name": "ipython",
    "version": 3
   },
   "file_extension": ".py",
   "mimetype": "text/x-python",
   "name": "python",
   "nbconvert_exporter": "python",
   "pygments_lexer": "ipython3",
   "version": "3.10.4"
  }
 },
 "nbformat": 4,
 "nbformat_minor": 5
}
