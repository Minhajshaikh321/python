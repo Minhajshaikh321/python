{
 "cells": [
  {
   "cell_type": "markdown",
   "id": "17bbfd2f",
   "metadata": {},
   "source": [
    "# string"
   ]
  },
  {
   "cell_type": "code",
   "execution_count": null,
   "id": "142b35ac",
   "metadata": {},
   "outputs": [],
   "source": [
    "# 1.\n",
    "a=input('enter string')\n",
    "b=a[-1::-1]\n",
    "if a==b:\n",
    "    print(\"pallindrom\")\n",
    "else:\n",
    "    print(\"not pallindrom\")"
   ]
  },
  {
   "cell_type": "code",
   "execution_count": 1,
   "id": "6e0b4277",
   "metadata": {},
   "outputs": [
    {
     "name": "stdout",
     "output_type": "stream",
     "text": [
      "Khan Suraiya Nargis Muhammed Kalim Haji Abdul Lateef Ibrahim Ishaq\n"
     ]
    }
   ],
   "source": [
    "#2.\n",
    "a=\"khan suraiya nargis muhammed kalim haji abdul lateef ibrahim ishaq\"\n",
    "x=a.title()\n",
    "print(x)"
   ]
  },
  {
   "cell_type": "code",
   "execution_count": 7,
   "id": "8031f449",
   "metadata": {},
   "outputs": [
    {
     "name": "stdout",
     "output_type": "stream",
     "text": [
      "['suraiya', 'is', 'bad', 'man']\n"
     ]
    }
   ],
   "source": [
    "#3.\n",
    "x=\"suraiya is bad man\"\n",
    "a=x.split()\n",
    "print(a)"
   ]
  },
  {
   "cell_type": "code",
   "execution_count": 12,
   "id": "b4b78eff",
   "metadata": {},
   "outputs": [
    {
     "name": "stdout",
     "output_type": "stream",
     "text": [
      "a\n",
      "bad\n",
      "is\n",
      "man\n",
      "surya\n"
     ]
    }
   ],
   "source": [
    "# 4\n",
    "x=\"surya is a bad man\"\n",
    "a=x.split()\n",
    "a.sort()\n",
    "for word in a:\n",
    "    print(word)"
   ]
  },
  {
   "cell_type": "code",
   "execution_count": null,
   "id": "0168efbd",
   "metadata": {},
   "outputs": [],
   "source": []
  },
  {
   "cell_type": "code",
   "execution_count": 32,
   "id": "15a23b61",
   "metadata": {},
   "outputs": [
    {
     "name": "stdout",
     "output_type": "stream",
     "text": [
      "[]\n"
     ]
    }
   ],
   "source": [
    "# 6\n",
    "x=[\"HELLOPYTHON\"]\n",
    "# print(x[:])\n",
    "# print(x[-4:])\n",
    "# print(x[:-4:])\n",
    "print(x[6:-8:2])"
   ]
  },
  {
   "cell_type": "markdown",
   "id": "d64d69a1",
   "metadata": {},
   "source": [
    "# list comprehension"
   ]
  },
  {
   "cell_type": "code",
   "execution_count": 35,
   "id": "14fa49cc",
   "metadata": {},
   "outputs": [
    {
     "name": "stdout",
     "output_type": "stream",
     "text": [
      "['t', 't']\n"
     ]
    }
   ],
   "source": [
    "# 1\n",
    "listt=['q','w','e','r','t','y','t']\n",
    "word=[x for x in listt if 't' in x]\n",
    "print(word)"
   ]
  },
  {
   "cell_type": "code",
   "execution_count": 38,
   "id": "542921d6",
   "metadata": {},
   "outputs": [
    {
     "name": "stdout",
     "output_type": "stream",
     "text": [
      "[0, 1, 2, 3, 4, 5, 6, 7, 8, 9]\n"
     ]
    }
   ],
   "source": [
    "a=[x for x in range(10)]\n",
    "print(a)"
   ]
  },
  {
   "cell_type": "code",
   "execution_count": 39,
   "id": "c2643bc0",
   "metadata": {},
   "outputs": [
    {
     "name": "stdout",
     "output_type": "stream",
     "text": [
      "[0, 1, 2, 3, 4]\n"
     ]
    }
   ],
   "source": [
    "a=[x for x in range(10) if x<5]\n",
    "print(a)"
   ]
  },
  {
   "cell_type": "code",
   "execution_count": null,
   "id": "4e4679a9",
   "metadata": {},
   "outputs": [],
   "source": [
    "x=[3,6,2,9,5,1,7]\n",
    "x.sort()\n",
    "print(x)"
   ]
  },
  {
   "cell_type": "code",
   "execution_count": 7,
   "id": "10b53372",
   "metadata": {},
   "outputs": [
    {
     "data": {
      "text/plain": [
       "[1, 2, 3, 4, 7, 8, 9]"
      ]
     },
     "execution_count": 7,
     "metadata": {},
     "output_type": "execute_result"
    }
   ],
   "source": [
    "def asc():\n",
    "    x=[7,9,3,2,8,4,1]\n",
    "    x.sort()\n",
    "    return x\n",
    "asc()"
   ]
  },
  {
   "cell_type": "code",
   "execution_count": 1,
   "id": "ab6bc3f4",
   "metadata": {},
   "outputs": [
    {
     "name": "stdout",
     "output_type": "stream",
     "text": [
      "9\n"
     ]
    }
   ],
   "source": [
    "L=[1,4,2,3,9,7]\n",
    "print(max(L))"
   ]
  },
  {
   "cell_type": "code",
   "execution_count": 2,
   "id": "62f91232",
   "metadata": {},
   "outputs": [
    {
     "name": "stdout",
     "output_type": "stream",
     "text": [
      "[('a', 1), ('b', 2), ('c', 3)]\n"
     ]
    }
   ],
   "source": [
    "L1=['a','b','c']\n",
    "L2=[1,2,3]\n",
    "print(list(zip(L1,L2)))"
   ]
  },
  {
   "cell_type": "code",
   "execution_count": 1,
   "id": "671ff5c2",
   "metadata": {},
   "outputs": [
    {
     "name": "stdout",
     "output_type": "stream",
     "text": [
      "7\n",
      "7 is odd number\n"
     ]
    }
   ],
   "source": [
    "N=int(input())\n",
    "if N%2==0:\n",
    "    print(N,'is even number')\n",
    "else:\n",
    "    print(N,'is odd number')"
   ]
  },
  {
   "cell_type": "code",
   "execution_count": 8,
   "id": "bef8202f",
   "metadata": {},
   "outputs": [
    {
     "name": "stdout",
     "output_type": "stream",
     "text": [
      "10\n",
      "Buzz\n"
     ]
    }
   ],
   "source": [
    "i=int(input())\n",
    "if i%5==0 and i%3==0:\n",
    "    print('Fizz Buzz')\n",
    "elif i%5==0 and i%3!=0:\n",
    "    print('Buzz')\n",
    "elif i%5!=0 and i%3==0:\n",
    "    print('Fizz')\n",
    "else:\n",
    "    print('None')"
   ]
  },
  {
   "cell_type": "code",
   "execution_count": 1,
   "id": "894be6cc",
   "metadata": {},
   "outputs": [
    {
     "name": "stdout",
     "output_type": "stream",
     "text": [
      "35678\n",
      "total number of digit 5\n"
     ]
    }
   ],
   "source": [
    "n=int(input())\n",
    "count=0\n",
    "while n>0:\n",
    "    n=n//10\n",
    "    count+=1\n",
    "print('total number of digit',count)"
   ]
  },
  {
   "cell_type": "code",
   "execution_count": 10,
   "id": "6d77ba49",
   "metadata": {},
   "outputs": [
    {
     "name": "stdout",
     "output_type": "stream",
     "text": [
      "enter stringh1l4\n",
      "no of digit is 2\n"
     ]
    }
   ],
   "source": [
    "str=input('enter string')\n",
    "# lcount=0\n",
    "dcount=0\n",
    "for c in str:\n",
    "#     if c.isalpha():\n",
    "#         lcount+=1\n",
    "    if c.isdigit():\n",
    "        dcount+=1\n",
    "# print(\"no of alpha is\",lcount)\n",
    "print(\"no of digit is\",dcount)"
   ]
  },
  {
   "cell_type": "code",
   "execution_count": 6,
   "id": "26a5eb4a",
   "metadata": {},
   "outputs": [
    {
     "name": "stdout",
     "output_type": "stream",
     "text": [
      "First\n",
      "Second\n",
      "Third\n"
     ]
    }
   ],
   "source": [
    "def firstfunc():\n",
    "    print('First')\n",
    "    secondfunc()\n",
    "def secondfunc():\n",
    "    print('Second')\n",
    "    thirdfunc()\n",
    "def thirdfunc():\n",
    "    print('Third')\n",
    "firstfunc()"
   ]
  },
  {
   "cell_type": "code",
   "execution_count": 23,
   "id": "491c767c",
   "metadata": {},
   "outputs": [
    {
     "name": "stdout",
     "output_type": "stream",
     "text": [
      "9\n"
     ]
    }
   ],
   "source": [
    "def sum():\n",
    "    x=5\n",
    "    y=4\n",
    "    z=x+y\n",
    "    print(z)\n",
    "sum()"
   ]
  },
  {
   "cell_type": "code",
   "execution_count": 17,
   "id": "eaa6eba8",
   "metadata": {},
   "outputs": [
    {
     "data": {
      "text/plain": [
       "9"
      ]
     },
     "execution_count": 17,
     "metadata": {},
     "output_type": "execute_result"
    }
   ],
   "source": [
    "def sum():\n",
    "    x=5\n",
    "    y=4\n",
    "    z=x+y\n",
    "    return z\n",
    "sum()"
   ]
  },
  {
   "cell_type": "code",
   "execution_count": 20,
   "id": "f9c9b141",
   "metadata": {},
   "outputs": [
    {
     "name": "stdout",
     "output_type": "stream",
     "text": [
      "9\n"
     ]
    }
   ],
   "source": [
    "x=5\n",
    "y=4\n",
    "z=x+y\n",
    "print(z)"
   ]
  },
  {
   "cell_type": "code",
   "execution_count": 34,
   "id": "19761c66",
   "metadata": {},
   "outputs": [
    {
     "name": "stdout",
     "output_type": "stream",
     "text": [
      "5\n",
      "factorial 120\n"
     ]
    }
   ],
   "source": [
    "# factorial\n",
    "i=int(input())\n",
    "fac=1\n",
    "while i>0:\n",
    "    fac=fac*i\n",
    "    i-=1\n",
    "print('factorial',fac)"
   ]
  },
  {
   "cell_type": "code",
   "execution_count": 37,
   "id": "3bbaf8f6",
   "metadata": {},
   "outputs": [
    {
     "name": "stdout",
     "output_type": "stream",
     "text": [
      "0\n",
      "1\n",
      "1\n",
      "2\n",
      "3\n"
     ]
    }
   ],
   "source": [
    "# fibonacci\n",
    "def fib(n):\n",
    "    a=0\n",
    "    b=1\n",
    "    print(a)\n",
    "    print(b)\n",
    "    for i in range(2,n):\n",
    "        c=a+b\n",
    "        a=b\n",
    "        b=c\n",
    "        print(c)\n",
    "fib(5)"
   ]
  },
  {
   "cell_type": "code",
   "execution_count": 38,
   "id": "3b0aba62",
   "metadata": {},
   "outputs": [
    {
     "name": "stdout",
     "output_type": "stream",
     "text": [
      "0\n",
      "1\n",
      "1\n",
      "2\n",
      "3\n"
     ]
    }
   ],
   "source": [
    "def fib(n):\n",
    "    a=0\n",
    "    b=1\n",
    "    print(a)\n",
    "    print(b)\n",
    "    for i in range(2,n):\n",
    "        c=a+b\n",
    "        a=b\n",
    "        b=c\n",
    "        print(c)\n",
    "fib(5)"
   ]
  },
  {
   "cell_type": "code",
   "execution_count": 47,
   "id": "5608f117",
   "metadata": {},
   "outputs": [
    {
     "name": "stdout",
     "output_type": "stream",
     "text": [
      "enter the no.4\n",
      "64\n"
     ]
    }
   ],
   "source": [
    "def cube(x):\n",
    "    res=x**3\n",
    "    return res\n",
    "n=int(input('enter the no.'))\n",
    "print(cube(n))zz"
   ]
  },
  {
   "cell_type": "code",
   "execution_count": 50,
   "id": "ee8107c1",
   "metadata": {},
   "outputs": [
    {
     "name": "stdout",
     "output_type": "stream",
     "text": [
      "(1, 2, 3, 4, 5, 6)\n",
      "(6, 7, 8, 9, 10)\n"
     ]
    }
   ],
   "source": [
    "t=(1,2,3,4,5,6,7,8,9,10)\n",
    "print(t[0:6])\n",
    "print(t[5:11])"
   ]
  },
  {
   "cell_type": "code",
   "execution_count": 5,
   "id": "0ddd485a",
   "metadata": {},
   "outputs": [
    {
     "name": "stdout",
     "output_type": "stream",
     "text": [
      "number5\n",
      "number8\n",
      "number4\n",
      "number25\n",
      "number10\n",
      "(5, 8, 4)\n",
      "(8, 4)\n",
      "(5,)\n"
     ]
    }
   ],
   "source": [
    "a=[]\n",
    "for i in range(5):\n",
    "    user=int(input(\"number\"))\n",
    "    if user<10:\n",
    "        a.append(user)\n",
    "print(tuple(a))\n",
    "b=[]\n",
    "for j in a:\n",
    "    if j%2==0:\n",
    "        b.append(j)\n",
    "print(tuple(b))\n",
    "c=[]\n",
    "for k in a:\n",
    "    if k%2!=0:\n",
    "        c.append(k)\n",
    "print(tuple(c))"
   ]
  },
  {
   "cell_type": "code",
   "execution_count": 4,
   "id": "f6aefb27",
   "metadata": {},
   "outputs": [
    {
     "name": "stdout",
     "output_type": "stream",
     "text": [
      "(1, 2, 3, 4, 5, 6, 7, 8, 9, 10)\n"
     ]
    }
   ],
   "source": [
    "t1=(1,2,3,4,5)\n",
    "t2=(6,7,8,9,10)\n",
    "t3=t1+t2\n",
    "print(t3)"
   ]
  },
  {
   "cell_type": "code",
   "execution_count": 5,
   "id": "d019e37a",
   "metadata": {},
   "outputs": [
    {
     "ename": "NameError",
     "evalue": "name 'cmp' is not defined",
     "output_type": "error",
     "traceback": [
      "\u001b[1;31m---------------------------------------------------------------------------\u001b[0m",
      "\u001b[1;31mNameError\u001b[0m                                 Traceback (most recent call last)",
      "Input \u001b[1;32mIn [5]\u001b[0m, in \u001b[0;36m<cell line: 3>\u001b[1;34m()\u001b[0m\n\u001b[0;32m      1\u001b[0m a\u001b[38;5;241m=\u001b[39m(\u001b[38;5;241m1\u001b[39m,\u001b[38;5;241m2\u001b[39m)\n\u001b[0;32m      2\u001b[0m b\u001b[38;5;241m=\u001b[39m(\u001b[38;5;241m3\u001b[39m,\u001b[38;5;241m4\u001b[39m)\n\u001b[1;32m----> 3\u001b[0m \u001b[38;5;28mprint\u001b[39m(\u001b[43mcmp\u001b[49m(a,b))\n",
      "\u001b[1;31mNameError\u001b[0m: name 'cmp' is not defined"
     ]
    }
   ],
   "source": [
    "a=(1,2)\n",
    "b=(3,4)\n",
    "print(cmp(a,b))"
   ]
  },
  {
   "cell_type": "code",
   "execution_count": 3,
   "id": "ed54a084",
   "metadata": {},
   "outputs": [
    {
     "name": "stdout",
     "output_type": "stream",
     "text": [
      "{'a': 123, 'b': 456, 'c': 789, 'd': 321, 'e': 654}\n"
     ]
    }
   ],
   "source": [
    "d={'a':123,'b':456,'c':789,'d':321,'e':654}\n",
    "print(d)"
   ]
  },
  {
   "cell_type": "code",
   "execution_count": 4,
   "id": "8097ea25",
   "metadata": {},
   "outputs": [
    {
     "name": "stdout",
     "output_type": "stream",
     "text": [
      "{'a': 123, 'b': 456, 'c': 789, 'd': 321, 'e': 654, 'f': 987}\n"
     ]
    }
   ],
   "source": [
    "# add an element\n",
    "d={'a':123,'b':456,'c':789,'d':321,'e':654}\n",
    "d['f']=987\n",
    "print(d)"
   ]
  },
  {
   "cell_type": "code",
   "execution_count": 5,
   "id": "68185a4b",
   "metadata": {},
   "outputs": [
    {
     "name": "stdout",
     "output_type": "stream",
     "text": [
      "{'a': 123, 'b': 456, 'c': 789, 'd': 321, 'e': 654, 'f': 987}\n"
     ]
    }
   ],
   "source": [
    "d={'a':123,'b':456,'c':789,'d':321,'e':654}\n",
    "d.update({'f':987})\n",
    "print(d)"
   ]
  },
  {
   "cell_type": "code",
   "execution_count": 9,
   "id": "97058f6e",
   "metadata": {},
   "outputs": [
    {
     "name": "stdout",
     "output_type": "stream",
     "text": [
      "None\n"
     ]
    }
   ],
   "source": [
    "d={'a':123,'b':456,'c':789,'d':321,'e':654}\n",
    "x=d.get('f')\n",
    "print(x)\n",
    "# safest way to add in dict"
   ]
  },
  {
   "cell_type": "code",
   "execution_count": 10,
   "id": "335e1d15",
   "metadata": {},
   "outputs": [
    {
     "data": {
      "text/plain": [
       "{'a': 123, 'b': 456, 'c': 789, 'd': 321, 'e': 654}"
      ]
     },
     "execution_count": 10,
     "metadata": {},
     "output_type": "execute_result"
    }
   ],
   "source": [
    "d={'a':123,'b':456,'c':789,'d':321,'e':654}\n",
    "{k:v for k,v in d.items()}"
   ]
  },
  {
   "cell_type": "code",
   "execution_count": 20,
   "id": "cfcf4d08",
   "metadata": {},
   "outputs": [
    {
     "data": {
      "text/plain": [
       "{0: 0, 1: 1, 2: 4, 3: 9, 4: 16}"
      ]
     },
     "execution_count": 20,
     "metadata": {},
     "output_type": "execute_result"
    }
   ],
   "source": [
    "# d={'a':123,'b':456,'c':789,'d':321,'e':654}\n",
    "{i:i**2 for i in range(5)}\n",
    "# {k:v**2 for i in d}"
   ]
  },
  {
   "cell_type": "code",
   "execution_count": 6,
   "id": "cdeb524b",
   "metadata": {},
   "outputs": [
    {
     "name": "stdout",
     "output_type": "stream",
     "text": [
      "enter no1\n",
      "(1, 2, 3, 4, 5, 1, 1, 1, 1, 1, 1, 1, 1, 1, 1)\n"
     ]
    }
   ],
   "source": [
    "# a=[]\n",
    "user=int(input('enter no'))\n",
    "\n",
    "for x in range(5):\n",
    "#     user=int(input('enter no'))\n",
    "    a.append(user)\n",
    "print(tuple(a))"
   ]
  },
  {
   "cell_type": "markdown",
   "id": "2357c3f7",
   "metadata": {},
   "source": [
    "## "
   ]
  },
  {
   "cell_type": "code",
   "execution_count": 8,
   "id": "146d36f5",
   "metadata": {},
   "outputs": [
    {
     "name": "stdout",
     "output_type": "stream",
     "text": [
      "{}\n"
     ]
    }
   ],
   "source": [
    "# methods of dict\n",
    "d={'a':123,'b':456,'c':789,'d':321,'e':654}\n",
    "d.clear()\n",
    "print(d)"
   ]
  },
  {
   "cell_type": "code",
   "execution_count": 9,
   "id": "f6f2ebd9",
   "metadata": {},
   "outputs": [
    {
     "name": "stdout",
     "output_type": "stream",
     "text": [
      "{'a': 123, 'b': 456, 'c': 789, 'd': 321, 'e': 654}\n"
     ]
    }
   ],
   "source": [
    "d={'a':123,'b':456,'c':789,'d':321,'e':654}\n",
    "x=d.copy()\n",
    "print(d)"
   ]
  },
  {
   "cell_type": "code",
   "execution_count": 10,
   "id": "8f04b6d5",
   "metadata": {},
   "outputs": [
    {
     "name": "stdout",
     "output_type": "stream",
     "text": [
      "{'abc': 2, 'def': 2, 'ghi': 2}\n"
     ]
    }
   ],
   "source": [
    "x=('abc','def','ghi')\n",
    "y=2\n",
    "a=dict.fromkeys(x,y)\n",
    "print(a)"
   ]
  },
  {
   "cell_type": "code",
   "execution_count": 11,
   "id": "821a647d",
   "metadata": {},
   "outputs": [
    {
     "name": "stdout",
     "output_type": "stream",
     "text": [
      "None\n"
     ]
    }
   ],
   "source": [
    "d={'a':123,'b':456,'c':789,'d':321,'e':654}\n",
    "x=d.get('m')\n",
    "print(x)"
   ]
  },
  {
   "cell_type": "code",
   "execution_count": 12,
   "id": "6986c7a3",
   "metadata": {},
   "outputs": [
    {
     "name": "stdout",
     "output_type": "stream",
     "text": [
      "dict_items([('a', 123), ('b', 456), ('c', 789), ('d', 321), ('e', 654)])\n"
     ]
    }
   ],
   "source": [
    "d={'a':123,'b':456,'c':789,'d':321,'e':654}\n",
    "y=d.items()\n",
    "print(y)"
   ]
  },
  {
   "cell_type": "code",
   "execution_count": 13,
   "id": "69bb8c6a",
   "metadata": {},
   "outputs": [
    {
     "name": "stdout",
     "output_type": "stream",
     "text": [
      "dict_keys(['a', 'b', 'c', 'd', 'e'])\n"
     ]
    }
   ],
   "source": [
    "d={'a':123,'b':456,'c':789,'d':321,'e':654}\n",
    "z=d.keys()\n",
    "print(z)"
   ]
  },
  {
   "cell_type": "code",
   "execution_count": 14,
   "id": "4fb9fb44",
   "metadata": {},
   "outputs": [
    {
     "name": "stdout",
     "output_type": "stream",
     "text": [
      "dict_values([123, 456, 789, 321, 654])\n"
     ]
    }
   ],
   "source": [
    "d={'a':123,'b':456,'c':789,'d':321,'e':654}\n",
    "x=d.values()\n",
    "print(x)"
   ]
  },
  {
   "cell_type": "code",
   "execution_count": 17,
   "id": "7923c8de",
   "metadata": {},
   "outputs": [
    {
     "name": "stdout",
     "output_type": "stream",
     "text": [
      "{'a': 123, 'b': 456, 'c': 789, 'd': 321}\n"
     ]
    }
   ],
   "source": [
    "d={'a':123,'b':456,'c':789,'d':321,'e':654}\n",
    "d.pop('e')\n",
    "# d.pop()\n",
    "print(d)"
   ]
  },
  {
   "cell_type": "code",
   "execution_count": 18,
   "id": "fa34d4e1",
   "metadata": {},
   "outputs": [
    {
     "name": "stdout",
     "output_type": "stream",
     "text": [
      "{'a': 123, 'b': 456, 'c': 789, 'd': 321}\n"
     ]
    }
   ],
   "source": [
    "d={'a':123,'b':456,'c':789,'d':321,'e':654}\n",
    "d.popitem()\n",
    "print(d)"
   ]
  },
  {
   "cell_type": "code",
   "execution_count": 1,
   "id": "8856ac2f",
   "metadata": {},
   "outputs": [
    {
     "name": "stdout",
     "output_type": "stream",
     "text": [
      "789\n"
     ]
    }
   ],
   "source": [
    "d={'a':123,'b':456,'c':789,'d':321,'e':654}\n",
    "x=d.setdefault('c')\n",
    "# x=d.setdefault('g','h')\n",
    "print(x)"
   ]
  },
  {
   "cell_type": "code",
   "execution_count": 4,
   "id": "22e8d84c",
   "metadata": {},
   "outputs": [
    {
     "name": "stdout",
     "output_type": "stream",
     "text": [
      "enter key herecherry\n",
      "1\n"
     ]
    }
   ],
   "source": [
    "setdefault=input(\"enter key here\")\n",
    "d1={'apple':1,'banana':2,'cherry':3}\n",
    "x=d1.setdefault('apple','banana')\n",
    "print(x)"
   ]
  },
  {
   "cell_type": "code",
   "execution_count": 3,
   "id": "5f9d5b18",
   "metadata": {},
   "outputs": [
    {
     "name": "stdout",
     "output_type": "stream",
     "text": [
      "enter key here:banana\n",
      "2\n"
     ]
    }
   ],
   "source": [
    "d1={'apple':1,'banana':2,'cherry':3}\n",
    "val=input('enter key here:')\n",
    "print(d1[val])"
   ]
  },
  {
   "cell_type": "code",
   "execution_count": 5,
   "id": "7d8d91fc",
   "metadata": {},
   "outputs": [
    {
     "name": "stdout",
     "output_type": "stream",
     "text": [
      "{'d', 'b', 'a', 'f', 'c'}\n"
     ]
    }
   ],
   "source": [
    "# set method\n",
    "x={'a','b','c','d'}\n",
    "x.add('f')\n",
    "print(x)"
   ]
  },
  {
   "cell_type": "code",
   "execution_count": 6,
   "id": "ebd12d3b",
   "metadata": {},
   "outputs": [
    {
     "name": "stdout",
     "output_type": "stream",
     "text": [
      "{'b', 'a', 'd', 'c'}\n"
     ]
    }
   ],
   "source": [
    "x={'a','b','c','d'}\n",
    "y=x.copy()\n",
    "print(y)"
   ]
  },
  {
   "cell_type": "code",
   "execution_count": 7,
   "id": "5e624c63",
   "metadata": {},
   "outputs": [
    {
     "name": "stdout",
     "output_type": "stream",
     "text": [
      "{'a', 'd', 'c'}\n"
     ]
    }
   ],
   "source": [
    "x={'a','b','c','d'}\n",
    "x.discard('b')\n",
    "print(x)"
   ]
  },
  {
   "cell_type": "code",
   "execution_count": 9,
   "id": "5a1b49eb",
   "metadata": {},
   "outputs": [
    {
     "name": "stdout",
     "output_type": "stream",
     "text": [
      "{'b', 'a', 'd'}\n"
     ]
    }
   ],
   "source": [
    "x={'a','b','c','d'}\n",
    "# x.pop()\n",
    "x.remove('c')\n",
    "print(x)"
   ]
  },
  {
   "cell_type": "code",
   "execution_count": 11,
   "id": "78fb87e6",
   "metadata": {},
   "outputs": [
    {
     "name": "stdout",
     "output_type": "stream",
     "text": [
      "{1, 2, 3, 4, 'b', 'a', 'd', 'c'}\n"
     ]
    }
   ],
   "source": [
    "x={'a','b','c','d'}\n",
    "y={1,2,3,4}\n",
    "z=x.union(y)\n",
    "print(z)"
   ]
  },
  {
   "cell_type": "code",
   "execution_count": 15,
   "id": "694459b6",
   "metadata": {},
   "outputs": [
    {
     "name": "stdout",
     "output_type": "stream",
     "text": [
      "{'b', 4}\n"
     ]
    }
   ],
   "source": [
    "x={'a','b','c','d',4}\n",
    "y={1,2,3,4,'b'}\n",
    "z=x.intersection(y)\n",
    "print(z)"
   ]
  },
  {
   "cell_type": "code",
   "execution_count": 15,
   "id": "fd32737c",
   "metadata": {},
   "outputs": [
    {
     "name": "stdout",
     "output_type": "stream",
     "text": [
      "minhaj 33\n"
     ]
    },
    {
     "data": {
      "text/plain": [
       "45"
      ]
     },
     "execution_count": 15,
     "metadata": {},
     "output_type": "execute_result"
    }
   ],
   "source": [
    "class Student:\n",
    "    def __init__(self,name,roll,age):\n",
    "        self.name=name\n",
    "        self.__roll=roll\n",
    "        self.__age=age\n",
    "    def show(self):\n",
    "        print(self.name,self.__roll)\n",
    "    def get_roll(self):\n",
    "        return self.__roll\n",
    "    def get_age(self):\n",
    "        return self.__age\n",
    "    def set_age(self,age):\n",
    "         self.__age=age\n",
    "S=Student('minhaj',33,22)\n",
    "S.show()\n",
    "S.name\n",
    "S._Student__roll #name mangling\n",
    "S.get_roll()\n",
    "S.set_age(45)\n",
    "S.get_age()"
   ]
  },
  {
   "cell_type": "code",
   "execution_count": null,
   "id": "790ec5f6",
   "metadata": {},
   "outputs": [],
   "source": []
  },
  {
   "cell_type": "code",
   "execution_count": null,
   "id": "c06c754c",
   "metadata": {},
   "outputs": [],
   "source": []
  },
  {
   "cell_type": "code",
   "execution_count": null,
   "id": "d8d65d82",
   "metadata": {},
   "outputs": [],
   "source": []
  },
  {
   "cell_type": "code",
   "execution_count": null,
   "id": "95292c92",
   "metadata": {},
   "outputs": [],
   "source": []
  },
  {
   "cell_type": "code",
   "execution_count": null,
   "id": "a842174c",
   "metadata": {},
   "outputs": [],
   "source": []
  },
  {
   "cell_type": "code",
   "execution_count": null,
   "id": "9dece066",
   "metadata": {},
   "outputs": [],
   "source": []
  },
  {
   "cell_type": "code",
   "execution_count": null,
   "id": "46d16b06",
   "metadata": {},
   "outputs": [],
   "source": []
  },
  {
   "cell_type": "code",
   "execution_count": null,
   "id": "3a1f9762",
   "metadata": {},
   "outputs": [],
   "source": []
  },
  {
   "cell_type": "code",
   "execution_count": null,
   "id": "8d23f9ba",
   "metadata": {},
   "outputs": [],
   "source": []
  },
  {
   "cell_type": "code",
   "execution_count": null,
   "id": "fd31ef7c",
   "metadata": {},
   "outputs": [],
   "source": []
  },
  {
   "cell_type": "code",
   "execution_count": null,
   "id": "2279b352",
   "metadata": {},
   "outputs": [],
   "source": []
  }
 ],
 "metadata": {
  "kernelspec": {
   "display_name": "Python 3 (ipykernel)",
   "language": "python",
   "name": "python3"
  },
  "language_info": {
   "codemirror_mode": {
    "name": "ipython",
    "version": 3
   },
   "file_extension": ".py",
   "mimetype": "text/x-python",
   "name": "python",
   "nbconvert_exporter": "python",
   "pygments_lexer": "ipython3",
   "version": "3.10.4"
  }
 },
 "nbformat": 4,
 "nbformat_minor": 5
}
