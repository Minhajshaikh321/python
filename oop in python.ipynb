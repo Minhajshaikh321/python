{
 "cells": [
  {
   "cell_type": "code",
   "execution_count": 1,
   "id": "eb1e063b",
   "metadata": {},
   "outputs": [
    {
     "name": "stdout",
     "output_type": "stream",
     "text": [
      "<class '__main__.std'>\n"
     ]
    }
   ],
   "source": [
    "class std:\n",
    "    y=5\n",
    "print(std)"
   ]
  },
  {
   "cell_type": "code",
   "execution_count": 4,
   "id": "9d443de9",
   "metadata": {},
   "outputs": [
    {
     "name": "stdout",
     "output_type": "stream",
     "text": [
      "i5,16gb,1TB\n",
      "i5,16gb,1TB\n"
     ]
    }
   ],
   "source": [
    "class Computer:\n",
    "    def config(self):\n",
    "        print('i5,16gb,1TB')\n",
    "        \n",
    "com1=Computer()   #object\n",
    "Computer.config(com1)  #object name\n",
    "com1.config()  #using object itself to call the funcn"
   ]
  },
  {
   "cell_type": "code",
   "execution_count": 24,
   "id": "3983d432",
   "metadata": {},
   "outputs": [
    {
     "name": "stdout",
     "output_type": "stream",
     "text": [
      "i5,16gb,1TB\n",
      "i5,16gb,1TB\n"
     ]
    }
   ],
   "source": [
    "# init funcn\n",
    "class Computer:\n",
    "    def __init__(self,cpu,ram):\n",
    "        self.cpu=cpu\n",
    "        self.ram=ram\n",
    "    def config(self):\n",
    "        print('i5,16gb,1TB')\n",
    "com1=Computer('i5',16)\n",
    "com2=Computer('Ryzen 3',8)\n",
    "\n",
    "\n",
    "com1.config()\n",
    "com2.config()"
   ]
  },
  {
   "cell_type": "code",
   "execution_count": 25,
   "id": "eb01433b",
   "metadata": {},
   "outputs": [
    {
     "name": "stdout",
     "output_type": "stream",
     "text": [
      "Minhaj\n",
      "22\n"
     ]
    }
   ],
   "source": [
    "class Person:\n",
    "    def __init__(self,name,age):\n",
    "        self.name=name\n",
    "        self.age=age\n",
    "p1=Person(\"Minhaj\",22)\n",
    "print(p1.name)\n",
    "print(p1.age)"
   ]
  },
  {
   "cell_type": "code",
   "execution_count": 26,
   "id": "5c7d4ee7",
   "metadata": {},
   "outputs": [
    {
     "name": "stdout",
     "output_type": "stream",
     "text": [
      "Hello my name is Minhaj\n",
      "Hello my age is 22\n"
     ]
    }
   ],
   "source": [
    "class Person:\n",
    "    def __init__(self,name,age):\n",
    "        self.name=name\n",
    "        self.age=age\n",
    "    def func(self):\n",
    "        print('Hello my name is',self.name)\n",
    "        print('Hello my age is',self.age)\n",
    "\n",
    "p1=Person(\"Minhaj\",22)\n",
    "p1.func()"
   ]
  },
  {
   "cell_type": "code",
   "execution_count": 27,
   "id": "6c27915d",
   "metadata": {},
   "outputs": [
    {
     "name": "stdout",
     "output_type": "stream",
     "text": [
      "The roll no. is: 35\n"
     ]
    }
   ],
   "source": [
    "class Person:\n",
    "    def __init__(theobject,rno,grno):\n",
    "        theobject.rno=rno\n",
    "        theobject.grno=grno\n",
    "    def myfuncn(a):\n",
    "        print('The roll no. is:',a.rno)\n",
    "p1=Person(35,11445)\n",
    "p1.myfuncn()"
   ]
  },
  {
   "cell_type": "code",
   "execution_count": 33,
   "id": "8c973942",
   "metadata": {},
   "outputs": [
    {
     "name": "stdout",
     "output_type": "stream",
     "text": [
      "Harry\n",
      "10\n",
      "A\n",
      "['chem', 'phy']\n"
     ]
    }
   ],
   "source": [
    "class Student:\n",
    "    pass\n",
    "\n",
    "harry=Student()\n",
    "larry=Student()\n",
    "\n",
    "harry.name=\"Harry\"\n",
    "harry.std=10\n",
    "harry.section='A'\n",
    "larry.subject=['chem','phy']\n",
    "\n",
    "print(harry.name)\n",
    "print(harry.std)\n",
    "print(harry.section)\n",
    "print(larry.subject)\n"
   ]
  },
  {
   "cell_type": "code",
   "execution_count": 8,
   "id": "1f621164",
   "metadata": {},
   "outputs": [
    {
     "name": "stdout",
     "output_type": "stream",
     "text": [
      "Some Basic Concepts Of Chemistry\n",
      "Structure Of Atom\n",
      "Classification Of Elements And Periodicity In Properties\n",
      "Chemical Bonding And Molecular Structure\n",
      "States Of Matter\n",
      "Thermodynamics\n",
      "Equilibrium\n",
      "Redox Reactions\n",
      "Hydrogen\n",
      "The S Block Elements\n",
      "The P Block Elements\n",
      "Organic Chemistry\n",
      "Hydrocarbons\n",
      "Environmental Chemistry\n",
      "The Solid State\n",
      "Solutions\n",
      "Electrochemistry\n",
      "Chemical Kinetics\n",
      "Surface Chemistry\n",
      "General Principles And Processes Of Isolation Of Elements\n",
      "The D And F Block Elements\n",
      "Coordination Compounds\n",
      "Haloalkanes And Haloarenes\n",
      "Alcohols Phenols And Ethers\n",
      "Aldehydes Ketones And Carboxylic Acids\n",
      "Amines\n",
      "Biomolecules\n",
      "Polymers\n",
      "Chemistry In Everyday Life\n"
     ]
    }
   ],
   "source": [
    "f=open(\"Chemistry.txt\",\"r\")\n",
    "print(f.read())"
   ]
  },
  {
   "cell_type": "code",
   "execution_count": 13,
   "id": "62ae3d48",
   "metadata": {},
   "outputs": [
    {
     "name": "stdout",
     "output_type": "stream",
     "text": [
      "Some Basic Concepts Of Chemistry\n",
      "\n",
      "Structure Of Atom\n",
      "\n",
      "Classification Of Elements And Periodicity In Properties\n",
      "\n",
      "Chemical Bonding And Molecular Structure\n",
      "\n",
      "States Of Matter\n",
      "\n",
      "Thermodynamics\n",
      "\n",
      "Equilibrium\n",
      "\n",
      "Redox Reactions\n",
      "\n",
      "Hydrogen\n",
      "\n",
      "The S Block Elements\n",
      "\n",
      "The P Block Elements\n",
      "\n",
      "Organic Chemistry\n",
      "\n",
      "Hydrocarbons\n",
      "\n",
      "Environmental Chemistry\n",
      "\n",
      "The Solid State\n",
      "\n",
      "Solutions\n",
      "\n",
      "Electrochemistry\n",
      "\n",
      "Chemical Kinetics\n",
      "\n",
      "Surface Chemistry\n",
      "\n",
      "General Principles And Processes Of Isolation Of Elements\n",
      "\n",
      "The D And F Block Elements\n",
      "\n",
      "Coordination Compounds\n",
      "\n",
      "Haloalkanes And Haloarenes\n",
      "\n",
      "Alcohols Phenols And Ethers\n",
      "\n",
      "Aldehydes Ketones And Carboxylic Acids\n",
      "\n",
      "Amines\n",
      "\n",
      "Biomolecules\n",
      "\n",
      "Polymers\n",
      "\n",
      "Chemistry In Everyday Life\n"
     ]
    }
   ],
   "source": [
    "f=open(\"Chemistry.txt\",\"r\")\n",
    "for x in f:\n",
    "    print(x)"
   ]
  },
  {
   "cell_type": "code",
   "execution_count": 60,
   "id": "873bf615",
   "metadata": {},
   "outputs": [
    {
     "name": "stdout",
     "output_type": "stream",
     "text": [
      "Some_Basic_Concepts_Of_Chemistry=1\n",
      "Structure_Of_Atom=2\n",
      "Classification_Of_Elements_And_Periodicity_In_Properties=3\n",
      "Chemical_Bonding_And_Molecular_Structure=4\n",
      "States_Of_Matter=5\n",
      "Thermodynamics=6\n",
      "Equilibrium=7\n",
      "Redox_Reactions=8\n",
      "Hydrogen=9\n",
      "The_S_Block_Elements=10\n",
      "The_P_Block_Elements=11\n",
      "Organic_Chemistry=12\n",
      "Hydrocarbons=13\n",
      "Environmental_Chemistry=14\n",
      "The_Solid_State=15\n",
      "Solutions=16\n",
      "Electrochemistry=17\n",
      "Chemical_Kinetics=18\n",
      "Surface_Chemistry=19\n",
      "General_Principles_And_Processes_Of_Isolation_Of_Elements=20\n",
      "The_D_And_F_Block_Elements=21\n",
      "Coordination_Compounds=22\n",
      "Haloalkanes_And_Haloarenes=23\n",
      "Alcohols_Phenols_And_Ethers=24\n",
      "Aldehydes_Ketones_And_Carboxylic_Acids=25\n",
      "Amines=26\n",
      "Biomolecules=27\n",
      "Polymers=28\n",
      "Chemistry_In_Everyday_Life=29\n"
     ]
    }
   ],
   "source": [
    "count=0\n",
    "f=open(\"Chemistry.txt\",\"r\")\n",
    "f2=open(\"newline.txt\",\"w\")\n",
    "for x in f:\n",
    "    c=x.replace(\" \",\"_\").strip()\n",
    "    count+=1\n",
    "    d=c + \"=\" + str(count)\n",
    "    f2.write(d)\n",
    "    print(d)"
   ]
  },
  {
   "cell_type": "code",
   "execution_count": 51,
   "id": "8976651f",
   "metadata": {},
   "outputs": [
    {
     "name": "stdout",
     "output_type": "stream",
     "text": [
      "Some_Basic_Concepts_Of_Chemistry\n",
      "\n",
      "Structure_Of_Atom\n",
      "\n",
      "Classification_Of_Elements_And_Periodicity_In_Properties\n",
      "\n",
      "Chemical_Bonding_And_Molecular_Structure\n",
      "\n",
      "States_Of_Matter\n",
      "\n",
      "Thermodynamics\n",
      "\n",
      "Equilibrium\n",
      "\n",
      "Redox_Reactions\n",
      "\n",
      "Hydrogen\n",
      "\n",
      "The_S_Block_Elements\n",
      "\n",
      "The_P_Block_Elements\n",
      "\n",
      "Organic_Chemistry\n",
      "\n",
      "Hydrocarbons\n",
      "\n",
      "Environmental_Chemistry\n",
      "\n",
      "The_Solid_State\n",
      "\n",
      "Solutions\n",
      "\n",
      "Electrochemistry\n",
      "\n",
      "Chemical_Kinetics\n",
      "\n",
      "Surface_Chemistry\n",
      "\n",
      "General_Principles_And_Processes_Of_Isolation_Of_Elements\n",
      "\n",
      "The_D_And_F_Block_Elements\n",
      "\n",
      "Coordination_Compounds\n",
      "\n",
      "Haloalkanes_And_Haloarenes\n",
      "\n",
      "Alcohols_Phenols_And_Ethers\n",
      "\n",
      "Aldehydes_Ketones_And_Carboxylic_Acids\n",
      "\n",
      "Amines\n",
      "\n",
      "Biomolecules\n",
      "\n",
      "Polymers\n",
      "\n",
      "Chemistry_In_Everyday_Life\n"
     ]
    }
   ],
   "source": [
    "f=open(\"Chemistry.txt\",\"r\")\n",
    "for x in f:\n",
    "    c=x.replace(\" \",\"_\")\n",
    "    print(c)"
   ]
  },
  {
   "cell_type": "code",
   "execution_count": 50,
   "id": "4cb87fcc",
   "metadata": {},
   "outputs": [
    {
     "name": "stdout",
     "output_type": "stream",
     "text": [
      "Some_Basic_Concepts_Of_Chemistry\n",
      "\n",
      "Structure_Of_Atom\n",
      "\n",
      "Classification_Of_Elements_And_Periodicity_In_Properties\n",
      "\n",
      "Chemical_Bonding_And_Molecular_Structure\n",
      "\n",
      "States_Of_Matter\n",
      "\n",
      "Thermodynamics\n",
      "\n",
      "Equilibrium\n",
      "\n",
      "Redox_Reactions\n",
      "\n",
      "Hydrogen\n",
      "\n",
      "The_S_Block_Elements\n",
      "\n",
      "The_P_Block_Elements\n",
      "\n",
      "Organic_Chemistry\n",
      "\n",
      "Hydrocarbons\n",
      "\n",
      "Environmental_Chemistry\n",
      "\n",
      "The_Solid_State\n",
      "\n",
      "Solutions\n",
      "\n",
      "Electrochemistry\n",
      "\n",
      "Chemical_Kinetics\n",
      "\n",
      "Surface_Chemistry\n",
      "\n",
      "General_Principles_And_Processes_Of_Isolation_Of_Elements\n",
      "\n",
      "The_D_And_F_Block_Elements\n",
      "\n",
      "Coordination_Compounds\n",
      "\n",
      "Haloalkanes_And_Haloarenes\n",
      "\n",
      "Alcohols_Phenols_And_Ethers\n",
      "\n",
      "Aldehydes_Ketones_And_Carboxylic_Acids\n",
      "\n",
      "Amines\n",
      "\n",
      "Biomolecules\n",
      "\n",
      "Polymers\n",
      "\n",
      "Chemistry_In_Everyday_Life\n"
     ]
    }
   ],
   "source": [
    "f=open(\"Chemistry.txt\",\"r\")\n",
    "for x in f:\n",
    "    c=x.replace(\" \",\"_\")\n",
    "    print(c)"
   ]
  },
  {
   "cell_type": "code",
   "execution_count": 14,
   "id": "d9c1d345",
   "metadata": {},
   "outputs": [
    {
     "name": "stdout",
     "output_type": "stream",
     "text": [
      "Name: Minhaj Age: 22\n",
      "Minhaj Working as a developer in mcc\n"
     ]
    }
   ],
   "source": [
    "class Person:\n",
    "    def __init__(self,name,age,profession):\n",
    "#         data members(instance variable)\n",
    "        self.name=name\n",
    "        self.age=age\n",
    "        self.profession=profession\n",
    "        \n",
    "#         Behavior(insstance method)\n",
    "    def show(self):\n",
    "            print('Name:',self.name,'Age:',self.age)\n",
    "    def work(self):\n",
    "            print(self.name,'Working as a developer in',self.profession)\n",
    "            \n",
    "            \n",
    "# create object of class\n",
    "s1=Person('Minhaj',22,'mcc')\n",
    "\n",
    "# call method\n",
    "s1.show()\n",
    "s1.work()"
   ]
  },
  {
   "cell_type": "code",
   "execution_count": 12,
   "id": "27966a71",
   "metadata": {},
   "outputs": [
    {
     "name": "stdout",
     "output_type": "stream",
     "text": [
      "Student Name: harry Standard: 12\n"
     ]
    }
   ],
   "source": [
    "class Student():\n",
    "    pass\n",
    "harry=Student()\n",
    "cherry=Student()\n",
    "\n",
    "harry.name='harry'\n",
    "harry.std=12\n",
    "cherry.name='charry'\n",
    "cherry.subject='engg'\n",
    "\n",
    "print('Student Name:',harry.name,'Standard:',harry.std)"
   ]
  },
  {
   "cell_type": "code",
   "execution_count": 13,
   "id": "b540b4e9",
   "metadata": {},
   "outputs": [
    {
     "name": "stdout",
     "output_type": "stream",
     "text": [
      "Name: Suraiya; Age: 50\n"
     ]
    }
   ],
   "source": [
    "class Teacher:\n",
    "    def __init__(self,name,age):\n",
    "        self.name=name\n",
    "        self.age=age\n",
    "    def show(self):\n",
    "        print('Name:',self.name,'Age:',self.age)\n",
    "T1=Teacher('Suraiya;',50)\n",
    "T1.show()"
   ]
  },
  {
   "cell_type": "code",
   "execution_count": 37,
   "id": "7ad19770",
   "metadata": {},
   "outputs": [
    {
     "name": "stdout",
     "output_type": "stream",
     "text": [
      "Name: Jack ;Age: 30 ;Profession: Software engg\n",
      "Jack working as a Software engg\n"
     ]
    }
   ],
   "source": [
    "class Person:\n",
    "    def __init__(self,name,age,profession):\n",
    "    #data members(instance variable)\n",
    "        self.name=name\n",
    "        self.age=age\n",
    "        self.profession=profession\n",
    "    #Behavior(instance method)\n",
    "    def show(self):\n",
    "        print( 'Name:' ,self.name, ';Age:' ,self.age, ';Profession:' ,self.profession)\n",
    "    def work(self):\n",
    "        print(self.name,'working as a',self.profession)\n",
    "# create object of class\n",
    "J1=Person('Jack',30,'Software engg')\n",
    "# call method\n",
    "J1.show()\n",
    "J1.work()"
   ]
  },
  {
   "cell_type": "code",
   "execution_count": 26,
   "id": "bcb281d6",
   "metadata": {},
   "outputs": [
    {
     "name": "stdout",
     "output_type": "stream",
     "text": [
      "Student: Harry 15\n",
      "School name: ABC school\n",
      "Student: Julie 20\n",
      "School name: XYZ School\n"
     ]
    }
   ],
   "source": [
    "class Student():\n",
    "    #class variable\n",
    "    School_name='ABC school'\n",
    "    #constructor\n",
    "    def __init__(self,name,age):\n",
    "        #instance variable\n",
    "        self.name=name\n",
    "        self.age=age\n",
    "#create object\n",
    "S1=Student('Harry',15)\n",
    "# access instance variable\n",
    "print('Student:',S1.name,S1.age)\n",
    "# access class variable\n",
    "print('School name:',Student.School_name)\n",
    "# modify instance variable\n",
    "S1.name='Julie'\n",
    "S1.age=20\n",
    "print('Student:',S1.name,S1.age)\n",
    "# modify class variable\n",
    "Student.School_name='XYZ School'\n",
    "print('School name:',Student.School_name)"
   ]
  },
  {
   "cell_type": "code",
   "execution_count": 34,
   "id": "8c055c1b",
   "metadata": {},
   "outputs": [
    {
     "name": "stdout",
     "output_type": "stream",
     "text": [
      "student: Harry 12 XYZ School\n"
     ]
    }
   ],
   "source": [
    "class Student:\n",
    "    #class variable\n",
    "    school_name='ABC School'\n",
    "    \n",
    "    #constructor\n",
    "    def __init__(self,name,age):\n",
    "        #instance variable\n",
    "        self.name=name\n",
    "        self.age=age\n",
    "    #instance method\n",
    "    def show(self):\n",
    "        #acess instance variable and class variables\n",
    "        print('student:',self.name,self.age,Student.school_name)\n",
    "    \n",
    "    #instance method\n",
    "    def change_age(self,new_age):\n",
    "        #modify instance variable \n",
    "        self.age=new_age\n",
    "        \n",
    "    #class method\n",
    "    @classmethod\n",
    "    def modify_school_name(cls,new_name):\n",
    "        #modify class variable\n",
    "        cls.school_name=new_name\n",
    "\n",
    "s1=Student('Harry',12)\n",
    "\n",
    "#call class method\n",
    "Student.modify_school_name('XYZ School')\n",
    "\n",
    "# call instance method\n",
    "s1.show()"
   ]
  },
  {
   "cell_type": "markdown",
   "id": "d9baea9e",
   "metadata": {},
   "source": [
    "# modify object properties"
   ]
  },
  {
   "cell_type": "code",
   "execution_count": 32,
   "id": "92082ba3",
   "metadata": {},
   "outputs": [
    {
     "name": "stdout",
     "output_type": "stream",
     "text": [
      "Fruit is strawberry color is RED\n"
     ]
    }
   ],
   "source": [
    "class Fruit:\n",
    "    def __init__(self,name,color):\n",
    "        self.name=name\n",
    "        self.color=color\n",
    "        \n",
    "    def show(self):\n",
    "        print(\"Fruit is\",self.name,\"color is\",self.color)\n",
    "        \n",
    "#creating object of class\n",
    "obj=Fruit('APPLE','RED')\n",
    "#modifying object properties\n",
    "obj.name='strawberry'\n",
    "#calling the instance method using the object obj\n",
    "obj.show()\n"
   ]
  },
  {
   "cell_type": "markdown",
   "id": "2a0949ed",
   "metadata": {},
   "source": [
    "# delete object properties"
   ]
  },
  {
   "cell_type": "code",
   "execution_count": 9,
   "id": "c82f967d",
   "metadata": {},
   "outputs": [
    {
     "ename": "NameError",
     "evalue": "name 'obj' is not defined",
     "output_type": "error",
     "traceback": [
      "\u001b[1;31m---------------------------------------------------------------------------\u001b[0m",
      "\u001b[1;31mNameError\u001b[0m                                 Traceback (most recent call last)",
      "Input \u001b[1;32mIn [9]\u001b[0m, in \u001b[0;36m<cell line: 12>\u001b[1;34m()\u001b[0m\n\u001b[0;32m     10\u001b[0m \u001b[38;5;28;01mdel\u001b[39;00m obj\n\u001b[0;32m     11\u001b[0m \u001b[38;5;66;03m#accesing object after deleting\u001b[39;00m\n\u001b[1;32m---> 12\u001b[0m \u001b[38;5;28mprint\u001b[39m(\u001b[43mobj\u001b[49m\u001b[38;5;241m.\u001b[39mname)\n",
      "\u001b[1;31mNameError\u001b[0m: name 'obj' is not defined"
     ]
    }
   ],
   "source": [
    "class Fruit:\n",
    "    def __init__(self,name,color):\n",
    "        self.name=name\n",
    "        self.color=color\n",
    "    def show(self):\n",
    "        print('fruit is',self.name,'color is',self.color)\n",
    "#creating object of the class\n",
    "obj=Fruit('mango','yellow')\n",
    "#deleting objecct properties\n",
    "del obj\n",
    "#accesing object after deleting\n",
    "print(obj.name)"
   ]
  },
  {
   "cell_type": "code",
   "execution_count": 27,
   "id": "fe0b923c",
   "metadata": {},
   "outputs": [
    {
     "name": "stdout",
     "output_type": "stream",
     "text": [
      "0\n",
      "Munazzir shaikh 97500\n",
      "1\n",
      "2\n",
      "{'fname': 'Munazzir', 'lname': 'shaikh', 'salary': 97500}\n"
     ]
    }
   ],
   "source": [
    "class Employee:\n",
    "    increment=1.5\n",
    "    no_of_employees=0\n",
    "    def __init__(self,fname,lname,salary):\n",
    "        self.fname=fname\n",
    "        self.lname=lname\n",
    "        self.salary=salary\n",
    "        Employee.no_of_employees +=1\n",
    "    def increase(self):\n",
    "        self.salary=int(self.salary*self.increment)\n",
    "print(Employee.no_of_employees)\n",
    "harry=Employee('Munazzir','shaikh',65000)\n",
    "harry.increase()\n",
    "print(harry.fname,harry.lname,harry.salary)\n",
    "print(Employee.no_of_employees)\n",
    "rohan=Employee('Maroof','Shaikh',44000)\n",
    "print(Employee.no_of_employees)\n",
    "print(harry.__dict__)"
   ]
  },
  {
   "cell_type": "code",
   "execution_count": 29,
   "id": "bcb568b9",
   "metadata": {},
   "outputs": [
    {
     "name": "stdout",
     "output_type": "stream",
     "text": [
      "inside constructor\n",
      "all variables initialized\n",
      "hello,my name is emma\n"
     ]
    }
   ],
   "source": [
    "class Student:\n",
    "    #constructor\n",
    "    #initialize instance variable\n",
    "    def __init__(self,name):\n",
    "        print(\"inside constructor\")\n",
    "        self.name=name\n",
    "        print(\"all variables initialized\")\n",
    "    #instance method\n",
    "    def show(self):\n",
    "        print('hello,my name is',self.name)\n",
    "#create object using constructor\n",
    "s1=Student('Emma')\n",
    "s1.show()"
   ]
  },
  {
   "cell_type": "markdown",
   "id": "eb05a391",
   "metadata": {},
   "source": [
    "# return constructor"
   ]
  },
  {
   "cell_type": "code",
   "execution_count": 2,
   "id": "2370b010",
   "metadata": {},
   "outputs": [
    {
     "name": "stdout",
     "output_type": "stream",
     "text": [
      "13\n"
     ]
    }
   ],
   "source": [
    "class Test:\n",
    "    def __init__(self,i):\n",
    "        self.i=i\n",
    "#         return True\n",
    "    def show(self,a):\n",
    "        self.a=a\n",
    "        return(self.i+self.a)\n",
    "d=Test(10)\n",
    "print(d.show(3))"
   ]
  },
  {
   "cell_type": "markdown",
   "id": "216e836a",
   "metadata": {},
   "source": [
    "# Default constructor"
   ]
  },
  {
   "cell_type": "code",
   "execution_count": 3,
   "id": "83957772",
   "metadata": {},
   "outputs": [
    {
     "name": "stdout",
     "output_type": "stream",
     "text": [
      "Inside Display\n"
     ]
    }
   ],
   "source": [
    "# If you do not implement any constructor in your class or forget to declare it,\n",
    "# the Python inserts a default constructor into your code on your behalf. \n",
    "\n",
    "class Employee:\n",
    "\n",
    "    def display(self):\n",
    "        print('Inside Display')\n",
    "\n",
    "emp = Employee()\n",
    "emp.display()"
   ]
  },
  {
   "cell_type": "markdown",
   "id": "bcbd88ff",
   "metadata": {},
   "source": [
    "# Non parametrized constructor"
   ]
  },
  {
   "cell_type": "code",
   "execution_count": 4,
   "id": "c3187070",
   "metadata": {},
   "outputs": [
    {
     "name": "stdout",
     "output_type": "stream",
     "text": [
      "Name: PYnative Address: ABC Street\n"
     ]
    }
   ],
   "source": [
    "# This constructor doesn’t accept the arguments during object creation. \n",
    "# Instead, it initializes every object with the same set of values.\n",
    "\n",
    "class Company:\n",
    "\n",
    "    # no-argument constructor\n",
    "    def __init__(self):\n",
    "        self.name = \"PYnative\"\n",
    "        self.address = \"ABC Street\"\n",
    "\n",
    "    # a method for printing data members\n",
    "    def show(self):\n",
    "        print('Name:', self.name, 'Address:', self.address)\n",
    "\n",
    "# creating object of the class\n",
    "cmp = Company()\n",
    "\n",
    "# calling the instance method using the object\n",
    "cmp.show()"
   ]
  },
  {
   "cell_type": "markdown",
   "id": "ada10098",
   "metadata": {},
   "source": [
    "# Parametrized  constructor"
   ]
  },
  {
   "cell_type": "code",
   "execution_count": 6,
   "id": "3356a465",
   "metadata": {},
   "outputs": [
    {
     "name": "stdout",
     "output_type": "stream",
     "text": [
      "Emma 23 7500\n",
      "Kelly 25 8500\n"
     ]
    }
   ],
   "source": [
    "# consider a company that contains thousands of employees. In this case, while creating each \n",
    "# employee object, we need to pass a different name, age, and salary. \n",
    "# In such cases, use the parameterized constructor.\n",
    "\n",
    "class Employee:\n",
    "    # parameterized constructor\n",
    "    def __init__(self, name, age, salary):\n",
    "        self.name = name\n",
    "        self.age = age\n",
    "        self.salary = salary\n",
    "\n",
    "    # display object\n",
    "    def show(self):\n",
    "        print(self.name, self.age, self.salary)\n",
    "\n",
    "# creating object of the Employee class\n",
    "emma = Employee('Emma', 23, 7500)\n",
    "emma.show()\n",
    "\n",
    "kelly = Employee('Kelly', 25, 8500)\n",
    "kelly.show()"
   ]
  },
  {
   "cell_type": "markdown",
   "id": "86cacfcc",
   "metadata": {},
   "source": [
    "# constructor with default values"
   ]
  },
  {
   "cell_type": "code",
   "execution_count": 7,
   "id": "97cde3f8",
   "metadata": {},
   "outputs": [
    {
     "name": "stdout",
     "output_type": "stream",
     "text": [
      "Emma 12 7\n",
      "Kelly 13 7\n"
     ]
    }
   ],
   "source": [
    "class Student:\n",
    "    # constructor with default values age and classroom\n",
    "    def __init__(self, name, age=12, classroom=7):\n",
    "        self.name = name\n",
    "        self.age = age\n",
    "        self.classroom = classroom\n",
    "\n",
    "    # display Student\n",
    "    def show(self):\n",
    "        print(self.name, self.age, self.classroom)\n",
    "\n",
    "# creating object of the Student class\n",
    "emma = Student('Emma')\n",
    "emma.show()\n",
    "\n",
    "kelly = Student('Kelly', 13)\n",
    "kelly.show()\n"
   ]
  },
  {
   "cell_type": "markdown",
   "id": "b7155b8e",
   "metadata": {},
   "source": [
    "# Constructor overloading"
   ]
  },
  {
   "cell_type": "code",
   "execution_count": 8,
   "id": "f7a602c2",
   "metadata": {},
   "outputs": [
    {
     "ename": "TypeError",
     "evalue": "Student.__init__() missing 1 required positional argument: 'age'",
     "output_type": "error",
     "traceback": [
      "\u001b[1;31m---------------------------------------------------------------------------\u001b[0m",
      "\u001b[1;31mTypeError\u001b[0m                                 Traceback (most recent call last)",
      "Input \u001b[1;32mIn [8]\u001b[0m, in \u001b[0;36m<cell line: 10>\u001b[1;34m()\u001b[0m\n\u001b[0;32m      8\u001b[0m         \u001b[38;5;28mself\u001b[39m\u001b[38;5;241m.\u001b[39mname\u001b[38;5;241m=\u001b[39mname\n\u001b[0;32m      9\u001b[0m         \u001b[38;5;28mself\u001b[39m\u001b[38;5;241m.\u001b[39mage\u001b[38;5;241m=\u001b[39mage\n\u001b[1;32m---> 10\u001b[0m em\u001b[38;5;241m=\u001b[39m\u001b[43mStudent\u001b[49m\u001b[43m(\u001b[49m\u001b[38;5;124;43m\"\u001b[39;49m\u001b[38;5;124;43mhardy\u001b[39;49m\u001b[38;5;124;43m\"\u001b[39;49m\u001b[43m)\u001b[49m\n\u001b[0;32m     11\u001b[0m kel\u001b[38;5;241m=\u001b[39mStudent(\u001b[38;5;124m'\u001b[39m\u001b[38;5;124mramanujan\u001b[39m\u001b[38;5;124m'\u001b[39m,\u001b[38;5;241m30\u001b[39m)\n",
      "\u001b[1;31mTypeError\u001b[0m: Student.__init__() missing 1 required positional argument: 'age'"
     ]
    }
   ],
   "source": [
    "class Student:\n",
    "    def __init__(self,name):\n",
    "        print('one argument is constructor')\n",
    "        self.name=name\n",
    "        \n",
    "    def __init__(self,name,age):\n",
    "        print('two argument is constructor')\n",
    "        self.name=name\n",
    "        self.age=age\n",
    "em=Student(\"hardy\")\n",
    "kel=Student('ramanujan',30)"
   ]
  },
  {
   "cell_type": "markdown",
   "id": "7c22d743",
   "metadata": {},
   "source": [
    "# Constructor chaining:"
   ]
  },
  {
   "cell_type": "code",
   "execution_count": 16,
   "id": "3496d559",
   "metadata": {},
   "outputs": [
    {
     "name": "stdout",
     "output_type": "stream",
     "text": [
      "Inside vehicle constructor\n",
      "Inside car constructor\n",
      "Inside electric car constructor\n",
      "Engine=1200cc,Maxspeed=249,Kmrange=800\n"
     ]
    }
   ],
   "source": [
    "class Vehicle:\n",
    "    def __init__(self,engine):\n",
    "        print('Inside vehicle constructor')\n",
    "        self.engine=engine\n",
    "class Car(Vehicle):\n",
    "    def __init__(self,engine,max_speed):\n",
    "        super().__init__(engine)\n",
    "        print('Inside car constructor')\n",
    "        self.max_speed=max_speed\n",
    "class Electric_Car(Car):\n",
    "    def __init__(self,engine,max_speed,km_range):\n",
    "        super().__init__(engine,max_speed)\n",
    "        print('Inside electric car constructor')\n",
    "        self.km_range=km_range\n",
    "eV=Electric_Car('1200cc',249,800)\n",
    "print(f'Engine={eV.engine},Maxspeed={eV.max_speed},Kmrange={eV.km_range}')"
   ]
  },
  {
   "cell_type": "code",
   "execution_count": 19,
   "id": "1042a42f",
   "metadata": {},
   "outputs": [
    {
     "name": "stdout",
     "output_type": "stream",
     "text": [
      "The number of employees: 1\n"
     ]
    }
   ],
   "source": [
    "class Employee:\n",
    "    count=0\n",
    "    def __init__(self):\n",
    "        Employee.count +=1\n",
    "        \n",
    "e1=Employee()\n",
    "# e2=Employee()\n",
    "# e3=Employee()\n",
    "print('The number of employees:',Employee.count)"
   ]
  },
  {
   "cell_type": "markdown",
   "id": "0ba82470",
   "metadata": {},
   "source": [
    "# constructor return value"
   ]
  },
  {
   "cell_type": "code",
   "execution_count": 20,
   "id": "723e5c1f",
   "metadata": {},
   "outputs": [
    {
     "ename": "TypeError",
     "evalue": "__init__() should return None, not 'bool'",
     "output_type": "error",
     "traceback": [
      "\u001b[1;31m---------------------------------------------------------------------------\u001b[0m",
      "\u001b[1;31mTypeError\u001b[0m                                 Traceback (most recent call last)",
      "Input \u001b[1;32mIn [20]\u001b[0m, in \u001b[0;36m<cell line: 7>\u001b[1;34m()\u001b[0m\n\u001b[0;32m      4\u001b[0m         \u001b[38;5;28mself\u001b[39m\u001b[38;5;241m.\u001b[39mid \u001b[38;5;241m=\u001b[39m i\n\u001b[0;32m      5\u001b[0m         \u001b[38;5;28;01mreturn\u001b[39;00m \u001b[38;5;28;01mTrue\u001b[39;00m\n\u001b[1;32m----> 7\u001b[0m d \u001b[38;5;241m=\u001b[39m \u001b[43mTest\u001b[49m\u001b[43m(\u001b[49m\u001b[38;5;241;43m10\u001b[39;49m\u001b[43m)\u001b[49m\n",
      "\u001b[1;31mTypeError\u001b[0m: __init__() should return None, not 'bool'"
     ]
    }
   ],
   "source": [
    "class Test:\n",
    "\n",
    "    def __init__(self, i):\n",
    "        self.id = i\n",
    "        return True\n",
    "\n",
    "d = Test(10)\n"
   ]
  },
  {
   "cell_type": "code",
   "execution_count": 21,
   "id": "238a8ce4",
   "metadata": {},
   "outputs": [
    {
     "name": "stdout",
     "output_type": "stream",
     "text": [
      "13\n"
     ]
    }
   ],
   "source": [
    "class Test:\n",
    "    def __init__(self,i):\n",
    "        self.i=i\n",
    "#         return True\n",
    "    def show(self,a):\n",
    "        self.a=a\n",
    "        return(self.i+self.a)\n",
    "d=Test(10)\n",
    "print(d.show(3))"
   ]
  },
  {
   "cell_type": "markdown",
   "id": "d29170e9",
   "metadata": {},
   "source": [
    "# DESTRUCTOR:"
   ]
  },
  {
   "cell_type": "code",
   "execution_count": 55,
   "id": "0605b039",
   "metadata": {},
   "outputs": [
    {
     "name": "stderr",
     "output_type": "stream",
     "text": [
      "Exception ignored in: <function Student.__del__ at 0x000002A1491AAB90>\n",
      "Traceback (most recent call last):\n",
      "  File \"C:\\Users\\abc\\AppData\\Local\\Temp\\ipykernel_13800\\2284069339.py\", line 20, in <cell line: 20>\n",
      "TypeError: Student.__del__() missing 1 required positional argument: 'a'\n",
      "Exception ignored in: <function Student.__del__ at 0x000002A1491AAB90>\n",
      "Traceback (most recent call last):\n",
      "  File \"C:\\Users\\abc\\AppData\\Local\\Temp\\ipykernel_13800\\2284069339.py\", line 20, in <cell line: 20>\n",
      "TypeError: Student.__del__() missing 1 required positional argument: 'a'\n",
      "Exception ignored in: <function Student.__del__ at 0x000002A1491AAB90>\n",
      "Traceback (most recent call last):\n",
      "  File \"C:\\Users\\abc\\AppData\\Local\\Temp\\ipykernel_13800\\2284069339.py\", line 20, in <cell line: 20>\n",
      "TypeError: Student.__del__() missing 1 required positional argument: 'a'\n"
     ]
    },
    {
     "name": "stdout",
     "output_type": "stream",
     "text": [
      "Inside constructor\n",
      "Object initialized\n",
      "Inside constructor\n",
      "Object initialized\n",
      "Inside constructor\n",
      "Object initialized\n",
      "Hello,my name is Minhaj\n"
     ]
    }
   ],
   "source": [
    "class Student:\n",
    "    #constructor\n",
    "    def __init__(self,name):\n",
    "        print('Inside constructor')\n",
    "        self.name=name\n",
    "        print('Object initialized')\n",
    "    def show(self):\n",
    "        print('Hello,my name is',self.name)\n",
    "    def __del__(self,a):\n",
    "            self.a=a\n",
    "            print('Inside destructor')\n",
    "            print('Object destroyed')\n",
    "# create object\n",
    "s1=Student('Minhaj')\n",
    "s2=Student('Minhaj')\n",
    "s3=Student('Minhaj')\n",
    "\n",
    "s1.show()\n",
    "# delete object\n",
    "del (s1,s2,s3)\n",
    "# s1.show()"
   ]
  },
  {
   "cell_type": "code",
   "execution_count": 1,
   "id": "17475286",
   "metadata": {},
   "outputs": [
    {
     "name": "stdout",
     "output_type": "stream",
     "text": [
      "Inside constructor\n",
      "Object initialized\n",
      "Inside constructor\n",
      "Object initialized\n",
      "Hello,my name is Minhaj\n",
      "Inside destructor\n",
      "Object destroyed\n",
      "Inside destructor\n",
      "Object destroyed\n"
     ]
    }
   ],
   "source": [
    "class Student:\n",
    "    def __init__(self,name):\n",
    "        print('Inside constructor')\n",
    "        self.name=name\n",
    "        print('Object initialized')\n",
    "    \n",
    "    def show(self):\n",
    "        print('Hello,my name is',self.name)\n",
    "        \n",
    "        \n",
    "    def __del__(self):\n",
    "            print('Inside destructor')\n",
    "            print('Object destroyed')\n",
    "# create object\n",
    "s1=Student('Minhaj')\n",
    "s2=Student('Min')\n",
    "\n",
    "s1.show()\n",
    "# delete object\n",
    "del s1,s2\n",
    "# s1.show()"
   ]
  },
  {
   "cell_type": "code",
   "execution_count": 46,
   "id": "5051764d",
   "metadata": {},
   "outputs": [
    {
     "name": "stdout",
     "output_type": "stream",
     "text": [
      "w\n",
      "o\n",
      "r\n",
      "l\n",
      "d\n"
     ]
    }
   ],
   "source": [
    "lst=[1,2,3,4,5]\n",
    "lst2=[6,7]\n",
    "# def add():\n",
    "#     for i in lst:\n",
    "#         print(i)\n",
    "# def show_element():\n",
    "#     for i in lst2:\n",
    "#         print(i)\n",
    "# # add()\n",
    "# show_element()\n",
    "def show_element(a):\n",
    "    for i in a:\n",
    "        print(i)\n",
    "lst3=[8,9,5]\n",
    "lst4=[1,2,3]\n",
    "lst2=[1,2]\n",
    "b=\"hello\"\n",
    "show_element(\"world\")\n"
   ]
  },
  {
   "cell_type": "code",
   "execution_count": 54,
   "id": "ffbad691",
   "metadata": {},
   "outputs": [
    {
     "name": "stdout",
     "output_type": "stream",
     "text": [
      "2891631821072\n",
      "2891631821072\n"
     ]
    },
    {
     "ename": "NameError",
     "evalue": "name 'b' is not defined",
     "output_type": "error",
     "traceback": [
      "\u001b[1;31m---------------------------------------------------------------------------\u001b[0m",
      "\u001b[1;31mNameError\u001b[0m                                 Traceback (most recent call last)",
      "Input \u001b[1;32mIn [54]\u001b[0m, in \u001b[0;36m<cell line: 6>\u001b[1;34m()\u001b[0m\n\u001b[0;32m      4\u001b[0m \u001b[38;5;28mprint\u001b[39m(\u001b[38;5;28mid\u001b[39m(b))\n\u001b[0;32m      5\u001b[0m \u001b[38;5;28;01mdel\u001b[39;00m b\n\u001b[1;32m----> 6\u001b[0m \u001b[38;5;28mprint\u001b[39m(\u001b[43mb\u001b[49m)\n",
      "\u001b[1;31mNameError\u001b[0m: name 'b' is not defined"
     ]
    }
   ],
   "source": [
    "a=2\n",
    "b=a\n",
    "print(id(a))\n",
    "print(id(b))\n",
    "del b\n",
    "print(b)"
   ]
  },
  {
   "cell_type": "code",
   "execution_count": 2,
   "id": "c3be961a",
   "metadata": {},
   "outputs": [
    {
     "ename": "Exception",
     "evalue": "Not Allowed",
     "output_type": "error",
     "traceback": [
      "\u001b[1;31m---------------------------------------------------------------------------\u001b[0m",
      "\u001b[1;31mException\u001b[0m                                 Traceback (most recent call last)",
      "Input \u001b[1;32mIn [2]\u001b[0m, in \u001b[0;36m<cell line: 11>\u001b[1;34m()\u001b[0m\n\u001b[0;32m      8\u001b[0m         \u001b[38;5;28mprint\u001b[39m(\u001b[38;5;124m'\u001b[39m\u001b[38;5;124mRelease resources\u001b[39m\u001b[38;5;124m'\u001b[39m)\n\u001b[0;32m     10\u001b[0m \u001b[38;5;66;03m# creating an object\u001b[39;00m\n\u001b[1;32m---> 11\u001b[0m car \u001b[38;5;241m=\u001b[39m \u001b[43mVehicle\u001b[49m\u001b[43m(\u001b[49m\u001b[38;5;241;43m350\u001b[39;49m\u001b[43m)\u001b[49m;\n\u001b[0;32m     12\u001b[0m \u001b[38;5;66;03m# to delete the object explicitly\u001b[39;00m\n\u001b[0;32m     13\u001b[0m \u001b[38;5;28;01mdel\u001b[39;00m car\n",
      "Input \u001b[1;32mIn [2]\u001b[0m, in \u001b[0;36mVehicle.__init__\u001b[1;34m(self, speed)\u001b[0m\n\u001b[0;32m      2\u001b[0m \u001b[38;5;28;01mdef\u001b[39;00m \u001b[38;5;21m__init__\u001b[39m(\u001b[38;5;28mself\u001b[39m, speed):\n\u001b[0;32m      3\u001b[0m     \u001b[38;5;28;01mif\u001b[39;00m speed \u001b[38;5;241m>\u001b[39m \u001b[38;5;241m240\u001b[39m:\n\u001b[1;32m----> 4\u001b[0m         \u001b[38;5;28;01mraise\u001b[39;00m \u001b[38;5;167;01mException\u001b[39;00m(\u001b[38;5;124m'\u001b[39m\u001b[38;5;124mNot Allowed\u001b[39m\u001b[38;5;124m'\u001b[39m);\n\u001b[0;32m      5\u001b[0m     \u001b[38;5;28mself\u001b[39m\u001b[38;5;241m.\u001b[39mspeed \u001b[38;5;241m=\u001b[39m speed\n",
      "\u001b[1;31mException\u001b[0m: Not Allowed"
     ]
    }
   ],
   "source": [
    "class Vehicle:\n",
    "    def __init__(self, speed):\n",
    "        if speed > 240:\n",
    "            raise Exception('Not Allowed');\n",
    "        self.speed = speed;\n",
    "\n",
    "    def __del__(self):\n",
    "        print('Release resources')\n",
    "\n",
    "# creating an object\n",
    "car = Vehicle(350);\n",
    "# to delete the object explicitly\n",
    "del car\n"
   ]
  },
  {
   "cell_type": "code",
   "execution_count": 2,
   "id": "cd9fcd84",
   "metadata": {},
   "outputs": [
    {
     "name": "stdout",
     "output_type": "stream",
     "text": [
      "<__main__.Computer object at 0x0000025F90673130>\n"
     ]
    }
   ],
   "source": [
    "class Computer:\n",
    "    def __init__(self,cpu,ram):\n",
    "        self.cpu=cpu\n",
    "        self.ram=ram\n",
    "com1=Computer('i5',16)\n",
    "print(com1)"
   ]
  },
  {
   "cell_type": "code",
   "execution_count": null,
   "id": "b3839226",
   "metadata": {},
   "outputs": [],
   "source": []
  },
  {
   "cell_type": "code",
   "execution_count": null,
   "id": "1fa6d752",
   "metadata": {},
   "outputs": [],
   "source": []
  },
  {
   "cell_type": "code",
   "execution_count": null,
   "id": "b00a687e",
   "metadata": {},
   "outputs": [],
   "source": []
  },
  {
   "cell_type": "code",
   "execution_count": null,
   "id": "ee8a87ce",
   "metadata": {},
   "outputs": [],
   "source": []
  },
  {
   "cell_type": "code",
   "execution_count": null,
   "id": "adb06351",
   "metadata": {},
   "outputs": [],
   "source": []
  },
  {
   "cell_type": "code",
   "execution_count": null,
   "id": "56966e43",
   "metadata": {},
   "outputs": [],
   "source": []
  },
  {
   "cell_type": "code",
   "execution_count": null,
   "id": "46cdb02a",
   "metadata": {},
   "outputs": [],
   "source": []
  },
  {
   "cell_type": "code",
   "execution_count": null,
   "id": "221bca93",
   "metadata": {},
   "outputs": [],
   "source": []
  }
 ],
 "metadata": {
  "kernelspec": {
   "display_name": "Python 3 (ipykernel)",
   "language": "python",
   "name": "python3"
  },
  "language_info": {
   "codemirror_mode": {
    "name": "ipython",
    "version": 3
   },
   "file_extension": ".py",
   "mimetype": "text/x-python",
   "name": "python",
   "nbconvert_exporter": "python",
   "pygments_lexer": "ipython3",
   "version": "3.10.6"
  }
 },
 "nbformat": 4,
 "nbformat_minor": 5
}
