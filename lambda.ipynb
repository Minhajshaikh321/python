{
 "cells": [
  {
   "cell_type": "code",
   "execution_count": 3,
   "id": "aa2f699e",
   "metadata": {},
   "outputs": [
    {
     "name": "stdout",
     "output_type": "stream",
     "text": [
      "5\n"
     ]
    }
   ],
   "source": [
    "minus=lambda x,y:x-y\n",
    "\n",
    "# def minus(x,y):\n",
    "#     return x-y\n",
    "\n",
    "print(minus(9,4))"
   ]
  },
  {
   "cell_type": "code",
   "execution_count": 6,
   "id": "c05008c9",
   "metadata": {},
   "outputs": [
    {
     "name": "stdout",
     "output_type": "stream",
     "text": [
      "[(2, 1), (5, 3), (564, 87)]\n"
     ]
    }
   ],
   "source": [
    "def x(var):\n",
    "    return var[1]\n",
    "a=[(2,1),(5,3),(564,87)]\n",
    "a.sort(key=x)\n",
    "print(a)"
   ]
  },
  {
   "cell_type": "code",
   "execution_count": 7,
   "id": "915058a6",
   "metadata": {},
   "outputs": [
    {
     "data": {
      "text/plain": [
       "map"
      ]
     },
     "execution_count": 7,
     "metadata": {},
     "output_type": "execute_result"
    }
   ],
   "source": [
    "map"
   ]
  },
  {
   "cell_type": "code",
   "execution_count": 2,
   "id": "1a7651a5",
   "metadata": {},
   "outputs": [
    {
     "name": "stdout",
     "output_type": "stream",
     "text": [
      "[529, 576, 676, 625]\n"
     ]
    }
   ],
   "source": [
    "name=['23','24','26','25']\n",
    "name=list(map(int,name))\n",
    "name=list(map(lambda x:x*x,name))\n",
    "print(name)"
   ]
  },
  {
   "cell_type": "code",
   "execution_count": 18,
   "id": "57053a11",
   "metadata": {},
   "outputs": [
    {
     "name": "stdout",
     "output_type": "stream",
     "text": [
      "[8, 2]\n"
     ]
    }
   ],
   "source": [
    "seq=[1,8,3,2,9,25]\n",
    "result=list(filter(lambda x:x%2==0,seq))\n",
    "# result=filter(lambda x:x%2==1,seq)\n",
    "# print(list(result))\n",
    "print(result)"
   ]
  },
  {
   "cell_type": "code",
   "execution_count": 3,
   "id": "d66674e8",
   "metadata": {},
   "outputs": [
    {
     "name": "stdout",
     "output_type": "stream",
     "text": [
      "<filter object at 0x000001611551D180>\n"
     ]
    }
   ],
   "source": [
    "numbers = (1, 2, 3, 4)\n",
    "result = filter(lambda x:x%2==0,numbers)\n",
    "print((result))"
   ]
  },
  {
   "cell_type": "code",
   "execution_count": 23,
   "id": "6acf4112",
   "metadata": {},
   "outputs": [
    {
     "name": "stdout",
     "output_type": "stream",
     "text": [
      "[['s', 'a', 't'], ['b', 'a', 't'], ['c', 'a', 't'], ['m', 'a', 't']]\n"
     ]
    }
   ],
   "source": [
    "# List of strings\n",
    "l = ['sat', 'bat', 'cat', 'mat']\n",
    "  \n",
    "# map() can listify the list of strings individually\n",
    "test = list(map(list, l))\n",
    "print(test)\n"
   ]
  },
  {
   "cell_type": "code",
   "execution_count": 2,
   "id": "3b04193b",
   "metadata": {},
   "outputs": [
    {
     "name": "stdout",
     "output_type": "stream",
     "text": [
      "136\n"
     ]
    }
   ],
   "source": [
    "from functools import reduce\n",
    "score=[23,34,12,67]\n",
    "total=reduce(lambda a,b:a+b,score)\n",
    "print(total)"
   ]
  },
  {
   "cell_type": "code",
   "execution_count": 3,
   "id": "cfe6b215",
   "metadata": {},
   "outputs": [
    {
     "name": "stdout",
     "output_type": "stream",
     "text": [
      "210\n"
     ]
    }
   ],
   "source": [
    "from functools import reduce\n",
    "# calculates the product of two elements\n",
    "def product(x,y):\n",
    "    return x*y\n",
    "\n",
    "ans = reduce(product, [2, 5, 3, 7])\n",
    "print(ans)\n"
   ]
  },
  {
   "cell_type": "code",
   "execution_count": 5,
   "id": "4372856c",
   "metadata": {},
   "outputs": [
    {
     "name": "stdout",
     "output_type": "stream",
     "text": [
      "15\n"
     ]
    }
   ],
   "source": [
    "from functools import reduce\n",
    "num=[1,2,3,4,5]\n",
    "name=reduce(lambda x,y:x+y,num)\n",
    "print(name)"
   ]
  },
  {
   "cell_type": "code",
   "execution_count": 7,
   "id": "e43004f8",
   "metadata": {},
   "outputs": [
    {
     "name": "stdout",
     "output_type": "stream",
     "text": [
      "[0, 0]\n",
      "[1, 1]\n",
      "[4, 8]\n",
      "[9, 27]\n"
     ]
    }
   ],
   "source": [
    "def square(a):\n",
    "    return a*a\n",
    "def cube(a):\n",
    "    return a*a*a\n",
    "func=[square,cube]\n",
    "for i in range(4):\n",
    "    val=list(map(lambda x:x(i),func))\n",
    "    print(val)"
   ]
  },
  {
   "cell_type": "code",
   "execution_count": 9,
   "id": "22839ccc",
   "metadata": {},
   "outputs": [
    {
     "name": "stdout",
     "output_type": "stream",
     "text": [
      "[6, 7, 8, 9, 10]\n"
     ]
    }
   ],
   "source": [
    "lst=[1,2,3,4,5,6,7,8,9,10]\n",
    "def is_greater(num):\n",
    "    return num>5\n",
    "gr_than=list(filter(is_greater,lst))\n",
    "print(gr_than)"
   ]
  },
  {
   "cell_type": "code",
   "execution_count": 10,
   "id": "47a17397",
   "metadata": {},
   "outputs": [
    {
     "name": "stdout",
     "output_type": "stream",
     "text": [
      "15\n"
     ]
    }
   ],
   "source": [
    "from functools import reduce\n",
    "list1=[1,2,3,4,5]\n",
    "num=reduce(lambda x,y:x+y,list1)\n",
    "print(num)"
   ]
  },
  {
   "cell_type": "code",
   "execution_count": 17,
   "id": "0d4ed767",
   "metadata": {},
   "outputs": [
    {
     "name": "stdout",
     "output_type": "stream",
     "text": [
      "63\n"
     ]
    }
   ],
   "source": [
    "from functools import reduce\n",
    "tup1=(10,20,30)\n",
    "# using reduce with initializer\n",
    "print(reduce(lambda x,y:x+y,tup1,3))  #sum of elements in tup1+3 = 63"
   ]
  },
  {
   "cell_type": "code",
   "execution_count": 18,
   "id": "fd91f73a",
   "metadata": {},
   "outputs": [
    {
     "name": "stdout",
     "output_type": "stream",
     "text": [
      "[(1, 11), (3, 22), (2, 33), (5, 44)]\n"
     ]
    }
   ],
   "source": [
    "data1=[1,3,2,5]\n",
    "data2=[11,22,33,44]\n",
    "data3=list(zip(data1,data2))\n",
    "print(data3)"
   ]
  },
  {
   "cell_type": "code",
   "execution_count": 2,
   "id": "97faabea",
   "metadata": {},
   "outputs": [
    {
     "name": "stdout",
     "output_type": "stream",
     "text": [
      "[('minhaj', 12), ('suraiya', 13), ('anam', 14)]\n"
     ]
    }
   ],
   "source": [
    "name=['minhaj','suraiya','anam']\n",
    "rollno=[12,13,14]\n",
    "add=zip(name,rollno)\n",
    "print(list(add))"
   ]
  },
  {
   "cell_type": "code",
   "execution_count": 3,
   "id": "53c6126d",
   "metadata": {},
   "outputs": [
    {
     "name": "stdout",
     "output_type": "stream",
     "text": [
      "[1, 2, 3]\n"
     ]
    }
   ],
   "source": [
    "name=['1','2','3']\n",
    "for i in range(len(name)):\n",
    "    name[i]=int(name[i])\n",
    "print(name)"
   ]
  },
  {
   "cell_type": "code",
   "execution_count": 4,
   "id": "fab8d5f2",
   "metadata": {},
   "outputs": [
    {
     "name": "stdout",
     "output_type": "stream",
     "text": [
      "masir and munazzir and maroof\n"
     ]
    }
   ],
   "source": [
    "mytuple=('masir','munazzir','maroof')\n",
    "x=' and '.join(mytuple)\n",
    "print(x)"
   ]
  },
  {
   "cell_type": "code",
   "execution_count": 2,
   "id": "20712606",
   "metadata": {},
   "outputs": [
    {
     "name": "stdout",
     "output_type": "stream",
     "text": [
      "bhindi\n",
      "gajar\n"
     ]
    }
   ],
   "source": [
    "l1=['bhindi','aloo','gajar','tamatar']\n",
    "i=1\n",
    "for item in l1:\n",
    "    if i%2!=0:\n",
    "        print(item)\n",
    "    i+=1"
   ]
  },
  {
   "cell_type": "code",
   "execution_count": 4,
   "id": "0cc89763",
   "metadata": {},
   "outputs": [
    {
     "name": "stdout",
     "output_type": "stream",
     "text": [
      "jarvis please buy bhindi\n",
      "jarvis please buy gajar\n"
     ]
    }
   ],
   "source": [
    "l1=['bhindi','aloo','gajar','tamatar']\n",
    "for index,item in enumerate(l1):\n",
    "    if index%2==0:\n",
    "        print(f\"jarvis please buy {item}\")"
   ]
  },
  {
   "cell_type": "code",
   "execution_count": 5,
   "id": "036bd09f",
   "metadata": {},
   "outputs": [
    {
     "name": "stdout",
     "output_type": "stream",
     "text": [
      "[3, 6, 9, 12]\n"
     ]
    }
   ],
   "source": [
    "l=[1,2,3,4]\n",
    "name=list(map(lambda x:x+x+x,l))\n",
    "print(name)"
   ]
  },
  {
   "cell_type": "code",
   "execution_count": 6,
   "id": "05771c44",
   "metadata": {},
   "outputs": [
    {
     "name": "stdout",
     "output_type": "stream",
     "text": [
      "[12, 15, 18]\n"
     ]
    }
   ],
   "source": [
    "x=[1,2,3]\n",
    "y=[4,5,6]\n",
    "z=[7,8,9]\n",
    "lis=list(map(lambda x,y,z:x+y+z,x,y,z))\n",
    "print(lis)"
   ]
  },
  {
   "cell_type": "code",
   "execution_count": 7,
   "id": "99c1c222",
   "metadata": {},
   "outputs": [
    {
     "name": "stdout",
     "output_type": "stream",
     "text": [
      "[['f', 'l', 'o', 'w', 'e', 'r'], ['p', 'l', 'a', 'n', 't'], ['s', 'k', 'y']]\n"
     ]
    }
   ],
   "source": [
    "l=['flower','plant','sky']\n",
    "m=list(map(list,l))\n",
    "print(m)"
   ]
  },
  {
   "cell_type": "code",
   "execution_count": 8,
   "id": "7207926b",
   "metadata": {},
   "outputs": [
    {
     "name": "stdout",
     "output_type": "stream",
     "text": [
      "[2, 4, 8, 16]\n"
     ]
    }
   ],
   "source": [
    "base=[2,2,2,2]\n",
    "num=[1,2,3,4]\n",
    "result=list(map(pow,base,num))\n",
    "print(result)"
   ]
  },
  {
   "cell_type": "code",
   "execution_count": 9,
   "id": "cca70dab",
   "metadata": {},
   "outputs": [
    {
     "name": "stdout",
     "output_type": "stream",
     "text": [
      "0 --> abc\n",
      "1 --> def\n",
      "2 --> ghi\n"
     ]
    }
   ],
   "source": [
    "alp=['abc','def','ghi']\n",
    "for pos,name in enumerate(alp):\n",
    "    print(f\"{pos} --> {name}\")"
   ]
  },
  {
   "cell_type": "code",
   "execution_count": 1,
   "id": "f303dec3",
   "metadata": {},
   "outputs": [
    {
     "name": "stdout",
     "output_type": "stream",
     "text": [
      "[(0, 'python'), (1, 'java'), (2, 'cc')]\n"
     ]
    }
   ],
   "source": [
    "program=['python','java','cc']\n",
    "language=enumerate(program)\n",
    "print(list(language))"
   ]
  },
  {
   "cell_type": "code",
   "execution_count": 2,
   "id": "ddc78419",
   "metadata": {},
   "outputs": [
    {
     "name": "stdout",
     "output_type": "stream",
     "text": [
      "7\n",
      "[212, 321, 441, 508, 22, 511, 468, 509, 510]\n"
     ]
    }
   ],
   "source": [
    "import bisect\n",
    "num=509\n",
    "a=[212,321,441,508,22,511,468,510]\n",
    "print(bisect.bisect(a,num))\n",
    "bisect.insort(a,num)\n",
    "print(a)"
   ]
  },
  {
   "cell_type": "code",
   "execution_count": 9,
   "id": "77b08cd4",
   "metadata": {},
   "outputs": [
    {
     "name": "stdout",
     "output_type": "stream",
     "text": [
      "without using list comprehension [15, 3, 9]\n",
      "with using list comprehension [15, 3, 9]\n"
     ]
    }
   ],
   "source": [
    "lst=[32,35,15,3,5,7,9,20]\n",
    "lst2=[]\n",
    "for item in lst:\n",
    "    if item%3==0:\n",
    "        lst2.append(item)\n",
    "print('without using list comprehension',lst2)\n",
    "#in one line\n",
    "print('with using list comprehension',[x for x in lst if x%3==0])"
   ]
  },
  {
   "cell_type": "code",
   "execution_count": 10,
   "id": "d29d7547",
   "metadata": {},
   "outputs": [
    {
     "name": "stdout",
     "output_type": "stream",
     "text": [
      "[0, 1, 2, 3, 4, 5, 6, 7, 8, 9]\n"
     ]
    }
   ],
   "source": [
    "newlist=[x for x in range(10)]\n",
    "print(newlist)"
   ]
  },
  {
   "cell_type": "code",
   "execution_count": 15,
   "id": "255f0046",
   "metadata": {},
   "outputs": [
    {
     "name": "stdout",
     "output_type": "stream",
     "text": [
      "{1, 4, 9, 16, 25}\n"
     ]
    }
   ],
   "source": [
    "squared={x**2 for x in [1,2,3,3,4,4,4,4,5,5,5,5,5,5,5]}\n",
    "print(squared)\n",
    "# print(set(squared))"
   ]
  },
  {
   "cell_type": "code",
   "execution_count": 17,
   "id": "9ca27da0",
   "metadata": {},
   "outputs": [
    {
     "name": "stdout",
     "output_type": "stream",
     "text": [
      "{2: 4, 4: 16, 6: 36, 8: 64}\n"
     ]
    }
   ],
   "source": [
    "numbers=[1,2,4,6,7,8]\n",
    "even={x:x**2 for x in numbers if x%2==0}\n",
    "print(even)"
   ]
  },
  {
   "cell_type": "code",
   "execution_count": 18,
   "id": "464ccf9a",
   "metadata": {},
   "outputs": [
    {
     "name": "stdout",
     "output_type": "stream",
     "text": [
      "{'hardy': 1123, 'alson': 4672, 'jacob': 1633}\n"
     ]
    }
   ],
   "source": [
    "price=[1123,4672,1633]\n",
    "person=['hardy','alson','jacob']\n",
    "d={key:value for key,value in zip(person,price)}\n",
    "print(d)"
   ]
  },
  {
   "cell_type": "code",
   "execution_count": 5,
   "id": "1c12134b",
   "metadata": {},
   "outputs": [
    {
     "name": "stdout",
     "output_type": "stream",
     "text": [
      "7\n",
      "[212, 321, 441, 508, 22, 511, 468, 509, 510]\n"
     ]
    }
   ],
   "source": [
    "import bisect\n",
    "num=509\n",
    "a=[212,321,441,508,22,511,468,510]\n",
    "print(bisect.bisect(a,num))\n",
    "bisect.insort(a,num)\n",
    "print(a)"
   ]
  },
  {
   "cell_type": "code",
   "execution_count": 2,
   "id": "26798bed",
   "metadata": {},
   "outputs": [
    {
     "name": "stdout",
     "output_type": "stream",
     "text": [
      "3\n",
      "[6, 2, 3, 5, 7, 8, 9]\n"
     ]
    }
   ],
   "source": [
    "import bisect\n",
    "num=5\n",
    "a=[6,2,3,7,8,9]\n",
    "print(bisect.bisect(a,num))\n",
    "bisect.insort(a,num)\n",
    "print(a)"
   ]
  },
  {
   "cell_type": "code",
   "execution_count": 13,
   "id": "550edbf6",
   "metadata": {},
   "outputs": [
    {
     "name": "stdout",
     "output_type": "stream",
     "text": [
      "2\n"
     ]
    }
   ],
   "source": [
    "import random\n",
    "random_number=random.randint(0,5)\n",
    "print(random_number)"
   ]
  },
  {
   "cell_type": "code",
   "execution_count": 5,
   "id": "a71cd16d",
   "metadata": {},
   "outputs": [
    {
     "name": "stdout",
     "output_type": "stream",
     "text": [
      "False\n"
     ]
    }
   ],
   "source": [
    "st=\"python\"\n",
    "if st:\n",
    "    print(True)\n",
    "else :\n",
    "    print(False)"
   ]
  },
  {
   "cell_type": "code",
   "execution_count": 4,
   "id": "0588a665",
   "metadata": {},
   "outputs": [
    {
     "name": "stdout",
     "output_type": "stream",
     "text": [
      "True\n"
     ]
    }
   ],
   "source": [
    "i=7\n",
    "print(bool(i))"
   ]
  },
  {
   "cell_type": "code",
   "execution_count": 1,
   "id": "4ddc62fb",
   "metadata": {},
   "outputs": [
    {
     "name": "stdout",
     "output_type": "stream",
     "text": [
      "1 correct extension of python file?\n",
      "Ans. py.file\n",
      " \n",
      "2 what is django?\n",
      "Ans. Django is framework?\n",
      "django is use to create web app\n",
      "3 what is class in oops?\n",
      "Ans. A class is a blueprint for the object\n",
      "class contains the properties (attribute) and action (behavior) of the object.\n",
      "4 what is instance varible?\n",
      "Ans. Attached to an instance of class\n",
      "Instance variables are not shared by objects. Every object has its own copy of the instance attribute. This means that for each object of a class, the instance variable value is different\n"
     ]
    }
   ],
   "source": [
    "qn=[{\"question\":\"correct extension of python file?\",\n",
    "    \"answer\":\"py.file\",\n",
    "    \"explanation\":\" \"},\n",
    "    {\"question\":\"what is django?\",\n",
    "    \"answer\":\"Django is framework?\",\n",
    "    \"explanation\":\"django is use to create web app\"},\n",
    "    {\"question\":\"what is class in oops?\",\n",
    "    \"answer\":\"A class is a blueprint for the object\",\n",
    "    \"explanation\":\"class contains the properties (attribute) and action (behavior) of the object.\"},\n",
    "    {\"question\":\"what is instance varible?\",\n",
    "    \"answer\":\"Attached to an instance of class\",\n",
    "    \"explanation\":\"Instance variables are not shared by objects. Every object has its own copy of the instance attribute. This means that for each object of a class, the instance variable value is different\"\n",
    "     }]\n",
    "count=1\n",
    "for x in qn:\n",
    "    print(count,x[\"question\"])\n",
    "    count+=1\n",
    "    print(\"Ans.\",x[\"answer\"])\n",
    "\n",
    "\n",
    "#     q=x[\"question\"]\n",
    "#     count=count+1\n",
    "#     print(i,count,'-',j)"
   ]
  },
  {
   "cell_type": "code",
   "execution_count": 12,
   "id": "bd3e2d76",
   "metadata": {},
   "outputs": [
    {
     "name": "stdout",
     "output_type": "stream",
     "text": [
      "even\n",
      "odd\n",
      "even\n",
      "odd\n",
      "even\n",
      "odd\n"
     ]
    }
   ],
   "source": [
    "l1=[2,7,5,3,1,2]\n",
    "for item in l1:\n",
    "    if i%2==0:\n",
    "        print(\"even\")\n",
    "    else: \n",
    "        print(\"odd\")\n",
    "    i+=1"
   ]
  },
  {
   "cell_type": "code",
   "execution_count": 13,
   "id": "5a49417b",
   "metadata": {},
   "outputs": [
    {
     "name": "stdout",
     "output_type": "stream",
     "text": [
      "['even', 'odd', 'odd', 'even', 'odd']\n"
     ]
    }
   ],
   "source": [
    "fruits = [2,5,7,8,9]\n",
    "newlist = []\n",
    "for x in fruits:\n",
    "    if x%2==0:\n",
    "        newlist.append(\"even\")\n",
    "    else:\n",
    "        newlist.append(\"odd\")\n",
    "print(newlist)"
   ]
  },
  {
   "cell_type": "code",
   "execution_count": 20,
   "id": "30c4ff56",
   "metadata": {},
   "outputs": [
    {
     "name": "stdout",
     "output_type": "stream",
     "text": [
      "['even', 'even', 'odd', 'odd', 'odd', 'even', 'even']\n"
     ]
    }
   ],
   "source": [
    "list1=[2,4,7,9,3,4,8]\n",
    "list2=[\"even\" if x%2==0 else \"odd\"  for x in list1]\n",
    "print(list2)"
   ]
  },
  {
   "cell_type": "code",
   "execution_count": 32,
   "id": "c1707cac",
   "metadata": {},
   "outputs": [
    {
     "name": "stdout",
     "output_type": "stream",
     "text": [
      "[<function <genexpr>.<lambda> at 0x000001EC44BB27A0>, <function <genexpr>.<lambda> at 0x000001EC44ECD480>, <function <genexpr>.<lambda> at 0x000001EC44ECD5A0>, <function <genexpr>.<lambda> at 0x000001EC44ECD510>, <function <genexpr>.<lambda> at 0x000001EC44ECD630>]\n"
     ]
    }
   ],
   "source": [
    "l1=[2,5,3,4,8]\n",
    "l2= (lambda x: \"even\" if x%2==0 else \"odd\" for x in l1)\n",
    "print(list(l2))"
   ]
  },
  {
   "cell_type": "code",
   "execution_count": 18,
   "id": "1da8ba20",
   "metadata": {},
   "outputs": [
    {
     "name": "stdout",
     "output_type": "stream",
     "text": [
      "even\n",
      "odd\n"
     ]
    }
   ],
   "source": [
    "def check(x=7):\n",
    "    if x%2==0:\n",
    "        return \"even\"\n",
    "    else:\n",
    "        return \"odd\"\n",
    "        \n",
    "print(check(2))\n",
    "print(check(5))"
   ]
  },
  {
   "cell_type": "code",
   "execution_count": 5,
   "id": "3942c97f",
   "metadata": {},
   "outputs": [
    {
     "name": "stdout",
     "output_type": "stream",
     "text": [
      "even\n",
      "odd\n",
      "even\n",
      "even\n"
     ]
    }
   ],
   "source": [
    "def even():\n",
    "    x=[2,3,6,4]\n",
    "    for i in x:\n",
    "        if i%2 == 0:\n",
    "            print(\"even\")\n",
    "        else:\n",
    "            print(\"odd\")\n",
    "        i+=1\n",
    "even()"
   ]
  },
  {
   "cell_type": "code",
   "execution_count": 6,
   "id": "3978bb51",
   "metadata": {},
   "outputs": [
    {
     "name": "stdout",
     "output_type": "stream",
     "text": [
      "odd\n",
      "even\n",
      "even\n"
     ]
    }
   ],
   "source": [
    "x=[1,2,4]\n",
    "\n",
    "def even():\n",
    "#     x=[2,3,6,4]\n",
    "    for i in x:\n",
    "        if i%2 == 0:\n",
    "            print(\"even\")\n",
    "        else:\n",
    "            print(\"odd\")\n",
    "        i+=1\n",
    "even()"
   ]
  },
  {
   "cell_type": "code",
   "execution_count": 8,
   "id": "a6341a98",
   "metadata": {},
   "outputs": [
    {
     "name": "stdout",
     "output_type": "stream",
     "text": [
      "even\n",
      "odd\n",
      "odd\n"
     ]
    }
   ],
   "source": [
    "def even():\n",
    "    x=[2,5,7]\n",
    "    for i in x:\n",
    "        if i%2 == 0:\n",
    "            print(\"even\")\n",
    "        else:\n",
    "            print(\"odd\")\n",
    "#         i+=1\n",
    "even()"
   ]
  },
  {
   "cell_type": "code",
   "execution_count": 7,
   "id": "3cf36c70",
   "metadata": {},
   "outputs": [
    {
     "name": "stdout",
     "output_type": "stream",
     "text": [
      "odd\n",
      "odd\n",
      "even\n",
      "even\n"
     ]
    }
   ],
   "source": [
    "def even(x):\n",
    "    for i in x:\n",
    "        if i%2 == 0:\n",
    "            print(\"even\")\n",
    "        else:\n",
    "            print(\"odd\")\n",
    "p=[3,7,8,4]\n",
    "even(p)"
   ]
  },
  {
   "cell_type": "code",
   "execution_count": 5,
   "id": "bd3992a8",
   "metadata": {},
   "outputs": [
    {
     "name": "stdout",
     "output_type": "stream",
     "text": [
      "['odd', 'odd', 'even', 'even']\n"
     ]
    }
   ],
   "source": [
    "def even(x):\n",
    "    for i in x:\n",
    "        if i%2 == 0:\n",
    "            q.append(\"even\")\n",
    "        else:\n",
    "            q.append(\"odd\")\n",
    "p=[3,7,8,4]\n",
    "q=[]\n",
    "even(p)\n",
    "print(q)\n",
    "\n"
   ]
  },
  {
   "cell_type": "code",
   "execution_count": 11,
   "id": "54c329b8",
   "metadata": {},
   "outputs": [
    {
     "name": "stdout",
     "output_type": "stream",
     "text": [
      "odd\n",
      "odd\n",
      "even\n",
      "even\n"
     ]
    }
   ],
   "source": [
    "def even(x):\n",
    "    for i in x:\n",
    "        if i%2 == 0:\n",
    "            print(\"even\")\n",
    "        else:\n",
    "            print(\"odd\")\n",
    "p=[3,7,8,4]\n",
    "even(p)"
   ]
  },
  {
   "cell_type": "code",
   "execution_count": 12,
   "id": "aa3c2d0b",
   "metadata": {},
   "outputs": [
    {
     "ename": "NameError",
     "evalue": "name 'q' is not defined",
     "output_type": "error",
     "traceback": [
      "\u001b[1;31m---------------------------------------------------------------------------\u001b[0m",
      "\u001b[1;31mNameError\u001b[0m                                 Traceback (most recent call last)",
      "Input \u001b[1;32mIn [12]\u001b[0m, in \u001b[0;36m<cell line: 1>\u001b[1;34m()\u001b[0m\n\u001b[1;32m----> 1\u001b[0m \u001b[38;5;28mprint\u001b[39m(\u001b[43mq\u001b[49m)\n",
      "\u001b[1;31mNameError\u001b[0m: name 'q' is not defined"
     ]
    }
   ],
   "source": [
    "print(q)"
   ]
  },
  {
   "cell_type": "code",
   "execution_count": null,
   "id": "64aabf13",
   "metadata": {},
   "outputs": [],
   "source": []
  },
  {
   "cell_type": "code",
   "execution_count": null,
   "id": "2671d931",
   "metadata": {},
   "outputs": [],
   "source": []
  }
 ],
 "metadata": {
  "kernelspec": {
   "display_name": "Python 3 (ipykernel)",
   "language": "python",
   "name": "python3"
  },
  "language_info": {
   "codemirror_mode": {
    "name": "ipython",
    "version": 3
   },
   "file_extension": ".py",
   "mimetype": "text/x-python",
   "name": "python",
   "nbconvert_exporter": "python",
   "pygments_lexer": "ipython3",
   "version": "3.10.6"
  }
 },
 "nbformat": 4,
 "nbformat_minor": 5
}
