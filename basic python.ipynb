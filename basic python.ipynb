{
 "cells": [
  {
   "cell_type": "code",
   "execution_count": 5,
   "id": "8b3a02b5",
   "metadata": {},
   "outputs": [
    {
     "name": "stdout",
     "output_type": "stream",
     "text": [
      "200 is even\n"
     ]
    }
   ],
   "source": [
    "# nested if indentation:\n",
    "num=200\n",
    "if num>100:\n",
    "    if num%2==0:\n",
    "        print(num,'is even')\n",
    "    "
   ]
  },
  {
   "cell_type": "code",
   "execution_count": 6,
   "id": "e827c364",
   "metadata": {},
   "outputs": [
    {
     "name": "stdout",
     "output_type": "stream",
     "text": [
      "280\n"
     ]
    }
   ],
   "source": [
    "# explicit continuation in multiline statement\n",
    "addition = 10 + 20 + \\\n",
    "           30 + 40 + \\\n",
    "           50 + 60 + 70\n",
    "print(addition)"
   ]
  },
  {
   "cell_type": "code",
   "execution_count": 7,
   "id": "1a2ab28d",
   "metadata": {},
   "outputs": [
    {
     "name": "stdout",
     "output_type": "stream",
     "text": [
      "280\n"
     ]
    }
   ],
   "source": [
    "# implicit continuation in multiline statement\n",
    "addition = (10 + 20 + \n",
    "           30 + 40 + \n",
    "           50 + 60 + 70)\n",
    "print(addition)"
   ]
  },
  {
   "cell_type": "code",
   "execution_count": 11,
   "id": "94440317",
   "metadata": {},
   "outputs": [
    {
     "ename": "ZeroDivisionError",
     "evalue": "division by zero",
     "output_type": "error",
     "traceback": [
      "\u001b[1;31m---------------------------------------------------------------------------\u001b[0m",
      "\u001b[1;31mZeroDivisionError\u001b[0m                         Traceback (most recent call last)",
      "Input \u001b[1;32mIn [11]\u001b[0m, in \u001b[0;36m<cell line: 1>\u001b[1;34m()\u001b[0m\n\u001b[1;32m----> 1\u001b[0m \u001b[38;5;28mprint\u001b[39m(\u001b[38;5;241;43m2\u001b[39;49m\u001b[38;5;241;43m/\u001b[39;49m\u001b[38;5;241;43m0\u001b[39;49m)\n",
      "\u001b[1;31mZeroDivisionError\u001b[0m: division by zero"
     ]
    }
   ],
   "source": [
    "print(2/0)"
   ]
  },
  {
   "cell_type": "code",
   "execution_count": 4,
   "id": "8f548ed2",
   "metadata": {},
   "outputs": [
    {
     "name": "stdout",
     "output_type": "stream",
     "text": [
      "5\n"
     ]
    }
   ],
   "source": [
    "def add(a,b):\n",
    "    return a+b\n",
    "result=add(2,3)\n",
    "print(result)"
   ]
  },
  {
   "cell_type": "code",
   "execution_count": 6,
   "id": "ba3b94e7",
   "metadata": {},
   "outputs": [
    {
     "name": "stdout",
     "output_type": "stream",
     "text": [
      "2022-07-25 10:53:50.902018\n"
     ]
    }
   ],
   "source": [
    "import datetime\n",
    "now=datetime.datetime.now()\n",
    "print(now)"
   ]
  },
  {
   "cell_type": "code",
   "execution_count": 9,
   "id": "ae51fd45",
   "metadata": {},
   "outputs": [
    {
     "name": "stdout",
     "output_type": "stream",
     "text": [
      "['False', 'None', 'True', 'and', 'as', 'assert', 'async', 'await', 'break', 'class', 'continue', 'def', 'del', 'elif', 'else', 'except', 'finally', 'for', 'from', 'global', 'if', 'import', 'in', 'is', 'lambda', 'nonlocal', 'not', 'or', 'pass', 'raise', 'return', 'try', 'while', 'with', 'yield']\n"
     ]
    }
   ],
   "source": [
    "import keyword\n",
    "print(keyword.kwlist)"
   ]
  },
  {
   "cell_type": "code",
   "execution_count": 11,
   "id": "63db99f9",
   "metadata": {},
   "outputs": [
    {
     "name": "stdout",
     "output_type": "stream",
     "text": [
      "\n",
      "Here is a list of the Python keywords.  Enter any keyword to get more help.\n",
      "\n",
      "False               class               from                or\n",
      "None                continue            global              pass\n",
      "True                def                 if                  raise\n",
      "and                 del                 import              return\n",
      "as                  elif                in                  try\n",
      "assert              else                is                  while\n",
      "async               except              lambda              with\n",
      "await               finally             nonlocal            yield\n",
      "break               for                 not                 \n",
      "\n"
     ]
    }
   ],
   "source": [
    "help(\"keywords\")"
   ]
  },
  {
   "cell_type": "code",
   "execution_count": 14,
   "id": "6a4f0a98",
   "metadata": {},
   "outputs": [
    {
     "name": "stdout",
     "output_type": "stream",
     "text": [
      "Boolean operations\n",
      "******************\n",
      "\n",
      "   or_test  ::= and_test | or_test \"or\" and_test\n",
      "   and_test ::= not_test | and_test \"and\" not_test\n",
      "   not_test ::= comparison | \"not\" not_test\n",
      "\n",
      "In the context of Boolean operations, and also when expressions are\n",
      "used by control flow statements, the following values are interpreted\n",
      "as false: \"False\", \"None\", numeric zero of all types, and empty\n",
      "strings and containers (including strings, tuples, lists,\n",
      "dictionaries, sets and frozensets).  All other values are interpreted\n",
      "as true.  User-defined objects can customize their truth value by\n",
      "providing a \"__bool__()\" method.\n",
      "\n",
      "The operator \"not\" yields \"True\" if its argument is false, \"False\"\n",
      "otherwise.\n",
      "\n",
      "The expression \"x and y\" first evaluates *x*; if *x* is false, its\n",
      "value is returned; otherwise, *y* is evaluated and the resulting value\n",
      "is returned.\n",
      "\n",
      "The expression \"x or y\" first evaluates *x*; if *x* is true, its value\n",
      "is returned; otherwise, *y* is evaluated and the resulting value is\n",
      "returned.\n",
      "\n",
      "Note that neither \"and\" nor \"or\" restrict the value and type they\n",
      "return to \"False\" and \"True\", but rather return the last evaluated\n",
      "argument.  This is sometimes useful, e.g., if \"s\" is a string that\n",
      "should be replaced by a default value if it is empty, the expression\n",
      "\"s or 'foo'\" yields the desired value.  Because \"not\" has to create a\n",
      "new value, it returns a boolean value regardless of the type of its\n",
      "argument (for example, \"not 'foo'\" produces \"False\" rather than \"''\".)\n",
      "\n",
      "Related help topics: EXPRESSIONS, TRUTHVALUE\n",
      "\n",
      "None\n"
     ]
    }
   ],
   "source": [
    "print(help('or'))"
   ]
  },
  {
   "cell_type": "code",
   "execution_count": 17,
   "id": "4e868929",
   "metadata": {},
   "outputs": [
    {
     "name": "stdout",
     "output_type": "stream",
     "text": [
      "True\n",
      "False\n"
     ]
    }
   ],
   "source": [
    "import keyword\n",
    "\n",
    "print(keyword.iskeyword('if'))\n",
    "print(keyword.iskeyword('range'))"
   ]
  },
  {
   "cell_type": "code",
   "execution_count": 4,
   "id": "0504fa50",
   "metadata": {},
   "outputs": [
    {
     "name": "stdout",
     "output_type": "stream",
     "text": [
      "130\n",
      "230\n"
     ]
    }
   ],
   "source": [
    "x=30\n",
    "y=40\n",
    "if x>5 and y<50:\n",
    "    print(x+100)\n",
    "if x>5 or y>50:\n",
    "    print(x+200)\n",
    "if not x:\n",
    "    print(x+10)"
   ]
  },
  {
   "cell_type": "code",
   "execution_count": 10,
   "id": "32c77fa9",
   "metadata": {},
   "outputs": [
    {
     "name": "stdout",
     "output_type": "stream",
     "text": [
      "False\n",
      "True\n"
     ]
    }
   ],
   "source": [
    "x=5\n",
    "y=10\n",
    "z=5\n",
    "print(x is y)\n",
    "print(x is z)"
   ]
  },
  {
   "cell_type": "code",
   "execution_count": 19,
   "id": "43729032",
   "metadata": {},
   "outputs": [
    {
     "name": "stdout",
     "output_type": "stream",
     "text": [
      "for loop to display list\n",
      "0 1 2 3 4 while loop dispplay list\n",
      "0 1 2 3 "
     ]
    }
   ],
   "source": [
    "print('for loop to display list')\n",
    "for i in range(5):\n",
    "    print(i,end=' ')   \n",
    "\n",
    "print('while loop dispplay list')\n",
    "n=0\n",
    "while n<4:\n",
    "    print(n,end=' ')\n",
    "    n+=1"
   ]
  },
  {
   "cell_type": "code",
   "execution_count": 26,
   "id": "d095075a",
   "metadata": {},
   "outputs": [
    {
     "name": "stdout",
     "output_type": "stream",
     "text": [
      "MINHAJ\n",
      "M\n",
      "IN\n",
      "6\n",
      "MINHAJshaikh\n"
     ]
    }
   ],
   "source": [
    "str='MINHAJ'\n",
    "print(str)\n",
    "print(str[0])\n",
    "print(str[1:3])\n",
    "print(len(str))\n",
    "print(str + 'shaikh')"
   ]
  },
  {
   "cell_type": "code",
   "execution_count": 30,
   "id": "01623f0b",
   "metadata": {},
   "outputs": [
    {
     "name": "stdout",
     "output_type": "stream",
     "text": [
      "list\n"
     ]
    }
   ],
   "source": [
    "lst=[10,20,20.5,'Python',100]\n",
    "# It will print only datatype of variable\n",
    "print(type(lst).__name__) # list"
   ]
  },
  {
   "cell_type": "code",
   "execution_count": null,
   "id": "4b6a2655",
   "metadata": {},
   "outputs": [],
   "source": [
    "PI = 3.14\n",
    "TOTAL_AREA = 205 "
   ]
  },
  {
   "cell_type": "code",
   "execution_count": 32,
   "id": "5053abca",
   "metadata": {},
   "outputs": [
    {
     "name": "stdout",
     "output_type": "stream",
     "text": [
      "value\n"
     ]
    }
   ],
   "source": [
    "def func():\n",
    "    price=900\n",
    "    print('value')\n",
    "func()"
   ]
  },
  {
   "cell_type": "code",
   "execution_count": 33,
   "id": "883e0115",
   "metadata": {},
   "outputs": [
    {
     "name": "stdout",
     "output_type": "stream",
     "text": [
      "2183446208304\n",
      "2183446208304\n"
     ]
    }
   ],
   "source": [
    "n = 300\n",
    "m = n\n",
    "print(id(n)) # same memory address\n",
    "print(id(m)) # same memory address "
   ]
  },
  {
   "cell_type": "code",
   "execution_count": 34,
   "id": "3c50acca",
   "metadata": {},
   "outputs": [
    {
     "name": "stdout",
     "output_type": "stream",
     "text": [
      "2183369458192\n",
      "2183369458192\n",
      "2183369458512\n",
      "2183369458512\n",
      "2183369458512\n"
     ]
    }
   ],
   "source": [
    "a = 10\n",
    "b = 10\n",
    "print(id(a))\n",
    "print(id(b))\n",
    "\n",
    "c = 20\n",
    "d = 20\n",
    "e = 20\n",
    "print(id(c))\n",
    "print(id(d))\n",
    "print(id(e))"
   ]
  },
  {
   "cell_type": "code",
   "execution_count": 36,
   "id": "9aec5510",
   "metadata": {},
   "outputs": [
    {
     "name": "stdout",
     "output_type": "stream",
     "text": [
      "2183369458192\n",
      "2183369458192\n"
     ]
    }
   ],
   "source": [
    "a=10\n",
    "b=10\n",
    "print(id(a))\n",
    "print(id(b))"
   ]
  },
  {
   "cell_type": "code",
   "execution_count": 37,
   "id": "e4ffb2d8",
   "metadata": {},
   "outputs": [
    {
     "name": "stdout",
     "output_type": "stream",
     "text": [
      "205\n",
      "400\n"
     ]
    }
   ],
   "source": [
    "import sys\n",
    "print(sys.getrefcount(a))\n",
    "print(sys.getrefcount(c))"
   ]
  },
  {
   "cell_type": "code",
   "execution_count": 40,
   "id": "e0ddcc66",
   "metadata": {},
   "outputs": [
    {
     "name": "stdout",
     "output_type": "stream",
     "text": [
      "False\n",
      "True\n",
      "False\n",
      "True\n",
      "False\n",
      "True\n"
     ]
    }
   ],
   "source": [
    "x=10\n",
    "y=20\n",
    "print(x>y)\n",
    "print(x<y)\n",
    "print(x>=y)\n",
    "print(x<=y)\n",
    "print(x==y)\n",
    "print(x!=y)\n"
   ]
  },
  {
   "cell_type": "code",
   "execution_count": 48,
   "id": "617a0b81",
   "metadata": {},
   "outputs": [
    {
     "name": "stdout",
     "output_type": "stream",
     "text": [
      "8\n",
      "20\n"
     ]
    }
   ],
   "source": [
    "a=4\n",
    "b=2\n",
    "if a>2 and b<3:\n",
    "    print(a*b)\n",
    "else:\n",
    "    print('do nothing')\n",
    "\n",
    "print(10 and 20)"
   ]
  },
  {
   "cell_type": "code",
   "execution_count": 52,
   "id": "a91bc77c",
   "metadata": {},
   "outputs": [
    {
     "name": "stdout",
     "output_type": "stream",
     "text": [
      "8\n",
      "10\n"
     ]
    }
   ],
   "source": [
    "a=4\n",
    "b=2\n",
    "if a>2 or b>3:\n",
    "    print(a*b)\n",
    "else:\n",
    "    print('do nothing')\n",
    "\n",
    "print(10 or 20)"
   ]
  },
  {
   "cell_type": "code",
   "execution_count": 58,
   "id": "79469b34",
   "metadata": {},
   "outputs": [
    {
     "name": "stdout",
     "output_type": "stream",
     "text": [
      "True\n",
      "False\n",
      "Do nothing\n"
     ]
    }
   ],
   "source": [
    "print(not False)  # True return complements result\n",
    "print(not True)  # True return complements result\n",
    "\n",
    "# actual use in code\n",
    "a = True\n",
    "\n",
    "# Logical not\n",
    "if not a:\n",
    "    # a is True so expression is False\n",
    "    print(a) \n",
    "else:\n",
    "    print(\"Do nothing\")"
   ]
  },
  {
   "cell_type": "code",
   "execution_count": 57,
   "id": "e9528458",
   "metadata": {},
   "outputs": [
    {
     "name": "stdout",
     "output_type": "stream",
     "text": [
      "False\n"
     ]
    }
   ],
   "source": [
    "print(not 5)"
   ]
  },
  {
   "cell_type": "code",
   "execution_count": 3,
   "id": "a1f1cf32",
   "metadata": {},
   "outputs": [
    {
     "name": "stdout",
     "output_type": "stream",
     "text": [
      "2361\n"
     ]
    }
   ],
   "source": [
    "a=10\n",
    "b=10\n",
    "import sys\n",
    "print(sys.getrefcount(a))\n",
    "# print(sys.getrefcount(c))"
   ]
  },
  {
   "cell_type": "code",
   "execution_count": 4,
   "id": "f54e4bd3",
   "metadata": {},
   "outputs": [
    {
     "name": "stdout",
     "output_type": "stream",
     "text": [
      "205\n"
     ]
    }
   ],
   "source": [
    "import sys\n",
    "a=10\n",
    "b=10\n",
    "d=10\n",
    "e=10\n",
    "print(sys.getrefcount(a))\n",
    "# print(sys.getrefcount(c))"
   ]
  },
  {
   "cell_type": "code",
   "execution_count": 8,
   "id": "e70617ab",
   "metadata": {},
   "outputs": [
    {
     "name": "stdout",
     "output_type": "stream",
     "text": [
      "205\n"
     ]
    }
   ],
   "source": [
    "import sys\n",
    "a=10\n",
    "b=10\n",
    "d=10\n",
    "e=10\n",
    "print(sys.getrefcount(a))\n"
   ]
  },
  {
   "cell_type": "code",
   "execution_count": 3,
   "id": "8f7a54d1",
   "metadata": {},
   "outputs": [
    {
     "name": "stdout",
     "output_type": "stream",
     "text": [
      "128\n",
      "<class 'int'>\n",
      "16\n",
      "<class 'int'>\n",
      "32\n",
      "<class 'int'>\n"
     ]
    }
   ],
   "source": [
    "octal=0o200\n",
    "print(octal)\n",
    "print(type(octal))\n",
    "\n",
    "hexa=0x10\n",
    "print(hexa)\n",
    "print(type(hexa))\n",
    "\n",
    "bin=0b100000\n",
    "print(bin)\n",
    "print(type(bin))"
   ]
  },
  {
   "cell_type": "code",
   "execution_count": 7,
   "id": "1e3e9a20",
   "metadata": {},
   "outputs": [
    {
     "name": "stdout",
     "output_type": "stream",
     "text": [
      "<class 'float'>\n"
     ]
    }
   ],
   "source": [
    "a=-3.5\n",
    "print(type(a))"
   ]
  },
  {
   "cell_type": "code",
   "execution_count": 24,
   "id": "2ebbd77c",
   "metadata": {},
   "outputs": [
    {
     "name": "stdout",
     "output_type": "stream",
     "text": [
      "<class 'bytes'>\n",
      "2\n",
      "24\n"
     ]
    }
   ],
   "source": [
    "x=[2,56,255,24]\n",
    "y= bytes(x)\n",
    "# print(type(x))\n",
    "print(type(y))\n",
    "print(y[0])\n",
    "print(x[-1])"
   ]
  },
  {
   "cell_type": "code",
   "execution_count": 30,
   "id": "24cc38a9",
   "metadata": {},
   "outputs": [
    {
     "name": "stdout",
     "output_type": "stream",
     "text": [
      "bytearray(b'6CG\\x18')\n",
      "<class 'bytearray'>\n",
      "34\n",
      "54 34 71 24 "
     ]
    }
   ],
   "source": [
    "lst=[54,67,71,24]\n",
    "b=bytearray(lst)\n",
    "print(b)\n",
    "print(type(b))\n",
    "\n",
    "b[1]=34\n",
    "print(b[1])\n",
    "\n",
    "for i in b:\n",
    "    print(i,end=' ')"
   ]
  },
  {
   "cell_type": "code",
   "execution_count": 34,
   "id": "3f52157e",
   "metadata": {},
   "outputs": [
    {
     "name": "stdout",
     "output_type": "stream",
     "text": [
      "<class 'range'>\n",
      "20 21 22 23 24 25 26 27 28 29 "
     ]
    }
   ],
   "source": [
    "num=range(10,20,1)\n",
    "print(type(num))\n",
    "\n",
    "# for loop\n",
    "for i in range(20,30,1):\n",
    "    print(i,end=' ')"
   ]
  },
  {
   "cell_type": "code",
   "execution_count": 35,
   "id": "020a60fd",
   "metadata": {},
   "outputs": [
    {
     "name": "stdout",
     "output_type": "stream",
     "text": [
      "view <memory at 0x0000026A61FED6C0>\n"
     ]
    }
   ],
   "source": [
    "b = b'PYnative'\n",
    "b1=memoryview(b)\n",
    "print('view',b1)"
   ]
  },
  {
   "cell_type": "code",
   "execution_count": 36,
   "id": "5bc505d2",
   "metadata": {},
   "outputs": [
    {
     "name": "stdout",
     "output_type": "stream",
     "text": [
      "80 89 110 97 116 105 118 101 "
     ]
    }
   ],
   "source": [
    "byte_array = b'PYnative'      # creating bytes array object\n",
    "byte_array_view = memoryview(byte_array)  # creating memory view for bytes array objects\n",
    "container = tuple(byte_array_view)   # Storing it in container of iterating\n",
    "for char in container:\n",
    "    print(char, end=\" \")"
   ]
  },
  {
   "cell_type": "code",
   "execution_count": 39,
   "id": "61b7f047",
   "metadata": {},
   "outputs": [
    {
     "name": "stdout",
     "output_type": "stream",
     "text": [
      "<class 'bool'>\n",
      "output is 1\n",
      "<class 'int'>\n"
     ]
    }
   ],
   "source": [
    "flagt=True\n",
    "flagf=False\n",
    "print(type(flagf))\n",
    "\n",
    "num1=int(flagt)\n",
    "num2=int(flagf)\n",
    "print('output is',num1)\n",
    "print(type(num1))\n"
   ]
  },
  {
   "cell_type": "code",
   "execution_count": 41,
   "id": "fa0caf3a",
   "metadata": {},
   "outputs": [
    {
     "name": "stdout",
     "output_type": "stream",
     "text": [
      "complex (56.3+23.5j)\n",
      "<class 'complex'>\n"
     ]
    }
   ],
   "source": [
    "rnum,inum=56.3,23.5\n",
    "cnum=complex(rnum,inum)\n",
    "print('complex',cnum)\n",
    "print(type(cnum))"
   ]
  },
  {
   "cell_type": "code",
   "execution_count": 44,
   "id": "05d1e3c7",
   "metadata": {},
   "outputs": [
    {
     "name": "stdout",
     "output_type": "stream",
     "text": [
      "(1+0j)\n",
      "<class 'complex'>\n"
     ]
    }
   ],
   "source": [
    "b=True\n",
    "c=complex(b)\n",
    "print(c)\n",
    "print(type(c))"
   ]
  },
  {
   "cell_type": "code",
   "execution_count": 55,
   "id": "a131039e",
   "metadata": {},
   "outputs": [
    {
     "name": "stdout",
     "output_type": "stream",
     "text": [
      "True\n"
     ]
    }
   ],
   "source": [
    "s=''\n",
    "q=1.23\n",
    "t='False'\n",
    "u=2+3j\n",
    "v=0+1j\n",
    "p=bool(v)\n",
    "print(p)"
   ]
  },
  {
   "cell_type": "code",
   "execution_count": 64,
   "id": "4b9a73c7",
   "metadata": {},
   "outputs": [
    {
     "name": "stdout",
     "output_type": "stream",
     "text": [
      "25\n",
      "<class 'int'>\n",
      "25\n",
      "<class 'str'>\n"
     ]
    }
   ],
   "source": [
    "num=25\n",
    "# num=14.45+6j\n",
    "# num=23.4\n",
    "print(num)\n",
    "print(type(num))\n",
    "s=str(num)\n",
    "print(s)\n",
    "print(type(s))"
   ]
  },
  {
   "cell_type": "code",
   "execution_count": null,
   "id": "f9b8bc61",
   "metadata": {},
   "outputs": [],
   "source": [
    "x=1\n",
    "while x<=5: print(x,end=' ');x=x"
   ]
  },
  {
   "cell_type": "code",
   "execution_count": 7,
   "id": "6e47bd31",
   "metadata": {},
   "outputs": [
    {
     "name": "stdout",
     "output_type": "stream",
     "text": [
      "6\n"
     ]
    }
   ],
   "source": [
    "def foo(a=4):\n",
    "#     a=5\n",
    "    print(a)\n",
    "foo(6)"
   ]
  },
  {
   "cell_type": "code",
   "execution_count": 13,
   "id": "d0b75947",
   "metadata": {},
   "outputs": [
    {
     "name": "stdout",
     "output_type": "stream",
     "text": [
      "6\n"
     ]
    }
   ],
   "source": [
    "def foo(a=4):\n",
    "    5\n",
    "    print(a)\n",
    "foo(6)"
   ]
  },
  {
   "cell_type": "code",
   "execution_count": 6,
   "id": "a9c86083",
   "metadata": {},
   "outputs": [
    {
     "ename": "TypeError",
     "evalue": "foo() takes 0 positional arguments but 1 was given",
     "output_type": "error",
     "traceback": [
      "\u001b[1;31m---------------------------------------------------------------------------\u001b[0m",
      "\u001b[1;31mTypeError\u001b[0m                                 Traceback (most recent call last)",
      "Input \u001b[1;32mIn [6]\u001b[0m, in \u001b[0;36m<cell line: 4>\u001b[1;34m()\u001b[0m\n\u001b[0;32m      1\u001b[0m \u001b[38;5;28;01mdef\u001b[39;00m \u001b[38;5;21mfoo\u001b[39m():\n\u001b[0;32m      2\u001b[0m \u001b[38;5;66;03m#     a=5\u001b[39;00m\n\u001b[0;32m      3\u001b[0m     \u001b[38;5;28mprint\u001b[39m(a)\n\u001b[1;32m----> 4\u001b[0m \u001b[43mfoo\u001b[49m\u001b[43m(\u001b[49m\u001b[38;5;241;43m6\u001b[39;49m\u001b[43m)\u001b[49m\n",
      "\u001b[1;31mTypeError\u001b[0m: foo() takes 0 positional arguments but 1 was given"
     ]
    }
   ],
   "source": [
    "def foo():\n",
    "#     a=5\n",
    "    print(a)\n",
    "foo(6)"
   ]
  },
  {
   "cell_type": "code",
   "execution_count": 6,
   "id": "df6dc878",
   "metadata": {},
   "outputs": [
    {
     "name": "stdout",
     "output_type": "stream",
     "text": [
      "4 5 6 7 8\n",
      "[32, 50, 72, 98, 128]\n"
     ]
    }
   ],
   "source": [
    "l=map(int,input().split(\" \"))\n",
    "l=map(lambda x:x**2+x**2,l)\n",
    "print(list(l))"
   ]
  },
  {
   "cell_type": "code",
   "execution_count": 2,
   "id": "a30f82cf",
   "metadata": {},
   "outputs": [
    {
     "name": "stdout",
     "output_type": "stream",
     "text": [
      "123\n"
     ]
    }
   ],
   "source": [
    "_=123\n",
    "print(_)"
   ]
  },
  {
   "cell_type": "code",
   "execution_count": 3,
   "id": "882527fb",
   "metadata": {},
   "outputs": [
    {
     "ename": "SyntaxError",
     "evalue": "invalid decimal literal (866107835.py, line 1)",
     "output_type": "error",
     "traceback": [
      "\u001b[1;36m  Input \u001b[1;32mIn [3]\u001b[1;36m\u001b[0m\n\u001b[1;33m    1st_string=1234\u001b[0m\n\u001b[1;37m    ^\u001b[0m\n\u001b[1;31mSyntaxError\u001b[0m\u001b[1;31m:\u001b[0m invalid decimal literal\n"
     ]
    }
   ],
   "source": [
    "1st_string=1234\n",
    "print(1st_string)"
   ]
  },
  {
   "cell_type": "code",
   "execution_count": 5,
   "id": "665abf2f",
   "metadata": {},
   "outputs": [
    {
     "name": "stdout",
     "output_type": "stream",
     "text": [
      "False\n"
     ]
    }
   ],
   "source": [
    "print(0.2+0.4==0.6)"
   ]
  },
  {
   "cell_type": "code",
   "execution_count": 6,
   "id": "23faee0c",
   "metadata": {},
   "outputs": [
    {
     "name": "stdout",
     "output_type": "stream",
     "text": [
      "JamesJamesJamesJamesJamesJames\n"
     ]
    }
   ],
   "source": [
    "var = \"James\" * 2  * 3\n",
    "print(var)\n"
   ]
  },
  {
   "cell_type": "code",
   "execution_count": 7,
   "id": "5017c352",
   "metadata": {},
   "outputs": [
    {
     "name": "stdout",
     "output_type": "stream",
     "text": [
      "Salary: 12000\n",
      "Salary: 8000\n"
     ]
    }
   ],
   "source": [
    "salary = 8000\n",
    "\n",
    "def printSalary():\n",
    "  salary = 12000\n",
    "  print(\"Salary:\", salary)\n",
    "  \n",
    "printSalary()\n",
    "print(\"Salary:\", salary)\n"
   ]
  },
  {
   "cell_type": "code",
   "execution_count": 8,
   "id": "5a38059e",
   "metadata": {},
   "outputs": [
    {
     "name": "stdout",
     "output_type": "stream",
     "text": [
      "maJ\n"
     ]
    }
   ],
   "source": [
    "var= \"James Bond\"\n",
    "print(var[2::-1])\n"
   ]
  },
  {
   "cell_type": "code",
   "execution_count": 9,
   "id": "f4cb24b5",
   "metadata": {},
   "outputs": [
    {
     "name": "stdout",
     "output_type": "stream",
     "text": [
      "1\n",
      "2\n",
      "3\n",
      "4\n",
      "this is else block statement\n"
     ]
    }
   ],
   "source": [
    "for i in range(1, 5):\n",
    "    print(i)\n",
    "else:\n",
    "    print(\"this is else block statement\" )\n"
   ]
  },
  {
   "cell_type": "code",
   "execution_count": null,
   "id": "3ae0fe51",
   "metadata": {},
   "outputs": [],
   "source": []
  }
 ],
 "metadata": {
  "kernelspec": {
   "display_name": "Python 3 (ipykernel)",
   "language": "python",
   "name": "python3"
  },
  "language_info": {
   "codemirror_mode": {
    "name": "ipython",
    "version": 3
   },
   "file_extension": ".py",
   "mimetype": "text/x-python",
   "name": "python",
   "nbconvert_exporter": "python",
   "pygments_lexer": "ipython3",
   "version": "3.10.6"
  }
 },
 "nbformat": 4,
 "nbformat_minor": 5
}
