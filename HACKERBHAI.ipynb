{
 "cells": [
  {
   "cell_type": "code",
   "execution_count": 19,
   "id": "eda521a8",
   "metadata": {},
   "outputs": [
    {
     "name": "stdout",
     "output_type": "stream",
     "text": [
      "\n"
     ]
    }
   ],
   "source": [
    "# The provided code stub reads and integer,n, from STDIN. For all non-negative integers i<n , print i**2.\n",
    "z=\"HELLOWORLDFELLOWORLD\"\n",
    "print(z[5:10:-1])\n"
   ]
  },
  {
   "cell_type": "code",
   "execution_count": 22,
   "id": "7d2f9319",
   "metadata": {},
   "outputs": [
    {
     "name": "stdout",
     "output_type": "stream",
     "text": [
      "\n"
     ]
    }
   ],
   "source": [
    "a='HELLOWORLD'\n",
    "# print(a[5::2])\n",
    "# print(a[5::-2])\n",
    "print(a[3:7:-2])"
   ]
  },
  {
   "cell_type": "code",
   "execution_count": 30,
   "id": "4b3bbd26",
   "metadata": {},
   "outputs": [],
   "source": [
    "# The provided code stub reads and integer,n, from STDIN. For all non-negative integers i<n , print i**2.\n"
   ]
  },
  {
   "cell_type": "code",
   "execution_count": 2,
   "id": "2e9cbcbf",
   "metadata": {},
   "outputs": [
    {
     "name": "stdout",
     "output_type": "stream",
     "text": [
      "['d', 'b']\n",
      "[]\n",
      "['d', 'b']\n",
      "['h', 'g']\n"
     ]
    }
   ],
   "source": [
    "a=['a','b','c','d','e','f','g','h']\n",
    "print(a[3::-2])\n",
    "print(a[3:8:-2])\n",
    "print(a[3:-8:-2])\n",
    "print(a[-1:-3:-1])"
   ]
  },
  {
   "cell_type": "code",
   "execution_count": 10,
   "id": "4e3bb0fc",
   "metadata": {},
   "outputs": [
    {
     "name": "stdout",
     "output_type": "stream",
     "text": [
      "hAcker RAnK\n"
     ]
    }
   ],
   "source": [
    "x=\"HaCKER raNk\"\n",
    "a=x.swapcase()\n",
    "print(a)"
   ]
  },
  {
   "cell_type": "code",
   "execution_count": 11,
   "id": "3869bf63",
   "metadata": {},
   "outputs": [
    {
     "data": {
      "text/plain": [
       "'HAckER Rank'"
      ]
     },
     "execution_count": 11,
     "metadata": {},
     "output_type": "execute_result"
    }
   ],
   "source": [
    "def swap_case(s):\n",
    "    x='haCKer rANK'\n",
    "    a=x.swapcase()\n",
    "    return a\n",
    "swap_case(s)"
   ]
  },
  {
   "cell_type": "code",
   "execution_count": 15,
   "id": "ff614961",
   "metadata": {},
   "outputs": [
    {
     "name": "stdout",
     "output_type": "stream",
     "text": [
      "shaikh minhaj\n",
      "shaikh-minhaj\n"
     ]
    }
   ],
   "source": [
    "# You are given a string. Split the string on a \" \" (space) delimiter and join using a - hyphen.\n",
    "def split_and_join (line):\n",
    "    a=line.split(\" \")\n",
    "    a=\"-\".join(a) \n",
    "    return a\n",
    "line=input()\n",
    "result=split_and_join(line)\n",
    "print(result)\n",
    "    \n"
   ]
  },
  {
   "cell_type": "code",
   "execution_count": 12,
   "id": "9d9bc5b4",
   "metadata": {},
   "outputs": [
    {
     "name": "stdout",
     "output_type": "stream",
     "text": [
      "enter no0\n",
      "12345"
     ]
    }
   ],
   "source": [
    "# The included code stub will read an integer, , from STDIN.\n",
    "# Without using any string methods, try to print the following:\n",
    "n=int(input('enter no'))\n",
    "i=0\n",
    "for i in range(5):\n",
    "    n+=1\n",
    "    print(n,end='')"
   ]
  },
  {
   "cell_type": "code",
   "execution_count": 13,
   "id": "539628c7",
   "metadata": {},
   "outputs": [
    {
     "name": "stdout",
     "output_type": "stream",
     "text": [
      "2\n",
      "12"
     ]
    }
   ],
   "source": [
    "n=int(input())\n",
    "for i in range(1,n+1):\n",
    "    print(i,end=\"\")"
   ]
  },
  {
   "cell_type": "code",
   "execution_count": 21,
   "id": "842b8dc6",
   "metadata": {},
   "outputs": [
    {
     "name": "stdout",
     "output_type": "stream",
     "text": [
      "177\n",
      "10\n",
      "(17, 7)\n"
     ]
    }
   ],
   "source": [
    "a=int(input())\n",
    "b=int(input())\n",
    "def divmod():\n",
    "    c=a//b\n",
    "    d=a%b\n",
    "    e=c,d\n",
    "    print(tuple(e))\n",
    "divmod()"
   ]
  },
  {
   "cell_type": "code",
   "execution_count": 26,
   "id": "857c6bc9",
   "metadata": {},
   "outputs": [
    {
     "name": "stdout",
     "output_type": "stream",
     "text": [
      "117\n",
      "10\n",
      "11\n",
      "7\n",
      "(11, 7)\n",
      "None\n"
     ]
    }
   ],
   "source": [
    "a=int(input())\n",
    "b=int(input())\n",
    "print(a//b)\n",
    "print(a%b)\n",
    "print(divmod())"
   ]
  },
  {
   "cell_type": "code",
   "execution_count": 28,
   "id": "97428701",
   "metadata": {},
   "outputs": [
    {
     "name": "stdout",
     "output_type": "stream",
     "text": [
      "81\n",
      "1\n"
     ]
    }
   ],
   "source": [
    "a=3\n",
    "b=4\n",
    "c=5\n",
    "print(a**b)\n",
    "d=81\n",
    "print(d%c)"
   ]
  },
  {
   "cell_type": "code",
   "execution_count": 32,
   "id": "024791d7",
   "metadata": {},
   "outputs": [
    {
     "name": "stdout",
     "output_type": "stream",
     "text": [
      "3\n",
      "4\n",
      "5\n",
      "81\n",
      "1\n"
     ]
    }
   ],
   "source": [
    "a=int(input())\n",
    "b=int(input())\n",
    "c=int(input())\n",
    "print(a**b)\n",
    "print((a**b)%c)"
   ]
  },
  {
   "cell_type": "code",
   "execution_count": 34,
   "id": "1e8e9da1",
   "metadata": {},
   "outputs": [
    {
     "name": "stdout",
     "output_type": "stream",
     "text": [
      "261\n",
      "189\n"
     ]
    }
   ],
   "source": [
    "a=9\n",
    "b=29\n",
    "c=7\n",
    "d=27\n",
    "print(a*b)\n",
    "print(c*d)"
   ]
  },
  {
   "cell_type": "code",
   "execution_count": 3,
   "id": "0a6fcf3f",
   "metadata": {},
   "outputs": [
    {
     "name": "stdout",
     "output_type": "stream",
     "text": [
      "2\n",
      "3\n",
      "2\n",
      "3\n",
      "16\n"
     ]
    }
   ],
   "source": [
    "a=int(input())\n",
    "b=int(input())\n",
    "c=int(input())\n",
    "d=int(input())\n",
    "print((a**b)+(c**d))"
   ]
  },
  {
   "cell_type": "code",
   "execution_count": 5,
   "id": "c8d79e7b",
   "metadata": {},
   "outputs": [
    {
     "name": "stdout",
     "output_type": "stream",
     "text": [
      "5\n",
      "1 \n",
      "2 2 \n",
      "3 3 3 \n",
      "4 4 4 4 \n",
      "5 5 5 5 5 \n"
     ]
    }
   ],
   "source": [
    "n=int(input())\n",
    "p=1\n",
    "for i in range(n):\n",
    "    for j in range(i+1):\n",
    "        print(p,end=\" \")\n",
    "    p+=1\n",
    "    print()\n",
    "        "
   ]
  },
  {
   "cell_type": "code",
   "execution_count": 7,
   "id": "68531063",
   "metadata": {},
   "outputs": [
    {
     "name": "stdout",
     "output_type": "stream",
     "text": [
      "5\n",
      "1\n",
      "22\n",
      "333\n",
      "4444\n"
     ]
    }
   ],
   "source": [
    "# You are given a positive integer N. Print a numerical triangle of height N-1 like the one below:\n",
    "for i in range(1,int(input())):\n",
    "    print(int(i*10**i/9))"
   ]
  },
  {
   "cell_type": "code",
   "execution_count": 11,
   "id": "21d824e6",
   "metadata": {},
   "outputs": [
    {
     "name": "stdout",
     "output_type": "stream",
     "text": [
      "22.22222222222222\n"
     ]
    }
   ],
   "source": [
    "A=2\n",
    "print(A*10**A/9)"
   ]
  },
  {
   "cell_type": "code",
   "execution_count": 2,
   "id": "c0a8bbed",
   "metadata": {},
   "outputs": [
    {
     "name": "stdout",
     "output_type": "stream",
     "text": [
      "Alison Heck\n"
     ]
    }
   ],
   "source": [
    "a=\"alison heck\"\n",
    "x=a.title()\n",
    "print(x)"
   ]
  },
  {
   "cell_type": "code",
   "execution_count": 3,
   "id": "af5fade1",
   "metadata": {},
   "outputs": [
    {
     "name": "stdout",
     "output_type": "stream",
     "text": [
      "alison vevl\n"
     ]
    },
    {
     "data": {
      "text/plain": [
       "'Alison Vevl'"
      ]
     },
     "execution_count": 3,
     "metadata": {},
     "output_type": "execute_result"
    }
   ],
   "source": [
    "s=str(input())\n",
    "def solve(s):\n",
    "    x=s.title()\n",
    "    return x\n",
    "solve(s)"
   ]
  },
  {
   "cell_type": "code",
   "execution_count": 7,
   "id": "1722b090",
   "metadata": {},
   "outputs": [
    {
     "data": {
      "text/plain": [
       "'Heck alson'"
      ]
     },
     "execution_count": 7,
     "metadata": {},
     "output_type": "execute_result"
    }
   ],
   "source": [
    "\n",
    "# s=str(input())\n",
    "def solving(s):\n",
    "    for i in s.split():\n",
    "        s=s.replace(i,i.capitalize())\n",
    "        return s\n",
    "solving(s)"
   ]
  },
  {
   "cell_type": "code",
   "execution_count": 9,
   "id": "560d882a",
   "metadata": {},
   "outputs": [
    {
     "name": "stdout",
     "output_type": "stream",
     "text": [
      "hELLO world 32iN\n"
     ]
    }
   ],
   "source": [
    "b=\"Hello WORLD 32In\"\n",
    "y=b.swapcase()\n",
    "print(y)"
   ]
  },
  {
   "cell_type": "code",
   "execution_count": 1,
   "id": "74b7d1b6",
   "metadata": {},
   "outputs": [],
   "source": [
    "# s=input()\n",
    "def swap_case(s):\n",
    "    x=\"\"\n",
    "    for c in s:\n",
    "        if c.isupper():\n",
    "            c=c.lower()\n",
    "        else:\n",
    "            c=c.upper()\n",
    "            x+=\"\".join(c)\n",
    "        return x"
   ]
  },
  {
   "cell_type": "code",
   "execution_count": 3,
   "id": "9a0cb6c6",
   "metadata": {},
   "outputs": [
    {
     "name": "stdout",
     "output_type": "stream",
     "text": [
      "{1: 'm', 2: 'i', 3: 'n', 4: 'h', 5: 'a', 6: 'j'}\n"
     ]
    }
   ],
   "source": [
    "#ZIPPED\n",
    "L1=[1,2,3,4,5,6]\n",
    "L2=\"minhaj\"\n",
    "zipped=zip(L1,L2)\n",
    "print(dict(zipped))"
   ]
  },
  {
   "cell_type": "code",
   "execution_count": 4,
   "id": "11686700",
   "metadata": {},
   "outputs": [
    {
     "name": "stdout",
     "output_type": "stream",
     "text": [
      "<zip object at 0x000002CD25B18C80>\n"
     ]
    }
   ],
   "source": [
    "A = [1,2,3]\n",
    "B = [6,5,4]\n",
    "C = [7,8,9]\n",
    "X = [A] + [B] + [C]\n",
    "print(zip(*X))\n"
   ]
  },
  {
   "cell_type": "code",
   "execution_count": 7,
   "id": "59f25a73",
   "metadata": {},
   "outputs": [
    {
     "name": "stdout",
     "output_type": "stream",
     "text": [
      "{1, 2, 3, 5, 6}\n",
      "{1, 2, 3, 5, 6}\n",
      "1\n"
     ]
    }
   ],
   "source": [
    "s={1,2,3,4,5,6}\n",
    "s.remove(4)\n",
    "print(s)\n",
    "s.discard(15)\n",
    "print(s)\n",
    "\n",
    "print(s.pop())"
   ]
  },
  {
   "cell_type": "code",
   "execution_count": null,
   "id": "fb7a17d7",
   "metadata": {},
   "outputs": [
    {
     "name": "stdout",
     "output_type": "stream",
     "text": [
      "2\n",
      "uk\n"
     ]
    }
   ],
   "source": [
    "N=int(input())\n",
    "countries=set()\n",
    "for i in range(N):\n",
    "    countries.add(input())\n",
    "print(len(countries))"
   ]
  },
  {
   "cell_type": "code",
   "execution_count": null,
   "id": "309883f4",
   "metadata": {},
   "outputs": [],
   "source": []
  },
  {
   "cell_type": "code",
   "execution_count": null,
   "id": "9a5959c6",
   "metadata": {},
   "outputs": [],
   "source": []
  },
  {
   "cell_type": "code",
   "execution_count": null,
   "id": "24e1a4f0",
   "metadata": {},
   "outputs": [],
   "source": []
  },
  {
   "cell_type": "code",
   "execution_count": null,
   "id": "43e32235",
   "metadata": {},
   "outputs": [],
   "source": []
  },
  {
   "cell_type": "code",
   "execution_count": null,
   "id": "e2a39fb7",
   "metadata": {},
   "outputs": [],
   "source": []
  },
  {
   "cell_type": "code",
   "execution_count": null,
   "id": "2f84fb20",
   "metadata": {},
   "outputs": [],
   "source": []
  },
  {
   "cell_type": "code",
   "execution_count": null,
   "id": "d5874103",
   "metadata": {},
   "outputs": [],
   "source": []
  },
  {
   "cell_type": "code",
   "execution_count": null,
   "id": "01089de9",
   "metadata": {},
   "outputs": [],
   "source": []
  },
  {
   "cell_type": "code",
   "execution_count": null,
   "id": "6242e459",
   "metadata": {},
   "outputs": [],
   "source": []
  },
  {
   "cell_type": "code",
   "execution_count": null,
   "id": "95b8d0ef",
   "metadata": {},
   "outputs": [],
   "source": []
  },
  {
   "cell_type": "code",
   "execution_count": null,
   "id": "54361689",
   "metadata": {},
   "outputs": [],
   "source": []
  },
  {
   "cell_type": "code",
   "execution_count": null,
   "id": "0b47b5f9",
   "metadata": {},
   "outputs": [],
   "source": []
  },
  {
   "cell_type": "code",
   "execution_count": null,
   "id": "b5fcdf34",
   "metadata": {},
   "outputs": [],
   "source": []
  },
  {
   "cell_type": "code",
   "execution_count": null,
   "id": "732266b9",
   "metadata": {},
   "outputs": [],
   "source": []
  },
  {
   "cell_type": "code",
   "execution_count": null,
   "id": "cc930b3e",
   "metadata": {},
   "outputs": [],
   "source": []
  },
  {
   "cell_type": "code",
   "execution_count": null,
   "id": "f5cb346f",
   "metadata": {},
   "outputs": [],
   "source": []
  },
  {
   "cell_type": "code",
   "execution_count": null,
   "id": "277a7a33",
   "metadata": {},
   "outputs": [],
   "source": []
  },
  {
   "cell_type": "code",
   "execution_count": null,
   "id": "b2465f47",
   "metadata": {},
   "outputs": [],
   "source": []
  },
  {
   "cell_type": "code",
   "execution_count": null,
   "id": "69aecaa4",
   "metadata": {},
   "outputs": [],
   "source": []
  },
  {
   "cell_type": "code",
   "execution_count": null,
   "id": "ed3e95b0",
   "metadata": {},
   "outputs": [],
   "source": []
  },
  {
   "cell_type": "code",
   "execution_count": null,
   "id": "4eb5f870",
   "metadata": {},
   "outputs": [],
   "source": []
  },
  {
   "cell_type": "code",
   "execution_count": null,
   "id": "bda7353c",
   "metadata": {},
   "outputs": [],
   "source": []
  },
  {
   "cell_type": "code",
   "execution_count": null,
   "id": "816f496a",
   "metadata": {},
   "outputs": [],
   "source": []
  },
  {
   "cell_type": "code",
   "execution_count": null,
   "id": "927dc7be",
   "metadata": {},
   "outputs": [],
   "source": []
  },
  {
   "cell_type": "code",
   "execution_count": null,
   "id": "5311ded3",
   "metadata": {},
   "outputs": [],
   "source": []
  },
  {
   "cell_type": "code",
   "execution_count": null,
   "id": "6b93c5f2",
   "metadata": {},
   "outputs": [],
   "source": []
  },
  {
   "cell_type": "code",
   "execution_count": null,
   "id": "91a8df4b",
   "metadata": {},
   "outputs": [],
   "source": []
  }
 ],
 "metadata": {
  "kernelspec": {
   "display_name": "Python 3 (ipykernel)",
   "language": "python",
   "name": "python3"
  },
  "language_info": {
   "codemirror_mode": {
    "name": "ipython",
    "version": 3
   },
   "file_extension": ".py",
   "mimetype": "text/x-python",
   "name": "python",
   "nbconvert_exporter": "python",
   "pygments_lexer": "ipython3",
   "version": "3.10.4"
  }
 },
 "nbformat": 4,
 "nbformat_minor": 5
}
