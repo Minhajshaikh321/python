{
 "cells": [
  {
   "cell_type": "code",
   "execution_count": 4,
   "id": "a57d8687",
   "metadata": {},
   "outputs": [
    {
     "name": "stdout",
     "output_type": "stream",
     "text": [
      "15\n"
     ]
    },
    {
     "ename": "TypeError",
     "evalue": "Abc.add() missing 1 required positional argument: 'c'",
     "output_type": "error",
     "traceback": [
      "\u001b[1;31m---------------------------------------------------------------------------\u001b[0m",
      "\u001b[1;31mTypeError\u001b[0m                                 Traceback (most recent call last)",
      "Input \u001b[1;32mIn [4]\u001b[0m, in \u001b[0;36m<cell line: 8>\u001b[1;34m()\u001b[0m\n\u001b[0;32m      6\u001b[0m c\u001b[38;5;241m=\u001b[39mAbc()\n\u001b[0;32m      7\u001b[0m \u001b[38;5;28mprint\u001b[39m(c\u001b[38;5;241m.\u001b[39madd(\u001b[38;5;241m2\u001b[39m,\u001b[38;5;241m5\u001b[39m,\u001b[38;5;241m8\u001b[39m))\n\u001b[1;32m----> 8\u001b[0m \u001b[38;5;28mprint\u001b[39m(\u001b[43mc\u001b[49m\u001b[38;5;241;43m.\u001b[39;49m\u001b[43madd\u001b[49m\u001b[43m(\u001b[49m\u001b[38;5;241;43m2\u001b[39;49m\u001b[43m,\u001b[49m\u001b[38;5;241;43m3\u001b[39;49m\u001b[43m)\u001b[49m)\n",
      "\u001b[1;31mTypeError\u001b[0m: Abc.add() missing 1 required positional argument: 'c'"
     ]
    }
   ],
   "source": [
    "class Abc:\n",
    "    def add(self,a,b):\n",
    "        return(a+b)\n",
    "    def add(self,a,b,c):\n",
    "        return(a+b+c)\n",
    "c=Abc()\n",
    "print(c.add(2,5,8))\n",
    "print(c.add(2,3))"
   ]
  },
  {
   "cell_type": "code",
   "execution_count": 7,
   "id": "013f9c51",
   "metadata": {},
   "outputs": [
    {
     "name": "stdout",
     "output_type": "stream",
     "text": [
      "6\n",
      "3\n"
     ]
    }
   ],
   "source": [
    "str=\"python\"\n",
    "print(len(str))\n",
    "lst=['hill',256,'pyton']\n",
    "print(len(lst))"
   ]
  },
  {
   "cell_type": "code",
   "execution_count": 14,
   "id": "68e32dde",
   "metadata": {},
   "outputs": [
    {
     "name": "stdout",
     "output_type": "stream",
     "text": [
      "15\n",
      "5\n"
     ]
    }
   ],
   "source": [
    "class Abc:\n",
    "    def add(self,a,b):\n",
    "        return(a+b)\n",
    "    def add(self,a,b,c=0):\n",
    "        return(a+b+c)\n",
    "c=Abc()\n",
    "print(c.add(2,5,8))\n",
    "print(c.add(2,3))"
   ]
  },
  {
   "cell_type": "code",
   "execution_count": 4,
   "id": "a17c5e08",
   "metadata": {},
   "outputs": [
    {
     "name": "stdout",
     "output_type": "stream",
     "text": [
      "minhaj 33 40\n"
     ]
    },
    {
     "data": {
      "text/plain": [
       "45"
      ]
     },
     "execution_count": 4,
     "metadata": {},
     "output_type": "execute_result"
    }
   ],
   "source": [
    "class Student:\n",
    "    def __init__(self,name,roll,age):\n",
    "        self.name=name\n",
    "        self.__roll=roll\n",
    "        self.__age=age\n",
    "    def show(self):\n",
    "        print(self.name,self.__roll,self.__age)\n",
    "    def get_roll(self):\n",
    "        return self.__roll\n",
    "    def get_age(self):\n",
    "        return self.__age\n",
    "    def set_age(self,age):\n",
    "         self.__age=age\n",
    "S=Student('minhaj',33,40)\n",
    "S.show()\n",
    "S.name\n",
    "S._Student__roll #name mangling\n",
    "# S.get_roll()\n",
    "S.set_age(45)\n",
    "S.get_age()"
   ]
  },
  {
   "cell_type": "code",
   "execution_count": 5,
   "id": "4f3cff74",
   "metadata": {},
   "outputs": [
    {
     "name": "stdout",
     "output_type": "stream",
     "text": [
      "{'1': 2, '3': 4}\n"
     ]
    }
   ],
   "source": [
    "x={'1':2,'3':4}\n",
    "x.get('1')\n",
    "print(x)"
   ]
  },
  {
   "cell_type": "code",
   "execution_count": 8,
   "id": "2dc37db1",
   "metadata": {},
   "outputs": [
    {
     "name": "stdout",
     "output_type": "stream",
     "text": [
      "{3: 4, 5: 2}\n"
     ]
    }
   ],
   "source": [
    "a={1:2,3:4}\n",
    "a[5]=a.pop(1)\n",
    "# a[5]=1\n",
    "print(a)"
   ]
  },
  {
   "cell_type": "code",
   "execution_count": 1,
   "id": "d1d9b889",
   "metadata": {},
   "outputs": [
    {
     "name": "stdout",
     "output_type": "stream",
     "text": [
      "2 7\n",
      "7 2\n"
     ]
    }
   ],
   "source": [
    "numbers = [2, 7, 11, 15]\n",
    "target =9\n",
    "for x in numbers:\n",
    "    for y in numbers:\n",
    "        if x+y==target:\n",
    "            print(x,y)\n"
   ]
  },
  {
   "cell_type": "code",
   "execution_count": 23,
   "id": "09a4f5a9",
   "metadata": {},
   "outputs": [
    {
     "name": "stdout",
     "output_type": "stream",
     "text": [
      "[0, 2]\n"
     ]
    }
   ],
   "source": [
    "num=[2,7,11]\n",
    "target=13\n",
    "for i in range(len(num)):\n",
    "    for j in range(len(num)):\n",
    "        if num[j] + num[i]==target:\n",
    "            a=(j,i)\n",
    "print(list(a))"
   ]
  },
  {
   "cell_type": "code",
   "execution_count": 25,
   "id": "b7cb4aeb",
   "metadata": {},
   "outputs": [
    {
     "name": "stdout",
     "output_type": "stream",
     "text": [
      "speed is 249\n",
      "diesel\n",
      "speed is 400\n",
      "petrol\n"
     ]
    }
   ],
   "source": [
    "class Ferrari:\n",
    "    def type(self):\n",
    "        print('diesel')\n",
    "    def fuel(self):\n",
    "        print('speed is 249')\n",
    "class Bmw:\n",
    "    def type(self):\n",
    "        print('petrol')\n",
    "    def fuel(self):\n",
    "        print('speed is 400')\n",
    "def car(obj):\n",
    "    obj.fuel()\n",
    "    obj.type()\n",
    "a=Ferrari()\n",
    "b=Bmw()\n",
    "car(a)\n",
    "car(b)"
   ]
  },
  {
   "cell_type": "code",
   "execution_count": 6,
   "id": "06ffe326",
   "metadata": {},
   "outputs": [
    {
     "name": "stdout",
     "output_type": "stream",
     "text": [
      "2898699616528\n",
      "2898699616528\n",
      "True\n",
      "True\n"
     ]
    }
   ],
   "source": [
    "a=2\n",
    "b=2\n",
    "# a=[2,3,4]\n",
    "# b=[2,3,4]\n",
    "print(id(a))\n",
    "print(id(b))\n",
    "print(a==b)  #check content here\n",
    "print(a is b) #check memory location"
   ]
  },
  {
   "cell_type": "code",
   "execution_count": 1,
   "id": "50bb3e8a",
   "metadata": {},
   "outputs": [
    {
     "name": "stdout",
     "output_type": "stream",
     "text": [
      "2\n",
      "minhaj\n",
      "22\n",
      "bhai\n",
      "(2, 'minhaj', 22, 'bhai')\n",
      "<class 'tuple'>\n"
     ]
    }
   ],
   "source": [
    "tp=(2,'minhaj',22,'bhai')\n",
    "w,x,y,z=tp\n",
    "print(w)\n",
    "print(x)\n",
    "print(y)\n",
    "print(z)\n",
    "print(tp)\n",
    "print(type(tp))"
   ]
  },
  {
   "cell_type": "code",
   "execution_count": 2,
   "id": "3b70a450",
   "metadata": {},
   "outputs": [
    {
     "name": "stdout",
     "output_type": "stream",
     "text": [
      "(2, 'abcd', 33)\n",
      "<class 'tuple'>\n"
     ]
    }
   ],
   "source": [
    "a=2\n",
    "b='abcd'\n",
    "c=33\n",
    "tp=a,b,c\n",
    "print(tp)\n",
    "print(type(tp))"
   ]
  },
  {
   "cell_type": "code",
   "execution_count": 17,
   "id": "af9ccbb7",
   "metadata": {},
   "outputs": [
    {
     "name": "stdout",
     "output_type": "stream",
     "text": [
      "Worked for 50 days\n",
      "salary is:  40000\n"
     ]
    }
   ],
   "source": [
    "class Employee:\n",
    "    def __init__(self, name, salary):\n",
    "        self.name = name\n",
    "        self.salary = salary\n",
    "#     def __mul__(obj1, obj2):\n",
    "#         print('Worked for', obj2.days, 'days')\n",
    "#         return  obj2.days*obj1.salary\n",
    "class TimeSheet:\n",
    "    def __init__(self, name, days):\n",
    "        self.name = name\n",
    "        self.days = days\n",
    "    def __mul__(timesheet, emp):\n",
    "        print('Worked for', obj1.days, 'days')\n",
    "        return  timesheet.days*emp.salary\n",
    "timesheet = TimeSheet(\"Jessa\", 50)\n",
    "emp = Employee(\"Jessa\", 800)\n",
    "# timesheet = TimeSheet(\"Jessa\", 50)\n",
    "print(\"salary is: \",  timesheet*emp)"
   ]
  },
  {
   "cell_type": "code",
   "execution_count": 9,
   "id": "9176d625",
   "metadata": {},
   "outputs": [
    {
     "ename": "TypeError",
     "evalue": "Employee.__mul__() missing 1 required positional argument: 'numb'",
     "output_type": "error",
     "traceback": [
      "\u001b[1;31m---------------------------------------------------------------------------\u001b[0m",
      "\u001b[1;31mTypeError\u001b[0m                                 Traceback (most recent call last)",
      "Input \u001b[1;32mIn [9]\u001b[0m, in \u001b[0;36m<cell line: 19>\u001b[1;34m()\u001b[0m\n\u001b[0;32m     17\u001b[0m timesheet \u001b[38;5;241m=\u001b[39m TimeSheet(\u001b[38;5;124m\"\u001b[39m\u001b[38;5;124mminhaj\u001b[39m\u001b[38;5;124m\"\u001b[39m, \u001b[38;5;241m50\u001b[39m)\n\u001b[0;32m     18\u001b[0m num\u001b[38;5;241m=\u001b[39mNumber(\u001b[38;5;241m20\u001b[39m)\n\u001b[1;32m---> 19\u001b[0m \u001b[38;5;28mprint\u001b[39m(\u001b[38;5;124m\"\u001b[39m\u001b[38;5;124msalary is: \u001b[39m\u001b[38;5;124m\"\u001b[39m, \u001b[43memp\u001b[49m\u001b[43m \u001b[49m\u001b[38;5;241;43m*\u001b[39;49m\u001b[43m \u001b[49m\u001b[43mtimesheet\u001b[49m\u001b[38;5;241m*\u001b[39mnum)\n",
      "\u001b[1;31mTypeError\u001b[0m: Employee.__mul__() missing 1 required positional argument: 'numb'"
     ]
    }
   ],
   "source": [
    "class Employee:\n",
    "    def __init__(self,name, salary):\n",
    "        self.myname = name\n",
    "        self.salary = salary\n",
    "    def __mul__(self, timesheet,numb):\n",
    "        print('Worked for', timesheet.days, 'days')\n",
    "        # calculate salary\n",
    "        return self.salary * timesheet.days * num.number\n",
    "class TimeSheet:\n",
    "    def __init__(self, name, days):\n",
    "        self.name = name\n",
    "        self.days = days\n",
    "class Number:\n",
    "    def __init__(self,number):\n",
    "        self.number=number\n",
    "emp = Employee(\"Jessa\", 800)\n",
    "timesheet = TimeSheet(\"minhaj\", 50)\n",
    "num=Number(20)\n",
    "print(\"salary is: \", emp * timesheet*num)"
   ]
  },
  {
   "cell_type": "code",
   "execution_count": 10,
   "id": "6c178fbf",
   "metadata": {},
   "outputs": [
    {
     "name": "stdout",
     "output_type": "stream",
     "text": [
      "24\n"
     ]
    }
   ],
   "source": [
    "a=2\n",
    "b=3\n",
    "c=4\n",
    "print(a*b*c)"
   ]
  },
  {
   "cell_type": "code",
   "execution_count": 28,
   "id": "f404ad16",
   "metadata": {},
   "outputs": [
    {
     "name": "stdout",
     "output_type": "stream",
     "text": [
      "Worked for 200 days\n",
      "salary is:  8000000\n"
     ]
    }
   ],
   "source": [
    "class Employee:\n",
    "    def __init__(self, name, salary):\n",
    "        self.name = name\n",
    "        self.salary = salary\n",
    "    def __mul__(self, timesheet):\n",
    "        print('Worked for', timesheet.days, 'days')\n",
    "        # calculate salary\n",
    "        return self.salary * timesheet.days * third.price\n",
    "class TimeSheet:\n",
    "    def __init__(self, name, days):\n",
    "        self.name = name\n",
    "        self.days = days\n",
    "class third:\n",
    "    def __init__(self,name,price):\n",
    "        self.name=name\n",
    "        self.price=price\n",
    "emp = Employee(\"Jessa\", 200)\n",
    "timesheet = TimeSheet(\"Jessa\", 200)\n",
    "third=third('minhaj',200)\n",
    "print(\"salary is: \", emp * timesheet)"
   ]
  },
  {
   "cell_type": "code",
   "execution_count": 35,
   "id": "ef3e218f",
   "metadata": {},
   "outputs": [
    {
     "name": "stdout",
     "output_type": "stream",
     "text": [
      "Worked for 200 days\n",
      "salary is:  8000000\n"
     ]
    }
   ],
   "source": [
    "class Employee:\n",
    "    def __init__(self, name, salary):\n",
    "        self.name = name\n",
    "        self.salary = salary\n",
    "    def __mul__(self, third):\n",
    "        print('Worked for', timesheet.days, 'days')\n",
    "        # calculate salary\n",
    "        return self.salary * timesheet.days * third.price\n",
    "class TimeSheet:\n",
    "    def __init__(self, name, days):\n",
    "        self.name = name\n",
    "        self.days = days\n",
    "class third:\n",
    "    def __init__(self,name,price):\n",
    "        self.name=name\n",
    "        self.price=price\n",
    "emp = Employee(\"Jessa\", 200)\n",
    "timesheet = TimeSheet(\"Jessa\", 200)\n",
    "third=third('minhaj',200)\n",
    "print(\"salary is: \", emp * third)"
   ]
  },
  {
   "cell_type": "code",
   "execution_count": 3,
   "id": "cea6177b",
   "metadata": {},
   "outputs": [
    {
     "ename": "NameError",
     "evalue": "name 'zikra' is not defined",
     "output_type": "error",
     "traceback": [
      "\u001b[1;31m---------------------------------------------------------------------------\u001b[0m",
      "\u001b[1;31mNameError\u001b[0m                                 Traceback (most recent call last)",
      "Input \u001b[1;32mIn [3]\u001b[0m, in \u001b[0;36m<cell line: 25>\u001b[1;34m()\u001b[0m\n\u001b[0;32m     23\u001b[0m         \u001b[38;5;28;01mreturn\u001b[39;00m \u001b[38;5;124m\"\u001b[39m\u001b[38;5;124mschool name:\u001b[39m\u001b[38;5;124m\"\u001b[39m,\u001b[38;5;28mself\u001b[39m\u001b[38;5;241m.\u001b[39mschool, \u001b[38;5;124m\"\u001b[39m\u001b[38;5;124mrollno.:\u001b[39m\u001b[38;5;124m\"\u001b[39m,\u001b[38;5;28mself\u001b[39m\u001b[38;5;241m.\u001b[39mrollno, \u001b[38;5;124m\"\u001b[39m\u001b[38;5;124msubject:\u001b[39m\u001b[38;5;124m\"\u001b[39m, \u001b[38;5;28mself\u001b[39m\u001b[38;5;241m.\u001b[39msubject,zikra \n\u001b[0;32m     24\u001b[0m s1\u001b[38;5;241m=\u001b[39mhome(\u001b[38;5;124m'\u001b[39m\u001b[38;5;124miram\u001b[39m\u001b[38;5;124m'\u001b[39m,\u001b[38;5;241m55\u001b[39m,\u001b[38;5;241m33\u001b[39m,\u001b[38;5;124m\"\u001b[39m\u001b[38;5;124mMaths\u001b[39m\u001b[38;5;124m\"\u001b[39m)\n\u001b[1;32m---> 25\u001b[0m \u001b[43ms1\u001b[49m\u001b[38;5;241;43m.\u001b[39;49m\u001b[43mshow\u001b[49m\u001b[43m(\u001b[49m\u001b[43m)\u001b[49m\n",
      "Input \u001b[1;32mIn [3]\u001b[0m, in \u001b[0;36mhome.show\u001b[1;34m(self)\u001b[0m\n\u001b[0;32m     21\u001b[0m x \u001b[38;5;241m=\u001b[39m \u001b[38;5;28msuper\u001b[39m()\u001b[38;5;241m.\u001b[39mshow()\n\u001b[0;32m     22\u001b[0m \u001b[38;5;28mself\u001b[39m\u001b[38;5;241m.\u001b[39mschool\u001b[38;5;241m=\u001b[39m\u001b[38;5;124m\"\u001b[39m\u001b[38;5;124mabp school\u001b[39m\u001b[38;5;124m\"\u001b[39m\n\u001b[1;32m---> 23\u001b[0m \u001b[38;5;28;01mreturn\u001b[39;00m \u001b[38;5;124m\"\u001b[39m\u001b[38;5;124mschool name:\u001b[39m\u001b[38;5;124m\"\u001b[39m,\u001b[38;5;28mself\u001b[39m\u001b[38;5;241m.\u001b[39mschool, \u001b[38;5;124m\"\u001b[39m\u001b[38;5;124mrollno.:\u001b[39m\u001b[38;5;124m\"\u001b[39m,\u001b[38;5;28mself\u001b[39m\u001b[38;5;241m.\u001b[39mrollno, \u001b[38;5;124m\"\u001b[39m\u001b[38;5;124msubject:\u001b[39m\u001b[38;5;124m\"\u001b[39m, \u001b[38;5;28mself\u001b[39m\u001b[38;5;241m.\u001b[39msubject,\u001b[43mzikra\u001b[49m\n",
      "\u001b[1;31mNameError\u001b[0m: name 'zikra' is not defined"
     ]
    }
   ],
   "source": [
    "class student:    \n",
    "    def __init__(self,name,rollno):\n",
    "        self.name=name\n",
    "        self.rollno=rollno\n",
    "    def show(self):\n",
    "        return \"Name of the student:\",self.name,\"Roll no of the student:\",self.rollno\n",
    "class school(student):\n",
    "    def __init__(self, name, rollno,age):\n",
    "        super().__init__(name, rollno)       \n",
    "        self.age = age\n",
    "        x = super().show()\n",
    "    def show(self):\n",
    "        self.school=\"abp school\"\n",
    "        \"school name:\",self.school, \"rollno.:\",self.rollno, \"age:\", self.age  \n",
    "class home(school):\n",
    "    def __init__(self, name, rollno,age, subject):\n",
    "        super().__init__(name, rollno, age)\n",
    "        self.subject = subject     \n",
    "    def show(self):\n",
    "        x = super().show()\n",
    "        self.school=\"abp school\"\n",
    "        return \"school name:\",self.school, \"rollno.:\",self.rollno, \"subject:\", self.subject,zikra \n",
    "s1=home('iram',55,33,\"Maths\")\n",
    "s1.show()"
   ]
  },
  {
   "cell_type": "code",
   "execution_count": null,
   "id": "55ccb623",
   "metadata": {},
   "outputs": [],
   "source": [
    "class A:\n",
    "    def __init__(self,name,age):\n",
    "        self.name=name\n",
    "        self.age=age\n",
    "    def show(self):\n",
    "        print('hello')\n",
    "class B(A):\n",
    "    def __init__()"
   ]
  },
  {
   "cell_type": "code",
   "execution_count": 8,
   "id": "e8e20657",
   "metadata": {},
   "outputs": [
    {
     "name": "stdout",
     "output_type": "stream",
     "text": [
      "456\n"
     ]
    }
   ],
   "source": [
    "class A:\n",
    "    def __init__(self):\n",
    "        print(123)\n",
    "    def __new__(self):\n",
    "        print(456)\n",
    "S1=A()"
   ]
  },
  {
   "cell_type": "code",
   "execution_count": 7,
   "id": "c11c2758",
   "metadata": {},
   "outputs": [
    {
     "name": "stdout",
     "output_type": "stream",
     "text": [
      "123\n"
     ]
    }
   ],
   "source": [
    "class A:\n",
    "    def __new__(self):\n",
    "        print(123)\n",
    "    def __init__(self):\n",
    "         print(456)\n",
    "s1=A()"
   ]
  },
  {
   "cell_type": "code",
   "execution_count": null,
   "id": "41845842",
   "metadata": {},
   "outputs": [],
   "source": []
  },
  {
   "cell_type": "code",
   "execution_count": null,
   "id": "a784dbeb",
   "metadata": {},
   "outputs": [],
   "source": []
  }
 ],
 "metadata": {
  "kernelspec": {
   "display_name": "Python 3 (ipykernel)",
   "language": "python",
   "name": "python3"
  },
  "language_info": {
   "codemirror_mode": {
    "name": "ipython",
    "version": 3
   },
   "file_extension": ".py",
   "mimetype": "text/x-python",
   "name": "python",
   "nbconvert_exporter": "python",
   "pygments_lexer": "ipython3",
   "version": "3.10.4"
  }
 },
 "nbformat": 4,
 "nbformat_minor": 5
}
