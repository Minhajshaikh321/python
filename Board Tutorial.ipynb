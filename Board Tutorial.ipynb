{
 "cells": [
  {
   "cell_type": "code",
   "execution_count": 4,
   "id": "a57d8687",
   "metadata": {},
   "outputs": [
    {
     "name": "stdout",
     "output_type": "stream",
     "text": [
      "15\n"
     ]
    },
    {
     "ename": "TypeError",
     "evalue": "Abc.add() missing 1 required positional argument: 'c'",
     "output_type": "error",
     "traceback": [
      "\u001b[1;31m---------------------------------------------------------------------------\u001b[0m",
      "\u001b[1;31mTypeError\u001b[0m                                 Traceback (most recent call last)",
      "Input \u001b[1;32mIn [4]\u001b[0m, in \u001b[0;36m<cell line: 8>\u001b[1;34m()\u001b[0m\n\u001b[0;32m      6\u001b[0m c\u001b[38;5;241m=\u001b[39mAbc()\n\u001b[0;32m      7\u001b[0m \u001b[38;5;28mprint\u001b[39m(c\u001b[38;5;241m.\u001b[39madd(\u001b[38;5;241m2\u001b[39m,\u001b[38;5;241m5\u001b[39m,\u001b[38;5;241m8\u001b[39m))\n\u001b[1;32m----> 8\u001b[0m \u001b[38;5;28mprint\u001b[39m(\u001b[43mc\u001b[49m\u001b[38;5;241;43m.\u001b[39;49m\u001b[43madd\u001b[49m\u001b[43m(\u001b[49m\u001b[38;5;241;43m2\u001b[39;49m\u001b[43m,\u001b[49m\u001b[38;5;241;43m3\u001b[39;49m\u001b[43m)\u001b[49m)\n",
      "\u001b[1;31mTypeError\u001b[0m: Abc.add() missing 1 required positional argument: 'c'"
     ]
    }
   ],
   "source": [
    "class Abc:\n",
    "    def add(self,a,b):\n",
    "        return(a+b)\n",
    "    def add(self,a,b,c):\n",
    "        return(a+b+c)\n",
    "c=Abc()\n",
    "print(c.add(2,5,8))\n",
    "print(c.add(2,3))"
   ]
  },
  {
   "cell_type": "code",
   "execution_count": 7,
   "id": "013f9c51",
   "metadata": {},
   "outputs": [
    {
     "name": "stdout",
     "output_type": "stream",
     "text": [
      "6\n",
      "3\n"
     ]
    }
   ],
   "source": [
    "str=\"python\"\n",
    "print(len(str))\n",
    "lst=['hill',256,'pyton']\n",
    "print(len(lst))"
   ]
  },
  {
   "cell_type": "code",
   "execution_count": 2,
   "id": "68e32dde",
   "metadata": {},
   "outputs": [
    {
     "name": "stdout",
     "output_type": "stream",
     "text": [
      "7\n",
      "13\n"
     ]
    }
   ],
   "source": [
    "class Abc:\n",
    "    def add(self,a,b):\n",
    "        return(a+b)\n",
    "    def add(self,a,b,c=0):\n",
    "        return(a+b+c)\n",
    "c=Abc()\n",
    "print(c.add(2,5))\n",
    "print(c.add(2,3,8))"
   ]
  },
  {
   "cell_type": "code",
   "execution_count": 4,
   "id": "a17c5e08",
   "metadata": {},
   "outputs": [
    {
     "name": "stdout",
     "output_type": "stream",
     "text": [
      "minhaj 33 40\n"
     ]
    },
    {
     "data": {
      "text/plain": [
       "45"
      ]
     },
     "execution_count": 4,
     "metadata": {},
     "output_type": "execute_result"
    }
   ],
   "source": [
    "class Student:\n",
    "    def __init__(self,name,roll,age):\n",
    "        self.name=name\n",
    "        self.__roll=roll\n",
    "        self.__age=age\n",
    "    def show(self):\n",
    "        print(self.name,self.__roll,self.__age)\n",
    "    def get_roll(self):\n",
    "        return self.__roll\n",
    "    def get_age(self):\n",
    "        return self.__age\n",
    "    def set_age(self,age):\n",
    "         self.__age=age\n",
    "S=Student('minhaj',33,40)\n",
    "S.show()\n",
    "S.name\n",
    "S._Student__roll #name mangling\n",
    "# S.get_roll()\n",
    "S.set_age(45)\n",
    "S.get_age()"
   ]
  },
  {
   "cell_type": "code",
   "execution_count": 5,
   "id": "4f3cff74",
   "metadata": {},
   "outputs": [
    {
     "name": "stdout",
     "output_type": "stream",
     "text": [
      "{'1': 2, '3': 4}\n"
     ]
    }
   ],
   "source": [
    "x={'1':2,'3':4}\n",
    "x.get('1')\n",
    "print(x)"
   ]
  },
  {
   "cell_type": "code",
   "execution_count": 8,
   "id": "2dc37db1",
   "metadata": {},
   "outputs": [
    {
     "name": "stdout",
     "output_type": "stream",
     "text": [
      "{3: 4, 5: 2}\n"
     ]
    }
   ],
   "source": [
    "a={1:2,3:4}\n",
    "a[5]=a.pop(1)\n",
    "# a[5]=1\n",
    "print(a)"
   ]
  },
  {
   "cell_type": "code",
   "execution_count": 1,
   "id": "d1d9b889",
   "metadata": {},
   "outputs": [
    {
     "name": "stdout",
     "output_type": "stream",
     "text": [
      "2 7\n",
      "7 2\n"
     ]
    }
   ],
   "source": [
    "numbers = [2, 7, 11, 15]\n",
    "target =9\n",
    "for x in numbers:\n",
    "    for y in numbers:\n",
    "        if x+y==target:\n",
    "            print(x,y)\n"
   ]
  },
  {
   "cell_type": "code",
   "execution_count": 23,
   "id": "09a4f5a9",
   "metadata": {},
   "outputs": [
    {
     "name": "stdout",
     "output_type": "stream",
     "text": [
      "[0, 2]\n"
     ]
    }
   ],
   "source": [
    "num=[2,7,11]\n",
    "target=13\n",
    "for i in range(len(num)):\n",
    "    for j in range(len(num)):\n",
    "        if num[j] + num[i]==target:\n",
    "            a=(j,i)\n",
    "print(list(a))"
   ]
  },
  {
   "cell_type": "code",
   "execution_count": 25,
   "id": "b7cb4aeb",
   "metadata": {},
   "outputs": [
    {
     "name": "stdout",
     "output_type": "stream",
     "text": [
      "speed is 249\n",
      "diesel\n",
      "speed is 400\n",
      "petrol\n"
     ]
    }
   ],
   "source": [
    "class Ferrari:\n",
    "    def type(self):\n",
    "        print('diesel')\n",
    "    def fuel(self):\n",
    "        print('speed is 249')\n",
    "class Bmw:\n",
    "    def type(self):\n",
    "        print('petrol')\n",
    "    def fuel(self):\n",
    "        print('speed is 400')\n",
    "def car(obj):\n",
    "    obj.fuel()\n",
    "    obj.type()\n",
    "a=Ferrari()\n",
    "b=Bmw()\n",
    "car(a)\n",
    "car(b)"
   ]
  },
  {
   "cell_type": "code",
   "execution_count": 6,
   "id": "06ffe326",
   "metadata": {},
   "outputs": [
    {
     "name": "stdout",
     "output_type": "stream",
     "text": [
      "2898699616528\n",
      "2898699616528\n",
      "True\n",
      "True\n"
     ]
    }
   ],
   "source": [
    "a=2\n",
    "b=2\n",
    "# a=[2,3,4]\n",
    "# b=[2,3,4]\n",
    "print(id(a))\n",
    "print(id(b))\n",
    "print(a==b)  #check content here\n",
    "print(a is b) #check memory location"
   ]
  },
  {
   "cell_type": "code",
   "execution_count": 1,
   "id": "50bb3e8a",
   "metadata": {},
   "outputs": [
    {
     "name": "stdout",
     "output_type": "stream",
     "text": [
      "2\n",
      "minhaj\n",
      "22\n",
      "bhai\n",
      "(2, 'minhaj', 22, 'bhai')\n",
      "<class 'tuple'>\n"
     ]
    }
   ],
   "source": [
    "tp=(2,'minhaj',22,'bhai')\n",
    "w,x,y,z=tp\n",
    "print(w)\n",
    "print(x)\n",
    "print(y)\n",
    "print(z)\n",
    "print(tp)\n",
    "print(type(tp))"
   ]
  },
  {
   "cell_type": "code",
   "execution_count": 2,
   "id": "3b70a450",
   "metadata": {},
   "outputs": [
    {
     "name": "stdout",
     "output_type": "stream",
     "text": [
      "(2, 'abcd', 33)\n",
      "<class 'tuple'>\n"
     ]
    }
   ],
   "source": [
    "a=2\n",
    "b='abcd'\n",
    "c=33\n",
    "tp=a,b,c\n",
    "print(tp)\n",
    "print(type(tp))"
   ]
  },
  {
   "cell_type": "code",
   "execution_count": 17,
   "id": "af9ccbb7",
   "metadata": {},
   "outputs": [
    {
     "name": "stdout",
     "output_type": "stream",
     "text": [
      "Worked for 50 days\n",
      "salary is:  40000\n"
     ]
    }
   ],
   "source": [
    "class Employee:\n",
    "    def __init__(self, name, salary):\n",
    "        self.name = name\n",
    "        self.salary = salary\n",
    "#     def __mul__(obj1, obj2):\n",
    "#         print('Worked for', obj2.days, 'days')\n",
    "#         return  obj2.days*obj1.salary\n",
    "class TimeSheet:\n",
    "    def __init__(self, name, days):\n",
    "        self.name = name\n",
    "        self.days = days\n",
    "    def __mul__(timesheet, emp):\n",
    "        print('Worked for', obj1.days, 'days')\n",
    "        return  timesheet.days*emp.salary\n",
    "timesheet = TimeSheet(\"Jessa\", 50)\n",
    "emp = Employee(\"Jessa\", 800)\n",
    "# timesheet = TimeSheet(\"Jessa\", 50)\n",
    "print(\"salary is: \",  timesheet*emp)"
   ]
  },
  {
   "cell_type": "code",
   "execution_count": 9,
   "id": "9176d625",
   "metadata": {},
   "outputs": [
    {
     "ename": "TypeError",
     "evalue": "Employee.__mul__() missing 1 required positional argument: 'numb'",
     "output_type": "error",
     "traceback": [
      "\u001b[1;31m---------------------------------------------------------------------------\u001b[0m",
      "\u001b[1;31mTypeError\u001b[0m                                 Traceback (most recent call last)",
      "Input \u001b[1;32mIn [9]\u001b[0m, in \u001b[0;36m<cell line: 19>\u001b[1;34m()\u001b[0m\n\u001b[0;32m     17\u001b[0m timesheet \u001b[38;5;241m=\u001b[39m TimeSheet(\u001b[38;5;124m\"\u001b[39m\u001b[38;5;124mminhaj\u001b[39m\u001b[38;5;124m\"\u001b[39m, \u001b[38;5;241m50\u001b[39m)\n\u001b[0;32m     18\u001b[0m num\u001b[38;5;241m=\u001b[39mNumber(\u001b[38;5;241m20\u001b[39m)\n\u001b[1;32m---> 19\u001b[0m \u001b[38;5;28mprint\u001b[39m(\u001b[38;5;124m\"\u001b[39m\u001b[38;5;124msalary is: \u001b[39m\u001b[38;5;124m\"\u001b[39m, \u001b[43memp\u001b[49m\u001b[43m \u001b[49m\u001b[38;5;241;43m*\u001b[39;49m\u001b[43m \u001b[49m\u001b[43mtimesheet\u001b[49m\u001b[38;5;241m*\u001b[39mnum)\n",
      "\u001b[1;31mTypeError\u001b[0m: Employee.__mul__() missing 1 required positional argument: 'numb'"
     ]
    }
   ],
   "source": [
    "class Employee:\n",
    "    def __init__(self,name, salary):\n",
    "        self.myname = name\n",
    "        self.salary = salary\n",
    "    def __mul__(self, timesheet,numb):\n",
    "        print('Worked for', timesheet.days, 'days')\n",
    "        # calculate salary\n",
    "        return self.salary * timesheet.days * num.number\n",
    "class TimeSheet:\n",
    "    def __init__(self, name, days):\n",
    "        self.name = name\n",
    "        self.days = days\n",
    "class Number:\n",
    "    def __init__(self,number):\n",
    "        self.number=number\n",
    "emp = Employee(\"Jessa\", 800)\n",
    "timesheet = TimeSheet(\"minhaj\", 50)\n",
    "num=Number(20)\n",
    "print(\"salary is: \", emp * timesheet*num)"
   ]
  },
  {
   "cell_type": "code",
   "execution_count": 10,
   "id": "6c178fbf",
   "metadata": {},
   "outputs": [
    {
     "name": "stdout",
     "output_type": "stream",
     "text": [
      "24\n"
     ]
    }
   ],
   "source": [
    "a=2\n",
    "b=3\n",
    "c=4\n",
    "print(a*b*c)"
   ]
  },
  {
   "cell_type": "code",
   "execution_count": 28,
   "id": "f404ad16",
   "metadata": {},
   "outputs": [
    {
     "name": "stdout",
     "output_type": "stream",
     "text": [
      "Worked for 200 days\n",
      "salary is:  8000000\n"
     ]
    }
   ],
   "source": [
    "class Employee:\n",
    "    def __init__(self, name, salary):\n",
    "        self.name = name\n",
    "        self.salary = salary\n",
    "    def __mul__(self, timesheet):\n",
    "        print('Worked for', timesheet.days, 'days')\n",
    "        # calculate salary\n",
    "        return self.salary * timesheet.days * third.price\n",
    "class TimeSheet:\n",
    "    def __init__(self, name, days):\n",
    "        self.name = name\n",
    "        self.days = days\n",
    "class third:\n",
    "    def __init__(self,name,price):\n",
    "        self.name=name\n",
    "        self.price=price\n",
    "emp = Employee(\"Jessa\", 200)\n",
    "timesheet = TimeSheet(\"Jessa\", 200)\n",
    "third=third('minhaj',200)\n",
    "print(\"salary is: \", emp * timesheet)"
   ]
  },
  {
   "cell_type": "code",
   "execution_count": 35,
   "id": "ef3e218f",
   "metadata": {},
   "outputs": [
    {
     "name": "stdout",
     "output_type": "stream",
     "text": [
      "Worked for 200 days\n",
      "salary is:  8000000\n"
     ]
    }
   ],
   "source": [
    "class Employee:\n",
    "    def __init__(self, name, salary):\n",
    "        self.name = name\n",
    "        self.salary = salary\n",
    "    def __mul__(self, third):\n",
    "        print('Worked for', timesheet.days, 'days')\n",
    "        # calculate salary\n",
    "        return self.salary * timesheet.days * third.price\n",
    "class TimeSheet:\n",
    "    def __init__(self, name, days):\n",
    "        self.name = name\n",
    "        self.days = days\n",
    "class third:\n",
    "    def __init__(self,name,price):\n",
    "        self.name=name\n",
    "        self.price=price\n",
    "emp = Employee(\"Jessa\", 200)\n",
    "timesheet = TimeSheet(\"Jessa\", 200)\n",
    "third=third('minhaj',200)\n",
    "print(\"salary is: \", emp * third)"
   ]
  },
  {
   "cell_type": "code",
   "execution_count": 3,
   "id": "cea6177b",
   "metadata": {},
   "outputs": [
    {
     "ename": "NameError",
     "evalue": "name 'zikra' is not defined",
     "output_type": "error",
     "traceback": [
      "\u001b[1;31m---------------------------------------------------------------------------\u001b[0m",
      "\u001b[1;31mNameError\u001b[0m                                 Traceback (most recent call last)",
      "Input \u001b[1;32mIn [3]\u001b[0m, in \u001b[0;36m<cell line: 25>\u001b[1;34m()\u001b[0m\n\u001b[0;32m     23\u001b[0m         \u001b[38;5;28;01mreturn\u001b[39;00m \u001b[38;5;124m\"\u001b[39m\u001b[38;5;124mschool name:\u001b[39m\u001b[38;5;124m\"\u001b[39m,\u001b[38;5;28mself\u001b[39m\u001b[38;5;241m.\u001b[39mschool, \u001b[38;5;124m\"\u001b[39m\u001b[38;5;124mrollno.:\u001b[39m\u001b[38;5;124m\"\u001b[39m,\u001b[38;5;28mself\u001b[39m\u001b[38;5;241m.\u001b[39mrollno, \u001b[38;5;124m\"\u001b[39m\u001b[38;5;124msubject:\u001b[39m\u001b[38;5;124m\"\u001b[39m, \u001b[38;5;28mself\u001b[39m\u001b[38;5;241m.\u001b[39msubject,zikra \n\u001b[0;32m     24\u001b[0m s1\u001b[38;5;241m=\u001b[39mhome(\u001b[38;5;124m'\u001b[39m\u001b[38;5;124miram\u001b[39m\u001b[38;5;124m'\u001b[39m,\u001b[38;5;241m55\u001b[39m,\u001b[38;5;241m33\u001b[39m,\u001b[38;5;124m\"\u001b[39m\u001b[38;5;124mMaths\u001b[39m\u001b[38;5;124m\"\u001b[39m)\n\u001b[1;32m---> 25\u001b[0m \u001b[43ms1\u001b[49m\u001b[38;5;241;43m.\u001b[39;49m\u001b[43mshow\u001b[49m\u001b[43m(\u001b[49m\u001b[43m)\u001b[49m\n",
      "Input \u001b[1;32mIn [3]\u001b[0m, in \u001b[0;36mhome.show\u001b[1;34m(self)\u001b[0m\n\u001b[0;32m     21\u001b[0m x \u001b[38;5;241m=\u001b[39m \u001b[38;5;28msuper\u001b[39m()\u001b[38;5;241m.\u001b[39mshow()\n\u001b[0;32m     22\u001b[0m \u001b[38;5;28mself\u001b[39m\u001b[38;5;241m.\u001b[39mschool\u001b[38;5;241m=\u001b[39m\u001b[38;5;124m\"\u001b[39m\u001b[38;5;124mabp school\u001b[39m\u001b[38;5;124m\"\u001b[39m\n\u001b[1;32m---> 23\u001b[0m \u001b[38;5;28;01mreturn\u001b[39;00m \u001b[38;5;124m\"\u001b[39m\u001b[38;5;124mschool name:\u001b[39m\u001b[38;5;124m\"\u001b[39m,\u001b[38;5;28mself\u001b[39m\u001b[38;5;241m.\u001b[39mschool, \u001b[38;5;124m\"\u001b[39m\u001b[38;5;124mrollno.:\u001b[39m\u001b[38;5;124m\"\u001b[39m,\u001b[38;5;28mself\u001b[39m\u001b[38;5;241m.\u001b[39mrollno, \u001b[38;5;124m\"\u001b[39m\u001b[38;5;124msubject:\u001b[39m\u001b[38;5;124m\"\u001b[39m, \u001b[38;5;28mself\u001b[39m\u001b[38;5;241m.\u001b[39msubject,\u001b[43mzikra\u001b[49m\n",
      "\u001b[1;31mNameError\u001b[0m: name 'zikra' is not defined"
     ]
    }
   ],
   "source": [
    "class student:    \n",
    "    def __init__(self,name,rollno):\n",
    "        self.name=name\n",
    "        self.rollno=rollno\n",
    "    def show(self):\n",
    "        return \"Name of the student:\",self.name,\"Roll no of the student:\",self.rollno\n",
    "class school(student):\n",
    "    def __init__(self, name, rollno,age):\n",
    "        super().__init__(name, rollno)       \n",
    "        self.age = age\n",
    "        x = super().show()\n",
    "    def show(self):\n",
    "        self.school=\"abp school\"\n",
    "        \"school name:\",self.school, \"rollno.:\",self.rollno, \"age:\", self.age  \n",
    "class home(school):\n",
    "    def __init__(self, name, rollno,age, subject):\n",
    "        super().__init__(name, rollno, age)\n",
    "        self.subject = subject     \n",
    "    def show(self):\n",
    "        x = super().show()\n",
    "        self.school=\"abp school\"\n",
    "        return \"school name:\",self.school, \"rollno.:\",self.rollno, \"subject:\", self.subject,zikra \n",
    "s1=home('iram',55,33,\"Maths\")\n",
    "s1.show()"
   ]
  },
  {
   "cell_type": "code",
   "execution_count": null,
   "id": "55ccb623",
   "metadata": {},
   "outputs": [],
   "source": [
    "class A:\n",
    "    def __init__(self,name,age):\n",
    "        self.name=name\n",
    "        self.age=age\n",
    "    def show(self):\n",
    "        print('hello')\n",
    "class B(A):\n",
    "    def __init__()"
   ]
  },
  {
   "cell_type": "code",
   "execution_count": 8,
   "id": "e8e20657",
   "metadata": {},
   "outputs": [
    {
     "name": "stdout",
     "output_type": "stream",
     "text": [
      "456\n"
     ]
    }
   ],
   "source": [
    "class A:\n",
    "    def __init__(self):\n",
    "        print(123)\n",
    "    def __new__(self):\n",
    "        print(456)\n",
    "S1=A()"
   ]
  },
  {
   "cell_type": "code",
   "execution_count": 6,
   "id": "c11c2758",
   "metadata": {},
   "outputs": [
    {
     "name": "stdout",
     "output_type": "stream",
     "text": [
      "123\n"
     ]
    }
   ],
   "source": [
    "class A:\n",
    "    def __new__(self):\n",
    "        print(123)\n",
    "    def __init__(self):\n",
    "          print(456)\n",
    "s1=A()"
   ]
  },
  {
   "cell_type": "code",
   "execution_count": 31,
   "id": "41845842",
   "metadata": {},
   "outputs": [
    {
     "name": "stdout",
     "output_type": "stream",
     "text": [
      "ool\n"
     ]
    }
   ],
   "source": [
    "a='helloworld'\n",
    "print(a[6:-9:-2])"
   ]
  },
  {
   "cell_type": "code",
   "execution_count": 5,
   "id": "a784dbeb",
   "metadata": {},
   "outputs": [
    {
     "name": "stdout",
     "output_type": "stream",
     "text": [
      "1 correct extension of python file?\n",
      "Ans: py.file\n",
      "2 what is django?\n",
      "Ans: Django is framework?\n",
      "3 what is class in oops?\n",
      "Ans: A class is a blueprint for the object\n",
      "4 what is instance varible?\n",
      "Ans: Attached to an instance of class\n",
      "1 django is use to create web app\n",
      "2 class contains the properties (attribute) and action (behavior) of the object.\n",
      "3 Instance variables are not shared by objects. Every object has its own copy of the instance attribute. This means that for each object of a class, the instance variable value is different\n"
     ]
    }
   ],
   "source": [
    "qn=[{\"question\":\"correct extension of python file?\",\n",
    "    \"answer\":\"py.file\",\n",
    "    \"explanation\":\" \"},\n",
    "    {\"question\":\"what is django?\",\n",
    "    \"answer\":\"Django is framework?\",\n",
    "    \"explanation\":\"django is use to create web app\"},\n",
    "    {\"question\":\"what is class in oops?\",\n",
    "    \"answer\":\"A class is a blueprint for the object\",\n",
    "    \"explanation\":\"class contains the properties (attribute) and action (behavior) of the object.\"},\n",
    "    {\"question\":\"what is instance varible?\",\n",
    "    \"answer\":\"Attached to an instance of class\",\n",
    "    \"explanation\":\"Instance variables are not shared by objects. Every object has its own copy of the instance attribute. This means that for each object of a class, the instance variable value is different\"\n",
    "     }]\n",
    "count=1\n",
    "for x in qn:\n",
    "    print(count,x[\"question\"])   \n",
    "    count+=1\n",
    "    print(\"Ans:\",x[\"answer\"])\n",
    "e=1\n",
    "for x in qn:\n",
    "    if x[\"explanation\"]==\" \":\n",
    "        pass\n",
    "    else:\n",
    "        print(e,x[\"explanation\"])\n",
    "        e+=1\n",
    "#     q=x[\"question\"]\n",
    "#     count=count+1\n",
    "#     print(i,count,'-',j)"
   ]
  },
  {
   "cell_type": "code",
   "execution_count": null,
   "id": "b2534975",
   "metadata": {},
   "outputs": [],
   "source": []
  },
  {
   "cell_type": "code",
   "execution_count": 143,
   "id": "2c8a6c9c",
   "metadata": {},
   "outputs": [
    {
     "name": "stdout",
     "output_type": "stream",
     "text": [
      "question 1 - correct extension of python file?\n",
      "answer 2 - py.file\n",
      "explanation 3 -   \n",
      "question 4 - what is django?\n",
      "answer 5 - Django is framework?\n",
      "explanation 6 - django is use to create web app\n",
      "question 7 - what is class in oops?\n",
      "answer 8 - A class is a blueprint for the object\n",
      "explanation 9 - class contains the properties (attribute) and action (behavior) of the object.\n",
      "question 10 - what is instance varible?\n",
      "answer 11 - Attached to an instance of class\n",
      "explanation 12 - Instance variables are not shared by objects. Every object has its own copy of the instance attribute. This means that for each object of a class, the instance variable value is different\n"
     ]
    }
   ],
   "source": [
    "count=0\n",
    "for x in qn:\n",
    "    for i,j in x.items():\n",
    "#         if x==\"question\":\n",
    "            count=count+1\n",
    "            print(i,count,'-',j)\n",
    "#     count+=1"
   ]
  },
  {
   "cell_type": "code",
   "execution_count": 144,
   "id": "d05c1871",
   "metadata": {},
   "outputs": [
    {
     "data": {
      "text/plain": [
       "'what is django?'"
      ]
     },
     "execution_count": 144,
     "metadata": {},
     "output_type": "execute_result"
    }
   ],
   "source": [
    "x={\"question\":\"what is django?\",\"answer\":\"Django is framework?\",\"explanation\":\"django is use to create web app\"}\n",
    "x[\"question\"]"
   ]
  },
  {
   "cell_type": "code",
   "execution_count": 147,
   "id": "6d1a9c9d",
   "metadata": {},
   "outputs": [
    {
     "data": {
      "text/plain": [
       "'t'"
      ]
     },
     "execution_count": 147,
     "metadata": {},
     "output_type": "execute_result"
    }
   ],
   "source": [
    "stp=\"python\"\n",
    "stp[2]"
   ]
  },
  {
   "cell_type": "code",
   "execution_count": 149,
   "id": "ba46f668",
   "metadata": {},
   "outputs": [
    {
     "name": "stdout",
     "output_type": "stream",
     "text": [
      "t\n",
      "a\n",
      "a\n"
     ]
    }
   ],
   "source": [
    "lst=[\"python\",\"flask\",\"django\"]\n",
    "for x in lst:\n",
    "    print(x[2])"
   ]
  },
  {
   "cell_type": "code",
   "execution_count": 151,
   "id": "29e0bb70",
   "metadata": {},
   "outputs": [
    {
     "name": "stdout",
     "output_type": "stream",
     "text": [
      "language\n"
     ]
    },
    {
     "ename": "TypeError",
     "evalue": "string indices must be integers",
     "output_type": "error",
     "traceback": [
      "\u001b[1;31m---------------------------------------------------------------------------\u001b[0m",
      "\u001b[1;31mTypeError\u001b[0m                                 Traceback (most recent call last)",
      "Input \u001b[1;32mIn [151]\u001b[0m, in \u001b[0;36m<cell line: 2>\u001b[1;34m()\u001b[0m\n\u001b[0;32m      1\u001b[0m lst\u001b[38;5;241m=\u001b[39m[{\u001b[38;5;124m\"\u001b[39m\u001b[38;5;124mpython\u001b[39m\u001b[38;5;124m\"\u001b[39m:\u001b[38;5;124m\"\u001b[39m\u001b[38;5;124mlanguage\u001b[39m\u001b[38;5;124m\"\u001b[39m,\u001b[38;5;124m\"\u001b[39m\u001b[38;5;124mhill\u001b[39m\u001b[38;5;124m\"\u001b[39m:\u001b[38;5;241m3\u001b[39m},\u001b[38;5;124m\"\u001b[39m\u001b[38;5;124mflask\u001b[39m\u001b[38;5;124m\"\u001b[39m,\u001b[38;5;124m\"\u001b[39m\u001b[38;5;124mdjango\u001b[39m\u001b[38;5;124m\"\u001b[39m,[\u001b[38;5;241m6\u001b[39m,\u001b[38;5;241m8\u001b[39m,\u001b[38;5;241m0\u001b[39m]]\n\u001b[0;32m      2\u001b[0m \u001b[38;5;28;01mfor\u001b[39;00m x \u001b[38;5;129;01min\u001b[39;00m lst:\n\u001b[1;32m----> 3\u001b[0m     \u001b[38;5;28mprint\u001b[39m(\u001b[43mx\u001b[49m\u001b[43m[\u001b[49m\u001b[38;5;124;43m\"\u001b[39;49m\u001b[38;5;124;43mpython\u001b[39;49m\u001b[38;5;124;43m\"\u001b[39;49m\u001b[43m]\u001b[49m)\n",
      "\u001b[1;31mTypeError\u001b[0m: string indices must be integers"
     ]
    }
   ],
   "source": [
    "lst=[{\"python\":\"language\",\"hill\":3},\"flask\",\"django\",[6,8,0]]\n",
    "for x in lst:\n",
    "    print(x[\"python\"])"
   ]
  },
  {
   "cell_type": "code",
   "execution_count": 1,
   "id": "59cbfdb4",
   "metadata": {},
   "outputs": [
    {
     "name": "stdout",
     "output_type": "stream",
     "text": [
      "[2, 8, 18, 32]\n"
     ]
    }
   ],
   "source": [
    "l=[1,2,3,4]\n",
    "l=list(map(lambda x:x**2 + x**2,l))\n",
    "print(l)"
   ]
  },
  {
   "cell_type": "code",
   "execution_count": null,
   "id": "ce4b9eb4",
   "metadata": {},
   "outputs": [],
   "source": [
    "#  a=[]\n",
    "# for i in range(10):\n",
    "#     user=int(input(\"enter number\"))\n",
    "#     a.append(user)\n",
    "# print(list(a))"
   ]
  },
  {
   "cell_type": "code",
   "execution_count": null,
   "id": "b3da38fc",
   "metadata": {},
   "outputs": [],
   "source": [
    "l=map(int,input().split(\" \"))\n",
    "print(list(l))\n",
    "l=list(map(lambda x:x**2+x**2,l))\n",
    "print(list(1))"
   ]
  },
  {
   "cell_type": "code",
   "execution_count": 1,
   "id": "3b868552",
   "metadata": {},
   "outputs": [
    {
     "name": "stdout",
     "output_type": "stream",
     "text": [
      "3\n",
      "[18]\n"
     ]
    }
   ],
   "source": [
    "l=map(int,input().split(\" \"))\n",
    "l=map(lambda x:x**2+x**2,l)\n",
    "print(list(l))"
   ]
  },
  {
   "cell_type": "code",
   "execution_count": 12,
   "id": "d3148b7b",
   "metadata": {},
   "outputs": [
    {
     "name": "stdout",
     "output_type": "stream",
     "text": [
      "5 8 15\n",
      "[1, 1, 1, 1]\n"
     ]
    }
   ],
   "source": [
    "l=map(int,input().split(\" \"))\n",
    "a=list(map(lambda x:x[0]-(x-1),a))\n",
    "print(a)"
   ]
  },
  {
   "cell_type": "code",
   "execution_count": 16,
   "id": "f59683a5",
   "metadata": {},
   "outputs": [
    {
     "name": "stdout",
     "output_type": "stream",
     "text": [
      "[5, 3, 7, 4]\n"
     ]
    }
   ],
   "source": [
    "my_list = [5,8,15,19]\n",
    "diff_list = []\n",
    "for i in range(1,len(my_list)):\n",
    "    x = my_list[i] - my_list[i-1]\n",
    "    diff_list.append(x)\n",
    "# print(diff_list)\n",
    "diffs =[my_list[0]] + [y - x for x, y in zip(my_list, my_list[1:])]\n",
    "print(diffs)"
   ]
  },
  {
   "cell_type": "code",
   "execution_count": 13,
   "id": "531fd9b6",
   "metadata": {},
   "outputs": [
    {
     "ename": "SyntaxError",
     "evalue": "invalid syntax (4018747980.py, line 2)",
     "output_type": "error",
     "traceback": [
      "\u001b[1;36m  Input \u001b[1;32mIn [13]\u001b[1;36m\u001b[0m\n\u001b[1;33m    op=\u001b[0m\n\u001b[1;37m       ^\u001b[0m\n\u001b[1;31mSyntaxError\u001b[0m\u001b[1;31m:\u001b[0m invalid syntax\n"
     ]
    }
   ],
   "source": [
    "z=[5,8,15,19]\n"
   ]
  },
  {
   "cell_type": "code",
   "execution_count": 1,
   "id": "9cb67f67",
   "metadata": {},
   "outputs": [
    {
     "name": "stdout",
     "output_type": "stream",
     "text": [
      "[8, 15, 19] [5, 8, 15]\n"
     ]
    }
   ],
   "source": [
    "z=[5,8,15,19]\n",
    "print(z[1:],z[:-1])\n",
    "# print(z[:-1])"
   ]
  },
  {
   "cell_type": "code",
   "execution_count": 15,
   "id": "0706bb53",
   "metadata": {},
   "outputs": [
    {
     "name": "stdout",
     "output_type": "stream",
     "text": [
      "[5, 8, 15]\n"
     ]
    }
   ],
   "source": [
    "z=[5,8,15,19]\n",
    "print(z[:-1])"
   ]
  },
  {
   "cell_type": "code",
   "execution_count": 18,
   "id": "1c81b8f5",
   "metadata": {},
   "outputs": [
    {
     "name": "stdout",
     "output_type": "stream",
     "text": [
      "[5, 3, 7, 4]\n"
     ]
    }
   ],
   "source": [
    "my_list = [5,8,15,19]\n",
    "diff_list = []\n",
    "for i in range(1,len(my_list)):\n",
    "    x = my_list[i] - my_list[i-1]\n",
    "    diff_list.append(x)\n",
    "diffs =[my_list[0]] + [x-y for x, y in zip(my_list[1:], my_list[:-1])]\n",
    "print(diffs)"
   ]
  },
  {
   "cell_type": "code",
   "execution_count": 1,
   "id": "3b8a3189",
   "metadata": {},
   "outputs": [
    {
     "name": "stdout",
     "output_type": "stream",
     "text": [
      "1 2 3 4\n",
      "[1, 1, 1, 1]\n"
     ]
    }
   ],
   "source": [
    "ip=[int(item) for item in input().split(\" \")]\n",
    "op=[ip[i]-ip[i-1] if i>0 else ip[0] for i in range(len(ip))]\n",
    "print(op)"
   ]
  },
  {
   "cell_type": "code",
   "execution_count": null,
   "id": "1bfd26bb",
   "metadata": {},
   "outputs": [],
   "source": []
  },
  {
   "cell_type": "code",
   "execution_count": null,
   "id": "006c0419",
   "metadata": {},
   "outputs": [],
   "source": []
  },
  {
   "cell_type": "code",
   "execution_count": null,
   "id": "738389e2",
   "metadata": {},
   "outputs": [],
   "source": []
  },
  {
   "cell_type": "code",
   "execution_count": 43,
   "id": "3767aea9",
   "metadata": {},
   "outputs": [
    {
     "name": "stdout",
     "output_type": "stream",
     "text": [
      "Counter({'b': 95, 'a': 50, 'B': 30, 'A': 5})\n"
     ]
    }
   ],
   "source": [
    "from collections import Counter\n",
    "a1={'a':45,'b':65,'A':5,'B':30}\n",
    "b1=  {key.lower(): val for key, val in a1.items()}  #{'a': 5, 'b': 30}\n",
    "\n",
    "c1=Counter(a1)+Counter(b1)\n",
    "print(c1)"
   ]
  },
  {
   "cell_type": "code",
   "execution_count": 1,
   "id": "fb0a4aef",
   "metadata": {},
   "outputs": [
    {
     "ename": "TypeError",
     "evalue": "unsupported operand type(s) for +: 'NoneType' and 'int'",
     "output_type": "error",
     "traceback": [
      "\u001b[1;31m---------------------------------------------------------------------------\u001b[0m",
      "\u001b[1;31mTypeError\u001b[0m                                 Traceback (most recent call last)",
      "Input \u001b[1;32mIn [1]\u001b[0m, in \u001b[0;36m<cell line: 2>\u001b[1;34m()\u001b[0m\n\u001b[0;32m      1\u001b[0m d\u001b[38;5;241m=\u001b[39m{\u001b[38;5;124m'\u001b[39m\u001b[38;5;124ma\u001b[39m\u001b[38;5;124m'\u001b[39m:\u001b[38;5;241m45\u001b[39m,\u001b[38;5;124m'\u001b[39m\u001b[38;5;124mA\u001b[39m\u001b[38;5;124m'\u001b[39m:\u001b[38;5;241m5\u001b[39m,\u001b[38;5;124m'\u001b[39m\u001b[38;5;124mB\u001b[39m\u001b[38;5;124m'\u001b[39m:\u001b[38;5;241m30\u001b[39m}\n\u001b[1;32m----> 2\u001b[0m j\u001b[38;5;241m=\u001b[39m{i\u001b[38;5;241m.\u001b[39mlower():d\u001b[38;5;241m.\u001b[39mget(i\u001b[38;5;241m.\u001b[39mlower())\u001b[38;5;241m+\u001b[39md\u001b[38;5;241m.\u001b[39mget(i\u001b[38;5;241m.\u001b[39mupper(),\u001b[38;5;241m0\u001b[39m) \u001b[38;5;28;01mfor\u001b[39;00m i \u001b[38;5;129;01min\u001b[39;00m d}\n\u001b[0;32m      3\u001b[0m \u001b[38;5;28mprint\u001b[39m(j)\n",
      "Input \u001b[1;32mIn [1]\u001b[0m, in \u001b[0;36m<dictcomp>\u001b[1;34m(.0)\u001b[0m\n\u001b[0;32m      1\u001b[0m d\u001b[38;5;241m=\u001b[39m{\u001b[38;5;124m'\u001b[39m\u001b[38;5;124ma\u001b[39m\u001b[38;5;124m'\u001b[39m:\u001b[38;5;241m45\u001b[39m,\u001b[38;5;124m'\u001b[39m\u001b[38;5;124mA\u001b[39m\u001b[38;5;124m'\u001b[39m:\u001b[38;5;241m5\u001b[39m,\u001b[38;5;124m'\u001b[39m\u001b[38;5;124mB\u001b[39m\u001b[38;5;124m'\u001b[39m:\u001b[38;5;241m30\u001b[39m}\n\u001b[1;32m----> 2\u001b[0m j\u001b[38;5;241m=\u001b[39m{i\u001b[38;5;241m.\u001b[39mlower():\u001b[43md\u001b[49m\u001b[38;5;241;43m.\u001b[39;49m\u001b[43mget\u001b[49m\u001b[43m(\u001b[49m\u001b[43mi\u001b[49m\u001b[38;5;241;43m.\u001b[39;49m\u001b[43mlower\u001b[49m\u001b[43m(\u001b[49m\u001b[43m)\u001b[49m\u001b[43m)\u001b[49m\u001b[38;5;241;43m+\u001b[39;49m\u001b[43md\u001b[49m\u001b[38;5;241;43m.\u001b[39;49m\u001b[43mget\u001b[49m\u001b[43m(\u001b[49m\u001b[43mi\u001b[49m\u001b[38;5;241;43m.\u001b[39;49m\u001b[43mupper\u001b[49m\u001b[43m(\u001b[49m\u001b[43m)\u001b[49m\u001b[43m,\u001b[49m\u001b[38;5;241;43m0\u001b[39;49m\u001b[43m)\u001b[49m \u001b[38;5;28;01mfor\u001b[39;00m i \u001b[38;5;129;01min\u001b[39;00m d}\n\u001b[0;32m      3\u001b[0m \u001b[38;5;28mprint\u001b[39m(j)\n",
      "\u001b[1;31mTypeError\u001b[0m: unsupported operand type(s) for +: 'NoneType' and 'int'"
     ]
    }
   ],
   "source": [
    "d={'a':45,'A':5,'B':30}\n",
    "j={i.lower():d.get(i.lower())+d.get(i.upper(),0) for i in d}\n",
    "print(j)"
   ]
  },
  {
   "cell_type": "code",
   "execution_count": 4,
   "id": "fec9b2d2",
   "metadata": {},
   "outputs": [
    {
     "name": "stdout",
     "output_type": "stream",
     "text": [
      "80\n"
     ]
    }
   ],
   "source": [
    "lst=[1,10,17,80,20]\n",
    "a=0\n",
    "for i in lst:\n",
    "    while i>a:\n",
    "        a=i\n",
    "print(a)"
   ]
  },
  {
   "cell_type": "code",
   "execution_count": 7,
   "id": "1b90604b",
   "metadata": {},
   "outputs": [
    {
     "name": "stdout",
     "output_type": "stream",
     "text": [
      "[1, 10, 17, 20, 80]\n"
     ]
    }
   ],
   "source": [
    "data_list=[1,10,17,80,20]\n",
    "new_list = []\n",
    "while data_list:\n",
    "    minimum = data_list[0]  # arbitrary number in list \n",
    "    for x in data_list: \n",
    "        if x < minimum:\n",
    "            minimum = x\n",
    "    new_list.append(minimum)\n",
    "    data_list.remove(minimum)    \n",
    "print (new_list)"
   ]
  },
  {
   "cell_type": "code",
   "execution_count": 6,
   "id": "5ba8a4b2",
   "metadata": {},
   "outputs": [
    {
     "name": "stdout",
     "output_type": "stream",
     "text": [
      "[1, 2, 3]\n"
     ]
    }
   ],
   "source": [
    "a=[1,2,3]\n",
    "a.clear\n",
    "# a.pop()\n",
    "print(a)"
   ]
  },
  {
   "cell_type": "code",
   "execution_count": 7,
   "id": "22142bf0",
   "metadata": {},
   "outputs": [
    {
     "data": {
      "text/plain": [
       "float"
      ]
     },
     "execution_count": 7,
     "metadata": {},
     "output_type": "execute_result"
    }
   ],
   "source": [
    "type(2E1)"
   ]
  },
  {
   "cell_type": "code",
   "execution_count": 14,
   "id": "2c94ce97",
   "metadata": {},
   "outputs": [
    {
     "name": "stdout",
     "output_type": "stream",
     "text": [
      "1\n",
      "10\n",
      "17\n",
      "80\n",
      "80\n",
      "80\n"
     ]
    }
   ],
   "source": [
    "lst=[1,10,17,80,20,6]\n",
    "a=0\n",
    "for i in lst:\n",
    "    while i>a:\n",
    "        a=i\n",
    "print(a)"
   ]
  },
  {
   "cell_type": "code",
   "execution_count": 3,
   "id": "60d5942b",
   "metadata": {},
   "outputs": [
    {
     "name": "stdout",
     "output_type": "stream",
     "text": [
      "80\n"
     ]
    }
   ],
   "source": [
    "lst=[1,10,17,80,20]\n",
    "a=0\n",
    "for i in lst:\n",
    "    if i>a:\n",
    "        a=i\n",
    "print(a)"
   ]
  },
  {
   "cell_type": "code",
   "execution_count": 4,
   "id": "8b275536",
   "metadata": {},
   "outputs": [
    {
     "ename": "AttributeError",
     "evalue": "'dict' object has no attribute 'value'",
     "output_type": "error",
     "traceback": [
      "\u001b[1;31m---------------------------------------------------------------------------\u001b[0m",
      "\u001b[1;31mAttributeError\u001b[0m                            Traceback (most recent call last)",
      "Input \u001b[1;32mIn [4]\u001b[0m, in \u001b[0;36m<cell line: 2>\u001b[1;34m()\u001b[0m\n\u001b[0;32m      1\u001b[0m p\u001b[38;5;241m=\u001b[39m{\u001b[38;5;124m\"\u001b[39m\u001b[38;5;124mabc\u001b[39m\u001b[38;5;124m\"\u001b[39m:\u001b[38;5;241m455\u001b[39m,\u001b[38;5;124m\"\u001b[39m\u001b[38;5;124mkbc\u001b[39m\u001b[38;5;124m\"\u001b[39m:\u001b[38;5;241m105\u001b[39m}\n\u001b[1;32m----> 2\u001b[0m \u001b[38;5;28mprint\u001b[39m(\u001b[38;5;241m105\u001b[39m \u001b[38;5;129;01min\u001b[39;00m \u001b[43mp\u001b[49m\u001b[38;5;241;43m.\u001b[39;49m\u001b[43mvalue\u001b[49m())\n",
      "\u001b[1;31mAttributeError\u001b[0m: 'dict' object has no attribute 'value'"
     ]
    }
   ],
   "source": [
    "p={\"abc\":455,\"kbc\":105}\n",
    "print(105 in p.value())"
   ]
  },
  {
   "cell_type": "code",
   "execution_count": 1,
   "id": "738866d2",
   "metadata": {},
   "outputs": [
    {
     "name": "stdout",
     "output_type": "stream",
     "text": [
      "['bmw', 'vion', 'skoda']\n"
     ]
    }
   ],
   "source": [
    "a=[\"vion\",\"bmw\",\"skoda\"]\n",
    "a.sort(key=len)\n",
    "print(a)"
   ]
  },
  {
   "cell_type": "code",
   "execution_count": 9,
   "id": "e8b9e8af",
   "metadata": {},
   "outputs": [
    {
     "data": {
      "text/plain": [
       "{'Ali': 91}"
      ]
     },
     "execution_count": 9,
     "metadata": {},
     "output_type": "execute_result"
    }
   ],
   "source": [
    "dict1={\"Ali\":{\"Score\":91},\"Akbar\":{\"Score\":45},\"Bilal\":{\"Score\":30}}\n",
    "def maximum():\n",
    "    maxm=0\n",
    "    stu=\" \"\n",
    "    for i in dict1:\n",
    "        Score=dict1.get(i)['Score']\n",
    "        if Score > maxm:\n",
    "            maxm=Score\n",
    "            stu=i\n",
    "    return {stu:maxm}\n",
    "maximum()"
   ]
  },
  {
   "cell_type": "code",
   "execution_count": 2,
   "id": "61321185",
   "metadata": {},
   "outputs": [
    {
     "name": "stdout",
     "output_type": "stream",
     "text": [
      "[5, 6, 11, 12, 13]\n"
     ]
    }
   ],
   "source": [
    "lt=[11,12,13,5,6]\n",
    "for i in range(1,len(lt)):\n",
    "    while lt[i-1]>lt[i] and i>0: \n",
    "        lt[i-1],lt[i]=lt[i],lt[i-1]\n",
    "        i = i-1\n",
    "# print(\"updated\", lt)        \n",
    "print(lt)"
   ]
  },
  {
   "cell_type": "code",
   "execution_count": 1,
   "id": "5f76f891",
   "metadata": {},
   "outputs": [
    {
     "name": "stdout",
     "output_type": "stream",
     "text": [
      "10 5\n"
     ]
    }
   ],
   "source": [
    "class x:\n",
    "    def __init__(self):\n",
    "        self.__num1=10\n",
    "        self.num2=9\n",
    "    def show(self):\n",
    "        print(self.__num1,self.num2)\n",
    "class y(x):\n",
    "    def __init__(self):\n",
    "        super().__init__()\n",
    "        self.__num1=6\n",
    "        self.num2=5\n",
    "obj=y()\n",
    "obj.show()"
   ]
  },
  {
   "cell_type": "code",
   "execution_count": 8,
   "id": "70682d70",
   "metadata": {},
   "outputs": [
    {
     "name": "stdout",
     "output_type": "stream",
     "text": [
      "20 5\n"
     ]
    }
   ],
   "source": [
    "class x:\n",
    "    def __init__(self):\n",
    "        self.__num1=20\n",
    "        self.num2=19\n",
    "    def show(self):\n",
    "        print(self.__num1,self.num2)\n",
    "class y:\n",
    "    def __init__(self):\n",
    "        self.__num1=10\n",
    "        self.num2=9\n",
    "    def show(self):\n",
    "        print(self.__num1,self.num2)\n",
    "class z(x,y):\n",
    "    def __init__(self):\n",
    "        super().__init__()\n",
    "        self.__num1=6\n",
    "        self.num2=5\n",
    "obj=z()\n",
    "obj.show()"
   ]
  },
  {
   "cell_type": "code",
   "execution_count": 1,
   "id": "e04962c2",
   "metadata": {},
   "outputs": [
    {
     "name": "stdout",
     "output_type": "stream",
     "text": [
      "['even', 'even', 'odd', 'odd', 'odd', 'even', 'even']\n"
     ]
    }
   ],
   "source": [
    "list1=[2,4,7,9,3,4,8]\n",
    "list2=[\"even\" if x%2==0 else \"odd\"  for x in list1]\n",
    "print(list2)"
   ]
  },
  {
   "cell_type": "code",
   "execution_count": 2,
   "id": "520c3150",
   "metadata": {},
   "outputs": [
    {
     "name": "stdout",
     "output_type": "stream",
     "text": [
      "['even', 'odd', 'odd', 'even', 'odd']\n"
     ]
    }
   ],
   "source": [
    "fruits = [2,5,7,8,9]\n",
    "newlist = []\n",
    "for x in fruits:\n",
    "    if x%2==0:\n",
    "        newlist.append(\"even\")\n",
    "    else:\n",
    "        newlist.append(\"odd\")\n",
    "print(newlist)"
   ]
  },
  {
   "cell_type": "code",
   "execution_count": 4,
   "id": "cdde3eca",
   "metadata": {},
   "outputs": [
    {
     "name": "stdout",
     "output_type": "stream",
     "text": [
      "['even', 'even', 'odd', 'odd']\n"
     ]
    }
   ],
   "source": [
    "number=[2,4,5,3]\n",
    "def check(x):\n",
    "    if x%2==0:\n",
    "        return \"even\"\n",
    "    else:\n",
    "        return \"odd\"\n",
    "numiter=map(check,number)\n",
    "print(list(numiter))"
   ]
  },
  {
   "cell_type": "code",
   "execution_count": 6,
   "id": "8ac06763",
   "metadata": {},
   "outputs": [
    {
     "name": "stdout",
     "output_type": "stream",
     "text": [
      "False\n"
     ]
    }
   ],
   "source": [
    "x = lambda a : a%2==0\n",
    "print(x(5))"
   ]
  },
  {
   "cell_type": "code",
   "execution_count": 20,
   "id": "1b3f7155",
   "metadata": {},
   "outputs": [
    {
     "name": "stdout",
     "output_type": "stream",
     "text": [
      "['even', 'odd', 'even', 'odd']\n"
     ]
    }
   ],
   "source": [
    "name=[4,3,8,5]\n",
    "x=list((lambda y:\"even\" if y %2==0 else \"odd\")(y) for y in name)\n",
    "# x=list(lambda y:\"even\" if y %2==0 else \"odd\"for y in name)\n",
    "print(x)"
   ]
  },
  {
   "cell_type": "code",
   "execution_count": 10,
   "id": "b23d7d38",
   "metadata": {},
   "outputs": [
    {
     "name": "stdout",
     "output_type": "stream",
     "text": [
      "[{'a': '123'}, {'b': '456'}]\n",
      "<class 'list'>\n",
      "<class 'list'>\n"
     ]
    }
   ],
   "source": [
    "import json\n",
    "a=[{\"a\":\"123\"},{\"b\":\"456\"}]\n",
    "x=json.dumps(a)\n",
    "# x=json.dump(q)\n",
    "print(a)\n",
    "print(type(q))\n",
    "print(type(a))\n",
    "\n",
    "# prin"
   ]
  },
  {
   "cell_type": "code",
   "execution_count": 12,
   "id": "1ca1eab8",
   "metadata": {},
   "outputs": [
    {
     "ename": "TypeError",
     "evalue": "dump() missing 1 required positional argument: 'fp'",
     "output_type": "error",
     "traceback": [
      "\u001b[1;31m---------------------------------------------------------------------------\u001b[0m",
      "\u001b[1;31mTypeError\u001b[0m                                 Traceback (most recent call last)",
      "Input \u001b[1;32mIn [12]\u001b[0m, in \u001b[0;36m<cell line: 3>\u001b[1;34m()\u001b[0m\n\u001b[0;32m      1\u001b[0m \u001b[38;5;28;01mimport\u001b[39;00m \u001b[38;5;21;01mjson\u001b[39;00m\n\u001b[0;32m      2\u001b[0m a\u001b[38;5;241m=\u001b[39m\u001b[38;5;124m'\u001b[39m\u001b[38;5;124m[\u001b[39m\u001b[38;5;124m{\u001b[39m\u001b[38;5;124m\"\u001b[39m\u001b[38;5;124ma\u001b[39m\u001b[38;5;124m\"\u001b[39m\u001b[38;5;124m:\u001b[39m\u001b[38;5;124m\"\u001b[39m\u001b[38;5;124m123\u001b[39m\u001b[38;5;124m\"\u001b[39m\u001b[38;5;124m},\u001b[39m\u001b[38;5;124m{\u001b[39m\u001b[38;5;124m\"\u001b[39m\u001b[38;5;124mb\u001b[39m\u001b[38;5;124m\"\u001b[39m\u001b[38;5;124m:\u001b[39m\u001b[38;5;124m\"\u001b[39m\u001b[38;5;124m456\u001b[39m\u001b[38;5;124m\"\u001b[39m\u001b[38;5;124m}]\u001b[39m\u001b[38;5;124m'\u001b[39m\n\u001b[1;32m----> 3\u001b[0m x\u001b[38;5;241m=\u001b[39m\u001b[43mjson\u001b[49m\u001b[38;5;241;43m.\u001b[39;49m\u001b[43mdump\u001b[49m\u001b[43m(\u001b[49m\u001b[43ma\u001b[49m\u001b[43m)\u001b[49m\n\u001b[0;32m      4\u001b[0m \u001b[38;5;28mprint\u001b[39m(a)\n",
      "\u001b[1;31mTypeError\u001b[0m: dump() missing 1 required positional argument: 'fp'"
     ]
    }
   ],
   "source": [
    "import json\n",
    "a='[{\"a\":\"123\"},{\"b\":\"456\"}]'\n",
    "x=json.dump(a)\n",
    "print(a)\n",
    "# print(type(q))\n",
    "# print(type(a))"
   ]
  },
  {
   "cell_type": "code",
   "execution_count": 18,
   "id": "333cb5b9",
   "metadata": {},
   "outputs": [
    {
     "name": "stdout",
     "output_type": "stream",
     "text": [
      "[{\"a\":\"123\",\"b\":\"456\"}]\n",
      "<class 'list'>\n",
      "<class 'str'>\n"
     ]
    }
   ],
   "source": [
    "import json\n",
    "a=\"\"\"[{\"a\":\"123\",\"b\":\"456\"}]\"\"\"\n",
    "x=json.loads(a)\n",
    "print(a)\n",
    "print(type(x))\n",
    "print(type(a))\n"
   ]
  },
  {
   "cell_type": "code",
   "execution_count": 8,
   "id": "860a10a1",
   "metadata": {},
   "outputs": [
    {
     "ename": "AttributeError",
     "evalue": "'dict' object has no attribute 'jsonify'",
     "output_type": "error",
     "traceback": [
      "\u001b[1;31m---------------------------------------------------------------------------\u001b[0m",
      "\u001b[1;31mAttributeError\u001b[0m                            Traceback (most recent call last)",
      "Input \u001b[1;32mIn [8]\u001b[0m, in \u001b[0;36m<cell line: 6>\u001b[1;34m()\u001b[0m\n\u001b[0;32m      4\u001b[0m a\u001b[38;5;241m=\u001b[39m{\u001b[38;5;124m\"\u001b[39m\u001b[38;5;124ma\u001b[39m\u001b[38;5;124m\"\u001b[39m:\u001b[38;5;124m\"\u001b[39m\u001b[38;5;124m123\u001b[39m\u001b[38;5;124m\"\u001b[39m,\u001b[38;5;124m\"\u001b[39m\u001b[38;5;124mb\u001b[39m\u001b[38;5;124m\"\u001b[39m:\u001b[38;5;124m\"\u001b[39m\u001b[38;5;124m456\u001b[39m\u001b[38;5;124m\"\u001b[39m}\n\u001b[0;32m      5\u001b[0m \u001b[38;5;66;03m# x=jsonify(a)\u001b[39;00m\n\u001b[1;32m----> 6\u001b[0m \u001b[38;5;28mprint\u001b[39m(\u001b[43ma\u001b[49m\u001b[38;5;241;43m.\u001b[39;49m\u001b[43mjsonify\u001b[49m())\n",
      "\u001b[1;31mAttributeError\u001b[0m: 'dict' object has no attribute 'jsonify'"
     ]
    }
   ],
   "source": [
    "import jsonify\n",
    "# from flask import jsonify, Flask\n",
    "\n",
    "a={\"a\":\"123\",\"b\":\"456\"}\n",
    "# x=jsonify(a)\n",
    "print(a.jsonify())"
   ]
  },
  {
   "cell_type": "code",
   "execution_count": 14,
   "id": "3ba86825",
   "metadata": {},
   "outputs": [],
   "source": [
    "from jsonify import convert\n",
    "# convert.jsonify('path')\n",
    "convert.jsonify('save.csv')"
   ]
  },
  {
   "cell_type": "code",
   "execution_count": 16,
   "id": "2860dec3",
   "metadata": {},
   "outputs": [
    {
     "ename": "AttributeError",
     "evalue": "module 'json' has no attribute 'parse'",
     "output_type": "error",
     "traceback": [
      "\u001b[1;31m---------------------------------------------------------------------------\u001b[0m",
      "\u001b[1;31mAttributeError\u001b[0m                            Traceback (most recent call last)",
      "Input \u001b[1;32mIn [16]\u001b[0m, in \u001b[0;36m<cell line: 3>\u001b[1;34m()\u001b[0m\n\u001b[0;32m      1\u001b[0m \u001b[38;5;28;01mimport\u001b[39;00m \u001b[38;5;21;01mjson\u001b[39;00m\n\u001b[0;32m      2\u001b[0m text \u001b[38;5;241m=\u001b[39m \u001b[38;5;124m'\u001b[39m\u001b[38;5;124m[ \u001b[39m\u001b[38;5;124m\"\u001b[39m\u001b[38;5;124mFord\u001b[39m\u001b[38;5;124m\"\u001b[39m\u001b[38;5;124m, \u001b[39m\u001b[38;5;124m\"\u001b[39m\u001b[38;5;124mBMW\u001b[39m\u001b[38;5;124m\"\u001b[39m\u001b[38;5;124m, \u001b[39m\u001b[38;5;124m\"\u001b[39m\u001b[38;5;124mAudi\u001b[39m\u001b[38;5;124m\"\u001b[39m\u001b[38;5;124m, \u001b[39m\u001b[38;5;124m\"\u001b[39m\u001b[38;5;124mFiat\u001b[39m\u001b[38;5;124m\"\u001b[39m\u001b[38;5;124m ]\u001b[39m\u001b[38;5;124m'\u001b[39m\n\u001b[1;32m----> 3\u001b[0m myArr \u001b[38;5;241m=\u001b[39m \u001b[43mjson\u001b[49m\u001b[38;5;241;43m.\u001b[39;49m\u001b[43mparse\u001b[49m(text)\n\u001b[0;32m      4\u001b[0m \u001b[38;5;28mprint\u001b[39m(myArr)\n",
      "\u001b[1;31mAttributeError\u001b[0m: module 'json' has no attribute 'parse'"
     ]
    }
   ],
   "source": [
    "import json\n",
    "text = '[ \"Ford\", \"BMW\", \"Audi\", \"Fiat\" ]'\n",
    "myArr = json.parse(text)\n",
    "print(myArr)"
   ]
  },
  {
   "cell_type": "code",
   "execution_count": 18,
   "id": "e3085ecd",
   "metadata": {},
   "outputs": [
    {
     "ename": "SyntaxError",
     "evalue": "invalid syntax (2175928521.py, line 2)",
     "output_type": "error",
     "traceback": [
      "\u001b[1;36m  Input \u001b[1;32mIn [18]\u001b[1;36m\u001b[0m\n\u001b[1;33m    const json = '{ \"fruit\": \"pineapple\", \"fingers\": 10 }';\u001b[0m\n\u001b[1;37m          ^\u001b[0m\n\u001b[1;31mSyntaxError\u001b[0m\u001b[1;31m:\u001b[0m invalid syntax\n"
     ]
    }
   ],
   "source": []
  },
  {
   "cell_type": "code",
   "execution_count": null,
   "id": "122a8c41",
   "metadata": {},
   "outputs": [],
   "source": []
  },
  {
   "cell_type": "code",
   "execution_count": null,
   "id": "58aab1a6",
   "metadata": {},
   "outputs": [],
   "source": []
  }
 ],
 "metadata": {
  "kernelspec": {
   "display_name": "Python 3 (ipykernel)",
   "language": "python",
   "name": "python3"
  },
  "language_info": {
   "codemirror_mode": {
    "name": "ipython",
    "version": 3
   },
   "file_extension": ".py",
   "mimetype": "text/x-python",
   "name": "python",
   "nbconvert_exporter": "python",
   "pygments_lexer": "ipython3",
   "version": "3.10.6"
  }
 },
 "nbformat": 4,
 "nbformat_minor": 5
}
