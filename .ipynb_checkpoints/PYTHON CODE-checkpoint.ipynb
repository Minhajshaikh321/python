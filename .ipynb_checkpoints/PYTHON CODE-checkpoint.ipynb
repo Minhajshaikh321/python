{
 "cells": [
  {
   "cell_type": "code",
   "execution_count": 1,
   "id": "9572bbaa",
   "metadata": {},
   "outputs": [
    {
     "name": "stdout",
     "output_type": "stream",
     "text": [
      "minhaj\n"
     ]
    }
   ],
   "source": [
    "print(\"minhaj\")"
   ]
  },
  {
   "cell_type": "code",
   "execution_count": 3,
   "id": "d360a982",
   "metadata": {},
   "outputs": [
    {
     "name": "stdout",
     "output_type": "stream",
     "text": [
      "12\n"
     ]
    }
   ],
   "source": [
    "a=3\n",
    "b=9\n",
    "print(a+b)\n"
   ]
  },
  {
   "cell_type": "code",
   "execution_count": 4,
   "id": "54716977",
   "metadata": {},
   "outputs": [
    {
     "name": "stdout",
     "output_type": "stream",
     "text": [
      "7\n"
     ]
    }
   ],
   "source": [
    "print(3+4)"
   ]
  },
  {
   "cell_type": "code",
   "execution_count": 5,
   "id": "3cb07478",
   "metadata": {},
   "outputs": [
    {
     "name": "stdout",
     "output_type": "stream",
     "text": [
      "3+4\n"
     ]
    }
   ],
   "source": [
    "print(\"3+4\")"
   ]
  },
  {
   "cell_type": "markdown",
   "id": "5d98fccb",
   "metadata": {},
   "source": [
    "study of comment\n",
    "maine comment pada "
   ]
  },
  {
   "cell_type": "code",
   "execution_count": 6,
   "id": "6eed3a04",
   "metadata": {},
   "outputs": [
    {
     "name": "stdout",
     "output_type": "stream",
     "text": [
      "hello\n"
     ]
    }
   ],
   "source": [
    "print(\"hello\")\n",
    "#hello"
   ]
  },
  {
   "cell_type": "code",
   "execution_count": 2,
   "id": "7d69b879",
   "metadata": {},
   "outputs": [
    {
     "name": "stdout",
     "output_type": "stream",
     "text": [
      "html is markup language\n",
      "use to create website\n"
     ]
    }
   ],
   "source": [
    "print(\"html is markup language\")\n",
    "print(\"use to create website\")"
   ]
  },
  {
   "cell_type": "code",
   "execution_count": 4,
   "id": "de40825f",
   "metadata": {},
   "outputs": [
    {
     "name": "stdout",
     "output_type": "stream",
     "text": [
      "html is markup languageuse to create website\n"
     ]
    }
   ],
   "source": [
    "print(\"html is markup language\",end=\"\")\n",
    "print(\"use to create website\")"
   ]
  },
  {
   "cell_type": "code",
   "execution_count": 5,
   "id": "e02a73e2",
   "metadata": {},
   "outputs": [
    {
     "name": "stdout",
     "output_type": "stream",
     "text": [
      "html is markup language,use to create website\n"
     ]
    }
   ],
   "source": [
    "print(\"html is markup language\",end=\",\")\n",
    "print(\"use to create website\")"
   ]
  },
  {
   "cell_type": "code",
   "execution_count": 7,
   "id": "9342fe42",
   "metadata": {},
   "outputs": [
    {
     "name": "stdout",
     "output_type": "stream",
     "text": [
      "hello world\n",
      "hello world2\n"
     ]
    }
   ],
   "source": [
    "##how to add multiline comment\n",
    "print(\"hello world\")\n",
    "'''\n",
    "multiple\n",
    "lines\n",
    "are ignore\n",
    "here\n",
    "'''\n",
    "print(\"hello world2\")"
   ]
  },
  {
   "cell_type": "code",
   "execution_count": 1,
   "id": "8cefe280",
   "metadata": {},
   "outputs": [
    {
     "name": "stdout",
     "output_type": "stream",
     "text": [
      "He is \\here\n",
      "He is \n",
      "ear\n",
      "Suraiya is \n",
      " mad girl \t123\n"
     ]
    }
   ],
   "source": [
    "##escape sequence:\n",
    "##backslash and n is for new line \n",
    "print(\"He is \\here\")\n",
    "print(\"He is \\near\")\n",
    "##\\t=new tab\n",
    "print(\"Suraiya is \\n mad girl \\t123\")\n",
    "\n",
    "\n"
   ]
  },
  {
   "cell_type": "raw",
   "id": "92776078",
   "metadata": {},
   "source": []
  },
  {
   "cell_type": "code",
   "execution_count": 14,
   "id": "8d98ee5a",
   "metadata": {},
   "outputs": [
    {
     "name": "stdout",
     "output_type": "stream",
     "text": [
      "<class 'str'>\n",
      "<class 'int'>\n",
      "<class 'float'>\n"
     ]
    }
   ],
   "source": [
    "var1=\"HELLO WORLD\"\n",
    "var2=12\n",
    "var3=10.5\n",
    "print(type(var1))\n",
    "print(type(var2))\n",
    "print(type(var3))"
   ]
  },
  {
   "cell_type": "code",
   "execution_count": 15,
   "id": "f61a893f",
   "metadata": {},
   "outputs": [
    {
     "name": "stdout",
     "output_type": "stream",
     "text": [
      "22.5\n"
     ]
    }
   ],
   "source": [
    "var1=\"HELLO WORLD\"\n",
    "var2=12\n",
    "var3=10.5\n",
    "print(var2+var3)\n"
   ]
  },
  {
   "cell_type": "code",
   "execution_count": 16,
   "id": "aece173c",
   "metadata": {},
   "outputs": [
    {
     "name": "stdout",
     "output_type": "stream",
     "text": [
      "HELLO WORLD12\n"
     ]
    }
   ],
   "source": [
    "var1=\"HELLO WORLD\"\n",
    "var2=\"12\"\n",
    "var3=10.5\n",
    "print(var1+var2)\n",
    "\n"
   ]
  },
  {
   "cell_type": "code",
   "execution_count": 17,
   "id": "020afe04",
   "metadata": {},
   "outputs": [
    {
     "name": "stdout",
     "output_type": "stream",
     "text": [
      "HELLO WORLDHELLO WORLDHELLO WORLDHELLO WORLDHELLO WORLDHELLO WORLDHELLO WORLDHELLO WORLDHELLO WORLDHELLO WORLD\n"
     ]
    }
   ],
   "source": [
    "print(10*\"HELLO WORLD\")"
   ]
  },
  {
   "cell_type": "code",
   "execution_count": 18,
   "id": "7a51873d",
   "metadata": {},
   "outputs": [
    {
     "name": "stdout",
     "output_type": "stream",
     "text": [
      "HELLO WORLD\n",
      "HELLO WORLD\n",
      "HELLO WORLD\n",
      "HELLO WORLD\n",
      "HELLO WORLD\n",
      "HELLO WORLD\n",
      "HELLO WORLD\n",
      "HELLO WORLD\n",
      "HELLO WORLD\n",
      "HELLO WORLD\n",
      "\n"
     ]
    }
   ],
   "source": [
    "print(10*\"HELLO WORLD\\n\")"
   ]
  },
  {
   "cell_type": "code",
   "execution_count": null,
   "id": "a7094398",
   "metadata": {},
   "outputs": [],
   "source": [
    "x=2\n",
    "y=2.2\n",
    "z=x+y\n",
    "print(z)\n"
   ]
  },
  {
   "cell_type": "raw",
   "id": "a7a90547",
   "metadata": {},
   "source": []
  },
  {
   "cell_type": "code",
   "execution_count": 27,
   "id": "88241d1f",
   "metadata": {},
   "outputs": [
    {
     "name": "stdout",
     "output_type": "stream",
     "text": [
      "3020302030203020302030203020302030203020\n"
     ]
    }
   ],
   "source": [
    "var1=\"30\"\n",
    "var2=\"20\"\n",
    "print(10* str((var1)+(var2)))"
   ]
  },
  {
   "cell_type": "code",
   "execution_count": 26,
   "id": "b5f0d356",
   "metadata": {},
   "outputs": [
    {
     "name": "stdout",
     "output_type": "stream",
     "text": [
      "50505050505050505050\n"
     ]
    }
   ],
   "source": [
    "var1=\"30\"\n",
    "var2=\"20\"\n",
    "print(10* str(int(var1)+int(var2)))"
   ]
  },
  {
   "cell_type": "code",
   "execution_count": 28,
   "id": "deecd12f",
   "metadata": {},
   "outputs": [
    {
     "ename": "SyntaxError",
     "evalue": "invalid decimal literal (3107910046.py, line 2)",
     "output_type": "error",
     "traceback": [
      "\u001b[1;36m  Input \u001b[1;32mIn [28]\u001b[1;36m\u001b[0m\n\u001b[1;33m    2var=\"world\"\u001b[0m\n\u001b[1;37m    ^\u001b[0m\n\u001b[1;31mSyntaxError\u001b[0m\u001b[1;31m:\u001b[0m invalid decimal literal\n"
     ]
    }
   ],
   "source": [
    "##illegal variable\n",
    "2var=\"world\"\n",
    "var-start=\"world\"\n",
    "var start=\"world\""
   ]
  },
  {
   "cell_type": "code",
   "execution_count": 32,
   "id": "669c9ce9",
   "metadata": {},
   "outputs": [
    {
     "name": "stdout",
     "output_type": "stream",
     "text": [
      "hello\n",
      "hello\n",
      "hello\n",
      "hello\n",
      "hello\n"
     ]
    }
   ],
   "source": [
    "##variablenames:--\n",
    "thevar=\"hello\"\n",
    "the_var=\"hello\"\n",
    "_the_var=\"hello\"\n",
    "THEVAR=\"hello\"\n",
    "thevar2=\"hello\"\n",
    "print(thevar)\n",
    "print(the_var)\n",
    "print(_the_var)\n",
    "print(THEVAR)\n",
    "print(thevar2)"
   ]
  },
  {
   "cell_type": "code",
   "execution_count": 72,
   "id": "4e2c8fc7",
   "metadata": {},
   "outputs": [
    {
     "name": "stdout",
     "output_type": "stream",
     "text": [
      "Hello\n",
      "Hello\n",
      "Hello\n"
     ]
    }
   ],
   "source": [
    "##multiplevariable--\n",
    "#camelcase\n",
    "theVariableName=\"Hello\"\n",
    "print(theVariableName)\n",
    "#pascalcase\n",
    "TheVariableName=\"Hello\"\n",
    "print(TheVariableName)\n",
    "#snakecase\n",
    "the_variable_name=\"Hello\"\n",
    "print(the_variable_name)"
   ]
  },
  {
   "cell_type": "code",
   "execution_count": 39,
   "id": "caa09e99",
   "metadata": {},
   "outputs": [
    {
     "name": "stdout",
     "output_type": "stream",
     "text": [
      "white\n",
      "Black\n",
      "red\n"
     ]
    }
   ],
   "source": [
    "a, b, c = \"white\", \"Black\", \"red\"\n",
    "print(a)\n",
    "print(b)\n",
    "print(c)\n"
   ]
  },
  {
   "cell_type": "code",
   "execution_count": 42,
   "id": "03cd5810",
   "metadata": {},
   "outputs": [],
   "source": [
    "x=\"awesome\"\n",
    "def myfunc():\n",
    "    print(\"Python is \" +x)\n",
    "    "
   ]
  },
  {
   "cell_type": "code",
   "execution_count": 34,
   "id": "75f34454",
   "metadata": {},
   "outputs": [
    {
     "name": "stdout",
     "output_type": "stream",
     "text": [
      "R\n",
      "e\n",
      "13\n",
      "Roses are red\n",
      "Rss\n",
      "Rea d\n",
      "e r\n",
      "Roses\n",
      "Roses are red\n",
      "Rssaerd\n",
      "are r\n",
      "der era sesoR\n",
      "dreassR\n"
     ]
    }
   ],
   "source": [
    "#string slicing\n",
    "mystr=\"Roses are red\"\n",
    "print(mystr[0])\n",
    "print(mystr[3])\n",
    "print(len(mystr))\n",
    "print(mystr[0:30])\n",
    "print(mystr[0:6:2])\n",
    "print(mystr[0:14:3])\n",
    "print(mystr[-5:-2])\n",
    "print(mystr[:5])\n",
    "print(mystr[0:])\n",
    "print(mystr[::2])\n",
    "print(mystr[-7:-2])\n",
    "print(mystr[::-1])\n",
    "print(mystr[::-2])"
   ]
  },
  {
   "cell_type": "code",
   "execution_count": 56,
   "id": "fccc0a14",
   "metadata": {},
   "outputs": [
    {
     "name": "stdout",
     "output_type": "stream",
     "text": [
      "<class 'list'>\n"
     ]
    }
   ],
   "source": [
    "x = [\"apple\", \"banana\", \"cherry\"]\n",
    "print(type(x))"
   ]
  },
  {
   "cell_type": "code",
   "execution_count": 57,
   "id": "576d04f0",
   "metadata": {},
   "outputs": [
    {
     "name": "stdout",
     "output_type": "stream",
     "text": [
      "<class 'tuple'>\n"
     ]
    }
   ],
   "source": [
    "x = (\"apple\", \"banana\", \"cherry\")\n",
    "print(type(x))\n"
   ]
  },
  {
   "cell_type": "code",
   "execution_count": 69,
   "id": "2fb7aa62",
   "metadata": {},
   "outputs": [
    {
     "name": "stdout",
     "output_type": "stream",
     "text": [
      "1\n",
      "2.3\n",
      "1j\n",
      "<class 'int'>\n",
      "<class 'float'>\n",
      "<class 'complex'>\n",
      "1.0\n",
      "2\n"
     ]
    }
   ],
   "source": [
    "#python numbers \n",
    "x=1\n",
    "y=2.3\n",
    "z=1j\n",
    "print(x)\n",
    "print(y)\n",
    "print(z)\n",
    "#number type\n",
    "print(type(x))\n",
    "print(type(y))\n",
    "print(type(z))\n",
    "#number type conversion\n",
    "x = float(1)\n",
    "print(x)\n",
    "y=int(2.3)\n",
    "print(y)\n",
    "#Note: You cannot convert complex numbers into another number type."
   ]
  },
  {
   "cell_type": "code",
   "execution_count": 2,
   "id": "cfbdf1ed",
   "metadata": {},
   "outputs": [
    {
     "name": "stdout",
     "output_type": "stream",
     "text": [
      "e\n",
      "o\n"
     ]
    }
   ],
   "source": [
    "#strings are arrays\n",
    "#strings in Python are arrays of bytes representing unicode characters.\n",
    "a=\"hello world\"\n",
    "print(a[1])\n",
    "print(a[4])"
   ]
  },
  {
   "cell_type": "code",
   "execution_count": 7,
   "id": "8393cfad",
   "metadata": {},
   "outputs": [
    {
     "name": "stdout",
     "output_type": "stream",
     "text": [
      "m\n",
      "a\n",
      "n\n",
      "g\n",
      "o\n"
     ]
    }
   ],
   "source": [
    "#loop through string\n",
    "for c in \"mango\":\n",
    "    print(c)"
   ]
  },
  {
   "cell_type": "code",
   "execution_count": 28,
   "id": "4e8e4bc4",
   "metadata": {},
   "outputs": [
    {
     "name": "stdout",
     "output_type": "stream",
     "text": [
      "a\n",
      "p\n",
      "p\n",
      "l\n",
      "e\n"
     ]
    }
   ],
   "source": [
    "var1=\"apple\"\n",
    "for c in var1:\n",
    "    print(c)"
   ]
  },
  {
   "cell_type": "code",
   "execution_count": 13,
   "id": "4ff5119a",
   "metadata": {},
   "outputs": [],
   "source": [
    "#lenth  strings\n",
    "y=\"world\"\n",
    "n=len(y)"
   ]
  },
  {
   "cell_type": "code",
   "execution_count": 15,
   "id": "40036dee",
   "metadata": {},
   "outputs": [
    {
     "name": "stdout",
     "output_type": "stream",
     "text": [
      "True\n",
      "True\n"
     ]
    }
   ],
   "source": [
    "text=\"Great things require time\"\n",
    "print(\"require\" in text)\n",
    "print(\"time\" in text)"
   ]
  },
  {
   "cell_type": "code",
   "execution_count": 32,
   "id": "52adb8ce",
   "metadata": {},
   "outputs": [
    {
     "name": "stdout",
     "output_type": "stream",
     "text": [
      "False\n",
      "True\n",
      "True\n",
      "False\n",
      "True\n",
      "3\n",
      "6\n",
      "maroofisabadboy\n",
      "MAROOFISABADBOY\n",
      "Morroofisorbordboy\n"
     ]
    }
   ],
   "source": [
    "x=\"Maroof is a bad boy\"\n",
    "print(x.isalnum())\n",
    "y=\"Maroofisabadboy\"\n",
    "print(y.isalnum())\n",
    "y=\"Maroofisabadboy\"\n",
    "print(y.isalpha())\n",
    "x=\"Maroof is a bad boy\"\n",
    "print(x.isalpha())\n",
    "print(x.endswith(\"boy\"))\n",
    "print(y.count(\"o\"))\n",
    "print(y.find(\"is\"))\n",
    "print(y.lower())\n",
    "print(y.upper())\n",
    "print(y.replace(\"a\",\"or\"))"
   ]
  },
  {
   "cell_type": "code",
   "execution_count": 43,
   "id": "017cf18b",
   "metadata": {},
   "outputs": [
    {
     "name": "stdout",
     "output_type": "stream",
     "text": [
      "True\n",
      "False\n",
      "1\n",
      "0\n",
      "True\n",
      "False\n",
      "1\n",
      "1\n",
      "0.0\n"
     ]
    }
   ],
   "source": [
    "#boolean in python True or False:--\n",
    "print(True)\n",
    "print(False)\n",
    "print(int(True))\n",
    "print(int(False))\n",
    "a='python is nothing but anaconda'\n",
    "b=''\n",
    "print(bool(a))\n",
    "print(bool(b))\n",
    "print(True+False)\n",
    "print(True-False)\n",
    "print(False/True)"
   ]
  },
  {
   "cell_type": "code",
   "execution_count": 2,
   "id": "c0299d8a",
   "metadata": {},
   "outputs": [
    {
     "name": "stdout",
     "output_type": "stream",
     "text": [
      "<class 'dict'>\n"
     ]
    }
   ],
   "source": [
    "a={}\n",
    "print(type(a))"
   ]
  },
  {
   "cell_type": "code",
   "execution_count": 3,
   "id": "37ca5a5a",
   "metadata": {},
   "outputs": [
    {
     "name": "stdout",
     "output_type": "stream",
     "text": [
      "<class 'NoneType'>\n"
     ]
    }
   ],
   "source": [
    "x=None\n",
    "print(type(x))"
   ]
  },
  {
   "cell_type": "markdown",
   "id": "1e44ec8b",
   "metadata": {},
   "source": [
    "# Operators\n"
   ]
  },
  {
   "cell_type": "code",
   "execution_count": 17,
   "id": "de6d5470",
   "metadata": {},
   "outputs": [
    {
     "name": "stdout",
     "output_type": "stream",
     "text": [
      "9\n",
      "3\n",
      "30\n",
      "4.0\n",
      "0\n",
      "8\n",
      "6\n"
     ]
    }
   ],
   "source": [
    "##aritematic operators\n",
    "#addn\n",
    "x=4\n",
    "y=5\n",
    "print(x+y)\n",
    "#subtrn\n",
    "x=6\n",
    "y=3\n",
    "print(x-y)\n",
    "#multipn\n",
    "y=5\n",
    "z=4\n",
    "print(x*y)\n",
    "#divisn(quotient)\n",
    "x=12\n",
    "y=3\n",
    "print(x/y)\n",
    "#modulus(reminder)\n",
    "x=15\n",
    "y=3\n",
    "print(x%y)\n",
    "#exponentn\n",
    "x=2\n",
    "y=3\n",
    "print(x**y)#2*2*2\n",
    "#floordivision\n",
    "x=12\n",
    "y=2\n",
    "print(x//y)#round the result down to nearest whole no."
   ]
  },
  {
   "cell_type": "code",
   "execution_count": 27,
   "id": "d7021ed2",
   "metadata": {},
   "outputs": [
    {
     "name": "stdout",
     "output_type": "stream",
     "text": [
      "6\n",
      "7\n",
      "3\n",
      "12\n",
      "4.0\n",
      "0\n",
      "6\n",
      "64\n"
     ]
    }
   ],
   "source": [
    "#assignment operator\n",
    "#1)=\n",
    "x=6\n",
    "print(x)\n",
    "#2)+=\n",
    "x=4\n",
    "x+=3\n",
    "print(x)\n",
    "#3)-=\n",
    "y=5\n",
    "y-=2\n",
    "print(y)\n",
    "#4)*=\n",
    "z=4\n",
    "z*=3\n",
    "print(z)\n",
    "#5)/=\n",
    "x=12\n",
    "x/=3\n",
    "print(x)\n",
    "#6)%=\n",
    "x=15\n",
    "x%=5\n",
    "print(x)\n",
    "#7)//=\n",
    "x=19\n",
    "x//=3\n",
    "print(x)\n",
    "#8)**=\n",
    "x=4\n",
    "x**=3\n",
    "print(x)"
   ]
  },
  {
   "cell_type": "markdown",
   "id": "a10f6d35",
   "metadata": {},
   "source": [
    "# Binary to decimal"
   ]
  },
  {
   "cell_type": "code",
   "execution_count": 34,
   "id": "b54e3457",
   "metadata": {},
   "outputs": [
    {
     "name": "stdout",
     "output_type": "stream",
     "text": [
      "0\n",
      "7\n",
      "6\n",
      "1\n",
      "80\n"
     ]
    }
   ],
   "source": [
    "#9)&= AND\n",
    "x=4\n",
    "x&=3\n",
    "print(x)\n",
    "#10)|=  OR\n",
    "x=5\n",
    "x|=3\n",
    "print(x)\n",
    "#11)^=  XOR\n",
    "x=5\n",
    "x^=3\n",
    "print(x)\n",
    "#12)>>=  BITWISE RIGHT SHIFT \n",
    "x=5\n",
    "x>>=2\n",
    "print(x)\n",
    "#13)<<=  BITWISE LEFT SHIFT\n",
    "x=20\n",
    "x<<=2\n",
    "print(x)"
   ]
  },
  {
   "cell_type": "code",
   "execution_count": 40,
   "id": "9929c6a8",
   "metadata": {},
   "outputs": [
    {
     "name": "stdout",
     "output_type": "stream",
     "text": [
      "False\n",
      "True\n",
      "True\n",
      "False\n",
      "True\n",
      "False\n"
     ]
    }
   ],
   "source": [
    "#COMPARISON OPERATORS:\n",
    "#== equal\n",
    "a=5\n",
    "b=3\n",
    "print(a==b)\n",
    "#!= not qual\n",
    "a=5\n",
    "b=3\n",
    "print(a!=b)\n",
    "#> greater than\n",
    "a=5\n",
    "b=3\n",
    "print(a>b)\n",
    "#< less than\n",
    "a=5\n",
    "b=3\n",
    "print(a<b)\n",
    "#>= greater than or equal to\n",
    "a=5\n",
    "b=3\n",
    "print(a>=b)\n",
    "#<= less than or equal to\n",
    "a=5\n",
    "b=3\n",
    "print(a<=b)"
   ]
  },
  {
   "cell_type": "code",
   "execution_count": 45,
   "id": "e6605ee2",
   "metadata": {},
   "outputs": [
    {
     "name": "stdout",
     "output_type": "stream",
     "text": [
      "True\n",
      "True\n",
      "False\n",
      "False\n"
     ]
    }
   ],
   "source": [
    "#LOGICAL OPERATORS\n",
    "#and\n",
    "x = 8\n",
    "print(x > 3 and x < 10)\n",
    "#or\n",
    "x=4\n",
    "print(x>3 or x<4)\n",
    "#not\n",
    "x = 8\n",
    "print(not(x > 3 and x < 10))\n",
    "x = 8\n",
    "print(not(x > 3 or x < 10))"
   ]
  },
  {
   "cell_type": "code",
   "execution_count": 7,
   "id": "941d6c60",
   "metadata": {},
   "outputs": [
    {
     "name": "stdout",
     "output_type": "stream",
     "text": [
      "2321495409216\n",
      "2321495046592\n",
      "2321495409216\n",
      "True\n",
      "False\n",
      "True\n"
     ]
    }
   ],
   "source": [
    "#IDENTITY OPERATORS\n",
    "#\"is\" Returns True if both variables are the same object\t\n",
    "a=[\"rose\",\"lily\"]\n",
    "b=[\"rose\",\"lily\"]\n",
    "c=a\n",
    "\n",
    "#check memory location\n",
    "print(id(a))\n",
    "print(id(b))\n",
    "print(id(c))\n",
    "\n",
    "print(a is c)\n",
    "print(a is b) #check memory location here using id\n",
    "print(a==b)   #check content here "
   ]
  },
  {
   "cell_type": "code",
   "execution_count": 9,
   "id": "fe86f74b",
   "metadata": {},
   "outputs": [
    {
     "name": "stdout",
     "output_type": "stream",
     "text": [
      "False\n",
      "True\n",
      "False\n"
     ]
    }
   ],
   "source": [
    "#\"is not\" Returns True if both variables are the same object\t\n",
    "a=[\"rose\",\"lily\"]\n",
    "b=[\"rose\",\"lily\"]\n",
    "c=a\n",
    "print(a is not c)\n",
    "print(a is not b)\n",
    "print(a!=b)   "
   ]
  },
  {
   "cell_type": "code",
   "execution_count": 1,
   "id": "767f9179",
   "metadata": {},
   "outputs": [
    {
     "name": "stdout",
     "output_type": "stream",
     "text": [
      "True\n",
      "True\n"
     ]
    }
   ],
   "source": [
    "#MEMBORSHIP OPERATORS\n",
    "#Membership operators are used to test if a sequence is presented in an object:\n",
    "#in\n",
    "a=[\"rose\",\"lily\"]\n",
    "print(\"rose\" in a)\n",
    "#in not\n",
    "a=[\"rose\",\"lily\"]\n",
    "print(\"tulip\" not in a)\n"
   ]
  },
  {
   "cell_type": "code",
   "execution_count": 5,
   "id": "9bc6caef",
   "metadata": {},
   "outputs": [
    {
     "name": "stdout",
     "output_type": "stream",
     "text": [
      "-21\n",
      "80\n",
      "5\n"
     ]
    }
   ],
   "source": [
    "#BITWISE OPERATOR\n",
    "#& AND\n",
    "#| OR\n",
    "#^ XOR\n",
    "#~ NOT\n",
    "a=20\n",
    "print(~a)\n",
    "#<< left shift\n",
    "print(a<<2)\n",
    "#<< right shift\n",
    "print(a>>2)"
   ]
  },
  {
   "cell_type": "code",
   "execution_count": 15,
   "id": "1e7b600f",
   "metadata": {},
   "outputs": [
    {
     "name": "stdout",
     "output_type": "stream",
     "text": [
      "3\n",
      "5\n"
     ]
    }
   ],
   "source": [
    "a=5\n",
    "b=3\n",
    "print( a and b)\n",
    "print(a or b)"
   ]
  },
  {
   "cell_type": "code",
   "execution_count": 2,
   "id": "3d1942df",
   "metadata": {},
   "outputs": [
    {
     "ename": "TypeError",
     "evalue": "can only concatenate str (not \"int\") to str",
     "output_type": "error",
     "traceback": [
      "\u001b[1;31m---------------------------------------------------------------------------\u001b[0m",
      "\u001b[1;31mTypeError\u001b[0m                                 Traceback (most recent call last)",
      "Input \u001b[1;32mIn [2]\u001b[0m, in \u001b[0;36m<cell line: 3>\u001b[1;34m()\u001b[0m\n\u001b[0;32m      1\u001b[0m x\u001b[38;5;241m=\u001b[39m\u001b[38;5;124m\"\u001b[39m\u001b[38;5;124mflip\u001b[39m\u001b[38;5;124m\"\u001b[39m\n\u001b[0;32m      2\u001b[0m y\u001b[38;5;241m=\u001b[39m\u001b[38;5;241m3\u001b[39m\n\u001b[1;32m----> 3\u001b[0m \u001b[38;5;28mprint\u001b[39m(\u001b[43mx\u001b[49m\u001b[38;5;241;43m+\u001b[39;49m\u001b[43my\u001b[49m)\n",
      "\u001b[1;31mTypeError\u001b[0m: can only concatenate str (not \"int\") to str"
     ]
    }
   ],
   "source": [
    "x=\"flip\"\n",
    "y=3\n",
    "print(x+y)"
   ]
  },
  {
   "cell_type": "markdown",
   "id": "7546d08f",
   "metadata": {},
   "source": [
    "# List\n"
   ]
  },
  {
   "cell_type": "code",
   "execution_count": 5,
   "id": "c0fd016e",
   "metadata": {},
   "outputs": [
    {
     "name": "stdout",
     "output_type": "stream",
     "text": [
      "['apple', 'banana', 'cherry', 'apple', 'cherry']\n",
      "5\n",
      "[3, 7, True, 'apple', 'mango', False, 'blue']\n",
      "<class 'list'>\n"
     ]
    }
   ],
   "source": [
    "list = [\"apple\", \"banana\", \"cherry\", \"apple\", \"cherry\"]\n",
    "print(list)\n",
    "print(len(list))\n",
    "#add diff data type\n",
    "list1=[3,7,True,\"apple\",\"mango\",False,\"blue\"]\n",
    "print(list1)\n",
    "print(type(list1))"
   ]
  },
  {
   "cell_type": "markdown",
   "id": "c89e7639",
   "metadata": {},
   "source": [
    "# Acess List Items"
   ]
  },
  {
   "cell_type": "code",
   "execution_count": 14,
   "id": "7a54c0c2",
   "metadata": {},
   "outputs": [
    {
     "name": "stdout",
     "output_type": "stream",
     "text": [
      "banana\n",
      "cherry\n",
      "['mango', 'cherry']\n",
      "['apple', 'banana']\n",
      "['mango', 'cherry']\n",
      "['banana', 'mango']\n"
     ]
    }
   ],
   "source": [
    "list = [\"apple\", \"banana\",\"mango\", \"cherry\"]\n",
    "print(list[1])\n",
    "print(list[-1])\n",
    "print(list[2:4])\n",
    "print(list[:2])\n",
    "print(list[2:])\n",
    "print(list[-3:-1])"
   ]
  },
  {
   "cell_type": "markdown",
   "id": "63339582",
   "metadata": {},
   "source": [
    "# Change List Items"
   ]
  },
  {
   "cell_type": "code",
   "execution_count": 22,
   "id": "1e6acf07",
   "metadata": {},
   "outputs": [
    {
     "name": "stdout",
     "output_type": "stream",
     "text": [
      "['grapes']\n",
      "['apple', 'grapes', 'jackfruit', 'cherry']\n",
      "['apple', 'banana', 'watermelon', 'mango', 'cherry']\n"
     ]
    }
   ],
   "source": [
    "list1 = [\"apple\", \"banana\",\"mango\", \"cherry\"]\n",
    "list1=[\"grapes\"]\n",
    "thelist = [\"apple\", \"banana\",\"mango\", \"cherry\"]\n",
    "thelist[1:3]=[\"grapes\",\"jackfruit\"]\n",
    "print(list1)\n",
    "print(thelist)\n",
    "thislist = [\"apple\", \"banana\",\"mango\", \"cherry\"]\n",
    "thislist.insert(2, \"watermelon\")\n",
    "print(thislist)"
   ]
  },
  {
   "cell_type": "markdown",
   "id": "1640db3f",
   "metadata": {},
   "source": [
    "# Add List and Remove List"
   ]
  },
  {
   "cell_type": "code",
   "execution_count": 31,
   "id": "6427f52e",
   "metadata": {},
   "outputs": [
    {
     "name": "stdout",
     "output_type": "stream",
     "text": [
      "['apple', 'banana', 'cherry', 'orange']\n",
      "['apple', 'orange', 'banana', 'cherry', 'orange']\n",
      "['apple', 'orange', 'banana', 'cherry', 'orange', 'mango', 'pineapple', 'papaya']\n",
      "['apple', 'orange', 'cherry', 'orange', 'mango', 'pineapple', 'papaya']\n",
      "['apple', 'cherry', 'orange', 'mango', 'pineapple', 'papaya']\n",
      "['apple', 'cherry', 'orange', 'mango', 'pineapple']\n",
      "['cherry', 'orange', 'mango', 'pineapple']\n",
      "[]\n"
     ]
    }
   ],
   "source": [
    "thislist = [\"apple\", \"banana\", \"cherry\"]\n",
    "thislist.append(\"orange\")\n",
    "print(thislist)\n",
    "#insert\n",
    "thislist.insert(1, \"orange\")\n",
    "print(thislist)\n",
    "#extend\n",
    "list = [\"mango\", \"pineapple\", \"papaya\"]\n",
    "thislist.extend(list)\n",
    "print(thislist)\n",
    "##REMOVE LIST\n",
    "thislist.remove(\"banana\")\n",
    "print(thislist)\n",
    "thislist.pop(1)\n",
    "print(thislist)\n",
    "#pop\n",
    "thislist.pop()\n",
    "print(thislist)\n",
    "#del\n",
    "del thislist[0]\n",
    "print(thislist)\n",
    "#clear\n",
    "thislist.clear()\n",
    "print(thislist)"
   ]
  },
  {
   "cell_type": "code",
   "execution_count": 46,
   "id": "fbca9e4b",
   "metadata": {},
   "outputs": [
    {
     "name": "stdout",
     "output_type": "stream",
     "text": [
      "['phy', 'chem', 'bio', 'hist', 'geog']\n"
     ]
    }
   ],
   "source": [
    "list=[\"phy\",\"chem\",\"bio\"]\n",
    "tuple=(\"hist\",\"geog\")\n",
    "list.extend(tuple)\n",
    "print(list)"
   ]
  },
  {
   "cell_type": "code",
   "execution_count": 51,
   "id": "2ee9692e",
   "metadata": {},
   "outputs": [
    {
     "name": "stdout",
     "output_type": "stream",
     "text": [
      "['bio', 'chem', 'phy']\n",
      "[1, 3, 5, 6, 8, 9]\n",
      "[9, 8, 6, 5, 3, 1]\n"
     ]
    }
   ],
   "source": [
    "#sort list\n",
    "list=[\"phy\",\"chem\",\"bio\"]\n",
    "list.sort()\n",
    "print(list)\n",
    "a=[1,5,3,9,6,8]\n",
    "a.sort()\n",
    "print(a)\n",
    "a1=[1,5,3,9,6,8]\n",
    "a1.sort(reverse=True)\n",
    "print(a1)"
   ]
  },
  {
   "cell_type": "code",
   "execution_count": 64,
   "id": "d6194455",
   "metadata": {
    "scrolled": true
   },
   "outputs": [
    {
     "name": "stdout",
     "output_type": "stream",
     "text": [
      "[1, 7, 0, 4]\n"
     ]
    },
    {
     "ename": "TypeError",
     "evalue": "'list' object is not callable",
     "output_type": "error",
     "traceback": [
      "\u001b[1;31m---------------------------------------------------------------------------\u001b[0m",
      "\u001b[1;31mTypeError\u001b[0m                                 Traceback (most recent call last)",
      "Input \u001b[1;32mIn [64]\u001b[0m, in \u001b[0;36m<cell line: 7>\u001b[1;34m()\u001b[0m\n\u001b[0;32m      5\u001b[0m \u001b[38;5;66;03m#Another way to make a copy is to use the built-in method list().\u001b[39;00m\n\u001b[0;32m      6\u001b[0m list1\u001b[38;5;241m=\u001b[39m[\u001b[38;5;124m'\u001b[39m\u001b[38;5;124mapp\u001b[39m\u001b[38;5;124m'\u001b[39m,\u001b[38;5;124m'\u001b[39m\u001b[38;5;124mwp\u001b[39m\u001b[38;5;124m'\u001b[39m,\u001b[38;5;124m'\u001b[39m\u001b[38;5;124mfb\u001b[39m\u001b[38;5;124m'\u001b[39m]\n\u001b[1;32m----> 7\u001b[0m mylist\u001b[38;5;241m=\u001b[39m\u001b[38;5;28;43mlist\u001b[39;49m\u001b[43m(\u001b[49m\u001b[43mlist1\u001b[49m\u001b[43m)\u001b[49m\n\u001b[0;32m      8\u001b[0m \u001b[38;5;28mprint\u001b[39m(mylist)\n",
      "\u001b[1;31mTypeError\u001b[0m: 'list' object is not callable"
     ]
    }
   ],
   "source": [
    "#COPY LIST\n",
    "list1=[1,7,0,4]\n",
    "list2=list1.copy()\n",
    "print(list2)\n",
    "#Another way to make a copy is to use the built-in method list().\n",
    "list1=['app','wp','fb']\n",
    "mylist=list(list1)\n",
    "print(mylist)"
   ]
  },
  {
   "cell_type": "code",
   "execution_count": 65,
   "id": "414d6888",
   "metadata": {},
   "outputs": [
    {
     "name": "stdout",
     "output_type": "stream",
     "text": [
      "None\n"
     ]
    }
   ],
   "source": [
    "list1=[1,2,3]\n",
    "list2=[4,5,6]\n",
    "a=list2.append(list1)\n",
    "print(a)\n"
   ]
  },
  {
   "cell_type": "code",
   "execution_count": 3,
   "id": "e9a239d1",
   "metadata": {},
   "outputs": [
    {
     "name": "stdout",
     "output_type": "stream",
     "text": [
      "[1, 2, 3, 5]\n"
     ]
    }
   ],
   "source": [
    "list1=[1,2,3]\n",
    "b=5\n",
    "list1.append(b)\n",
    "print(list1)"
   ]
  },
  {
   "cell_type": "code",
   "execution_count": 4,
   "id": "44e1e616",
   "metadata": {},
   "outputs": [
    {
     "name": "stdout",
     "output_type": "stream",
     "text": [
      "hello\n"
     ]
    }
   ],
   "source": [
    "print(\"hello\")"
   ]
  },
  {
   "cell_type": "code",
   "execution_count": 23,
   "id": "d2d8eb8e",
   "metadata": {},
   "outputs": [
    {
     "name": "stdout",
     "output_type": "stream",
     "text": [
      "[1, 2, 3, 5]\n"
     ]
    }
   ],
   "source": [
    "list1=[1,2,3]\n",
    "b=5\n",
    "list1.append(b)\n",
    "print(list1)"
   ]
  },
  {
   "cell_type": "code",
   "execution_count": 12,
   "id": "61a2d7d1",
   "metadata": {},
   "outputs": [
    {
     "name": "stdout",
     "output_type": "stream",
     "text": [
      "['apple', 'banana', 'mango']\n",
      "['apple', 'orange', 'mango']\n",
      "['apple', 'cherry', 'orange', 'mango']\n",
      "['apple', 'cherry', 'mango', 'orange']\n",
      "['apple', 'mango', 'orange']\n",
      "['apple', 'mango', 'orange', 'papaya']\n",
      "['papaya', 'orange', 'mango', 'apple']\n"
     ]
    }
   ],
   "source": [
    "fruits=['apple','banana','mango']\n",
    "print(fruits)\n",
    "\n",
    "fruits[1]='orange' #replace\n",
    "print(fruits)\n",
    "\n",
    "fruits.insert(1,'cherry') #insert\n",
    "print(fruits)\n",
    "\n",
    "fruits.sort() #sort\n",
    "print(fruits)\n",
    "\n",
    "del fruits[1] #dlt\n",
    "print(fruits)\n",
    "\n",
    "fruits.append('papaya') #append\n",
    "print(fruits)\n",
    "\n",
    "fruits.reverse() #reverse\n",
    "print(fruits)\n",
    "\n"
   ]
  },
  {
   "cell_type": "code",
   "execution_count": 1,
   "id": "1211ac3f",
   "metadata": {},
   "outputs": [
    {
     "name": "stdout",
     "output_type": "stream",
     "text": [
      "120\n"
     ]
    }
   ],
   "source": [
    "a=30\n",
    "a<<=2\n",
    "print(a)"
   ]
  },
  {
   "cell_type": "code",
   "execution_count": 2,
   "id": "a532b70e",
   "metadata": {},
   "outputs": [
    {
     "name": "stdout",
     "output_type": "stream",
     "text": [
      "240\n"
     ]
    }
   ],
   "source": [
    "a=30\n",
    "a<<=3\n",
    "print(a)"
   ]
  },
  {
   "cell_type": "code",
   "execution_count": 3,
   "id": "7b54aeeb",
   "metadata": {},
   "outputs": [
    {
     "name": "stdout",
     "output_type": "stream",
     "text": [
      "80\n"
     ]
    }
   ],
   "source": [
    "a=5\n",
    "a<<=4\n",
    "print(a)"
   ]
  },
  {
   "cell_type": "code",
   "execution_count": 5,
   "id": "9bbdc91a",
   "metadata": {},
   "outputs": [
    {
     "name": "stdout",
     "output_type": "stream",
     "text": [
      "3\n"
     ]
    }
   ],
   "source": [
    "a=30\n",
    "a>>=3\n",
    "print(a)"
   ]
  },
  {
   "cell_type": "code",
   "execution_count": 8,
   "id": "792bc591",
   "metadata": {},
   "outputs": [
    {
     "name": "stdout",
     "output_type": "stream",
     "text": [
      "4\n"
     ]
    }
   ],
   "source": [
    "a=-5\n",
    "print(~a)"
   ]
  },
  {
   "cell_type": "markdown",
   "id": "7e0a8bac",
   "metadata": {},
   "source": [
    "# For Loop:\n"
   ]
  },
  {
   "cell_type": "code",
   "execution_count": 2,
   "id": "085524a2",
   "metadata": {},
   "outputs": [
    {
     "name": "stdout",
     "output_type": "stream",
     "text": [
      "maths\n",
      "phy\n",
      "chem\n"
     ]
    }
   ],
   "source": [
    "sub=['maths','phy','chem']\n",
    "for x in sub:\n",
    "    print(x)"
   ]
  },
  {
   "cell_type": "code",
   "execution_count": 4,
   "id": "2f89b43b",
   "metadata": {},
   "outputs": [
    {
     "name": "stdout",
     "output_type": "stream",
     "text": [
      "r\n",
      "e\n",
      "a\n",
      "g\n",
      "e\n",
      "n\n",
      "t\n"
     ]
    }
   ],
   "source": [
    "#Looping Through a String\n",
    "for x in \"reagent\": \n",
    "    print(x)\n"
   ]
  },
  {
   "cell_type": "code",
   "execution_count": 5,
   "id": "d69e72a0",
   "metadata": {},
   "outputs": [
    {
     "name": "stdout",
     "output_type": "stream",
     "text": [
      "maths\n",
      "phy\n",
      "chem\n"
     ]
    }
   ],
   "source": [
    "#The break Statement\n",
    "sub=['maths','phy','chem','bio']\n",
    "for x in sub:\n",
    "    print(x)\n",
    "    if x=='chem':\n",
    "        break\n",
    "    "
   ]
  },
  {
   "cell_type": "code",
   "execution_count": 10,
   "id": "5fd68d54",
   "metadata": {},
   "outputs": [
    {
     "name": "stdout",
     "output_type": "stream",
     "text": [
      "maths\n",
      "phy\n"
     ]
    }
   ],
   "source": [
    " sub=['maths','phy','chem','bio']     #this time the break comes before the print:\n",
    "for x in sub:\n",
    "    if x=='chem':\n",
    "      break\n",
    "    print(x)\n"
   ]
  },
  {
   "cell_type": "code",
   "execution_count": 11,
   "id": "5d42900f",
   "metadata": {},
   "outputs": [
    {
     "name": "stdout",
     "output_type": "stream",
     "text": [
      "maths\n",
      "phy\n",
      "bio\n"
     ]
    }
   ],
   "source": [
    " sub=['maths','phy','chem','bio']     #continue statement:\n",
    "for x in sub:\n",
    "    if x=='chem':\n",
    "      continue\n",
    "    print(x)\n"
   ]
  },
  {
   "cell_type": "code",
   "execution_count": 16,
   "id": "e6a5316d",
   "metadata": {},
   "outputs": [
    {
     "name": "stdout",
     "output_type": "stream",
     "text": [
      "0\n",
      "1\n",
      "2\n",
      "3\n",
      "4\n",
      "5\n",
      "6\n",
      "7\n",
      "2\n",
      "3\n",
      "4\n",
      "5\n",
      "6\n",
      "2\n",
      "5\n",
      "8\n",
      "11\n",
      "14\n",
      "17\n"
     ]
    }
   ],
   "source": [
    "for x in range(8):\n",
    "  print(x)\n",
    "\n",
    "for x in range(2,7): #including 2 but excluding 7\n",
    "    print(x)\n",
    "\n",
    "for x in range(2, 20, 3): #third parameter is for increment by default it is 1\n",
    "  print(x)\n",
    "\n"
   ]
  },
  {
   "cell_type": "code",
   "execution_count": 17,
   "id": "ff9b61bf",
   "metadata": {},
   "outputs": [
    {
     "name": "stdout",
     "output_type": "stream",
     "text": [
      "0\n",
      "1\n",
      "2\n",
      "3\n",
      "Finally finished!\n"
     ]
    }
   ],
   "source": [
    "for x in range(4): #print a message when the loop has ended\n",
    "  print(x)\n",
    "else:\n",
    "  print(\"Finally finished!\")\n"
   ]
  },
  {
   "cell_type": "code",
   "execution_count": 18,
   "id": "27201b87",
   "metadata": {},
   "outputs": [
    {
     "name": "stdout",
     "output_type": "stream",
     "text": [
      "blue rose\n",
      "blue tulip\n",
      "blue mogra\n",
      "white rose\n",
      "white tulip\n",
      "white mogra\n",
      "yellow rose\n",
      "yellow tulip\n",
      "yellow mogra\n"
     ]
    }
   ],
   "source": [
    "#Nested Loop\n",
    "color=['blue','white','yellow']\n",
    "flower=['rose','tulip','mogra']\n",
    "for a in color:\n",
    "    for b in flower:\n",
    "        print(a,b)"
   ]
  },
  {
   "cell_type": "code",
   "execution_count": 19,
   "id": "a3294cb8",
   "metadata": {},
   "outputs": [],
   "source": [
    "for x in [2,3,4,5]: # having an empty for loop like this, would raise an error without the pass statement\n",
    "\n",
    "    pass\n"
   ]
  },
  {
   "cell_type": "markdown",
   "id": "bdd5b58a",
   "metadata": {},
   "source": [
    "# Tuple"
   ]
  },
  {
   "cell_type": "code",
   "execution_count": 61,
   "id": "d06b8c91",
   "metadata": {},
   "outputs": [
    {
     "name": "stdout",
     "output_type": "stream",
     "text": [
      "('apple', 'banana', 'cherry')\n",
      "3\n",
      "(56, 92, True, 'hello')\n",
      "<class 'tuple'>\n"
     ]
    }
   ],
   "source": [
    "x = (\"apple\", \"banana\", \"cherry\")\n",
    "print(x)\n",
    "print(len(x))\n",
    "tuple1=(56,92,True,'hello')\n",
    "print(tuple1)\n",
    "print(type(tuple1))"
   ]
  },
  {
   "cell_type": "markdown",
   "id": "d2c05ac5",
   "metadata": {},
   "source": [
    "# #access tuple items"
   ]
  },
  {
   "cell_type": "code",
   "execution_count": 62,
   "id": "f3a12422",
   "metadata": {},
   "outputs": [
    {
     "name": "stdout",
     "output_type": "stream",
     "text": [
      "banana\n",
      "orange\n",
      "('apple', 'banana')\n",
      "('apple', 'banana', 'cherry')\n"
     ]
    }
   ],
   "source": [
    "x = (\"apple\", \"banana\", \"cherry\" , \"orange\")\n",
    "print(x[1])\n",
    "print(x[-1])\n",
    "print(x[0:2])\n",
    "print(x[-4:-1])"
   ]
  },
  {
   "cell_type": "markdown",
   "id": "befbb32b",
   "metadata": {},
   "source": [
    "## change tuple value"
   ]
  },
  {
   "cell_type": "code",
   "execution_count": 1,
   "id": "63fbae67",
   "metadata": {},
   "outputs": [
    {
     "name": "stdout",
     "output_type": "stream",
     "text": [
      "('apple', 'jackfruit', 'cherry', 'orange')\n"
     ]
    }
   ],
   "source": [
    "#convert the tuple into a list, change the list, and convert the list back into a tuple.\n",
    "x1= (\"apple\", \"banana\", \"cherry\" , \"orange\")\n",
    "y= list(x1)\n",
    "y[1]=\"jackfruit\"\n",
    "x1= tuple(y)\n",
    "print(x1)"
   ]
  },
  {
   "cell_type": "code",
   "execution_count": 3,
   "id": "95959393",
   "metadata": {},
   "outputs": [
    {
     "name": "stdout",
     "output_type": "stream",
     "text": [
      "('apple', 'banana', 'cherry', 'orange')\n"
     ]
    }
   ],
   "source": [
    "thetuple = (\"apple\", \"banana\", \"cherry\")\n",
    "y = list(thetuple)\n",
    "y.append(\"orange\")\n",
    "thetuple = tuple(y)\n",
    "print(thetuple)"
   ]
  },
  {
   "cell_type": "markdown",
   "id": "3ee6a23c",
   "metadata": {},
   "source": [
    "# unpack tuple"
   ]
  },
  {
   "cell_type": "code",
   "execution_count": 68,
   "id": "f692d004",
   "metadata": {},
   "outputs": [
    {
     "name": "stdout",
     "output_type": "stream",
     "text": [
      "blue\n",
      "white\n",
      "yellow\n"
     ]
    }
   ],
   "source": [
    "color=('blue','white','yellow')\n",
    "(rose,tulip,mogra)=color\n",
    "print(rose)\n",
    "print(tulip)\n",
    "print(mogra)"
   ]
  },
  {
   "cell_type": "code",
   "execution_count": 66,
   "id": "b07c87d8",
   "metadata": {},
   "outputs": [
    {
     "name": "stdout",
     "output_type": "stream",
     "text": [
      "blue\n",
      "white\n",
      "['yellow', 'red', 'green']\n"
     ]
    }
   ],
   "source": [
    "color=('blue','white','yellow','red','green')\n",
    "(rose,tulip,*mogra)=color\n",
    "print(rose)\n",
    "print(tulip)\n",
    "print(mogra)"
   ]
  },
  {
   "cell_type": "code",
   "execution_count": 67,
   "id": "349e84d2",
   "metadata": {},
   "outputs": [
    {
     "name": "stdout",
     "output_type": "stream",
     "text": [
      "blue\n",
      "['white', 'yellow', 'red']\n",
      "green\n"
     ]
    }
   ],
   "source": [
    "color=('blue','white','yellow','red','green')\n",
    "(rose,*tulip,mogra)=color\n",
    "print(rose)\n",
    "print(tulip)\n",
    "print(mogra)"
   ]
  },
  {
   "cell_type": "markdown",
   "id": "6b759f83",
   "metadata": {},
   "source": [
    "# #loop tuple"
   ]
  },
  {
   "cell_type": "code",
   "execution_count": 5,
   "id": "21bdb118",
   "metadata": {},
   "outputs": [
    {
     "name": "stdout",
     "output_type": "stream",
     "text": [
      "1\n",
      "2\n",
      "3\n",
      "4\n"
     ]
    }
   ],
   "source": [
    "a=(1,2,3,4)\n",
    "for x in a:\n",
    "    print(x)\n"
   ]
  },
  {
   "cell_type": "code",
   "execution_count": 6,
   "id": "36c484d6",
   "metadata": {},
   "outputs": [
    {
     "name": "stdout",
     "output_type": "stream",
     "text": [
      "1\n",
      "2\n",
      "3\n",
      "4\n"
     ]
    }
   ],
   "source": [
    "a=(1,2,3,4)\n",
    "for i in range(4):\n",
    "    print(a[i])"
   ]
  },
  {
   "cell_type": "code",
   "execution_count": 7,
   "id": "06468f11",
   "metadata": {},
   "outputs": [
    {
     "name": "stdout",
     "output_type": "stream",
     "text": [
      "1\n",
      "2\n",
      "3\n",
      "4\n"
     ]
    }
   ],
   "source": [
    "a=(1,2,3,4)\n",
    "for i in range(len(a)):\n",
    "    print(a[i])"
   ]
  },
  {
   "cell_type": "code",
   "execution_count": 10,
   "id": "28ed1886",
   "metadata": {},
   "outputs": [
    {
     "name": "stdout",
     "output_type": "stream",
     "text": [
      "0\n",
      "1\n",
      "2\n"
     ]
    }
   ],
   "source": [
    "a=(1,2,3,4)\n",
    "i=0\n",
    "while i<3:\n",
    "    print(i)\n",
    "    i+=1"
   ]
  },
  {
   "cell_type": "markdown",
   "id": "5694d08c",
   "metadata": {},
   "source": [
    "# #joint two tuples"
   ]
  },
  {
   "cell_type": "code",
   "execution_count": 15,
   "id": "45700d77",
   "metadata": {},
   "outputs": [
    {
     "name": "stdout",
     "output_type": "stream",
     "text": [
      "('x', 'y', 'z', 1, 2, 3)\n"
     ]
    }
   ],
   "source": [
    "tuple1=('x','y','z')\n",
    "tuple2=(1,2,3)\n",
    "tuple3=tuple1+tuple2\n",
    "print(tuple3)"
   ]
  },
  {
   "cell_type": "code",
   "execution_count": 17,
   "id": "69b9b7db",
   "metadata": {},
   "outputs": [
    {
     "name": "stdout",
     "output_type": "stream",
     "text": [
      "('x', 'y', 'z', 'x', 'y', 'z', 'x', 'y', 'z')\n"
     ]
    }
   ],
   "source": [
    "tuple1=('x','y','z')\n",
    "y=tuple1*3\n",
    "print(y)"
   ]
  },
  {
   "cell_type": "markdown",
   "id": "7f81da7d",
   "metadata": {},
   "source": [
    "# Set"
   ]
  },
  {
   "cell_type": "code",
   "execution_count": 27,
   "id": "32fe950f",
   "metadata": {},
   "outputs": [
    {
     "name": "stdout",
     "output_type": "stream",
     "text": [
      "{'b', 'c', 'a', 'f'}\n",
      "4\n",
      "<class 'set'>\n",
      "b\n",
      "c\n",
      "a\n",
      "f\n",
      "False\n"
     ]
    }
   ],
   "source": [
    "theset={'a','c','f','b'} #duplicate not allow\n",
    "print(theset)\n",
    "print(len(theset))\n",
    "print(type(theset))\n",
    "#Acess items in set\n",
    "#You cannot access items in a set by referring to an index or a key.\n",
    "\n",
    "for x in theset:\n",
    "    print(x)\n",
    "    \n",
    "print('mumbai' in theset)"
   ]
  },
  {
   "cell_type": "markdown",
   "id": "4614df60",
   "metadata": {},
   "source": [
    "# #add and remove set items "
   ]
  },
  {
   "cell_type": "code",
   "execution_count": 34,
   "id": "56b2dfa8",
   "metadata": {},
   "outputs": [
    {
     "name": "stdout",
     "output_type": "stream",
     "text": [
      "{'kb', 'tb', 'gb', 'mb'}\n",
      "{'k', 'tb', 'm', 'l', 'kb', 'gb', 'mb'}\n",
      "{'gb', 'l', 'k', 'mb', 'tb', 'kiwi', 'kb', 'orange', 'm'}\n",
      "{'gb', 'l', 'k', 'mb', 'tb', 'kiwi', 'orange', 'm'}\n",
      "{'gb', 'l', 'k', 'tb', 'kiwi', 'orange', 'm'}\n"
     ]
    }
   ],
   "source": [
    "x = {\"kb\", \"mb\", \"gb\"}\n",
    "x.add(\"tb\")\n",
    "print(x)\n",
    "\n",
    "y={'k','l','m'}\n",
    "x.update(y)\n",
    "print(x)\n",
    "\n",
    "list = [\"kiwi\", \"orange\"]\n",
    "x.update(list)\n",
    "print(x)\n",
    "\n",
    "x.remove('kb')\n",
    "print(x)\n",
    "\n",
    "#If the item to remove does not exist, discard() will NOT raise an error.\n",
    "x.discard('mb')\n",
    "x.discard('12')\n",
    "print(x)\n",
    "\n",
    "\n"
   ]
  },
  {
   "cell_type": "code",
   "execution_count": 41,
   "id": "638bcc79",
   "metadata": {},
   "outputs": [
    {
     "name": "stdout",
     "output_type": "stream",
     "text": [
      "1\n",
      "{2, 3, 4, 5}\n",
      "set()\n",
      "hello\n",
      "world\n",
      "python\n"
     ]
    }
   ],
   "source": [
    "set1 = {1,2,3,4,5}\n",
    "x = set1.pop()\n",
    "print(x) #removed item\n",
    "print(set1) #the set after removal\n",
    "\n",
    "set1.clear()\n",
    "print(set1)\n",
    "\n",
    "#loop set\n",
    "b={\"hello\",\"world\",\"python\"}\n",
    "for x in b:\n",
    "    print(x)"
   ]
  },
  {
   "cell_type": "markdown",
   "id": "cfe7494b",
   "metadata": {},
   "source": [
    "# #joint set"
   ]
  },
  {
   "cell_type": "code",
   "execution_count": 45,
   "id": "5276c581",
   "metadata": {},
   "outputs": [
    {
     "name": "stdout",
     "output_type": "stream",
     "text": [
      "{1, 2, 3, 4, 'c', 'b', 'd', 'a'}\n",
      "{1, 2, 3, 4, 'c', 'b', 'd', 'a'}\n"
     ]
    }
   ],
   "source": [
    "a={'a','b','c','d',2}\n",
    "b={1,2,3,4}\n",
    "\n",
    "c=a.union(b)\n",
    "print(c)\n",
    "\n",
    "a.update(b)\n",
    "print(c)\n",
    "\n",
    "#Both union() and update() will exclude any duplicate items."
   ]
  },
  {
   "cell_type": "code",
   "execution_count": 47,
   "id": "1658f536",
   "metadata": {},
   "outputs": [
    {
     "ename": "SyntaxError",
     "evalue": "invalid syntax (641425647.py, line 2)",
     "output_type": "error",
     "traceback": [
      "\u001b[1;36m  Input \u001b[1;32mIn [47]\u001b[1;36m\u001b[0m\n\u001b[1;33m    b={3,4,5,6,7,,8,9,0}\u001b[0m\n\u001b[1;37m                 ^\u001b[0m\n\u001b[1;31mSyntaxError\u001b[0m\u001b[1;31m:\u001b[0m invalid syntax\n"
     ]
    }
   ],
   "source": [
    "a={1,2,3,4,5}\n",
    "b={3,4,5,6,7,,8,9,0}\n",
    "\n",
    "a.update(b)\n",
    "print(b)"
   ]
  },
  {
   "cell_type": "code",
   "execution_count": 5,
   "id": "ffc36d9f",
   "metadata": {},
   "outputs": [
    {
     "name": "stdout",
     "output_type": "stream",
     "text": [
      "{'green', 'blue'}\n",
      "{'green', 'blue'}\n"
     ]
    }
   ],
   "source": [
    "keep ONLY the duplicates\n",
    "a={\"white\",\"blue\",\"yellow\",\"green\"}\n",
    "b={\"rose\",\"tulip\",\"green\",\"blue\"}\n",
    "c=a.intersection(b)          \n",
    "print(c)\n",
    "\n",
    "a.intersection_update(b) \n",
    "print(a)"
   ]
  },
  {
   "cell_type": "code",
   "execution_count": 8,
   "id": "221553f8",
   "metadata": {},
   "outputs": [
    {
     "name": "stdout",
     "output_type": "stream",
     "text": [
      "{'white', 'rose', 'tulip', 'yellow'}\n",
      "{'white', 'blue', 'green', 'yellow'}\n"
     ]
    }
   ],
   "source": [
    "a={\"white\",\"blue\",\"yellow\",\"green\"}\n",
    "b={\"rose\",\"tulip\",\"green\",\"blue\"}\n",
    "a.symmetric_difference_update(b)\n",
    "print(a)\n",
    "\n",
    "c=a.symmetric_difference(b)\n",
    "print(c)"
   ]
  },
  {
   "cell_type": "code",
   "execution_count": 10,
   "id": "19031e8e",
   "metadata": {},
   "outputs": [
    {
     "name": "stdout",
     "output_type": "stream",
     "text": [
      "True\n",
      "False\n"
     ]
    }
   ],
   "source": [
    "#isdisjoint\n",
    "#The isdisjoint() method returns True if none of the items are present in both sets, otherwise it returns False.\n",
    "a={1,2,3,4}\n",
    "b={5,6,7,8}\n",
    "c=a.isdisjoint(b)\n",
    "print(c)\n",
    "\n",
    "a={1,2,3,4}\n",
    "b={3,4,5,6,7,8}\n",
    "z=a.isdisjoint(b)\n",
    "print(z)"
   ]
  },
  {
   "cell_type": "code",
   "execution_count": 14,
   "id": "80f04016",
   "metadata": {},
   "outputs": [
    {
     "name": "stdout",
     "output_type": "stream",
     "text": [
      "True\n",
      "False\n"
     ]
    }
   ],
   "source": [
    "#issubset\n",
    "#The issubset() method returns True if all items in the set exists in the specified set, otherwise it retuns False.\n",
    "a={1,2,3}\n",
    "b={5,4,3,2,1}\n",
    "c=a.issubset(b)\n",
    "m=b.issubset(a)\n",
    "\n",
    "print(c)\n",
    "print(m)"
   ]
  },
  {
   "cell_type": "code",
   "execution_count": 15,
   "id": "d425f3d5",
   "metadata": {},
   "outputs": [
    {
     "name": "stdout",
     "output_type": "stream",
     "text": [
      "True\n"
     ]
    }
   ],
   "source": [
    "#issuperset\n",
    "a={\"m\",\"n\",\"o\",\"p\",\"q\"}\n",
    "b={\"m\",\"n\"}\n",
    "c=a.issuperset(b)\n",
    "print(c)"
   ]
  },
  {
   "cell_type": "code",
   "execution_count": 18,
   "id": "fab8903f",
   "metadata": {},
   "outputs": [
    {
     "name": "stdout",
     "output_type": "stream",
     "text": [
      "{'mumbai', 'delhi', 'chennai', 'chem', 'bio', 'maths'}\n",
      "{'mumbai', 'delhi', 'bio', 'chennai', 'chem', 'maths'}\n"
     ]
    }
   ],
   "source": [
    "#symmetric diff#Returns a set with the symmetric differences of two sets,except that are present in both set\n",
    "a={'delhi','mumbai','chennai','phy','chem'}\n",
    "b={'phy','bio','maths'}\n",
    "c=a.symmetric_difference(b)\n",
    "print(c)\n",
    "\n",
    "#updates the original set by removing items that are present in both sets, and inserting the other items.\n",
    "a.symmetric_difference_update(b)\n",
    "print(a)"
   ]
  },
  {
   "cell_type": "markdown",
   "id": "aa9525ff",
   "metadata": {},
   "source": [
    "# DICT"
   ]
  },
  {
   "cell_type": "code",
   "execution_count": 9,
   "id": "4a136459",
   "metadata": {},
   "outputs": [
    {
     "name": "stdout",
     "output_type": "stream",
     "text": [
      "{'name': 'minhaj', 'class': '8', 'rollno': '35'}\n",
      "minhaj\n",
      "{'name': 'minhaj', 'class': '8', 'rollno': '40'}\n",
      "3\n",
      "8\n",
      "dict_keys(['name', 'class', 'rollno'])\n"
     ]
    }
   ],
   "source": [
    "d1={'name':'minhaj','class':'8','rollno':'35'}\n",
    "print(d1)\n",
    "print(d1['name'])\n",
    "\n",
    "# duplicate not allowed\n",
    "d2={'name':'minhaj','class':'8','rollno':'35','rollno':'40'}\n",
    "print(d2)\n",
    "print(len(d2))\n",
    "\n",
    "\n",
    "d2={'name':'minhaj','class':'8','rollno':'35','rollno':'40'}\n",
    "x=d2['class']\n",
    "y=d2.get('class')\n",
    "y=d2.keys()\n",
    "print(x)\n",
    "print(y)\n",
    "\n",
    "\n"
   ]
  },
  {
   "cell_type": "code",
   "execution_count": 25,
   "id": "c6b03103",
   "metadata": {},
   "outputs": [
    {
     "name": "stdout",
     "output_type": "stream",
     "text": [
      "dict_keys(['name', 'class', 'rollno'])\n",
      "dict_keys(['name', 'class', 'rollno', 'div'])\n",
      "dict_values(['minhaj', '8', '40', 'A'])\n",
      "dict_values(['minhaj', '8', '40', 'B'])\n",
      "dict_items([('name', 'minhaj'), ('class', '8'), ('rollno', '40'), ('div', 'B')])\n",
      "dict_items([('name', 'minhaj'), ('class', '8'), ('rollno', '40'), ('div', 'B'), ('surname', 'shaikh')])\n",
      "dict_items([('name', 'minhaj'), ('class', '9'), ('rollno', '40'), ('div', 'B'), ('surname', 'shaikh')])\n",
      "dict_items([('name', 'minhaj'), ('class', '9'), ('div', 'B'), ('surname', 'shaikh')])\n",
      "dict_items([('name', 'minhaj'), ('class', '9'), ('div', 'B')])\n",
      "{'name': 'minhaj', 'div': 'B'}\n"
     ]
    },
    {
     "ename": "NameError",
     "evalue": "name 'd2' is not defined",
     "output_type": "error",
     "traceback": [
      "\u001b[1;31m---------------------------------------------------------------------------\u001b[0m",
      "\u001b[1;31mNameError\u001b[0m                                 Traceback (most recent call last)",
      "Input \u001b[1;32mIn [25]\u001b[0m, in \u001b[0;36m<cell line: 41>\u001b[1;34m()\u001b[0m\n\u001b[0;32m     39\u001b[0m \u001b[38;5;66;03m#remove item\u001b[39;00m\n\u001b[0;32m     40\u001b[0m \u001b[38;5;28;01mdel\u001b[39;00m d2\n\u001b[1;32m---> 41\u001b[0m \u001b[38;5;28mprint\u001b[39m(\u001b[43md2\u001b[49m)\n\u001b[0;32m     43\u001b[0m d2\u001b[38;5;241m.\u001b[39mclear()\n\u001b[0;32m     44\u001b[0m \u001b[38;5;28mprint\u001b[39m(d2)\n",
      "\u001b[1;31mNameError\u001b[0m: name 'd2' is not defined"
     ]
    }
   ],
   "source": [
    "d2={'name':'minhaj','class':'8','rollno':'35','rollno':'40'}\n",
    "\n",
    "#add items\n",
    "x=d2.keys()\n",
    "print(x)\n",
    "\n",
    "\n",
    "d2['div']='A'\n",
    "print(x)\n",
    "\n",
    "x=d2.values()\n",
    "print(x)\n",
    "\n",
    "d2['div']='B'\n",
    "print(x)\n",
    "\n",
    "\n",
    "x=d2.items()\n",
    "print(x)\n",
    "\n",
    "d2['surname']='shaikh'\n",
    "print(x)\n",
    "\n",
    "\n",
    "d2.update({\"class\": '9'})\n",
    "print(x)\n",
    "\n",
    "\n",
    "d2.pop(\"rollno\")\n",
    "print(x)\n",
    "\n",
    "d2.popitem()\n",
    "print(x)\n",
    "\n",
    "del d2[\"class\"]\n",
    "print(d2)\n",
    "\n",
    "\n",
    "#remove item\n",
    "del d2\n",
    "print(d2)\n",
    "\n",
    "d2.clear()\n",
    "print(d2)"
   ]
  },
  {
   "cell_type": "code",
   "execution_count": 26,
   "id": "2c3b49ea",
   "metadata": {},
   "outputs": [
    {
     "name": "stdout",
     "output_type": "stream",
     "text": [
      "{'name': 'minhaj', 'class': '8', 'rollno': '40'}\n"
     ]
    }
   ],
   "source": [
    "#copy dict\n",
    "d1={'name':'minhaj','class':'8','rollno':'35','rollno':'40'}\n",
    "d2=d1.copy()\n",
    "print(d2)"
   ]
  },
  {
   "cell_type": "code",
   "execution_count": 27,
   "id": "e0e29932",
   "metadata": {},
   "outputs": [
    {
     "name": "stdout",
     "output_type": "stream",
     "text": [
      "{'name': 'minhaj', 'class': '8', 'rollno': '40'}\n"
     ]
    }
   ],
   "source": [
    "d1={'name':'minhaj','class':'8','rollno':'35','rollno':'40'}\n",
    "d2=dict(d1)\n",
    "print(d2)"
   ]
  },
  {
   "cell_type": "code",
   "execution_count": 3,
   "id": "178b9d3f",
   "metadata": {},
   "outputs": [
    {
     "name": "stdout",
     "output_type": "stream",
     "text": [
      "{'member1': {'relation': 'father', 'age': '52'}, 'member2': {'relation': 'mother', 'age': '42'}, 'member3': {'relation': 'brother', 'age': '20'}}\n"
     ]
    }
   ],
   "source": [
    "#nested dict\n",
    "myfamily={'member1':{'relation':'father','age':'52'},\n",
    "         'member2':{'relation':'mother','age':'42'},\n",
    "         'member3':{'relation':'brother','age':'20'}\n",
    "         }\n",
    "print(myfamily)"
   ]
  },
  {
   "cell_type": "code",
   "execution_count": 5,
   "id": "dce54608",
   "metadata": {},
   "outputs": [
    {
     "name": "stdout",
     "output_type": "stream",
     "text": [
      "{'member1': ({'relation': 'father', 'age': '52'},), 'member2': ({'relation': 'mother', 'age': '42'},), 'member3': {'relation': 'brother', 'age': '20'}}\n"
     ]
    }
   ],
   "source": [
    "member1={'relation':'father','age':'52'},\n",
    "member2={'relation':'mother','age':'42'},\n",
    "member3={'relation':'brother','age':'20'}\n",
    "myfamily={'member1':member1,\n",
    "         'member2':member2,\n",
    "         'member3':member3\n",
    "         }\n",
    "print(myfamily)"
   ]
  },
  {
   "cell_type": "markdown",
   "id": "bbd0117a",
   "metadata": {},
   "source": [
    "# python if----else"
   ]
  },
  {
   "cell_type": "code",
   "execution_count": 6,
   "id": "80f1dca4",
   "metadata": {},
   "outputs": [
    {
     "name": "stdout",
     "output_type": "stream",
     "text": [
      "b is less than a\n"
     ]
    }
   ],
   "source": [
    "a=100\n",
    "b=5\n",
    "if b<a:\n",
    "    print('b is less than a')"
   ]
  },
  {
   "cell_type": "code",
   "execution_count": 8,
   "id": "3dba1efa",
   "metadata": {},
   "outputs": [
    {
     "ename": "IndentationError",
     "evalue": "expected an indented block after 'if' statement on line 3 (317352264.py, line 4)",
     "output_type": "error",
     "traceback": [
      "\u001b[1;36m  Input \u001b[1;32mIn [8]\u001b[1;36m\u001b[0m\n\u001b[1;33m    print('b is less than a')\u001b[0m\n\u001b[1;37m    ^\u001b[0m\n\u001b[1;31mIndentationError\u001b[0m\u001b[1;31m:\u001b[0m expected an indented block after 'if' statement on line 3\n"
     ]
    }
   ],
   "source": [
    "#indentation\n",
    "a=100\n",
    "b=5\n",
    "if b<a:\n",
    "print('b is less than a')"
   ]
  },
  {
   "cell_type": "code",
   "execution_count": 3,
   "id": "d8902b98",
   "metadata": {},
   "outputs": [
    {
     "name": "stdout",
     "output_type": "stream",
     "text": [
      "a and b  is equal \n"
     ]
    }
   ],
   "source": [
    "#elif\n",
    "#\"if the previous conditions were not true, then try this condition\".\n",
    "a=10\n",
    "b=10\n",
    "if a<b:\n",
    "    print('a is nless than a')\n",
    "elif a==b:\n",
    "    print('a and b  is equal ')\n"
   ]
  },
  {
   "cell_type": "code",
   "execution_count": 6,
   "id": "8227a81f",
   "metadata": {},
   "outputs": [
    {
     "name": "stdout",
     "output_type": "stream",
     "text": [
      "a is greater than b\n"
     ]
    }
   ],
   "source": [
    "a=100\n",
    "b=10\n",
    "if a<b:\n",
    "    print('a is less than b')\n",
    "elif a==b:\n",
    "  print('a and b  is equal ')\n",
    "else:\n",
    "  print('a is greater than b')"
   ]
  },
  {
   "cell_type": "code",
   "execution_count": 8,
   "id": "e2850a83",
   "metadata": {},
   "outputs": [
    {
     "name": "stdout",
     "output_type": "stream",
     "text": [
      "a is not greater than b\n"
     ]
    }
   ],
   "source": [
    "a=500\n",
    "b=200\n",
    "if b>a:\n",
    "    print('a is greater than b')\n",
    "else:\n",
    "    print('a is not greater than b')"
   ]
  },
  {
   "cell_type": "code",
   "execution_count": 9,
   "id": "4ce2affa",
   "metadata": {},
   "outputs": [
    {
     "name": "stdout",
     "output_type": "stream",
     "text": [
      "a is greater than b\n"
     ]
    }
   ],
   "source": [
    "#short hand if\n",
    "a=30\n",
    "b=3\n",
    "if a > b: print(\"a is greater than b\")\n"
   ]
  },
  {
   "cell_type": "code",
   "execution_count": 11,
   "id": "553d233f",
   "metadata": {},
   "outputs": [
    {
     "name": "stdout",
     "output_type": "stream",
     "text": [
      "B\n"
     ]
    }
   ],
   "source": [
    "#short hand if and else\n",
    "a=5\n",
    "b=500\n",
    "print('A') if b<a else print('B')"
   ]
  },
  {
   "cell_type": "code",
   "execution_count": 12,
   "id": "6be23942",
   "metadata": {},
   "outputs": [
    {
     "name": "stdout",
     "output_type": "stream",
     "text": [
      "both condition is correct\n"
     ]
    }
   ],
   "source": [
    "# AND OR logical operators\n",
    "#and\n",
    "a=10\n",
    "b=20\n",
    "c=30\n",
    "if a<b and a<c:\n",
    "    print(\"both condition is correct\")"
   ]
  },
  {
   "cell_type": "code",
   "execution_count": 13,
   "id": "a5fa12bd",
   "metadata": {},
   "outputs": [
    {
     "name": "stdout",
     "output_type": "stream",
     "text": [
      "only one condition is correct\n"
     ]
    }
   ],
   "source": [
    "#or\n",
    "a=10\n",
    "b=20\n",
    "c=30\n",
    "if a<b or a>c:\n",
    "    print(\"only one condition is correct\")\n"
   ]
  },
  {
   "cell_type": "code",
   "execution_count": 23,
   "id": "f748452f",
   "metadata": {},
   "outputs": [
    {
     "name": "stdout",
     "output_type": "stream",
     "text": [
      "{'year': 2017}\n"
     ]
    }
   ],
   "source": [
    "# how to add items in empty dict\n",
    "x={}\n",
    "x['year']=2017\n",
    "print(x)"
   ]
  },
  {
   "cell_type": "code",
   "execution_count": 7,
   "id": "8608ce8a",
   "metadata": {},
   "outputs": [
    {
     "name": "stdout",
     "output_type": "stream",
     "text": [
      "above 20\n",
      "more than 40\n"
     ]
    }
   ],
   "source": [
    "#Nested if\n",
    "a=100\n",
    "if a>20:\n",
    "    print('above 20')\n",
    "    if a>40:\n",
    "        print('more than 40')\n",
    "    else:\n",
    "        print('not more than 40')\n",
    "            "
   ]
  },
  {
   "cell_type": "code",
   "execution_count": 8,
   "id": "4ca43355",
   "metadata": {},
   "outputs": [],
   "source": [
    "a=200\n",
    "b=30\n",
    "if a<b:\n",
    "    pass"
   ]
  },
  {
   "cell_type": "markdown",
   "id": "36656eee",
   "metadata": {},
   "source": [
    "# string task qns"
   ]
  },
  {
   "cell_type": "code",
   "execution_count": 16,
   "id": "7d0d2bff",
   "metadata": {},
   "outputs": [
    {
     "name": "stdout",
     "output_type": "stream",
     "text": [
      "('M', 'A', 'L', 'Y', 'A', 'L', 'A', 'M')\n",
      "('M', 'A', 'L', 'Y', 'A', 'L', 'A', 'M')\n"
     ]
    }
   ],
   "source": [
    "# 1.To check whether a given string is a palindrome.\n",
    "str1='M','A','L','Y','A','L','A','M'\n",
    "print(str1[0:8])\n",
    "print(str1[-8:8])"
   ]
  },
  {
   "cell_type": "code",
   "execution_count": 19,
   "id": "3989c550",
   "metadata": {},
   "outputs": [
    {
     "name": "stdout",
     "output_type": "stream",
     "text": [
      "The Capital Of India Is Delhi\n"
     ]
    }
   ],
   "source": [
    "# 2'To capitalize the first character in a given sentence.\n",
    "a='The capital of india is delhi'\n",
    "x=a.title()\n",
    "print(x)"
   ]
  },
  {
   "cell_type": "code",
   "execution_count": 35,
   "id": "c560eaed",
   "metadata": {},
   "outputs": [
    {
     "name": "stdout",
     "output_type": "stream",
     "text": [
      "['imaginary', 'number', 'value', 'of', 'i', 'square', 'is', '1']\n"
     ]
    }
   ],
   "source": [
    "# 3.Program to convert String to a List.\n",
    "var=\"imaginary number value of i square is 1\"\n",
    "x=var.split()\n",
    "print(x)"
   ]
  },
  {
   "cell_type": "code",
   "execution_count": 65,
   "id": "7d609779",
   "metadata": {},
   "outputs": [
    {
     "name": "stdout",
     "output_type": "stream",
     "text": [
      "Hello\n",
      "coding\n",
      "in\n",
      "python\n",
      "world\n"
     ]
    }
   ],
   "source": [
    "# 4.To sort alphabetically the words in a given sentence.\n",
    "\n",
    "x = \"Hello world in python coding\"\n",
    "words = x.split()\n",
    "words.sort()\n",
    "for word in words:\n",
    "    print(word)"
   ]
  },
  {
   "cell_type": "code",
   "execution_count": 70,
   "id": "44add233",
   "metadata": {},
   "outputs": [
    {
     "name": "stdout",
     "output_type": "stream",
     "text": [
      "2\n",
      "python is very easy\n",
      "True\n",
      "Tomato is red\n",
      "True\n",
      "True\n",
      "26\n",
      "True\n",
      "sky@color@is@skyblue\n",
      "False\n",
      "0000000040\n"
     ]
    }
   ],
   "source": [
    "# 5.To demonstrate any 10 function(method) of string class.\n",
    "\n",
    "#count method\n",
    "# returns the number of times a specified value appears in the string.\n",
    "a=\"Suraiya is my friend,Suraiya is a mad girl and suraiya is learning coding in mcc\"\n",
    "x=a.count(\"Suraiya\")\n",
    "print(x)\n",
    "\n",
    "\n",
    "#case fold\n",
    "# Converts string into lower case\n",
    "b=\"Python Is Very Easy\"\n",
    "x=b.casefold()\n",
    "print(x)\n",
    "\n",
    "\n",
    "#endswith\n",
    "# Check if the string ends with a punctuation sign (.):\n",
    "c=\"She is intelligent girl.\"\n",
    "x=c.endswith(\".\")\n",
    "print(x)\n",
    "\n",
    "#replace\n",
    "#replace tht word in string\n",
    "d=\"Apple is red\"\n",
    "x=d.replace(\"Apple\",\"Tomato\")\n",
    "print(x)\n",
    "\n",
    "\n",
    "#isalpha\n",
    "# check all character in string is text\n",
    "e=\"strings\"\n",
    "x=e.isalpha()\n",
    "print(x)\n",
    "\n",
    "#isalnum\n",
    "# check all character in string is in text and numbers\n",
    "e=\"strings32728\"\n",
    "x=e.isalnum()\n",
    "print(x)\n",
    "\n",
    "\n",
    "#find\n",
    "f=\"operators used to perform on variable and values\"\n",
    "x=f.find(\"on\")\n",
    "print(x)\n",
    "\n",
    "\n",
    "\n",
    "#isnumeric\n",
    "# returns true is all characters is in digit\n",
    "g='1723942'\n",
    "x=g.isnumeric()\n",
    "print(x)\n",
    "\n",
    "#join \n",
    "h=('sky','color','is','skyblue')\n",
    "x='@'.join(h)\n",
    "print(x)\n",
    "\n",
    "#isspace\n",
    "i=\"my fruits\"\n",
    "x=i.isspace()\n",
    "print(x)\n",
    "\n",
    "\n",
    "#zfill\n",
    "# Fill the string with zeros until it is 10 characters long:\n",
    "j=\"40\"\n",
    "x=j.zfill(10)\n",
    "print(x)"
   ]
  },
  {
   "cell_type": "code",
   "execution_count": 48,
   "id": "ea6a99d5",
   "metadata": {},
   "outputs": [
    {
     "name": "stdout",
     "output_type": "stream",
     "text": [
      "P\n",
      "n\n",
      "29\n",
      "Python is high level language\n",
      "Pto\n",
      "Ph  g\n",
      "gua\n",
      "egaugnal level hgih si nohtyP\n"
     ]
    }
   ],
   "source": [
    "# 7.To demonstrate string slice3rwd\n",
    "y=\"Python is high level language\"\n",
    "print(y[0])\n",
    "print(y[5])\n",
    "print(len(y))\n",
    "print(y[0:30])\n",
    "print(y[0:6:2])\n",
    "print(y[0:14:3])\n",
    "print(y[-5:-2])\n",
    "print(y[::-1])"
   ]
  },
  {
   "cell_type": "code",
   "execution_count": 71,
   "id": "ae95e1d1",
   "metadata": {},
   "outputs": [
    {
     "name": "stdout",
     "output_type": "stream",
     "text": [
      "True\n"
     ]
    }
   ],
   "source": [
    "# 8.TO check substring is Present in a Given String\n",
    "#  this should be complete by EOD\n",
    "var1=\"Python has no command for declaring a variable.\"\n",
    "x=\"command\" in var1\n",
    "print(x)"
   ]
  },
  {
   "cell_type": "markdown",
   "id": "edb7450b",
   "metadata": {},
   "source": [
    "# task list"
   ]
  },
  {
   "cell_type": "code",
   "execution_count": 1,
   "id": "94a6f34e",
   "metadata": {},
   "outputs": [
    {
     "name": "stdout",
     "output_type": "stream",
     "text": [
      "['tulip', 'lotus', 'sunflower']\n"
     ]
    }
   ],
   "source": [
    "# 1.To create 5 different list using list comprehension method\n",
    "flower=['rose','tulip','lotus','mogra','sunflower']\n",
    "list1=[x for x in flower if 'u' in x]\n",
    "print(list1)"
   ]
  },
  {
   "cell_type": "code",
   "execution_count": 2,
   "id": "52a6d78b",
   "metadata": {},
   "outputs": [
    {
     "name": "stdout",
     "output_type": "stream",
     "text": [
      "[0, 1, 2, 3, 4, 5, 6, 7, 8, 9, 10, 11, 12, 13, 14, 15, 16, 17, 18, 19]\n"
     ]
    }
   ],
   "source": [
    "list1=[x for x in range(20)]\n",
    "print(list1)"
   ]
  },
  {
   "cell_type": "code",
   "execution_count": 3,
   "id": "128ac8f9",
   "metadata": {},
   "outputs": [
    {
     "name": "stdout",
     "output_type": "stream",
     "text": [
      "['ROSE', 'TULIP', 'LOTUS', 'MOGRA', 'SUNFLOWER']\n"
     ]
    }
   ],
   "source": [
    "flower=['Rose','Tulip','Lotus','Mogra','Sunflower']\n",
    "list1=[x.upper() for x in flower]\n",
    "print(list1)\n"
   ]
  },
  {
   "cell_type": "code",
   "execution_count": 5,
   "id": "9cf504a1",
   "metadata": {},
   "outputs": [
    {
     "name": "stdout",
     "output_type": "stream",
     "text": [
      "['rose', 'tulip', 'lotus', 'mogra', 'sunflower']\n"
     ]
    }
   ],
   "source": [
    "flower=['Rose','Tulip','Lotus','Mogra','Sunflower']\n",
    "list1=[x.lower() for x in flower]\n",
    "print(list1)\n"
   ]
  },
  {
   "cell_type": "code",
   "execution_count": 6,
   "id": "c83207d3",
   "metadata": {},
   "outputs": [
    {
     "name": "stdout",
     "output_type": "stream",
     "text": [
      "[0, 1, 2, 3, 4, 5, 6, 7, 8, 9]\n"
     ]
    }
   ],
   "source": [
    "list1=[x for x in range(20) if x<10]\n",
    "print(list1)"
   ]
  },
  {
   "cell_type": "code",
   "execution_count": 7,
   "id": "8a369ecb",
   "metadata": {},
   "outputs": [
    {
     "name": "stdout",
     "output_type": "stream",
     "text": [
      "True\n"
     ]
    }
   ],
   "source": [
    "# 3.To check whether a given number is present in list or not?\n",
    "flower=['Rose','Tulip','Lotus','Mogra','Sunflower']\n",
    "print('Rose' in flower)"
   ]
  },
  {
   "cell_type": "code",
   "execution_count": 8,
   "id": "137493ab",
   "metadata": {},
   "outputs": [
    {
     "name": "stdout",
     "output_type": "stream",
     "text": [
      "['Rose', 'Tulip', 'Lotus', 'Mogra', 'Sunflower', 'Hibiscus']\n"
     ]
    }
   ],
   "source": [
    "# 4.To demonstrate any 10 methods of List\n",
    "#append\n",
    "# add item in the end of the list\n",
    "flower=['Rose','Tulip','Lotus','Mogra','Sunflower']\n",
    "flower.append('Hibiscus')\n",
    "print(flower)"
   ]
  },
  {
   "cell_type": "code",
   "execution_count": 9,
   "id": "a93f810b",
   "metadata": {},
   "outputs": [
    {
     "name": "stdout",
     "output_type": "stream",
     "text": [
      "[]\n"
     ]
    }
   ],
   "source": [
    "#clear\n",
    "flower=['Rose','Tulip','Lotus','Mogra','Sunflower']\n",
    "flower.clear()\n",
    "print(flower)"
   ]
  },
  {
   "cell_type": "code",
   "execution_count": 10,
   "id": "35f6f053",
   "metadata": {},
   "outputs": [
    {
     "name": "stdout",
     "output_type": "stream",
     "text": [
      "['Rose', 'Tulip', 'Lotus', 'Mogra', 'Sunflower']\n"
     ]
    }
   ],
   "source": [
    "# copy\n",
    "# copy exact list in another list\n",
    "flower=['Rose','Tulip','Lotus','Mogra','Sunflower']\n",
    "flower_1=flower.copy()\n",
    "print(flower_1)"
   ]
  },
  {
   "cell_type": "code",
   "execution_count": 11,
   "id": "b76db0b8",
   "metadata": {},
   "outputs": [
    {
     "name": "stdout",
     "output_type": "stream",
     "text": [
      "3\n"
     ]
    }
   ],
   "source": [
    "# count\n",
    "# Returns the number of elements with the specified value\n",
    "flower=['Rose','Tulip','Lotus','Tulip','Mogra','Sunflower','Tulip']\n",
    "x=flower.count(\"Tulip\")\n",
    "print(x)"
   ]
  },
  {
   "cell_type": "code",
   "execution_count": 13,
   "id": "3a57e973",
   "metadata": {},
   "outputs": [
    {
     "name": "stdout",
     "output_type": "stream",
     "text": [
      "['Rose', 'Tulip', 'Lotus', 'Mogra', 'Sunflower', 'red', 'yellow', 'white', 'blue']\n"
     ]
    }
   ],
   "source": [
    "# extend\n",
    "# Add the elements of a list (or any iterable), to the end of the current list\n",
    "flower=['Rose','Tulip','Lotus','Mogra','Sunflower']\n",
    "colour=['red','yellow','white','blue']\n",
    "flower.extend(colour)\n",
    "print(flower)"
   ]
  },
  {
   "cell_type": "code",
   "execution_count": 14,
   "id": "f4993d1f",
   "metadata": {},
   "outputs": [
    {
     "name": "stdout",
     "output_type": "stream",
     "text": [
      "2\n"
     ]
    }
   ],
   "source": [
    "# Returns the index of the first element with the specified value\n",
    "flower=['Rose','Tulip','Lotus','Mogra','Sunflower']\n",
    "x=flower.index('Lotus')\n",
    "print(x)\n"
   ]
  },
  {
   "cell_type": "code",
   "execution_count": 16,
   "id": "eb8e4ab0",
   "metadata": {},
   "outputs": [
    {
     "name": "stdout",
     "output_type": "stream",
     "text": [
      "['Rose', 'Tulip', 'Lotus', 'Jasmine', 'Mogra', 'Sunflower']\n"
     ]
    }
   ],
   "source": [
    "# insert\n",
    "# Adds an element at the specified position\n",
    "flower=['Rose','Tulip','Lotus','Mogra','Sunflower']\n",
    "flower.insert(3,'Jasmine')\n",
    "print(flower)"
   ]
  },
  {
   "cell_type": "code",
   "execution_count": 19,
   "id": "f32b769f",
   "metadata": {},
   "outputs": [
    {
     "name": "stdout",
     "output_type": "stream",
     "text": [
      "['Rose', 'Lotus', 'Mogra', 'Sunflower']\n",
      "['Rose', 'Lotus', 'Mogra']\n"
     ]
    }
   ],
   "source": [
    "# pop\n",
    "# Removes the element at the specified position\n",
    "flower=['Rose','Tulip','Lotus','Mogra','Sunflower']\n",
    "flower.pop(1)\n",
    "print(flower)\n",
    "\n",
    "flower.pop()\n",
    "print(flower)"
   ]
  },
  {
   "cell_type": "code",
   "execution_count": 20,
   "id": "76306d82",
   "metadata": {},
   "outputs": [
    {
     "name": "stdout",
     "output_type": "stream",
     "text": [
      "['Rose', 'Tulip', 'Lotus', 'Sunflower']\n"
     ]
    }
   ],
   "source": [
    "# Removes\n",
    "# remove the first item with the specified value\n",
    "flower=['Rose','Tulip','Lotus','Mogra','Sunflower']\n",
    "flower.remove('Mogra')\n",
    "print(flower)\n"
   ]
  },
  {
   "cell_type": "code",
   "execution_count": 21,
   "id": "3e6582c6",
   "metadata": {},
   "outputs": [
    {
     "name": "stdout",
     "output_type": "stream",
     "text": [
      "['Sunflower', 'Mogra', 'Lotus', 'Tulip', 'Rose']\n"
     ]
    }
   ],
   "source": [
    "# Reverse\n",
    "# reverse the order of the list\n",
    "flower=['Rose','Tulip','Lotus','Mogra','Sunflower']\n",
    "flower.reverse()\n",
    "print(flower)"
   ]
  },
  {
   "cell_type": "code",
   "execution_count": 24,
   "id": "159b9031",
   "metadata": {},
   "outputs": [
    {
     "name": "stdout",
     "output_type": "stream",
     "text": [
      "[(1, 4), (2, 5), (3, 6)]\n"
     ]
    }
   ],
   "source": [
    "# 5.To add two list [ adding elements of list ]\n",
    "list1=[1,2,3]\n",
    "list2=[4,5,6]\n",
    "print(list(zip(list1,list2)))"
   ]
  },
  {
   "cell_type": "code",
   "execution_count": 25,
   "id": "412669b5",
   "metadata": {},
   "outputs": [],
   "source": [
    "# 6.To implement a stack using a list\n"
   ]
  },
  {
   "cell_type": "code",
   "execution_count": 49,
   "id": "5764b490",
   "metadata": {},
   "outputs": [
    {
     "name": "stdout",
     "output_type": "stream",
     "text": [
      "8\n"
     ]
    }
   ],
   "source": [
    "# 2.Create list , add random 10 numbers in list and print largest number of list\n",
    "a=[3,2,8,5]\n",
    "print(max(a))"
   ]
  },
  {
   "cell_type": "code",
   "execution_count": 51,
   "id": "84c565cc",
   "metadata": {},
   "outputs": [
    {
     "name": "stdout",
     "output_type": "stream",
     "text": [
      "[1, 2, 3, 5, 6, 7, 9]\n"
     ]
    }
   ],
   "source": [
    "x=[3,6,2,9,5,1,7]\n",
    "x.sort()\n",
    "print(x)"
   ]
  },
  {
   "cell_type": "code",
   "execution_count": null,
   "id": "6bd2863f",
   "metadata": {},
   "outputs": [],
   "source": []
  },
  {
   "cell_type": "markdown",
   "id": "a9e26bfe",
   "metadata": {},
   "source": [
    "# function"
   ]
  },
  {
   "cell_type": "code",
   "execution_count": 29,
   "id": "9082f44b",
   "metadata": {},
   "outputs": [
    {
     "name": "stdout",
     "output_type": "stream",
     "text": [
      "hello world\n"
     ]
    }
   ],
   "source": [
    "def func():\n",
    "    print('hello world')\n",
    "func()\n",
    "    "
   ]
  },
  {
   "cell_type": "code",
   "execution_count": 33,
   "id": "061168f7",
   "metadata": {},
   "outputs": [
    {
     "name": "stdout",
     "output_type": "stream",
     "text": [
      "sharma 1 diwuhdoqwnx\n",
      "dubey 1 diwuhdoqwnx\n"
     ]
    }
   ],
   "source": [
    "def funcn(sname):\n",
    "    print(sname , \"1\" , 'diwuhdoqwnx')\n",
    "funcn('sharma')\n",
    "funcn('dubey')"
   ]
  },
  {
   "cell_type": "code",
   "execution_count": 38,
   "id": "d03522b3",
   "metadata": {},
   "outputs": [
    {
     "name": "stdout",
     "output_type": "stream",
     "text": [
      "alnameb\n"
     ]
    }
   ],
   "source": [
    "# Number of Arguments\n",
    "def func(fname,mname,):\n",
    "    print(fname+\"lname\"+mname)\n",
    "func(\"a\",\"b\")"
   ]
  },
  {
   "cell_type": "code",
   "execution_count": 40,
   "id": "a8eb3908",
   "metadata": {},
   "outputs": [
    {
     "name": "stdout",
     "output_type": "stream",
     "text": [
      "basidio present in moist place \n"
     ]
    }
   ],
   "source": [
    "# Arbitrary arguments,*args\n",
    "# If you do not know how many arguments that will be passed into your function,\n",
    "# add a * before the parameter name in the function definition.\n",
    "\n",
    "def func(*fungus):\n",
    "    print(fungus[1] , \"present in moist place \")\n",
    "func(\"actinomycytes\",\"basidio\",\"deutro\")"
   ]
  },
  {
   "cell_type": "code",
   "execution_count": 43,
   "id": "11e5d3bb",
   "metadata": {},
   "outputs": [
    {
     "name": "stdout",
     "output_type": "stream",
     "text": [
      "the name of student is mac\n"
     ]
    }
   ],
   "source": [
    "# Keyword Arguments\n",
    "# You can also send arguments with the key = value syntax.\n",
    "def func(c,a,b):\n",
    "    print(\"the name of student is\" , a)\n",
    "func(a=\"mac\",b=\"sam\",c=\"elfen\")"
   ]
  },
  {
   "cell_type": "code",
   "execution_count": 46,
   "id": "68d50067",
   "metadata": {},
   "outputs": [
    {
     "name": "stdout",
     "output_type": "stream",
     "text": [
      "Her name is yashfeen\n"
     ]
    }
   ],
   "source": [
    "# Arbitrary Keyword Arguments, **kwargs\n",
    "# If the number of keyword arguments is unknown, add a double ** before the parameter name:\n",
    "def func(**name):\n",
    "    print('Her name is' , name[\"sname\"])\n",
    "func(fname=\"amziya\",sname=\"yashfeen\",tname=\"yusra\")"
   ]
  },
  {
   "cell_type": "code",
   "execution_count": 52,
   "id": "2291947d",
   "metadata": {},
   "outputs": [
    {
     "name": "stdout",
     "output_type": "stream",
     "text": [
      "I am from delhi\n",
      "I am from pune\n",
      "I am from mumbai\n"
     ]
    }
   ],
   "source": [
    "# default parameter value\n",
    "def func(city = \"mumbai\"):\n",
    "    print(\"I am from\" , city)\n",
    "func('delhi')\n",
    "func('pune')\n",
    "func()"
   ]
  },
  {
   "cell_type": "code",
   "execution_count": 53,
   "id": "040fe38f",
   "metadata": {},
   "outputs": [
    {
     "name": "stdout",
     "output_type": "stream",
     "text": [
      "fruit\n",
      "mango\n",
      "cherry\n"
     ]
    }
   ],
   "source": [
    "# Passing a List as an Argumen\n",
    "def func(food):\n",
    "    for x in food:\n",
    "        print(x)\n",
    "fruits=['fruit','mango','cherry']\n",
    "func(fruits)"
   ]
  },
  {
   "cell_type": "code",
   "execution_count": 55,
   "id": "eaf11533",
   "metadata": {},
   "outputs": [
    {
     "name": "stdout",
     "output_type": "stream",
     "text": [
      "114\n",
      "133\n",
      "152\n",
      "171\n",
      "190\n"
     ]
    }
   ],
   "source": [
    "# return value\n",
    "def func(x):\n",
    "    return 19 * x\n",
    "print(func(6))\n",
    "print(func(7))\n",
    "print(func(8))\n",
    "print(func(9))\n",
    "print(func(10))"
   ]
  },
  {
   "cell_type": "code",
   "execution_count": 3,
   "id": "54a2f4fa",
   "metadata": {},
   "outputs": [
    {
     "name": "stdout",
     "output_type": "stream",
     "text": [
      "330\n"
     ]
    }
   ],
   "source": [
    "addition=10+20+\\\n",
    "         30+40+50+\\\n",
    "         50+60+70\n",
    "print(addition)"
   ]
  },
  {
   "cell_type": "code",
   "execution_count": 1,
   "id": "2f99a578",
   "metadata": {},
   "outputs": [
    {
     "ename": "SyntaxError",
     "evalue": "invalid syntax (2979763975.py, line 2)",
     "output_type": "error",
     "traceback": [
      "\u001b[1;36m  Input \u001b[1;32mIn [1]\u001b[1;36m\u001b[0m\n\u001b[1;33m    print('Area of rectangle:'; l*b)\u001b[0m\n\u001b[1;37m                              ^\u001b[0m\n\u001b[1;31mSyntaxError\u001b[0m\u001b[1;31m:\u001b[0m invalid syntax\n"
     ]
    }
   ],
   "source": [
    "l=2; b=4\n",
    "print('Area of rectangle:'; l*b)"
   ]
  },
  {
   "cell_type": "code",
   "execution_count": 2,
   "id": "892d865f",
   "metadata": {},
   "outputs": [
    {
     "name": "stdout",
     "output_type": "stream",
     "text": [
      "Hello\n",
      "20\n"
     ]
    }
   ],
   "source": [
    "# statement 1\n",
    "print('Hello')\n",
    "\n",
    "# statement 2\n",
    "x = 20\n",
    "\n",
    "# statement 3\n",
    "print(x)\n"
   ]
  },
  {
   "cell_type": "markdown",
   "id": "63733ef5",
   "metadata": {},
   "source": [
    "# lambda"
   ]
  },
  {
   "cell_type": "code",
   "execution_count": 7,
   "id": "8274f1a6",
   "metadata": {},
   "outputs": [
    {
     "name": "stdout",
     "output_type": "stream",
     "text": [
      "15\n",
      "6\n",
      "6\n"
     ]
    }
   ],
   "source": [
    "# small anonymous funcn,any no of arguments but can only have one expression\n",
    "\n",
    "x=lambda a : a+10 #add\n",
    "print(x(5))\n",
    "\n",
    "x=lambda a,b:a*b  #multiply\n",
    "print(x(2,3))\n",
    "\n",
    "x=lambda a,b,c:a+b+c #summarize\n",
    "print(x(1,2,3))\n"
   ]
  },
  {
   "cell_type": "code",
   "execution_count": 18,
   "id": "2de322dc",
   "metadata": {},
   "outputs": [
    {
     "name": "stdout",
     "output_type": "stream",
     "text": [
      "22\n"
     ]
    }
   ],
   "source": [
    "# function in lambda\n",
    "def myfunc(n):\n",
    "    return lambda a:a*n\n",
    "mydoubler=myfunc(2)\n",
    "print(mydoubler(11))\n"
   ]
  },
  {
   "cell_type": "code",
   "execution_count": 17,
   "id": "58b07085",
   "metadata": {},
   "outputs": [
    {
     "name": "stdout",
     "output_type": "stream",
     "text": [
      "25\n"
     ]
    }
   ],
   "source": [
    "def square(a):\n",
    "    return  a*a\n",
    "result=square(5)\n",
    "print(result)"
   ]
  },
  {
   "cell_type": "markdown",
   "id": "f109ab2c",
   "metadata": {},
   "source": [
    "# chr pattern"
   ]
  },
  {
   "cell_type": "code",
   "execution_count": 2,
   "id": "79b75e99",
   "metadata": {},
   "outputs": [
    {
     "name": "stdout",
     "output_type": "stream",
     "text": [
      "A \n",
      "A A \n",
      "A A A \n",
      "A A A A \n"
     ]
    }
   ],
   "source": [
    "n=4\n",
    "for i in range(n):\n",
    "    for j in range(i+1):\n",
    "        print('A',end=\" \")\n",
    "    print()"
   ]
  },
  {
   "cell_type": "code",
   "execution_count": 3,
   "id": "94d43c74",
   "metadata": {},
   "outputs": [
    {
     "name": "stdout",
     "output_type": "stream",
     "text": [
      "A \n",
      "B B \n",
      "C C C \n",
      "D D D D \n",
      "E E E E E \n"
     ]
    }
   ],
   "source": [
    "n=5\n",
    "p=65\n",
    "for i in range(n):\n",
    "    for j in range(i+1):\n",
    "        print(chr(p),end=\" \")\n",
    "    p+=1\n",
    "    print()"
   ]
  },
  {
   "cell_type": "code",
   "execution_count": 4,
   "id": "123b169e",
   "metadata": {},
   "outputs": [
    {
     "name": "stdout",
     "output_type": "stream",
     "text": [
      "          A \n",
      "        A B C \n",
      "      A B C D E \n",
      "    A B C D E F G \n",
      "  A B C D E F G H I \n"
     ]
    }
   ],
   "source": [
    "n=5\n",
    "for i in range(n):\n",
    "    p=65\n",
    "    for j in range(i,n):\n",
    "        print(' ',end=\" \")\n",
    "    for j in range(i):\n",
    "        print(chr(p),end=\" \")\n",
    "        p+=1\n",
    "    for j in range(i+1):\n",
    "        print(chr(p),end=\" \")\n",
    "        p+=1\n",
    "    print()"
   ]
  },
  {
   "cell_type": "code",
   "execution_count": 6,
   "id": "03464a21",
   "metadata": {},
   "outputs": [
    {
     "name": "stdout",
     "output_type": "stream",
     "text": [
      "          A \n",
      "        A B A \n",
      "      A B C B A \n",
      "    A B C D C B A \n",
      "  A B C D E D C B A \n"
     ]
    }
   ],
   "source": [
    "n=5\n",
    "for i in range(n):\n",
    "    p=65\n",
    "    for j in range(i,n):\n",
    "        print(' ',end=\" \")\n",
    "    for j in range(i):\n",
    "        print(chr(p),end=\" \")\n",
    "        p+=1\n",
    "    for j in range(i+1):\n",
    "        print(chr(p),end=\" \")\n",
    "        p-=1\n",
    "    print()\n",
    "        "
   ]
  },
  {
   "cell_type": "code",
   "execution_count": null,
   "id": "8a4d3713",
   "metadata": {},
   "outputs": [],
   "source": []
  },
  {
   "cell_type": "code",
   "execution_count": null,
   "id": "e6dbc4fc",
   "metadata": {},
   "outputs": [],
   "source": []
  },
  {
   "cell_type": "code",
   "execution_count": null,
   "id": "ec8f7e91",
   "metadata": {},
   "outputs": [],
   "source": []
  },
  {
   "cell_type": "code",
   "execution_count": null,
   "id": "5b085258",
   "metadata": {},
   "outputs": [],
   "source": []
  },
  {
   "cell_type": "code",
   "execution_count": null,
   "id": "cfbd1dac",
   "metadata": {},
   "outputs": [],
   "source": []
  },
  {
   "cell_type": "code",
   "execution_count": null,
   "id": "31bb26cb",
   "metadata": {},
   "outputs": [],
   "source": []
  },
  {
   "cell_type": "code",
   "execution_count": null,
   "id": "b77ce37f",
   "metadata": {},
   "outputs": [],
   "source": []
  },
  {
   "cell_type": "code",
   "execution_count": null,
   "id": "88b77cea",
   "metadata": {},
   "outputs": [],
   "source": []
  },
  {
   "cell_type": "code",
   "execution_count": null,
   "id": "155b592b",
   "metadata": {},
   "outputs": [],
   "source": []
  },
  {
   "cell_type": "code",
   "execution_count": null,
   "id": "2fabde6b",
   "metadata": {},
   "outputs": [],
   "source": []
  },
  {
   "cell_type": "code",
   "execution_count": null,
   "id": "cdf7d3ac",
   "metadata": {},
   "outputs": [],
   "source": []
  },
  {
   "cell_type": "code",
   "execution_count": null,
   "id": "456957ab",
   "metadata": {},
   "outputs": [],
   "source": []
  },
  {
   "cell_type": "code",
   "execution_count": null,
   "id": "2647e7f8",
   "metadata": {},
   "outputs": [],
   "source": []
  },
  {
   "cell_type": "code",
   "execution_count": null,
   "id": "f0e82ba2",
   "metadata": {},
   "outputs": [],
   "source": []
  }
 ],
 "metadata": {
  "kernelspec": {
   "display_name": "Python 3 (ipykernel)",
   "language": "python",
   "name": "python3"
  },
  "language_info": {
   "codemirror_mode": {
    "name": "ipython",
    "version": 3
   },
   "file_extension": ".py",
   "mimetype": "text/x-python",
   "name": "python",
   "nbconvert_exporter": "python",
   "pygments_lexer": "ipython3",
   "version": "3.10.4"
  }
 },
 "nbformat": 4,
 "nbformat_minor": 5
}
