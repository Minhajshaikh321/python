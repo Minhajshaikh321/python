{
 "cells": [
  {
   "cell_type": "markdown",
   "id": "182bf0a3",
   "metadata": {},
   "source": [
    "# find the unique number in a list using function?\n",
    "Sample Input : [2,1,4,3,1,4,2]\n",
    "Sample Output : 3"
   ]
  },
  {
   "cell_type": "code",
   "execution_count": 6,
   "id": "a271c176",
   "metadata": {},
   "outputs": [
    {
     "name": "stdout",
     "output_type": "stream",
     "text": [
      "[3]\n"
     ]
    }
   ],
   "source": [
    "arr = [2,1,4,3,1,4,2]\n",
    "def odd_occurring_num(arr):\n",
    "    return [i for i in arr if arr.count(i) < 2]\n",
    "# print(arr)\n",
    "\n",
    "print(odd_occurring_num(arr))"
   ]
  },
  {
   "cell_type": "code",
   "execution_count": 23,
   "id": "3ff364fe",
   "metadata": {},
   "outputs": [],
   "source": [
    "l=[2,1,3,2,1]\n",
    "def odd(l):\n",
    "    for i in l:\n",
    "        if l.count(i)<2:\n",
    "            print(odd(l))        "
   ]
  },
  {
   "cell_type": "markdown",
   "id": "55e1e3e3",
   "metadata": {},
   "source": [
    "# 1.find the student who has Highest marks ?\n",
    "Input :  student = {\"Umar\":{\"score\": 67}, \"Talha\":{\"score\": 78}, \"Shadab\":{\"score\": 17}}\n",
    "Output : {'xyz':78}\n"
   ]
  },
  {
   "cell_type": "code",
   "execution_count": 24,
   "id": "3e74ae27",
   "metadata": {},
   "outputs": [
    {
     "name": "stdout",
     "output_type": "stream",
     "text": [
      "{'Talha': 78}\n"
     ]
    }
   ],
   "source": [
    "student = {\"Umar\":{\"score\": 67}, \"Talha\":{\"score\": 78}, \"Shadab\":{\"score\": 17}}\n",
    "max=0\n",
    "stu=' '\n",
    "for i in student:\n",
    "    var=student.get(i)[\"score\"]\n",
    "    if var>max:\n",
    "        max=var\n",
    "        stu=i\n",
    "print({stu:max})        "
   ]
  },
  {
   "cell_type": "markdown",
   "id": "a5f6a6c9",
   "metadata": {},
   "source": [
    "# 2. Sort the list on the basis of second element in the tuple ?\n",
    "Sample Input = [(\"zoo\", \"peanuts\"),(1, 'groot'), (\"teams\",\"ml\"),('dell', 'ipad'), ('water', 'case'), (56,\"apple\")]\n",
    "Sample Output = [(56, 'apple'), ('water', 'case'), (1, 'groot'), ('dell', 'ipad'), ('teams', 'ml'), ('zoo', 'peanuts')]̀\n"
   ]
  },
  {
   "cell_type": "code",
   "execution_count": 29,
   "id": "6e8f3eb0",
   "metadata": {},
   "outputs": [
    {
     "name": "stdout",
     "output_type": "stream",
     "text": [
      "[(56, 'apple'), ('water', 'case'), (1, 'groot'), ('dell', 'ipad'), ('teams', 'ml'), ('zoo', 'peanuts')]\n"
     ]
    }
   ],
   "source": [
    "tup = [(\"zoo\", \"peanuts\"),(1, 'groot'), (\"teams\",\"ml\"),('dell', 'ipad'), ('water', 'case'), (56,\"apple\")]\n",
    "def SortTuple(tup):  \n",
    "    n = len(tup)\n",
    "    for i in range(n):\n",
    "        for j in range(n-i-1):\n",
    "            if tup[j][1] > tup[j + 1][1]:\n",
    "                tup[j], tup[j + 1] = tup[j + 1], tup[j]\n",
    "    return tup    \n",
    "print(SortTuple(tup))\n"
   ]
  },
  {
   "cell_type": "markdown",
   "id": "a9eefe4e",
   "metadata": {},
   "source": [
    "# 3.Swap adjacent elements in a list without using inbuilt functions?\n"
   ]
  },
  {
   "cell_type": "code",
   "execution_count": 6,
   "id": "7d972744",
   "metadata": {},
   "outputs": [
    {
     "name": "stdout",
     "output_type": "stream",
     "text": [
      "[22, 23, 24, 25, 21]\n"
     ]
    }
   ],
   "source": [
    "swap_list=[21,22,23,24,25]\n",
    "for i in range(1,len(swap_list)):\n",
    "    swap_list[i],swap_list[i-1]=swap_list[i-1],swap_list[i]\n",
    "print(swap_list)     "
   ]
  },
  {
   "cell_type": "code",
   "execution_count": 2,
   "id": "4bd94fed",
   "metadata": {},
   "outputs": [
    {
     "name": "stdout",
     "output_type": "stream",
     "text": [
      "[1, 2, 4, 3, 5]\n"
     ]
    }
   ],
   "source": [
    "l=[2,1,3,4,5]\n",
    "for i in (0,len(l),2):\n",
    "    if i<len(l):\n",
    "        l[i],l[i+1]=l[i+1],l[i]\n",
    "print(l)        "
   ]
  },
  {
   "cell_type": "code",
   "execution_count": 4,
   "id": "e6e3b3fb",
   "metadata": {},
   "outputs": [
    {
     "name": "stdout",
     "output_type": "stream",
     "text": [
      "[33, 32, 35, 34, 1, 0]\n"
     ]
    }
   ],
   "source": [
    "l=[32,33,34,35,0,1]\n",
    "\n",
    "for i in range(1,len(l),2):\n",
    "    l[i],l[i-1]=l[i-1],l[i]\n",
    "print(l)        "
   ]
  },
  {
   "cell_type": "markdown",
   "id": "d1e2b699",
   "metadata": {},
   "source": [
    "# 4. Write a program to enter the number till the user wants and at the\n",
    "end it should display the sum of all numbers entered.(using while loop)\n"
   ]
  },
  {
   "cell_type": "code",
   "execution_count": null,
   "id": "1494b11b",
   "metadata": {},
   "outputs": [],
   "source": [
    "a=int(input())\n",
    "b=int(input())\n",
    "def sum(a,b):\n",
    "    print(a+b)\n",
    "sum(a,b)    "
   ]
  },
  {
   "cell_type": "code",
   "execution_count": 4,
   "id": "eb540f2a",
   "metadata": {},
   "outputs": [
    {
     "name": "stdout",
     "output_type": "stream",
     "text": [
      "enter number you want to add3\n",
      "enter the number1\n",
      "enter the number2\n",
      "enter the number3\n",
      "sum of all the number 6\n"
     ]
    }
   ],
   "source": [
    "result=0\n",
    "i=0\n",
    "b=[]\n",
    "n=int(input('enter number you want to add'))\n",
    "for j in range(n):\n",
    "    k=int(input('enter the number'))\n",
    "    b.append(k)\n",
    "while i<len(b):\n",
    "    result=result+b[i]\n",
    "    i+=1\n",
    "print('sum of all the number',result)"
   ]
  },
  {
   "cell_type": "markdown",
   "id": "eaffd192",
   "metadata": {},
   "source": [
    "# 6.Create a iterator to find all the Power of 3?\n"
   ]
  },
  {
   "cell_type": "code",
   "execution_count": 9,
   "id": "ca09a1f6",
   "metadata": {},
   "outputs": [
    {
     "name": "stdout",
     "output_type": "stream",
     "text": [
      "1\n",
      "8\n",
      "27\n"
     ]
    }
   ],
   "source": [
    "l=[1,2,3]\n",
    "for i in l:\n",
    "    a=i**3\n",
    "    i+=1\n",
    "    print(a)    "
   ]
  },
  {
   "cell_type": "code",
   "execution_count": 12,
   "id": "ea57ec64",
   "metadata": {},
   "outputs": [
    {
     "name": "stdout",
     "output_type": "stream",
     "text": [
      "<list_iterator object at 0x00000180309BAD70>\n",
      "3\n",
      "4\n"
     ]
    }
   ],
   "source": [
    "a=[3,4,5]\n",
    "b=iter(a)\n",
    "print(b)\n",
    "print(next(b))\n",
    "print(next(b))"
   ]
  },
  {
   "cell_type": "markdown",
   "id": "7baf4199",
   "metadata": {},
   "source": [
    "# 7.give example of Multilevel Inheritence and use super function in the same  \n"
   ]
  },
  {
   "cell_type": "code",
   "execution_count": 28,
   "id": "22a35ec8",
   "metadata": {},
   "outputs": [
    {
     "name": "stdout",
     "output_type": "stream",
     "text": [
      "name minhaj age 21 alpha A\n"
     ]
    }
   ],
   "source": [
    "class Bus:\n",
    "    def __init__(self,name):\n",
    "        self.name=name\n",
    "    def info(self):\n",
    "        print('name',self.name)\n",
    "class Car(Bus):\n",
    "    def __init__(self,name,age):\n",
    "        super().__init__(name)\n",
    "        self.age=age\n",
    "    def info(self):\n",
    "        print('name',self.name,'age',self.age)\n",
    "class Truck(Car):\n",
    "    def __init__(self,name,age,alpha):\n",
    "        super().__init__(name,age)\n",
    "        self.alpha=alpha\n",
    "    def info(self):\n",
    "        print('name',self.name,'age',self.age,'alpha',self.alpha)\n",
    "        \n",
    "obj=Truck('minhaj',21,'A')        \n",
    "obj.info()        "
   ]
  },
  {
   "cell_type": "markdown",
   "id": "3c7b60de",
   "metadata": {},
   "source": [
    "# 8.Convert a local variable into global variable and give the methods to access the same \n"
   ]
  },
  {
   "cell_type": "code",
   "execution_count": null,
   "id": "7703e5bb",
   "metadata": {},
   "outputs": [],
   "source": []
  }
 ],
 "metadata": {
  "kernelspec": {
   "display_name": "Python 3 (ipykernel)",
   "language": "python",
   "name": "python3"
  },
  "language_info": {
   "codemirror_mode": {
    "name": "ipython",
    "version": 3
   },
   "file_extension": ".py",
   "mimetype": "text/x-python",
   "name": "python",
   "nbconvert_exporter": "python",
   "pygments_lexer": "ipython3",
   "version": "3.10.6"
  }
 },
 "nbformat": 4,
 "nbformat_minor": 5
}
