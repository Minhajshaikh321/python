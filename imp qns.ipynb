{
 "cells": [
  {
   "cell_type": "markdown",
   "id": "3ab78aed",
   "metadata": {},
   "source": [
    "# logic qn"
   ]
  },
  {
   "cell_type": "code",
   "execution_count": 7,
   "id": "e710764e",
   "metadata": {},
   "outputs": [
    {
     "name": "stdout",
     "output_type": "stream",
     "text": [
      "[2, 8, 18, 32]\n"
     ]
    }
   ],
   "source": [
    "# i/p=[1,2,3,4]  o/p=[2,8,18,32]\n",
    "l=[1,2,3,4]\n",
    "l=list(map(lambda x:x**2 + x**2,l))\n",
    "print(l)"
   ]
  },
  {
   "cell_type": "code",
   "execution_count": 4,
   "id": "56f14f52",
   "metadata": {},
   "outputs": [
    {
     "name": "stdout",
     "output_type": "stream",
     "text": [
      "[5, 3, 7, 4]\n"
     ]
    }
   ],
   "source": [
    "# i/p=[5,8,15,19]  o/p=[5,3,7,4]\n",
    "\n",
    "my_list = [5,8,15,19]\n",
    "diff_list = []\n",
    "for i in range(1,len(my_list)):\n",
    "    x = my_list[i] - my_list[i-1]\n",
    "    diff_list.append(x)\n",
    "# print(diff_list)\n",
    "diffs =[my_list[0]] + [y - x for x, y in zip(my_list, my_list[1:])]\n",
    "print(diffs)"
   ]
  },
  {
   "cell_type": "code",
   "execution_count": 5,
   "id": "e373c7ca",
   "metadata": {},
   "outputs": [
    {
     "name": "stdout",
     "output_type": "stream",
     "text": [
      "[8, 15, 19] [5, 8, 15]\n"
     ]
    }
   ],
   "source": [
    "z=[5,8,15,19]\n",
    "print(z[1:],z[:-1])\n"
   ]
  },
  {
   "cell_type": "markdown",
   "id": "88d867c0",
   "metadata": {},
   "source": [
    "# find largest num in list without using max funcn"
   ]
  },
  {
   "cell_type": "code",
   "execution_count": 7,
   "id": "aaa2c94e",
   "metadata": {},
   "outputs": [
    {
     "name": "stdout",
     "output_type": "stream",
     "text": [
      "80\n"
     ]
    }
   ],
   "source": [
    "lst=[1,10,17,80,20]\n",
    "a=0\n",
    "for i in lst:\n",
    "    while i>a:\n",
    "        a=i\n",
    "print(a)"
   ]
  },
  {
   "cell_type": "markdown",
   "id": "1c09321f",
   "metadata": {},
   "source": [
    "# sort the list len funcn"
   ]
  },
  {
   "cell_type": "code",
   "execution_count": 8,
   "id": "a923fbfb",
   "metadata": {},
   "outputs": [
    {
     "name": "stdout",
     "output_type": "stream",
     "text": [
      "['bmw', 'vion', 'skoda']\n"
     ]
    }
   ],
   "source": [
    "a=[\"vion\",\"bmw\",\"skoda\"]\n",
    "a.sort(key=len)\n",
    "print(a)"
   ]
  },
  {
   "cell_type": "markdown",
   "id": "9a65fa7d",
   "metadata": {},
   "source": [
    "# find max number value in dict"
   ]
  },
  {
   "cell_type": "code",
   "execution_count": 1,
   "id": "302dd91a",
   "metadata": {},
   "outputs": [
    {
     "data": {
      "text/plain": [
       "{'Ali': 91}"
      ]
     },
     "execution_count": 1,
     "metadata": {},
     "output_type": "execute_result"
    }
   ],
   "source": [
    "dict1={\"Ali\":{\"Score\":91},\"Akbar\":{\"Score\":45},\"Bilal\":{\"Score\":30}}\n",
    "def maximum():\n",
    "    maxm=0\n",
    "    stu=\" \"\n",
    "    for i in dict1:\n",
    "        Score=dict1.get(i)['Score']\n",
    "        if Score > maxm:\n",
    "            maxm=Score\n",
    "            stu=i\n",
    "    return {stu:maxm}\n",
    "maximum()"
   ]
  },
  {
   "cell_type": "markdown",
   "id": "9b8b8aae",
   "metadata": {},
   "source": [
    "# insertion sort"
   ]
  },
  {
   "cell_type": "code",
   "execution_count": 8,
   "id": "b4dff4a5",
   "metadata": {},
   "outputs": [
    {
     "name": "stdout",
     "output_type": "stream",
     "text": [
      "[5, 6, 11, 12, 13]\n"
     ]
    }
   ],
   "source": [
    "lt=[11,12,13,5,6]\n",
    "for i in range(1,len(lt)):\n",
    "    while lt[i-1]>lt[i] and i>0: \n",
    "        lt[i-1],lt[i]=lt[i],lt[i-1]\n",
    "        i = i-1\n",
    "#         print(\"updated\", lt)        \n",
    "print(lt)"
   ]
  },
  {
   "cell_type": "markdown",
   "id": "74bb664f",
   "metadata": {},
   "source": [
    "###### "
   ]
  },
  {
   "cell_type": "code",
   "execution_count": 13,
   "id": "1d379232",
   "metadata": {},
   "outputs": [
    {
     "name": "stdout",
     "output_type": "stream",
     "text": [
      "1 correct extension of python file?\n",
      "Ans: py.file\n",
      "2 what is django?\n",
      "Ans: Django is framework?\n",
      "3 what is class in oops?\n",
      "Ans: A class is a blueprint for the object\n",
      "4 what is instance varible?\n",
      "Ans: Attached to an instance of class\n",
      "1 django is use to create web app\n",
      "2 class contains the properties (attribute) and action (behavior) of the object.\n",
      "3 Instance variables are not shared by objects. Every object has its own copy of the instance attribute. This means that for each object of a class, the instance variable value is different\n"
     ]
    }
   ],
   "source": [
    "qn=[{\"question\":\"correct extension of python file?\",\n",
    "    \"answer\":\"py.file\",\n",
    "    \"explanation\":\" \"},\n",
    "    {\"question\":\"what is django?\",\n",
    "    \"answer\":\"Django is framework?\",\n",
    "    \"explanation\":\"django is use to create web app\"},\n",
    "    {\"question\":\"what is class in oops?\",\n",
    "    \"answer\":\"A class is a blueprint for the object\",\n",
    "    \"explanation\":\"class contains the properties (attribute) and action (behavior) of the object.\"},\n",
    "    {\"question\":\"what is instance varible?\",\n",
    "    \"answer\":\"Attached to an instance of class\",\n",
    "    \"explanation\":\"Instance variables are not shared by objects. Every object has its own copy of the instance attribute. This means that for each object of a class, the instance variable value is different\"\n",
    "     }]\n",
    "count=1\n",
    "for x in qn:\n",
    "    print(count,x[\"question\"])   \n",
    "    count+=1\n",
    "    print(\"Ans:\",x[\"answer\"])\n",
    "e=1\n",
    "for x in qn:\n",
    "    if x[\"explanation\"]==\" \":\n",
    "        pass\n",
    "    else:\n",
    "        print(e,x[\"explanation\"])\n",
    "        e+=1\n",
    "#     q=x[\"question\"]\n",
    "#     count=count+1\n",
    "#     print(i,count,'-',j)"
   ]
  },
  {
   "cell_type": "code",
   "execution_count": 14,
   "id": "443d3ad3",
   "metadata": {},
   "outputs": [
    {
     "data": {
      "text/plain": [
       "'what is django?'"
      ]
     },
     "execution_count": 14,
     "metadata": {},
     "output_type": "execute_result"
    }
   ],
   "source": [
    "x={\"question\":\"what is django?\",\"answer\":\"Django is framework?\",\"explanation\":\"django is use to create web app\"}\n",
    "x[\"question\"]"
   ]
  },
  {
   "cell_type": "code",
   "execution_count": 2,
   "id": "45b2b284",
   "metadata": {},
   "outputs": [
    {
     "name": "stdout",
     "output_type": "stream",
     "text": [
      "<function ls at 0x0000014B9EF82A70>\n"
     ]
    }
   ],
   "source": []
  },
  {
   "cell_type": "code",
   "execution_count": 17,
   "id": "d7433849",
   "metadata": {},
   "outputs": [
    {
     "name": "stdout",
     "output_type": "stream",
     "text": [
      "[2, 3, 5]\n"
     ]
    }
   ],
   "source": [
    "a=[2,3,4]\n",
    "if a[-1]<9:\n",
    "        a[-1]+=1\n",
    "elif a[-1]==9:\n",
    "        a[-1]=0\n",
    "        a[-2]+=1\n",
    "print(a)"
   ]
  },
  {
   "cell_type": "code",
   "execution_count": 14,
   "id": "fc78d921",
   "metadata": {},
   "outputs": [
    {
     "name": "stdout",
     "output_type": "stream",
     "text": [
      "{'Talha': 78}\n"
     ]
    }
   ],
   "source": [
    "student = {\"Umar\":{\"score\": 67}, \"Talha\":{\"score\": 78}, \"Shadab\":{\"score\": 17}}\n",
    "max=0\n",
    "stu=' '\n",
    "for i in student:\n",
    "    var=student.get(i)[\"score\"]\n",
    "    if var>max:\n",
    "        max=var\n",
    "        stu=i\n",
    "print({stu:max})        "
   ]
  },
  {
   "cell_type": "code",
   "execution_count": 13,
   "id": "a02eea78",
   "metadata": {},
   "outputs": [
    {
     "name": "stdout",
     "output_type": "stream",
     "text": [
      "peanuts\n",
      "groot\n",
      "ml\n",
      "ipad\n",
      "case\n",
      "apple\n"
     ]
    }
   ],
   "source": [
    "# sort the list on the basis of second element in the tuple ?\n",
    "Sample= [(\"zoo\", \"peanuts\"),(1, 'groot'), (\"teams\",\"ml\"),('dell', 'ipad'), ('water', 'case'), (56,\"apple\")]\n",
    "for i in Sample:\n",
    "    var=i[1]\n",
    "    print(var)    \n",
    "# Sample Output = [(56, 'apple'), ('water', 'case'), (1, 'groot'), ('dell', 'ipad'), ('teams', 'ml'), ('zoo', 'peanuts')]̀\n"
   ]
  },
  {
   "cell_type": "code",
   "execution_count": null,
   "id": "fbdb5175",
   "metadata": {},
   "outputs": [],
   "source": []
  }
 ],
 "metadata": {
  "kernelspec": {
   "display_name": "Python 3 (ipykernel)",
   "language": "python",
   "name": "python3"
  },
  "language_info": {
   "codemirror_mode": {
    "name": "ipython",
    "version": 3
   },
   "file_extension": ".py",
   "mimetype": "text/x-python",
   "name": "python",
   "nbconvert_exporter": "python",
   "pygments_lexer": "ipython3",
   "version": "3.10.6"
  }
 },
 "nbformat": 4,
 "nbformat_minor": 5
}
