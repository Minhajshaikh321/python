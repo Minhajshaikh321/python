{
 "cells": [
  {
   "cell_type": "code",
   "execution_count": 2,
   "id": "36ab87b4",
   "metadata": {},
   "outputs": [
    {
     "name": "stdout",
     "output_type": "stream",
     "text": [
      "total no.of rows= 5\n",
      "\n",
      "print each row\n",
      "Rollno=  1\n",
      "Lastname=  Shaikh\n",
      "Firstname=  Minhaj\n",
      "cityname=  Kurla\n",
      "pcname=  Apple\n",
      "Rollno=  2\n",
      "Lastname=  Khan\n",
      "Firstname=  Suraiya\n",
      "cityname=  Phoenix\n",
      "pcname=  Dell\n",
      "Rollno=  3\n",
      "Lastname=  Kn\n",
      "Firstname=  Anam\n",
      "cityname=  Tilak\n",
      "pcname=  Acer\n",
      "Rollno=  4\n",
      "Lastname=  Kh\n",
      "Firstname=  Zikra\n",
      "cityname=  Sakinaka\n",
      "pcname=  Asus\n",
      "Rollno=  5\n",
      "Lastname=  Sayyed\n",
      "Firstname=  Iram\n",
      "cityname=  Panvel\n",
      "pcname=  Mac\n",
      "MySQL connection is closed\n"
     ]
    }
   ],
   "source": [
    "import mysql.connector\n",
    "\n",
    "try:\n",
    "    connection = mysql.connector.connect(host='localhost',database='minhaj',user='root',password='Minhaj@343')\n",
    "    sql_select_Query = \"\"\"select * from my_table\"\"\"\n",
    "    cursor = connection.cursor()\n",
    "    cursor.execute(sql_select_Query)\n",
    "    records = cursor.fetchall()\n",
    "    print('total no.of rows=',cursor.rowcount)\n",
    "    print('\\nprint each row')\n",
    "    for row in records:\n",
    "        print('Rollno= ',row[0],)\n",
    "        print('Lastname= ',row[1],)\n",
    "        print('Firstname= ',row[2],)\n",
    "        print('cityname= ',row[3],)\n",
    "        print('pcname= ',row[4],) \n",
    "except mysql.connector.Error as e:\n",
    "    print(\"Error reading data from my_table\", e)\n",
    "finally:\n",
    "    if connection.is_connected():\n",
    "        connection.close()\n",
    "        cursor.close()\n",
    "        print(\"MySQL connection is closed\")"
   ]
  },
  {
   "cell_type": "code",
   "execution_count": 7,
   "id": "61cf98b9",
   "metadata": {},
   "outputs": [
    {
     "name": "stdout",
     "output_type": "stream",
     "text": [
      "failed to get record from mysql table: 1054 (42S22): Unknown column 'Rollno' in 'where clause'\n",
      "MySQL connection is closed\n",
      "failed to get record from mysql table: 1054 (42S22): Unknown column 'Rollno' in 'where clause'\n",
      "MySQL connection is closed\n"
     ]
    }
   ],
   "source": [
    "import mysql.connector\n",
    "def get_mytable(Rollno):\n",
    "    try:\n",
    "        connection = mysql.connector.connect(host='localhost',database='minhaj',user='root',password='Minhaj@343')\n",
    "        cursor = connection.cursor()\n",
    "        sql_select_Query = \"select * from my_table where Rollno = %s\"\n",
    "        cursor.execute(sql_select_Query,(Rollno,))\n",
    "        record = cursor.fetchall()\n",
    "        for row in records:\n",
    "            print('Rollno= ',row[0],)\n",
    "            print('Lastname= ',row[1],)\n",
    "            print('Firstname= ',row[2],)\n",
    "            print('cityname= ',row[3],)\n",
    "            print('pcname= ',row[4],) \n",
    "    except mysql.connector.Error as error:\n",
    "        print(\"failed to get record from mysql table: {}\".format(error))\n",
    "    finally:\n",
    "        if connection.is_connected():\n",
    "            cursor.close()\n",
    "            connection.close()\n",
    "            print(\"MySQL connection is closed\")\n",
    "get_mytable(1)\n",
    "get_mytable(2)"
   ]
  },
  {
   "cell_type": "code",
   "execution_count": 8,
   "id": "a636fe0d",
   "metadata": {},
   "outputs": [
    {
     "ename": "ModuleNotFoundError",
     "evalue": "No module named 'mysql.connecctor'",
     "output_type": "error",
     "traceback": [
      "\u001b[1;31m---------------------------------------------------------------------------\u001b[0m",
      "\u001b[1;31mModuleNotFoundError\u001b[0m                       Traceback (most recent call last)",
      "Input \u001b[1;32mIn [8]\u001b[0m, in \u001b[0;36m<cell line: 1>\u001b[1;34m()\u001b[0m\n\u001b[1;32m----> 1\u001b[0m \u001b[38;5;28;01mimport\u001b[39;00m \u001b[38;5;21;01mmysql\u001b[39;00m\u001b[38;5;21;01m.\u001b[39;00m\u001b[38;5;21;01mconnecctor\u001b[39;00m\n\u001b[0;32m      2\u001b[0m mydb \u001b[38;5;241m=\u001b[39m mysql\u001b[38;5;241m.\u001b[39mconnector\u001b[38;5;241m.\u001b[39mconnect(host\u001b[38;5;241m=\u001b[39m\u001b[38;5;124m'\u001b[39m\u001b[38;5;124mlocalhost\u001b[39m\u001b[38;5;124m'\u001b[39m,user\u001b[38;5;241m=\u001b[39m\u001b[38;5;124m'\u001b[39m\u001b[38;5;124mroot\u001b[39m\u001b[38;5;124m'\u001b[39m,password\u001b[38;5;241m=\u001b[39m\u001b[38;5;124m'\u001b[39m\u001b[38;5;124mMinhaj@343\u001b[39m\u001b[38;5;124m'\u001b[39m,databse\u001b[38;5;241m=\u001b[39m\u001b[38;5;124m'\u001b[39m\u001b[38;5;124mminhaj\u001b[39m\u001b[38;5;124m'\u001b[39m)\n\u001b[0;32m      3\u001b[0m mycursor \u001b[38;5;241m=\u001b[39m mydb\u001b[38;5;241m.\u001b[39mmycursor()\n",
      "\u001b[1;31mModuleNotFoundError\u001b[0m: No module named 'mysql.connecctor'"
     ]
    }
   ],
   "source": [
    "import mysql.connecctor\n",
    "mydb = mysql.connector.connect(host='localhost',user='root',password='Minhaj@343',databse='minhaj')\n",
    "mycursor = mydb.mycursor()\n",
    "mycursor.execute(\"SELECT * FROM minhaj.my_table;\")\n",
    "myresult = mycursor.fetchall\n",
    "for row in myresult:\n",
    "    print(row)"
   ]
  },
  {
   "cell_type": "code",
   "execution_count": 9,
   "id": "ca672eac",
   "metadata": {},
   "outputs": [
    {
     "name": "stdout",
     "output_type": "stream",
     "text": [
      "connection established...\n"
     ]
    }
   ],
   "source": [
    "import mysql.connector\n",
    "conn = mysql.connector.connect(host='localhost',password='Minhaj@343',user='root')\n",
    "\n",
    "if conn.is_connected():\n",
    "   print('connection established...')"
   ]
  },
  {
   "cell_type": "code",
   "execution_count": null,
   "id": "214fcfe8",
   "metadata": {},
   "outputs": [],
   "source": []
  }
 ],
 "metadata": {
  "kernelspec": {
   "display_name": "Python 3 (ipykernel)",
   "language": "python",
   "name": "python3"
  },
  "language_info": {
   "codemirror_mode": {
    "name": "ipython",
    "version": 3
   },
   "file_extension": ".py",
   "mimetype": "text/x-python",
   "name": "python",
   "nbconvert_exporter": "python",
   "pygments_lexer": "ipython3",
   "version": "3.10.6"
  }
 },
 "nbformat": 4,
 "nbformat_minor": 5
}
