{
 "cells": [
  {
   "cell_type": "markdown",
   "id": "222852d7",
   "metadata": {},
   "source": [
    "# INSTANCE VARIABLE:"
   ]
  },
  {
   "cell_type": "code",
   "execution_count": 5,
   "id": "82d197de",
   "metadata": {},
   "outputs": [
    {
     "name": "stdout",
     "output_type": "stream",
     "text": [
      "Object 1\n",
      "Name minaj\n",
      "Age 22\n"
     ]
    }
   ],
   "source": [
    "# If the value of a variable varies from object to object, then such variables are called instance variables\n",
    "class Teacher:\n",
    "    #constructor\n",
    "    def __init__(self,name,age):\n",
    "        #instance variable\n",
    "        self.name=name\n",
    "        self.age=age\n",
    "# create firt object\n",
    "s1=Teacher('minaj',22)\n",
    "# acess instance variable\n",
    "print('Object 1')\n",
    "print('Name',s1.name)\n",
    "print('Age',s1.age)"
   ]
  },
  {
   "cell_type": "code",
   "execution_count": 12,
   "id": "feed9d49",
   "metadata": {},
   "outputs": [
    {
     "name": "stdout",
     "output_type": "stream",
     "text": [
      "before\n",
      "name: Jessa ; age: 39\n",
      "after\n",
      "name: hardy\n"
     ]
    }
   ],
   "source": [
    "# modify instance \n",
    "class Student:\n",
    "    def __init__(self,name,age):\n",
    "        self.name=name\n",
    "        self.age=age\n",
    "a=Student('Jessa ;',39)\n",
    "print('before')\n",
    "print('name:',a.name,'age:',a.age)\n",
    "#modify instance variable\n",
    "a.name='hardy'\n",
    "a.age=13\n",
    "#acess modify varibale\n",
    "print('after')\n",
    "print('name:',a.name)\n"
   ]
  },
  {
   "cell_type": "code",
   "execution_count": 14,
   "id": "df12c207",
   "metadata": {},
   "outputs": [
    {
     "name": "stdout",
     "output_type": "stream",
     "text": [
      "Name: Jessa Age: 20\n"
     ]
    }
   ],
   "source": [
    "class Student:\n",
    "    # constructor\n",
    "    def __init__(self, name, age):\n",
    "        # Instance variable\n",
    "        self.name = name\n",
    "        self.age = age\n",
    "\n",
    "    # instance method access instance variable\n",
    "    def show(self):\n",
    "        print('Name:', stud.name, 'Age:', stud.age)\n",
    "\n",
    "# create object\n",
    "stud = Student(\"Jessa\", 20)\n",
    "\n",
    "# call instance method\n",
    "stud.show()"
   ]
  },
  {
   "cell_type": "code",
   "execution_count": 19,
   "id": "260d1a0a",
   "metadata": {},
   "outputs": [
    {
     "name": "stdout",
     "output_type": "stream",
     "text": [
      "Name: Jacob\n",
      "Age: 49\n"
     ]
    }
   ],
   "source": [
    "class Student:\n",
    "    # constructor\n",
    "    def __init__(self, name, age):\n",
    "        # Instance variable\n",
    "        self.name = name\n",
    "        self.age = age\n",
    "b=Student('Jacob',49)\n",
    "#use get attribute without using b.name\n",
    "print('Name:',getattr(b,\"name\"))\n",
    "print('Age:',getattr(b,'age'))"
   ]
  },
  {
   "cell_type": "code",
   "execution_count": 22,
   "id": "b4e52e8c",
   "metadata": {},
   "outputs": [
    {
     "name": "stdout",
     "output_type": "stream",
     "text": [
      "Before\n",
      "Name: Jessa Age: 20\n",
      "After\n",
      "Name: Jessa Age: 20 Marks: 75\n"
     ]
    }
   ],
   "source": [
    "class Student:\n",
    "    def __init__(self, name, age):\n",
    "        # Instance variable\n",
    "        self.name = name\n",
    "        self.age = age\n",
    "\n",
    "# create object\n",
    "stud = Student(\"Jessa\", 20)\n",
    "\n",
    "print('Before')\n",
    "print('Name:', stud.name, 'Age:', stud.age)\n",
    "\n",
    "# add new instance variable 'marks' to stud\n",
    "stud.marks = 75\n",
    "print('After')\n",
    "print('Name:', stud.name, 'Age:', stud.age, 'Marks:', stud.marks)\n"
   ]
  },
  {
   "cell_type": "code",
   "execution_count": 23,
   "id": "71eb680d",
   "metadata": {},
   "outputs": [
    {
     "name": "stdout",
     "output_type": "stream",
     "text": [
      "10 Jessa\n"
     ]
    },
    {
     "ename": "AttributeError",
     "evalue": "'Student' object has no attribute 'name'",
     "output_type": "error",
     "traceback": [
      "\u001b[1;31m---------------------------------------------------------------------------\u001b[0m",
      "\u001b[1;31mAttributeError\u001b[0m                            Traceback (most recent call last)",
      "Input \u001b[1;32mIn [23]\u001b[0m, in \u001b[0;36m<cell line: 14>\u001b[1;34m()\u001b[0m\n\u001b[0;32m     12\u001b[0m \u001b[38;5;28;01mdel\u001b[39;00m s1\u001b[38;5;241m.\u001b[39mname\n\u001b[0;32m     13\u001b[0m \u001b[38;5;66;03m# Try to access name variable\u001b[39;00m\n\u001b[1;32m---> 14\u001b[0m \u001b[38;5;28mprint\u001b[39m(\u001b[43ms1\u001b[49m\u001b[38;5;241;43m.\u001b[39;49m\u001b[43mname\u001b[49m)\n",
      "\u001b[1;31mAttributeError\u001b[0m: 'Student' object has no attribute 'name'"
     ]
    }
   ],
   "source": [
    "class Student:\n",
    "    def __init__(self, roll_no, name):\n",
    "        # Instance variable\n",
    "        self.roll_no = roll_no\n",
    "        self.name = name\n",
    "\n",
    "# create object\n",
    "s1 = Student(10, 'Jessa')\n",
    "print(s1.roll_no, s1.name)\n",
    "\n",
    "# del name\n",
    "del s1.name\n",
    "# Try to access name variable\n",
    "print(s1.name)\n"
   ]
  },
  {
   "cell_type": "code",
   "execution_count": 7,
   "id": "dbcab245",
   "metadata": {},
   "outputs": [
    {
     "name": "stdout",
     "output_type": "stream",
     "text": [
      "Name: adam\n",
      "Age: 30\n"
     ]
    }
   ],
   "source": [
    "class Student:\n",
    "    #constructor\n",
    "    def __init__(self,name,age):\n",
    "        #instance variable\n",
    "        self.name=name\n",
    "        self.age=age\n",
    "#create object\n",
    "stud=Student('adam',30)\n",
    "#use getattr instead of stud.name\n",
    "print('Name:',getattr(stud,'name'))\n",
    "print('Age:',getattr(stud,'age'))"
   ]
  },
  {
   "cell_type": "code",
   "execution_count": 5,
   "id": "a87691c5",
   "metadata": {},
   "outputs": [
    {
     "name": "stdout",
     "output_type": "stream",
     "text": [
      "39 suraiya\n"
     ]
    },
    {
     "ename": "AttributeError",
     "evalue": "'Student' object has no attribute 'name'",
     "output_type": "error",
     "traceback": [
      "\u001b[1;31m---------------------------------------------------------------------------\u001b[0m",
      "\u001b[1;31mAttributeError\u001b[0m                            Traceback (most recent call last)",
      "Input \u001b[1;32mIn [5]\u001b[0m, in \u001b[0;36m<cell line: 11>\u001b[1;34m()\u001b[0m\n\u001b[0;32m      7\u001b[0m \u001b[38;5;28mprint\u001b[39m(s1\u001b[38;5;241m.\u001b[39mroll_no,s1\u001b[38;5;241m.\u001b[39mname)\n\u001b[0;32m      9\u001b[0m \u001b[38;5;28;01mdel\u001b[39;00m s1\u001b[38;5;241m.\u001b[39mname\n\u001b[1;32m---> 11\u001b[0m \u001b[38;5;28mprint\u001b[39m(\u001b[43ms1\u001b[49m\u001b[38;5;241;43m.\u001b[39;49m\u001b[43mname\u001b[49m)\n",
      "\u001b[1;31mAttributeError\u001b[0m: 'Student' object has no attribute 'name'"
     ]
    }
   ],
   "source": [
    "class Student:\n",
    "    def __init__(self,roll_no,name):\n",
    "        self.roll_no=roll_no\n",
    "        self.name=name\n",
    "# create object\n",
    "s1=Student(39,'suraiya')\n",
    "print(s1.roll_no,s1.name)\n",
    "\n",
    "del s1.name\n",
    "\n",
    "print(s1.name)"
   ]
  },
  {
   "cell_type": "code",
   "execution_count": 8,
   "id": "a4d1dc55",
   "metadata": {},
   "outputs": [
    {
     "name": "stdout",
     "output_type": "stream",
     "text": [
      "20 watson\n"
     ]
    },
    {
     "ename": "AttributeError",
     "evalue": "'Student' object has no attribute 'roll_no'",
     "output_type": "error",
     "traceback": [
      "\u001b[1;31m---------------------------------------------------------------------------\u001b[0m",
      "\u001b[1;31mAttributeError\u001b[0m                            Traceback (most recent call last)",
      "Input \u001b[1;32mIn [8]\u001b[0m, in \u001b[0;36m<cell line: 10>\u001b[1;34m()\u001b[0m\n\u001b[0;32m      8\u001b[0m s1\u001b[38;5;241m.\u001b[39mshow()\n\u001b[0;32m      9\u001b[0m \u001b[38;5;28mdelattr\u001b[39m(s1,\u001b[38;5;124m'\u001b[39m\u001b[38;5;124mroll_no\u001b[39m\u001b[38;5;124m'\u001b[39m)\n\u001b[1;32m---> 10\u001b[0m \u001b[43ms1\u001b[49m\u001b[38;5;241;43m.\u001b[39;49m\u001b[43mshow\u001b[49m\u001b[43m(\u001b[49m\u001b[43m)\u001b[49m\n",
      "Input \u001b[1;32mIn [8]\u001b[0m, in \u001b[0;36mStudent.show\u001b[1;34m(self)\u001b[0m\n\u001b[0;32m      5\u001b[0m \u001b[38;5;28;01mdef\u001b[39;00m \u001b[38;5;21mshow\u001b[39m(\u001b[38;5;28mself\u001b[39m):\n\u001b[1;32m----> 6\u001b[0m     \u001b[38;5;28mprint\u001b[39m(\u001b[38;5;28;43mself\u001b[39;49m\u001b[38;5;241;43m.\u001b[39;49m\u001b[43mroll_no\u001b[49m,\u001b[38;5;28mself\u001b[39m\u001b[38;5;241m.\u001b[39mname)\n",
      "\u001b[1;31mAttributeError\u001b[0m: 'Student' object has no attribute 'roll_no'"
     ]
    }
   ],
   "source": [
    "class Student:\n",
    "    def __init__(self,roll_no,name):\n",
    "        self.roll_no=roll_no\n",
    "        self.name=name\n",
    "    def show(self):\n",
    "        print(self.roll_no,self.name)\n",
    "s1=Student(20,'watson')\n",
    "s1.show()\n",
    "delattr(s1,'roll_no')\n",
    "s1.show()"
   ]
  },
  {
   "cell_type": "code",
   "execution_count": 9,
   "id": "1bf74232",
   "metadata": {},
   "outputs": [
    {
     "name": "stdout",
     "output_type": "stream",
     "text": [
      "Engine 2500cc\n",
      "Max speed 230\n"
     ]
    }
   ],
   "source": [
    "class Vehicle:\n",
    "    def __init__(self):\n",
    "        self.engine='2500cc'\n",
    "class Car(Vehicle):\n",
    "    def __init__(self,max_speed):\n",
    "        super().__init__()\n",
    "        self.max_speed=max_speed\n",
    "        \n",
    "    def display(self):\n",
    "        print('Engine',self.engine)\n",
    "        print('Max speed',self.max_speed)\n",
    "c1=Car(230)\n",
    "c1.display()"
   ]
  },
  {
   "cell_type": "code",
   "execution_count": 15,
   "id": "dbe9b992",
   "metadata": {},
   "outputs": [
    {
     "name": "stdout",
     "output_type": "stream",
     "text": [
      "Instance variable object has\n",
      "{'roll_no': 10, 'name': 'Jessa', 'age': 45}\n"
     ]
    },
    {
     "ename": "NameError",
     "evalue": "name 'key_vlue' is not defined",
     "output_type": "error",
     "traceback": [
      "\u001b[1;31m---------------------------------------------------------------------------\u001b[0m",
      "\u001b[1;31mNameError\u001b[0m                                 Traceback (most recent call last)",
      "Input \u001b[1;32mIn [15]\u001b[0m, in \u001b[0;36m<cell line: 11>\u001b[1;34m()\u001b[0m\n\u001b[0;32m     10\u001b[0m \u001b[38;5;66;03m# Get each instance variable\u001b[39;00m\n\u001b[0;32m     11\u001b[0m \u001b[38;5;28;01mfor\u001b[39;00m key_value \u001b[38;5;129;01min\u001b[39;00m s1\u001b[38;5;241m.\u001b[39m\u001b[38;5;18m__dict__\u001b[39m\u001b[38;5;241m.\u001b[39mitems():\n\u001b[1;32m---> 12\u001b[0m     \u001b[38;5;28mprint\u001b[39m(key_value[\u001b[38;5;241m0\u001b[39m],\u001b[38;5;124m'\u001b[39m\u001b[38;5;124m=\u001b[39m\u001b[38;5;124m'\u001b[39m,\u001b[43mkey_vlue\u001b[49m[\u001b[38;5;241m2\u001b[39m])\n",
      "\u001b[1;31mNameError\u001b[0m: name 'key_vlue' is not defined"
     ]
    }
   ],
   "source": [
    "class Student:\n",
    "    def __init__(self, roll_no, name,age):\n",
    "        # Instance variable\n",
    "        self.roll_no = roll_no\n",
    "        self.name = name\n",
    "        self.age=age\n",
    "s1 = Student(10, 'Jessa',45)\n",
    "print('Instance variable object has')\n",
    "print(s1.__dict__)\n",
    "# Get each instance variable\n",
    "for key_value in s1.__dict__.items():\n",
    "    print(key_value[0],'=',key_vlue[2])"
   ]
  },
  {
   "cell_type": "code",
   "execution_count": 8,
   "id": "7197d43a",
   "metadata": {},
   "outputs": [
    {
     "ename": "TypeError",
     "evalue": "Student.__init__() takes 3 positional arguments but 4 were given",
     "output_type": "error",
     "traceback": [
      "\u001b[1;31m---------------------------------------------------------------------------\u001b[0m",
      "\u001b[1;31mTypeError\u001b[0m                                 Traceback (most recent call last)",
      "Input \u001b[1;32mIn [8]\u001b[0m, in \u001b[0;36m<cell line: 8>\u001b[1;34m()\u001b[0m\n\u001b[0;32m      5\u001b[0m         \u001b[38;5;28mself\u001b[39m\u001b[38;5;241m.\u001b[39mname \u001b[38;5;241m=\u001b[39m name\n\u001b[0;32m      6\u001b[0m         \u001b[38;5;28mself\u001b[39m\u001b[38;5;241m.\u001b[39mage\u001b[38;5;241m=\u001b[39mage\n\u001b[1;32m----> 8\u001b[0m s1 \u001b[38;5;241m=\u001b[39m \u001b[43mStudent\u001b[49m\u001b[43m(\u001b[49m\u001b[38;5;241;43m10\u001b[39;49m\u001b[43m,\u001b[49m\u001b[38;5;124;43m'\u001b[39;49m\u001b[38;5;124;43mJessa\u001b[39;49m\u001b[38;5;124;43m'\u001b[39;49m\u001b[43m,\u001b[49m\u001b[38;5;241;43m23\u001b[39;49m\u001b[43m)\u001b[49m\n\u001b[0;32m      9\u001b[0m \u001b[38;5;28mprint\u001b[39m(\u001b[38;5;124m'\u001b[39m\u001b[38;5;124mInstance variable object has\u001b[39m\u001b[38;5;124m'\u001b[39m)\n\u001b[0;32m     10\u001b[0m \u001b[38;5;28mprint\u001b[39m(s1\u001b[38;5;241m.\u001b[39m\u001b[38;5;18m__dict__\u001b[39m)\n",
      "\u001b[1;31mTypeError\u001b[0m: Student.__init__() takes 3 positional arguments but 4 were given"
     ]
    }
   ],
   "source": [
    "class Student:\n",
    "    def __init__(self, roll_no, name):\n",
    "        # Instance variable\n",
    "        self.roll_no = roll_no\n",
    "        self.name = name\n",
    "        self.age=age\n",
    "\n",
    "s1 = Student(10,'Jessa',23)\n",
    "print('Instance variable object has')\n",
    "print(s1.__dict__)\n",
    "\n",
    "# Get each instance variable\n",
    "for key_value in s1.__dict__.items():\n",
    "    print(key_value[0], '=', key_value[2])"
   ]
  },
  {
   "cell_type": "code",
   "execution_count": 18,
   "id": "60b1125e",
   "metadata": {},
   "outputs": [
    {
     "name": "stdout",
     "output_type": "stream",
     "text": [
      "Instance variable object has\n",
      "{'roll_no': 10, 'name': 'Jessa', 'age': 24}\n",
      "roll_no = 10\n",
      "name = Jessa\n",
      "age = 24\n"
     ]
    }
   ],
   "source": [
    "class Student:\n",
    "    def __init__(self, roll_no, name,age):\n",
    "        # Instance variable\n",
    "        self.roll_no = roll_no\n",
    "        self.name = name\n",
    "        self.age=age\n",
    "\n",
    "s1 = Student(10, 'Jessa',24)\n",
    "print('Instance variable object has')\n",
    "print(s1.__dict__)\n",
    "\n",
    "# Get each instance variable\n",
    "for key_value in s1.__dict__.items():\n",
    "    print(key_value[0],\"=\",key_value[1])"
   ]
  },
  {
   "cell_type": "code",
   "execution_count": null,
   "id": "cd795034",
   "metadata": {},
   "outputs": [],
   "source": []
  },
  {
   "cell_type": "code",
   "execution_count": null,
   "id": "242e4e14",
   "metadata": {},
   "outputs": [],
   "source": []
  },
  {
   "cell_type": "code",
   "execution_count": null,
   "id": "98af6ad9",
   "metadata": {},
   "outputs": [],
   "source": []
  },
  {
   "cell_type": "code",
   "execution_count": null,
   "id": "c1b89336",
   "metadata": {},
   "outputs": [],
   "source": []
  },
  {
   "cell_type": "code",
   "execution_count": null,
   "id": "521f0ce6",
   "metadata": {},
   "outputs": [],
   "source": []
  },
  {
   "cell_type": "code",
   "execution_count": null,
   "id": "7d128926",
   "metadata": {},
   "outputs": [],
   "source": []
  },
  {
   "cell_type": "code",
   "execution_count": null,
   "id": "0bef1c76",
   "metadata": {},
   "outputs": [],
   "source": []
  },
  {
   "cell_type": "code",
   "execution_count": null,
   "id": "64043e62",
   "metadata": {},
   "outputs": [],
   "source": []
  },
  {
   "cell_type": "code",
   "execution_count": null,
   "id": "e088f717",
   "metadata": {},
   "outputs": [],
   "source": []
  },
  {
   "cell_type": "code",
   "execution_count": null,
   "id": "80ff7b5e",
   "metadata": {},
   "outputs": [],
   "source": []
  },
  {
   "cell_type": "code",
   "execution_count": null,
   "id": "51433f57",
   "metadata": {},
   "outputs": [],
   "source": []
  },
  {
   "cell_type": "code",
   "execution_count": null,
   "id": "565028fe",
   "metadata": {},
   "outputs": [],
   "source": []
  },
  {
   "cell_type": "code",
   "execution_count": null,
   "id": "b7f9b71b",
   "metadata": {},
   "outputs": [],
   "source": []
  },
  {
   "cell_type": "code",
   "execution_count": null,
   "id": "e3c95b90",
   "metadata": {},
   "outputs": [],
   "source": []
  },
  {
   "cell_type": "markdown",
   "id": "effbed5c",
   "metadata": {},
   "source": [
    "# Class variable"
   ]
  },
  {
   "cell_type": "code",
   "execution_count": 7,
   "id": "be5d4398",
   "metadata": {},
   "outputs": [
    {
     "name": "stdout",
     "output_type": "stream",
     "text": [
      "ABC school\n",
      "ABC school\n"
     ]
    }
   ],
   "source": [
    "class Student:\n",
    "    school='ABC school'\n",
    "    def __init__(self,name):\n",
    "        self.name=name\n",
    "        #access class variable using class name inside constructor \n",
    "        print(self.school)\n",
    "        #access using class name\n",
    "        print(Student.school)\n",
    "s=Student('Suraiya')"
   ]
  },
  {
   "cell_type": "code",
   "execution_count": 12,
   "id": "8b921107",
   "metadata": {},
   "outputs": [
    {
     "name": "stdout",
     "output_type": "stream",
     "text": [
      "inside instance method\n",
      "Alson A.I.A.G.H.S School\n",
      "A.I.A.G.H.S School\n",
      "outside class\n",
      "A.I.A.G.H.S School\n",
      "A.I.A.G.H.S School\n"
     ]
    }
   ],
   "source": [
    "# Access Class Variable in Instance method and outside class\n",
    "class Student:\n",
    "    school='A.I.A.G.H.S School'\n",
    "    def __init__(self,name):\n",
    "        self.name=name\n",
    "    def show(self):\n",
    "        print('inside instance method')\n",
    "        print(self.name,self.school)\n",
    "        print(Student.school)\n",
    "s1=Student('Alson')\n",
    "s1.show()\n",
    "print('outside class')\n",
    "print(s1.school)\n",
    "print(Student.school)"
   ]
  },
  {
   "cell_type": "code",
   "execution_count": 13,
   "id": "1431ce16",
   "metadata": {},
   "outputs": [
    {
     "name": "stdout",
     "output_type": "stream",
     "text": [
      "{3, 4, 6}\n"
     ]
    }
   ],
   "source": [
    "A={3,6,4,6,3,4}\n",
    "print(A)"
   ]
  },
  {
   "cell_type": "code",
   "execution_count": 15,
   "id": "09a0c68c",
   "metadata": {},
   "outputs": [
    {
     "name": "stdout",
     "output_type": "stream",
     "text": [
      "dict_keys(['a', 'b', 'c'])\n"
     ]
    }
   ],
   "source": [
    "x={'a':1,'b':2,'c':3}\n",
    "y=x.keys()\n",
    "print(y)\n"
   ]
  },
  {
   "cell_type": "code",
   "execution_count": null,
   "id": "f250f0bb",
   "metadata": {},
   "outputs": [],
   "source": []
  }
 ],
 "metadata": {
  "kernelspec": {
   "display_name": "Python 3 (ipykernel)",
   "language": "python",
   "name": "python3"
  },
  "language_info": {
   "codemirror_mode": {
    "name": "ipython",
    "version": 3
   },
   "file_extension": ".py",
   "mimetype": "text/x-python",
   "name": "python",
   "nbconvert_exporter": "python",
   "pygments_lexer": "ipython3",
   "version": "3.10.4"
  }
 },
 "nbformat": 4,
 "nbformat_minor": 5
}
