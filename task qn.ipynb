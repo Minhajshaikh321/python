{
 "cells": [
  {
   "cell_type": "markdown",
   "id": "12a1fcc4",
   "metadata": {},
   "source": [
    "# string"
   ]
  },
  {
   "cell_type": "code",
   "execution_count": 1,
   "id": "9b0cfcc0",
   "metadata": {},
   "outputs": [
    {
     "name": "stdout",
     "output_type": "stream",
     "text": [
      "('M', 'A', 'L', 'Y', 'A', 'L', 'A', 'M')\n",
      "('M', 'A', 'L', 'Y', 'A', 'L', 'A', 'M')\n"
     ]
    }
   ],
   "source": [
    "# 1.To check whether a given string is a palindrome.\n",
    "str1='M','A','L','Y','A','L','A','M'\n",
    "print(str1[0:8])\n",
    "print(str1[-8:8])"
   ]
  },
  {
   "cell_type": "code",
   "execution_count": 2,
   "id": "21f37c91",
   "metadata": {},
   "outputs": [
    {
     "name": "stdout",
     "output_type": "stream",
     "text": [
      "The Capital Of India Is Delhi\n"
     ]
    }
   ],
   "source": [
    "# 2'To capitalize the first character in a given sentence.\n",
    "a='The capital of india is delhi'\n",
    "x=a.title()\n",
    "print(x)"
   ]
  },
  {
   "cell_type": "code",
   "execution_count": 4,
   "id": "d2ffb136",
   "metadata": {},
   "outputs": [
    {
     "name": "stdout",
     "output_type": "stream",
     "text": [
      "['imaginary', 'number', 'value', 'of', 'i', 'square', 'is', '1']\n"
     ]
    }
   ],
   "source": [
    "# 3.Program to convert String to a List.\n",
    "var=\"imaginary number value of i square is 1\"\n",
    "x=var.split()\n",
    "print(x)"
   ]
  },
  {
   "cell_type": "code",
   "execution_count": 5,
   "id": "50058585",
   "metadata": {},
   "outputs": [
    {
     "name": "stdout",
     "output_type": "stream",
     "text": [
      "Hello\n",
      "coding\n",
      "in\n",
      "python\n",
      "world\n"
     ]
    }
   ],
   "source": [
    "# 4.To sort alphabetically the words in a given sentence.\n",
    "x = \"Hello world in python coding\"\n",
    "words = x.split()\n",
    "words.sort()\n",
    "for word in words:\n",
    "    print(word)"
   ]
  },
  {
   "cell_type": "code",
   "execution_count": 7,
   "id": "3ecc3046",
   "metadata": {},
   "outputs": [
    {
     "name": "stdout",
     "output_type": "stream",
     "text": [
      "2\n",
      "python is very easy\n",
      "True\n",
      "Tomato is red\n",
      "True\n",
      "True\n",
      "26\n",
      "True\n",
      "sky@color@is@skyblue\n",
      "False\n",
      "0000000040\n"
     ]
    }
   ],
   "source": [
    "# 5.To demonstrate any 10 function(method) of string class.\n",
    "#count method\n",
    "# returns the number of times a specified value appears in the string.\n",
    "a=\"Suraiya is my friend,Suraiya is a mad girl and suraiya is learning coding in mcc\"\n",
    "x=a.count(\"Suraiya\")\n",
    "print(x)\n",
    "\n",
    "#case fold\n",
    "# Converts string into lower case\n",
    "b=\"Python Is Very Easy\"\n",
    "x=b.casefold()\n",
    "print(x)\n",
    "\n",
    "\n",
    "#endswith\n",
    "# Check if the string ends with a punctuation sign (.):\n",
    "c=\"She is intelligent girl.\"\n",
    "x=c.endswith(\".\")\n",
    "print(x)\n",
    "\n",
    "#replace\n",
    "#replace tht word in string\n",
    "d=\"Apple is red\"\n",
    "x=d.replace(\"Apple\",\"Tomato\")\n",
    "print(x)\n",
    "\n",
    "\n",
    "#isalpha\n",
    "# check all character in string is text\n",
    "e=\"strings\"\n",
    "x=e.isalpha()\n",
    "print(x)\n",
    "\n",
    "#isalnum\n",
    "# check all character in string is in text and numbers\n",
    "e=\"strings32728\"\n",
    "x=e.isalnum()\n",
    "print(x)\n",
    "\n",
    "\n",
    "#find\n",
    "f=\"operators used to perform on variable and values\"\n",
    "x=f.find(\"on\")\n",
    "print(x)\n",
    "\n",
    "\n",
    "\n",
    "#isnumeric\n",
    "# returns true is all characters is in digit\n",
    "g='1723942'\n",
    "x=g.isnumeric()\n",
    "print(x)\n",
    "\n",
    "#join \n",
    "h=('sky','color','is','skyblue')\n",
    "x='@'.join(h)\n",
    "print(x)\n",
    "\n",
    "#isspace\n",
    "i=\"my fruits\"\n",
    "x=i.isspace()\n",
    "print(x)\n",
    "\n",
    "\n",
    "#zfill\n",
    "# Fill the string with zeros until it is 10 characters long:\n",
    "j=\"40\"\n",
    "x=j.zfill(10)\n",
    "print(x)"
   ]
  },
  {
   "cell_type": "code",
   "execution_count": 2,
   "id": "3505b81d",
   "metadata": {},
   "outputs": [
    {
     "name": "stdout",
     "output_type": "stream",
     "text": [
      "n\n",
      "29\n",
      "Python is high level language\n",
      "Pto\n",
      "Ph  g\n",
      "gua\n",
      "egaugnal level hgih si nohtyP\n"
     ]
    }
   ],
   "source": [
    "# 7.To demonstrate string slice3rwd\n",
    "y=\"Python is high level language\"\n",
    "print(y[5])\n",
    "print(len(y))\n",
    "print(y[0:30])\n",
    "print(y[0:6:2])\n",
    "print(y[0:14:3])\n",
    "print(y[-5:-2])\n",
    "print(y[::-1])"
   ]
  },
  {
   "cell_type": "code",
   "execution_count": 9,
   "id": "2c1c0506",
   "metadata": {},
   "outputs": [
    {
     "name": "stdout",
     "output_type": "stream",
     "text": [
      "True\n"
     ]
    }
   ],
   "source": [
    "# 8.TO check substring is Present in a Given String\n",
    "#  this should be complete by EOD\n",
    "var1=\"Python has no command for declaring a variable.\"\n",
    "x=\"command\" in var1\n",
    "print(x)"
   ]
  },
  {
   "cell_type": "markdown",
   "id": "52f50ae9",
   "metadata": {},
   "source": [
    "# task on list"
   ]
  },
  {
   "cell_type": "code",
   "execution_count": 24,
   "id": "0ffa206f",
   "metadata": {},
   "outputs": [
    {
     "name": "stdout",
     "output_type": "stream",
     "text": [
      "['tulip', 'lotus', 'sunflower']\n"
     ]
    }
   ],
   "source": [
    "# 1.To create 5 different list using list comprehension method\n",
    "flower=['rose','tulip','lotus','mogra','sunflower']\n",
    "list1=[x for x in flower if 'u' in x]\n",
    "print(list1)"
   ]
  },
  {
   "cell_type": "code",
   "execution_count": 25,
   "id": "5f612077",
   "metadata": {},
   "outputs": [
    {
     "name": "stdout",
     "output_type": "stream",
     "text": [
      "[0, 1, 2, 3, 4, 5, 6, 7, 8, 9, 10, 11, 12, 13, 14, 15, 16, 17, 18, 19]\n"
     ]
    }
   ],
   "source": [
    "list1=[x for x in range(20)]\n",
    "print(list1)"
   ]
  },
  {
   "cell_type": "code",
   "execution_count": 1,
   "id": "41010eb6",
   "metadata": {},
   "outputs": [
    {
     "name": "stdout",
     "output_type": "stream",
     "text": [
      "['ROSE', 'TULIP', 'LOTUS', 'MOGRA', 'SUNFLOWER']\n"
     ]
    }
   ],
   "source": [
    "flower=['Rose','Tulip','Lotus','Mogra','Sunflower']\n",
    "list1=[x.upper() for x in flower]\n",
    "print(list1)"
   ]
  },
  {
   "cell_type": "code",
   "execution_count": 2,
   "id": "c24fac46",
   "metadata": {},
   "outputs": [
    {
     "name": "stdout",
     "output_type": "stream",
     "text": [
      "['rose', 'tulip', 'lotus', 'mogra', 'sunflower']\n"
     ]
    }
   ],
   "source": [
    "flower=['Rose','Tulip','Lotus','Mogra','Sunflower']\n",
    "list1=[x.lower() for x in flower]\n",
    "print(list1)"
   ]
  },
  {
   "cell_type": "code",
   "execution_count": 3,
   "id": "f620f269",
   "metadata": {},
   "outputs": [
    {
     "name": "stdout",
     "output_type": "stream",
     "text": [
      "[0, 1, 2, 3, 4, 5, 6, 7, 8, 9]\n"
     ]
    }
   ],
   "source": [
    "list1=[x for x in range(20) if x<10]\n",
    "print(list1)"
   ]
  },
  {
   "cell_type": "code",
   "execution_count": 29,
   "id": "3f788258",
   "metadata": {},
   "outputs": [
    {
     "name": "stdout",
     "output_type": "stream",
     "text": [
      "True\n"
     ]
    }
   ],
   "source": [
    "# 3.To check whether a given number is present in list or not?\n",
    "flower=['Rose','Tulip','Lotus','Mogra','Sunflower']\n",
    "print('Rose' in flower)"
   ]
  },
  {
   "cell_type": "code",
   "execution_count": 30,
   "id": "fb18490e",
   "metadata": {},
   "outputs": [
    {
     "name": "stdout",
     "output_type": "stream",
     "text": [
      "['Rose', 'Tulip', 'Lotus', 'Mogra', 'Sunflower', 'Hibiscus']\n"
     ]
    }
   ],
   "source": [
    "# 4.To demonstrate any 10 methods of List\n",
    "#append\n",
    "# add item in the end of the list\n",
    "flower=['Rose','Tulip','Lotus','Mogra','Sunflower']\n",
    "flower.append('Hibiscus')\n",
    "print(flower)"
   ]
  },
  {
   "cell_type": "code",
   "execution_count": 31,
   "id": "546cfded",
   "metadata": {},
   "outputs": [
    {
     "name": "stdout",
     "output_type": "stream",
     "text": [
      "[]\n"
     ]
    }
   ],
   "source": [
    "#clear\n",
    "flower=['Rose','Tulip','Lotus','Mogra','Sunflower']\n",
    "flower.clear()\n",
    "print(flower)"
   ]
  },
  {
   "cell_type": "code",
   "execution_count": 32,
   "id": "00b2efea",
   "metadata": {},
   "outputs": [
    {
     "name": "stdout",
     "output_type": "stream",
     "text": [
      "['Rose', 'Tulip', 'Lotus', 'Mogra', 'Sunflower']\n"
     ]
    }
   ],
   "source": [
    "# copy\n",
    "# copy exact list in another list\n",
    "flower=['Rose','Tulip','Lotus','Mogra','Sunflower']\n",
    "flower_1=flower.copy()\n",
    "print(flower_1)"
   ]
  },
  {
   "cell_type": "code",
   "execution_count": 33,
   "id": "dc30964b",
   "metadata": {},
   "outputs": [
    {
     "name": "stdout",
     "output_type": "stream",
     "text": [
      "3\n"
     ]
    }
   ],
   "source": [
    "# count\n",
    "# Returns the number of elements with the specified value\n",
    "flower=['Rose','Tulip','Lotus','Tulip','Mogra','Sunflower','Tulip']\n",
    "x=flower.count(\"Tulip\")\n",
    "print(x)"
   ]
  },
  {
   "cell_type": "code",
   "execution_count": 34,
   "id": "66d6c429",
   "metadata": {},
   "outputs": [
    {
     "name": "stdout",
     "output_type": "stream",
     "text": [
      "['Rose', 'Tulip', 'Lotus', 'Mogra', 'Sunflower', 'red', 'yellow', 'white', 'blue']\n"
     ]
    }
   ],
   "source": [
    "# extend\n",
    "# Add the elements of a list (or any iterable), to the end of the current list\n",
    "flower=['Rose','Tulip','Lotus','Mogra','Sunflower']\n",
    "colour=['red','yellow','white','blue']\n",
    "flower.extend(colour)\n",
    "print(flower)"
   ]
  },
  {
   "cell_type": "code",
   "execution_count": 8,
   "id": "e5a48baf",
   "metadata": {},
   "outputs": [
    {
     "name": "stdout",
     "output_type": "stream",
     "text": [
      "2\n"
     ]
    }
   ],
   "source": [
    "# Returns the index of the first element with the specified value\n",
    "flower=['Rose','Tulip','Lotus','Mogra','Sunflower']\n",
    "x=flower.index('Lotus')\n",
    "print(x)"
   ]
  },
  {
   "cell_type": "code",
   "execution_count": 36,
   "id": "092382c7",
   "metadata": {},
   "outputs": [
    {
     "name": "stdout",
     "output_type": "stream",
     "text": [
      "['Rose', 'Tulip', 'Lotus', 'Jasmine', 'Mogra', 'Sunflower']\n"
     ]
    }
   ],
   "source": [
    "# insert\n",
    "# Adds an element at the specified position\n",
    "flower=['Rose','Tulip','Lotus','Mogra','Sunflower']\n",
    "flower.insert(3,'Jasmine')\n",
    "print(flower)"
   ]
  },
  {
   "cell_type": "code",
   "execution_count": 37,
   "id": "ac3cdb41",
   "metadata": {},
   "outputs": [
    {
     "name": "stdout",
     "output_type": "stream",
     "text": [
      "['Rose', 'Lotus', 'Mogra', 'Sunflower']\n",
      "['Rose', 'Lotus', 'Mogra']\n"
     ]
    }
   ],
   "source": [
    "# pop\n",
    "# Removes the element at the specified position\n",
    "flower=['Rose','Tulip','Lotus','Mogra','Sunflower']\n",
    "flower.pop(1)\n",
    "print(flower)\n",
    "\n",
    "flower.pop()\n",
    "print(flower)"
   ]
  },
  {
   "cell_type": "code",
   "execution_count": 38,
   "id": "3ebf5d0d",
   "metadata": {},
   "outputs": [
    {
     "name": "stdout",
     "output_type": "stream",
     "text": [
      "['Rose', 'Tulip', 'Lotus', 'Sunflower']\n"
     ]
    }
   ],
   "source": [
    "# Removes\n",
    "# remove the first item with the specified value\n",
    "flower=['Rose','Tulip','Lotus','Mogra','Sunflower']\n",
    "flower.remove('Mogra')\n",
    "print(flower)"
   ]
  },
  {
   "cell_type": "code",
   "execution_count": 39,
   "id": "8ef7af44",
   "metadata": {},
   "outputs": [
    {
     "name": "stdout",
     "output_type": "stream",
     "text": [
      "['Sunflower', 'Mogra', 'Lotus', 'Tulip', 'Rose']\n"
     ]
    }
   ],
   "source": [
    "# Reverse\n",
    "# reverse the order of the list\n",
    "flower=['Rose','Tulip','Lotus','Mogra','Sunflower']\n",
    "flower.reverse()\n",
    "print(flower)"
   ]
  },
  {
   "cell_type": "code",
   "execution_count": 13,
   "id": "2ec8d5ad",
   "metadata": {},
   "outputs": [
    {
     "name": "stdout",
     "output_type": "stream",
     "text": [
      "[(1, 4), (2, 5), (3, 6)]\n"
     ]
    }
   ],
   "source": [
    "# 5.To add two list [ adding elements of list ]\n",
    "list1=[1,2,3]\n",
    "list2=[4,5,6]\n",
    "print(list(zip(list1,list2)))"
   ]
  },
  {
   "cell_type": "code",
   "execution_count": 23,
   "id": "2eaa53b4",
   "metadata": {},
   "outputs": [
    {
     "name": "stdout",
     "output_type": "stream",
     "text": [
      "8\n"
     ]
    }
   ],
   "source": [
    "# 2.Create list , add random 10 numbers in list and print largest number of list\n",
    "a=[3,2,8,5]\n",
    "print(max(a))"
   ]
  },
  {
   "cell_type": "code",
   "execution_count": 22,
   "id": "10a7bfdc",
   "metadata": {},
   "outputs": [
    {
     "name": "stdout",
     "output_type": "stream",
     "text": [
      "[1, 2, 3, 5, 6, 7, 9]\n"
     ]
    }
   ],
   "source": [
    "x=[3,6,2,9,5,1,7]\n",
    "x.sort()\n",
    "print(x)"
   ]
  },
  {
   "cell_type": "markdown",
   "id": "308d7ed3",
   "metadata": {},
   "source": [
    "# if else,for loop and range excercise"
   ]
  },
  {
   "cell_type": "code",
   "execution_count": 29,
   "id": "c00f0e21",
   "metadata": {},
   "outputs": [
    {
     "name": "stdout",
     "output_type": "stream",
     "text": [
      "Enter any integer number4\n",
      "4 FIZZ\n"
     ]
    }
   ],
   "source": [
    "# 1.To print odd & even number:\n",
    "number=int(input('Enter any integer number'))\n",
    "remainder=number%2\n",
    "if(remainder==0):\n",
    "    print(number,\"IS EVEN\")\n",
    " else:\n",
    "    print(number,\"IS ODD\")"
   ]
  },
  {
   "cell_type": "code",
   "execution_count": 7,
   "id": "74a28108",
   "metadata": {},
   "outputs": [
    {
     "name": "stdout",
     "output_type": "stream",
     "text": [
      "enter a number76546790\n",
      "total number of digits 8\n"
     ]
    }
   ],
   "source": [
    "# 2.Count the total number of digits in a number:\n",
    "\n",
    "n=int(input(\"enter a number\")) #896\n",
    "count=0\n",
    "while n>0:\n",
    "    n=n//10\n",
    "    count=count+1\n",
    "print(\"total number of digits\",count)"
   ]
  },
  {
   "cell_type": "code",
   "execution_count": 5,
   "id": "f1b7baea",
   "metadata": {},
   "outputs": [
    {
     "name": "stdout",
     "output_type": "stream",
     "text": [
      "enter the number:5\n",
      "5 x 1 = 5\n",
      "5 x 2 = 10\n",
      "5 x 3 = 15\n",
      "5 x 4 = 20\n",
      "5 x 5 = 25\n",
      "5 x 6 = 30\n",
      "5 x 7 = 35\n",
      "5 x 8 = 40\n",
      "5 x 9 = 45\n",
      "5 x 10 = 50\n"
     ]
    }
   ],
   "source": [
    "\n",
    "# 3.Write a programer to print multiplication table of a given number: \n",
    "n=int(input('enter the number:'))\n",
    "for i in range (1,11):\n",
    "     print(n,'x',i,'=',n*i)"
   ]
  },
  {
   "cell_type": "code",
   "execution_count": 4,
   "id": "d2caff49",
   "metadata": {},
   "outputs": [
    {
     "name": "stdout",
     "output_type": "stream",
     "text": [
      "Enter a string:xqwjjhdq92927\n",
      "Number of letters: 8\n",
      "Number of digits: 5\n"
     ]
    }
   ],
   "source": [
    "# 4.Count the total number of digits in a number using for loop:\n",
    "string=input(\"Enter a string:\")\n",
    "def countletterdigit(string):\n",
    "    lcount=dcount=0\n",
    "    for c in string:\n",
    "        if c.isdigit():\n",
    "            dcount+=1\n",
    "        elif c.isalpha():\n",
    "            lcount+=1\n",
    "    return lcount,dcount\n",
    "letters,digits=countletterdigit(string)\n",
    "print(\"Number of letters:\",letters)\n",
    "print(\"Number of digits:\",digits)"
   ]
  },
  {
   "cell_type": "code",
   "execution_count": 8,
   "id": "8f7a9d98",
   "metadata": {},
   "outputs": [
    {
     "name": "stdout",
     "output_type": "stream",
     "text": [
      "Enter number:5\n",
      "factorial= 120\n"
     ]
    }
   ],
   "source": [
    "# 5.Find the factorial of a given number:\n",
    "i=int(input(\"Enter number:\"))\n",
    "fac=1\n",
    "while i>0:\n",
    "    fac=fac*i\n",
    "    i-=1\n",
    "print(\"factorial=\",fac)"
   ]
  },
  {
   "cell_type": "code",
   "execution_count": 30,
   "id": "0b8415b4",
   "metadata": {},
   "outputs": [
    {
     "name": "stdout",
     "output_type": "stream",
     "text": [
      "0\n",
      "1\n",
      "1\n",
      "2\n",
      "3\n"
     ]
    }
   ],
   "source": [
    "# 6.Display Fibonacci series up to 10 terms:\n",
    "def fib(n):\n",
    "    a=0\n",
    "    b=1\n",
    "    print(a)\n",
    "    print(b)\n",
    "    for i in range(2,n):\n",
    "        c=a+b\n",
    "        a=b\n",
    "        b=c\n",
    "        print(c)\n",
    "fib(5)"
   ]
  },
  {
   "cell_type": "code",
   "execution_count": 7,
   "id": "3e743046",
   "metadata": {},
   "outputs": [
    {
     "name": "stdout",
     "output_type": "stream",
     "text": [
      "enter the number4\n",
      "64\n"
     ]
    }
   ],
   "source": [
    "# 7.Calculate the cube of all numbers from 1 to a given number;\n",
    "def cube(x):\n",
    "    result=x**3\n",
    "    return result\n",
    "n=int(input(\"enter the number\"))\n",
    "print(cube(n))"
   ]
  },
  {
   "cell_type": "markdown",
   "id": "e0e8f822",
   "metadata": {},
   "source": [
    "# tuple task qn"
   ]
  },
  {
   "cell_type": "code",
   "execution_count": 5,
   "id": "3a3809b2",
   "metadata": {},
   "outputs": [
    {
     "name": "stdout",
     "output_type": "stream",
     "text": [
      "(1, 2, 3, 4, 5, 6, 7, 8, 9, 10, 11)\n",
      "(11, 12, 13, 14, 15, 16, 17, 18, 19, 20)\n"
     ]
    }
   ],
   "source": [
    "# 1.To create a tuple having a number from 1-20. Print the half of its \n",
    "# value in 1 line and other half in next line\n",
    "t1 = (1,2,3,4,5,6,7,8,9,10,11,12,13,14,15,16,17,18,19,20)\n",
    "print(t1[0:11])\n",
    "print(t1[10:20])"
   ]
  },
  {
   "cell_type": "code",
   "execution_count": null,
   "id": "ab8d3e68",
   "metadata": {},
   "outputs": [],
   "source": [
    "# 2.To create a tuple consisting of 20 number from a user.Create \n",
    "# another tuple whose values are even number in the first tuple.\n",
    "a=[]\n",
    "for i in range(10):\n",
    "    user=int(input(\"enter number\"))\n",
    "    a.append(user)\n",
    "print(tuple(a))\n",
    "b=[]\n",
    "for j in a:\n",
    "    if j%2 == 0:\n",
    "        b.append(j)\n",
    "print(tuple(b))\n",
    "c=[]\n",
    "for k in a:\n",
    "    if k%2 !=0:\n",
    "        c.append(k)\n",
    "print(tuple(c))    "
   ]
  },
  {
   "cell_type": "code",
   "execution_count": 7,
   "id": "f92297d9",
   "metadata": {},
   "outputs": [
    {
     "name": "stdout",
     "output_type": "stream",
     "text": [
      "('a', 'b', 'c', 'd', 'e', 1, 2, 3, 4, 5, 6)\n"
     ]
    }
   ],
   "source": [
    "\n",
    "# 3.To concatenate two tuples .\n",
    "T1=('a','b','c','d','e')\n",
    "T2=(1,2,3,4,5,6)\n",
    "T3=T1+T2\n",
    "print(T3)"
   ]
  },
  {
   "cell_type": "code",
   "execution_count": 8,
   "id": "aebc5012",
   "metadata": {},
   "outputs": [
    {
     "name": "stdout",
     "output_type": "stream",
     "text": [
      "yes,black is present in tuple\n"
     ]
    }
   ],
   "source": [
    "# 4.To check whether a given element is present in tuple or not .\n",
    "t1=('white','red','black','green')\n",
    "if 'black' in t1:\n",
    "    print('yes,black is present in tuple')"
   ]
  },
  {
   "cell_type": "code",
   "execution_count": null,
   "id": "b5076636",
   "metadata": {},
   "outputs": [],
   "source": [
    "# 5. use the following methods on a tuple in the program: \n",
    "# cmp(t1,t2)/t1==t2 ,len(t1) , zip(t1,t2) , max(t) , min(t) , tuple()"
   ]
  },
  {
   "cell_type": "code",
   "execution_count": 11,
   "id": "ee6801d4",
   "metadata": {},
   "outputs": [],
   "source": [
    "t1=(1,2,3,4)\n",
    "t2=(5,6,7,8)\n"
   ]
  },
  {
   "cell_type": "code",
   "execution_count": 12,
   "id": "2f127a18",
   "metadata": {},
   "outputs": [
    {
     "name": "stdout",
     "output_type": "stream",
     "text": [
      "4\n"
     ]
    }
   ],
   "source": [
    "t1=('a','d','f','h')\n",
    "print(len(t1))"
   ]
  },
  {
   "cell_type": "code",
   "execution_count": 14,
   "id": "1535cc29",
   "metadata": {},
   "outputs": [
    {
     "name": "stdout",
     "output_type": "stream",
     "text": [
      "(('a', 1), ('b', 2), ('c', 3), ('d', 4))\n"
     ]
    }
   ],
   "source": [
    "t1=('a','b','c','d')\n",
    "t2=(1,2,3,4)\n",
    "print(tuple(zip(t1,t2)))"
   ]
  },
  {
   "cell_type": "code",
   "execution_count": 15,
   "id": "e85597b5",
   "metadata": {},
   "outputs": [
    {
     "name": "stdout",
     "output_type": "stream",
     "text": [
      "61\n"
     ]
    }
   ],
   "source": [
    "t=(5,2,61,39) \n",
    "print(max(t))"
   ]
  },
  {
   "cell_type": "code",
   "execution_count": 16,
   "id": "c877e45f",
   "metadata": {},
   "outputs": [
    {
     "name": "stdout",
     "output_type": "stream",
     "text": [
      "1\n"
     ]
    }
   ],
   "source": [
    "t=(4,1,5,9)\n",
    "print(min(t))"
   ]
  },
  {
   "cell_type": "markdown",
   "id": "84336518",
   "metadata": {},
   "source": []
  },
  {
   "cell_type": "code",
   "execution_count": 14,
   "id": "a983af89",
   "metadata": {},
   "outputs": [
    {
     "name": "stdout",
     "output_type": "stream",
     "text": [
      "enter number4\n",
      "enter number2\n",
      "enter number5\n",
      "enter number6\n",
      "enter number8\n",
      "enter number7\n",
      "enter number9\n",
      "enter number1\n",
      "enter number3\n",
      "enter number4\n",
      "(4, 2, 5, 6, 8, 7, 9, 1, 3, 4)\n",
      "(4, 2, 6, 8, 4)\n",
      "(5, 7, 9, 1, 3)\n"
     ]
    }
   ],
   "source": [
    " a=[]\n",
    "for i in range(10):\n",
    "    user=int(input(\"enter number\"))\n",
    "    a.append(user)\n",
    "print(tuple(a))\n",
    "b=[]\n",
    "for j in a:\n",
    "    if j%2 == 0:\n",
    "        b.append(j)\n",
    "print(tuple(b))\n",
    "c=[]\n",
    "for k in a:\n",
    "    if k%2 !=0:\n",
    "        c.append(k)\n",
    "print(tuple(c))"
   ]
  },
  {
   "cell_type": "code",
   "execution_count": 20,
   "id": "cedd1a39",
   "metadata": {},
   "outputs": [
    {
     "name": "stdout",
     "output_type": "stream",
     "text": [
      "enter number2\n",
      "enter number3\n",
      "enter number4\n",
      "enter number1\n",
      "enter number3\n",
      "(2, 3, 4, 1, 3)\n"
     ]
    }
   ],
   "source": [
    "a=[]\n",
    "for i in range(5):\n",
    "    user=int(input(\"enter number\"))\n",
    "    a.append(user)\n",
    "print(tuple(a))"
   ]
  },
  {
   "cell_type": "code",
   "execution_count": null,
   "id": "47804783",
   "metadata": {},
   "outputs": [],
   "source": []
  },
  {
   "cell_type": "code",
   "execution_count": 21,
   "id": "b276e893",
   "metadata": {},
   "outputs": [
    {
     "name": "stdout",
     "output_type": "stream",
     "text": [
      "{'name': 'minhaj', 'sname': 'shaikh', 'lname': 'sabir', 'age': '22', 'add': 'kajupada'}\n"
     ]
    }
   ],
   "source": [
    "#f.To create a dictionary with any five key value pair . print the \n",
    "#dictionary.Add an element in a given dictionary and delete an element\n",
    "dict1={\"name\":\"minhaj\",\"sname\":\"shaikh\",\"lname\":\"sabir\",\"age\":\"22\",\"add\":\"kajupada\"}\n",
    "print(dict1)"
   ]
  },
  {
   "cell_type": "code",
   "execution_count": 22,
   "id": "57ddddd7",
   "metadata": {},
   "outputs": [
    {
     "name": "stdout",
     "output_type": "stream",
     "text": [
      "{'name': 'minhaj', 'sname': 'shaikh', 'lname': 'sabir', 'age': '22', 'add': 'kajupada', 'color': 'blue'}\n"
     ]
    }
   ],
   "source": [
    "#add element in dict:\n",
    "dict1={\"name\":\"minhaj\",\"sname\":\"shaikh\",\"lname\":\"sabir\",\"age\":\"22\",\"add\":\"kajupada\"}\n",
    "dict1[\"color\"]=\"blue\"\n",
    "print(dict1)"
   ]
  },
  {
   "cell_type": "code",
   "execution_count": 23,
   "id": "04fdf62d",
   "metadata": {},
   "outputs": [
    {
     "name": "stdout",
     "output_type": "stream",
     "text": [
      "{'name': 'minhaj', 'sname': 'shaikh', 'lname': 'sabir', 'add': 'kajupada'}\n"
     ]
    }
   ],
   "source": [
    "#delete element in dict:\n",
    "dict1={\"name\":\"minhaj\",\"sname\":\"shaikh\",\"lname\":\"sabir\",\"age\":\"22\",\"add\":\"kajupada\"}\n",
    "del dict1[\"age\"]\n",
    "print(dict1)"
   ]
  },
  {
   "cell_type": "code",
   "execution_count": 30,
   "id": "742f8356",
   "metadata": {},
   "outputs": [
    {
     "name": "stdout",
     "output_type": "stream",
     "text": [
      "{'22', 'minhaj', 'kajupada', 'shaikh', 'sabir'}\n"
     ]
    }
   ],
   "source": [
    "#g.To create 2 dictionaries using dictionary comprehension method.\n",
    "dict1={\"name\":\"minhaj\",\"sname\":\"shaikh\",\"lname\":\"sabir\",\"age\":\"22\",\"add\":\"kajupada\"}\n",
    "a={x for x in dict1.values()}\n",
    "print(a)"
   ]
  },
  {
   "cell_type": "code",
   "execution_count": 31,
   "id": "c0d0422f",
   "metadata": {},
   "outputs": [
    {
     "name": "stdout",
     "output_type": "stream",
     "text": [
      "{}\n"
     ]
    }
   ],
   "source": [
    "#h.To demonstrate any five methods on dictionary\n",
    "# 1.clear method\n",
    "d1={\"a\":1,\"b\":2,\"c\":3}\n",
    "d1.clear()\n",
    "print(d1)"
   ]
  },
  {
   "cell_type": "code",
   "execution_count": 32,
   "id": "688afa7f",
   "metadata": {},
   "outputs": [
    {
     "name": "stdout",
     "output_type": "stream",
     "text": [
      "1\n"
     ]
    }
   ],
   "source": [
    "# 2.get method\n",
    "d1={\"a\":1,\"b\":2,\"c\":3}\n",
    "x=d1.get(\"a\")\n",
    "print(x)"
   ]
  },
  {
   "cell_type": "code",
   "execution_count": 33,
   "id": "142e1ff0",
   "metadata": {},
   "outputs": [
    {
     "name": "stdout",
     "output_type": "stream",
     "text": [
      "{'a': 1, 'b': 2}\n"
     ]
    }
   ],
   "source": [
    "# 3.pop item \n",
    "# Remove the last item from the dictionary:\n",
    "d1={\"a\":1,\"b\":2,\"c\":3}\n",
    "d1.popitem()\n",
    "print(d1)\n"
   ]
  },
  {
   "cell_type": "code",
   "execution_count": 35,
   "id": "870cb649",
   "metadata": {},
   "outputs": [
    {
     "name": "stdout",
     "output_type": "stream",
     "text": [
      "1\n"
     ]
    }
   ],
   "source": [
    "# 4.setdefault\n",
    "# The setdefault() method returns the value of the item with the specified key.\n",
    "d1={\"a\":1,\"b\":2,\"c\":3}\n",
    "x=d1.setdefault(\"a\",\"4\")\n",
    "print(x)"
   ]
  },
  {
   "cell_type": "code",
   "execution_count": 36,
   "id": "8c7e260c",
   "metadata": {},
   "outputs": [
    {
     "name": "stdout",
     "output_type": "stream",
     "text": [
      "{'a': 1, 'b': 2, 'c': 3, 'd': '4'}\n"
     ]
    }
   ],
   "source": [
    "#5.update\n",
    "#The update() method inserts the specified items to the dictionary.\n",
    "d1={\"a\":1,\"b\":2,\"c\":3}\n",
    "d1.update({\"d\":\"4\"})\n",
    "print(d1)"
   ]
  },
  {
   "cell_type": "code",
   "execution_count": 37,
   "id": "c897def5",
   "metadata": {},
   "outputs": [
    {
     "name": "stdout",
     "output_type": "stream",
     "text": [
      "{'a': 0, 'b': 0, 'c': 0}\n"
     ]
    }
   ],
   "source": [
    "# fromkeys\n",
    "# Returns a dictionary with the specified keys and value\n",
    "x=('a','b','c')\n",
    "y=0\n",
    "a=dict.fromkeys(x,y)\n",
    "print(a)"
   ]
  },
  {
   "cell_type": "code",
   "execution_count": 38,
   "id": "221d4057",
   "metadata": {},
   "outputs": [
    {
     "name": "stdout",
     "output_type": "stream",
     "text": [
      "{1, 2, 3, 4, 5}\n"
     ]
    }
   ],
   "source": [
    "# i. To demonstrate 5 methods of python data structure set .\n",
    "# add an element in set\n",
    "flowers={1,2,3,4,5}\n",
    "flowers.add(5)\n",
    "print(flowers)\n"
   ]
  },
  {
   "cell_type": "code",
   "execution_count": 39,
   "id": "3d95c90c",
   "metadata": {},
   "outputs": [
    {
     "name": "stdout",
     "output_type": "stream",
     "text": [
      "{'mango', 'grapes'}\n"
     ]
    }
   ],
   "source": [
    "a={'apple','grapes','mango'}\n",
    "b={1,3,'apple'}\n",
    "a.difference_update(b)\n",
    "print(a)"
   ]
  },
  {
   "cell_type": "code",
   "execution_count": 40,
   "id": "d1ec949b",
   "metadata": {},
   "outputs": [
    {
     "name": "stdout",
     "output_type": "stream",
     "text": [
      "{'apple'}\n"
     ]
    }
   ],
   "source": [
    "a={'apple','grapes','mango'}\n",
    "b={1,3,'apple'}\n",
    "c=a.intersection(b)\n",
    "print(c)"
   ]
  },
  {
   "cell_type": "code",
   "execution_count": 41,
   "id": "350c265c",
   "metadata": {},
   "outputs": [
    {
     "name": "stdout",
     "output_type": "stream",
     "text": [
      "{1, 'mango', 3, 'grapes'}\n"
     ]
    }
   ],
   "source": [
    "a={'apple','grapes','mango'}\n",
    "b={1,3,'apple'}\n",
    "c=a.symmetric_difference(b)\n",
    "print(c)"
   ]
  },
  {
   "cell_type": "code",
   "execution_count": 42,
   "id": "9183fb5b",
   "metadata": {},
   "outputs": [
    {
     "name": "stdout",
     "output_type": "stream",
     "text": [
      "{'mango', 'apple'}\n"
     ]
    }
   ],
   "source": [
    "a={'apple','grapes','mango'}\n",
    "a.remove('grapes')\n",
    "print(a)"
   ]
  },
  {
   "cell_type": "code",
   "execution_count": 43,
   "id": "0a344884",
   "metadata": {},
   "outputs": [
    {
     "name": "stdout",
     "output_type": "stream",
     "text": [
      "{'apple', 'grapes'}\n"
     ]
    }
   ],
   "source": [
    "# remove last item in pop method\n",
    "a={'apple','grapes','mango'}\n",
    "a.pop()\n",
    "print(a)"
   ]
  },
  {
   "cell_type": "code",
   "execution_count": 4,
   "id": "cf7b6ab8",
   "metadata": {},
   "outputs": [
    {
     "name": "stdout",
     "output_type": "stream",
     "text": [
      "f{i}is an even no\n",
      "f{i}is an even no\n",
      "it is odd no\n",
      "it is odd no\n"
     ]
    }
   ],
   "source": [
    "data=[2,4,3,5]\n",
    "for i in data:\n",
    "    if i%2==0:\n",
    "        print('f{i}is an even no')\n",
    "    else:\n",
    "        print(\"it is odd no\")"
   ]
  },
  {
   "cell_type": "code",
   "execution_count": 5,
   "id": "62c1d4c5",
   "metadata": {},
   "outputs": [
    {
     "ename": "TypeError",
     "evalue": "'int' object is not iterable",
     "output_type": "error",
     "traceback": [
      "\u001b[1;31m---------------------------------------------------------------------------\u001b[0m",
      "\u001b[1;31mTypeError\u001b[0m                                 Traceback (most recent call last)",
      "Input \u001b[1;32mIn [5]\u001b[0m, in \u001b[0;36m<cell line: 2>\u001b[1;34m()\u001b[0m\n\u001b[0;32m      1\u001b[0m a\u001b[38;5;241m=\u001b[39m\u001b[38;5;241m1224\u001b[39m\n\u001b[1;32m----> 2\u001b[0m \u001b[38;5;28;01mfor\u001b[39;00m i \u001b[38;5;129;01min\u001b[39;00m a:\n\u001b[0;32m      3\u001b[0m     \u001b[38;5;28mprint\u001b[39m(i)\n",
      "\u001b[1;31mTypeError\u001b[0m: 'int' object is not iterable"
     ]
    }
   ],
   "source": [
    "a=1224\n",
    "for i in a:\n",
    "    print(i)"
   ]
  },
  {
   "cell_type": "code",
   "execution_count": 6,
   "id": "d850dd40",
   "metadata": {},
   "outputs": [
    {
     "name": "stdout",
     "output_type": "stream",
     "text": [
      "('M', 'A', 'L', 'Y', 'A', 'L', 'A', 'M')\n",
      "('M', 'A', 'L', 'Y', 'A', 'L', 'A', 'M')\n"
     ]
    }
   ],
   "source": [
    "# 1.To check whether a given string is a palindrome.\n",
    "str1='M','A','L','Y','A','L','A','M'\n",
    "print(str1[0:8])\n",
    "print(str1[-8:8])"
   ]
  },
  {
   "cell_type": "code",
   "execution_count": 25,
   "id": "8d4879ab",
   "metadata": {},
   "outputs": [
    {
     "name": "stdout",
     "output_type": "stream",
     "text": [
      "enter the stringlevel\n",
      "palindrom\n"
     ]
    }
   ],
   "source": [
    "a=input(\"enter the string\")\n",
    "b=a[-1::-1]\n",
    "if a==b:\n",
    "    print(\"palindrom\")\n",
    "else:\n",
    "    print(\"not palindrom\")"
   ]
  },
  {
   "cell_type": "code",
   "execution_count": 1,
   "id": "b0fe05d0",
   "metadata": {},
   "outputs": [
    {
     "name": "stdout",
     "output_type": "stream",
     "text": [
      "ytrewqjahnim\n"
     ]
    }
   ],
   "source": [
    "a=\"minhajqwerty\"\n",
    "print(a[::-1])"
   ]
  },
  {
   "cell_type": "code",
   "execution_count": 22,
   "id": "0b1af5b7",
   "metadata": {},
   "outputs": [
    {
     "name": "stdout",
     "output_type": "stream",
     "text": [
      "6\n"
     ]
    }
   ],
   "source": [
    "def Add(a,b):\n",
    "    C=a+b\n",
    "    return C\n",
    "c=Add(2,4)\n",
    "print(c)"
   ]
  },
  {
   "cell_type": "code",
   "execution_count": 16,
   "id": "89f29d26",
   "metadata": {},
   "outputs": [
    {
     "name": "stdout",
     "output_type": "stream",
     "text": [
      "ytrewqjahnim\n"
     ]
    }
   ],
   "source": [
    "a=\"minhajqwerty\"\n",
    "print(a[-1::-1])"
   ]
  },
  {
   "cell_type": "code",
   "execution_count": 10,
   "id": "0f0634de",
   "metadata": {},
   "outputs": [
    {
     "name": "stdout",
     "output_type": "stream",
     "text": [
      "6\n"
     ]
    }
   ],
   "source": [
    "def Add(a,b):\n",
    "    C=a+b\n",
    "    return C\n",
    "c=Add(2,4)\n",
    "print(c)"
   ]
  },
  {
   "cell_type": "code",
   "execution_count": 15,
   "id": "b41890bf",
   "metadata": {},
   "outputs": [
    {
     "name": "stdout",
     "output_type": "stream",
     "text": [
      "None\n"
     ]
    }
   ],
   "source": [
    "data={\"ANAM\":40,\"ASIF\":30}\n",
    "x=data.get(\"shoaib\")\n",
    "print(x)"
   ]
  },
  {
   "cell_type": "code",
   "execution_count": 18,
   "id": "835d4be7",
   "metadata": {},
   "outputs": [
    {
     "name": "stdout",
     "output_type": "stream",
     "text": [
      "{'ANAM': 40, 'ASIF': 30, 'nabeel': 37}\n"
     ]
    }
   ],
   "source": [
    "data={\"ANAM\":40,\"ASIF\":30}\n",
    "data.update({\"nabeel\":37})\n",
    "print(data)"
   ]
  },
  {
   "cell_type": "code",
   "execution_count": 17,
   "id": "fb3337fb",
   "metadata": {},
   "outputs": [
    {
     "name": "stdout",
     "output_type": "stream",
     "text": [
      "{'ANAM': 40, 'ASIF': 30, 'nabeel': 37}\n"
     ]
    }
   ],
   "source": [
    "data={\"ANAM\":40,\"ASIF\":30}\n",
    "data[\"nabeel\"]=37\n",
    "print(data)"
   ]
  },
  {
   "cell_type": "code",
   "execution_count": 22,
   "id": "c498f242",
   "metadata": {},
   "outputs": [
    {
     "ename": "NameError",
     "evalue": "name 'addn' is not defined",
     "output_type": "error",
     "traceback": [
      "\u001b[1;31m---------------------------------------------------------------------------\u001b[0m",
      "\u001b[1;31mNameError\u001b[0m                                 Traceback (most recent call last)",
      "Input \u001b[1;32mIn [22]\u001b[0m, in \u001b[0;36m<cell line: 1>\u001b[1;34m()\u001b[0m\n\u001b[1;32m----> 1\u001b[0m d\u001b[38;5;241m=\u001b[39m\u001b[43maddn\u001b[49m(\u001b[38;5;241m2\u001b[39m,\u001b[38;5;241m4\u001b[39m)\n\u001b[0;32m      2\u001b[0m \u001b[38;5;28mprint\u001b[39m(d)\n\u001b[0;32m      3\u001b[0m \u001b[38;5;28;01mdef\u001b[39;00m \u001b[38;5;21maddn\u001b[39m(a,b):\n",
      "\u001b[1;31mNameError\u001b[0m: name 'addn' is not defined"
     ]
    }
   ],
   "source": [
    "d=addn(2,4)\n",
    "print(d)\n",
    "def addn(a,b):\n",
    "    d=a+b\n",
    "    return d"
   ]
  },
  {
   "cell_type": "code",
   "execution_count": 25,
   "id": "6e6c1125",
   "metadata": {},
   "outputs": [
    {
     "name": "stdout",
     "output_type": "stream",
     "text": [
      "{'ASIF': 30, 'adnan': 26}\n"
     ]
    }
   ],
   "source": [
    "data={\"ANAM\":40,\"ASIF\":30,'adnan':26}\n",
    "data.pop(\"ANAM\")\n",
    "print(data)\n"
   ]
  },
  {
   "cell_type": "code",
   "execution_count": 27,
   "id": "538af695",
   "metadata": {},
   "outputs": [
    {
     "ename": "SyntaxError",
     "evalue": "invalid syntax (3358793661.py, line 2)",
     "output_type": "error",
     "traceback": [
      "\u001b[1;36m  Input \u001b[1;32mIn [27]\u001b[1;36m\u001b[0m\n\u001b[1;33m    data.del({\"ANAM\":40},{\"ASIF\":30})\u001b[0m\n\u001b[1;37m         ^\u001b[0m\n\u001b[1;31mSyntaxError\u001b[0m\u001b[1;31m:\u001b[0m invalid syntax\n"
     ]
    }
   ],
   "source": [
    "data={\"ANAM\":40,\"ASIF\":30,'adnan':26}\n",
    "#data.del({\"ANAM\":40},{\"ASIF\":30})\n",
    "print(data)\n"
   ]
  },
  {
   "cell_type": "code",
   "execution_count": 29,
   "id": "7b848be6",
   "metadata": {},
   "outputs": [
    {
     "name": "stdout",
     "output_type": "stream",
     "text": [
      "{1, 2, 3, 4}\n",
      "[1, 2, 3, 4]\n"
     ]
    }
   ],
   "source": [
    "value=[1,1,2,3,3,4]\n",
    "a=set(value)\n",
    "print(a)\n",
    "b=list(a)\n",
    "print(b)"
   ]
  },
  {
   "cell_type": "markdown",
   "id": "5d635861",
   "metadata": {},
   "source": [
    "#task qn on pattern"
   ]
  },
  {
   "cell_type": "code",
   "execution_count": 6,
   "id": "73a41ac0",
   "metadata": {},
   "outputs": [
    {
     "name": "stdout",
     "output_type": "stream",
     "text": [
      "*\n",
      "**\n",
      "***\n",
      "****\n",
      "*****\n"
     ]
    }
   ],
   "source": [
    "pattern1=[\"*\",\"**\",\"***\",\"****\",\"*****\"]\n",
    "for x in pattern1:\n",
    "    print(x)"
   ]
  },
  {
   "cell_type": "code",
   "execution_count": 8,
   "id": "add0a67d",
   "metadata": {},
   "outputs": [
    {
     "name": "stdout",
     "output_type": "stream",
     "text": [
      "*****\n",
      "****\n",
      "***\n",
      "**\n",
      "*\n"
     ]
    }
   ],
   "source": [
    "pattern2=[\"*****\",\"****\",\"***\",\"**\",\"*\"]\n",
    "for y in pattern2:\n",
    "    print(y)"
   ]
  },
  {
   "cell_type": "code",
   "execution_count": 9,
   "id": "8c6114ac",
   "metadata": {},
   "outputs": [
    {
     "name": "stdout",
     "output_type": "stream",
     "text": [
      "1\n",
      "2 3\n",
      "4 5 6\n",
      "7 8 9 10\n"
     ]
    }
   ],
   "source": [
    "pattern3=[\"1\",\"2 3\",\"4 5 6\",\"7 8 9 10\"]\n",
    "for x in pattern3:\n",
    "    print(x)\n"
   ]
  },
  {
   "cell_type": "code",
   "execution_count": 10,
   "id": "a3b66031",
   "metadata": {},
   "outputs": [
    {
     "name": "stdout",
     "output_type": "stream",
     "text": [
      "1\n",
      "1 2\n",
      "1 2 3\n",
      "1 2 3 4\n",
      "1 2 3 4 5\n"
     ]
    }
   ],
   "source": [
    "pattern4=[\"1\",\"1 2\",\"1 2 3\",\"1 2 3 4\",\"1 2 3 4 5\"]\n",
    "for x in pattern4:\n",
    "    print(x)"
   ]
  },
  {
   "cell_type": "code",
   "execution_count": 11,
   "id": "a8922f0b",
   "metadata": {},
   "outputs": [
    {
     "name": "stdout",
     "output_type": "stream",
     "text": [
      "A\n",
      "A B\n",
      "A B C\n",
      "A B C D\n",
      "A B C D E\n"
     ]
    }
   ],
   "source": [
    "pattern5=[\"A\",\"A B\",\"A B C\",\"A B C D\",\"A B C D E\"]\n",
    "for x in pattern5:\n",
    "    print(x)\n"
   ]
  },
  {
   "cell_type": "code",
   "execution_count": 12,
   "id": "f02dd5ba",
   "metadata": {},
   "outputs": [
    {
     "name": "stdout",
     "output_type": "stream",
     "text": [
      "A\n",
      "B C\n",
      "D E F\n",
      "G H I J\n",
      "K L M N O\n"
     ]
    }
   ],
   "source": [
    "pattern6=[\"A\",\"B C\",\"D E F\",\"G H I J\",\"K L M N O\"]\n",
    "for z in pattern6:\n",
    "    print(z)\n"
   ]
  },
  {
   "cell_type": "code",
   "execution_count": 13,
   "id": "99a469f5",
   "metadata": {},
   "outputs": [
    {
     "name": "stdout",
     "output_type": "stream",
     "text": [
      "1 2 3 4 5\n",
      "1 2 3 4\n",
      "1 2 3\n",
      "1 2\n",
      "1 \n"
     ]
    }
   ],
   "source": [
    "pattern8=[\"1 2 3 4 5\",\"1 2 3 4\",\"1 2 3\",\"1 2\",\"1 \"]\n",
    "for x in pattern8:\n",
    "    print(x)"
   ]
  },
  {
   "cell_type": "code",
   "execution_count": null,
   "id": "bc42db16",
   "metadata": {},
   "outputs": [],
   "source": []
  },
  {
   "cell_type": "code",
   "execution_count": 16,
   "id": "6aea871c",
   "metadata": {},
   "outputs": [
    {
     "name": "stdout",
     "output_type": "stream",
     "text": [
      "   *\n",
      "  **\n",
      " ***\n",
      "****\n"
     ]
    }
   ],
   "source": [
    "pattern7=[\"   *\",\"  **\",\" ***\",\"****\"]\n",
    "for x in pattern7:\n",
    "    print(x)"
   ]
  },
  {
   "cell_type": "code",
   "execution_count": 17,
   "id": "515780d6",
   "metadata": {},
   "outputs": [
    {
     "name": "stdout",
     "output_type": "stream",
     "text": [
      "   *   \n",
      "  ***  \n",
      " ***** \n",
      "*******\n"
     ]
    }
   ],
   "source": [
    "pattern9=[\"   *   \",\"  ***  \",\" ***** \",\"*******\"]\n",
    "for x in pattern9:\n",
    "    print(x)\n"
   ]
  },
  {
   "cell_type": "code",
   "execution_count": 15,
   "id": "dee99286",
   "metadata": {},
   "outputs": [
    {
     "name": "stdout",
     "output_type": "stream",
     "text": [
      "{'child1': {'a': 1, 'b': 2}, 'child2': {'d': 3, 'e': 3}}\n"
     ]
    }
   ],
   "source": [
    "ch1={'a':1,'b':2}\n",
    "ch2={'d':3,'e':3}\n",
    "dict1={\"child1\":ch1,\"child2\":ch2}\n",
    "print(dict1)"
   ]
  },
  {
   "cell_type": "code",
   "execution_count": null,
   "id": "73d74de9",
   "metadata": {},
   "outputs": [],
   "source": []
  },
  {
   "cell_type": "code",
   "execution_count": null,
   "id": "8555d0af",
   "metadata": {},
   "outputs": [],
   "source": []
  },
  {
   "cell_type": "code",
   "execution_count": 16,
   "id": "3ad6a63d",
   "metadata": {},
   "outputs": [
    {
     "name": "stdout",
     "output_type": "stream",
     "text": [
      "* * * * * * * * * * * * * * * * * * * * * * * * * "
     ]
    }
   ],
   "source": [
    "n=5\n",
    "for i in range(n):\n",
    "    for j in range(n):\n",
    "        print('*',end=\" \")"
   ]
  },
  {
   "cell_type": "code",
   "execution_count": 17,
   "id": "739ebbd3",
   "metadata": {},
   "outputs": [
    {
     "name": "stdout",
     "output_type": "stream",
     "text": [
      "* * * * * \n",
      "* * * * * \n",
      "* * * * * \n",
      "* * * * * \n",
      "* * * * * \n"
     ]
    }
   ],
   "source": [
    "n=5\n",
    "for i in range(n):\n",
    "    for j in range(n):\n",
    "     print('*',end=\" \")\n",
    "    print()"
   ]
  },
  {
   "cell_type": "code",
   "execution_count": 18,
   "id": "f1e9200f",
   "metadata": {},
   "outputs": [
    {
     "name": "stdout",
     "output_type": "stream",
     "text": [
      "* \n",
      "* * \n",
      "* * * \n",
      "* * * * \n",
      "* * * * * \n"
     ]
    }
   ],
   "source": [
    "n=5\n",
    "for i in range(n):\n",
    "    for j in range(i+1):\n",
    "        print('*',end=\" \")\n",
    "    print()"
   ]
  },
  {
   "cell_type": "code",
   "execution_count": 19,
   "id": "ddc17d6c",
   "metadata": {},
   "outputs": [
    {
     "name": "stdout",
     "output_type": "stream",
     "text": [
      "* * * * * \n",
      "* * * * \n",
      "* * * \n",
      "* * \n",
      "* \n"
     ]
    }
   ],
   "source": [
    "#n=int(input(\"\"))\n",
    "n=5\n",
    "for i in range(n):\n",
    "    for j in range(i,n):\n",
    "        print('*',end=\" \")\n",
    "    print()"
   ]
  },
  {
   "cell_type": "code",
   "execution_count": 20,
   "id": "0cd4d493",
   "metadata": {},
   "outputs": [
    {
     "ename": "KeyboardInterrupt",
     "evalue": "Interrupted by user",
     "output_type": "error",
     "traceback": [
      "\u001b[1;31m---------------------------------------------------------------------------\u001b[0m",
      "\u001b[1;31mKeyboardInterrupt\u001b[0m                         Traceback (most recent call last)",
      "Input \u001b[1;32mIn [20]\u001b[0m, in \u001b[0;36m<cell line: 1>\u001b[1;34m()\u001b[0m\n\u001b[1;32m----> 1\u001b[0m number\u001b[38;5;241m=\u001b[39m\u001b[38;5;28mint\u001b[39m(\u001b[38;5;28;43minput\u001b[39;49m\u001b[43m(\u001b[49m\u001b[38;5;124;43m'\u001b[39;49m\u001b[38;5;124;43mEnter any integer number\u001b[39;49m\u001b[38;5;124;43m'\u001b[39;49m\u001b[43m)\u001b[49m)\n\u001b[0;32m      2\u001b[0m remainder\u001b[38;5;241m=\u001b[39mnumber\u001b[38;5;241m%\u001b[39m\u001b[38;5;241m2\u001b[39m\n\u001b[0;32m      3\u001b[0m \u001b[38;5;28;01mif\u001b[39;00m(remainder\u001b[38;5;241m==\u001b[39m\u001b[38;5;241m0\u001b[39m):\n",
      "File \u001b[1;32m~\\AppData\\Local\\Programs\\Python\\Python310\\lib\\site-packages\\ipykernel\\kernelbase.py:1161\u001b[0m, in \u001b[0;36mKernel.raw_input\u001b[1;34m(self, prompt)\u001b[0m\n\u001b[0;32m   1157\u001b[0m \u001b[38;5;28;01mif\u001b[39;00m \u001b[38;5;129;01mnot\u001b[39;00m \u001b[38;5;28mself\u001b[39m\u001b[38;5;241m.\u001b[39m_allow_stdin:\n\u001b[0;32m   1158\u001b[0m     \u001b[38;5;28;01mraise\u001b[39;00m StdinNotImplementedError(\n\u001b[0;32m   1159\u001b[0m         \u001b[38;5;124m\"\u001b[39m\u001b[38;5;124mraw_input was called, but this frontend does not support input requests.\u001b[39m\u001b[38;5;124m\"\u001b[39m\n\u001b[0;32m   1160\u001b[0m     )\n\u001b[1;32m-> 1161\u001b[0m \u001b[38;5;28;01mreturn\u001b[39;00m \u001b[38;5;28;43mself\u001b[39;49m\u001b[38;5;241;43m.\u001b[39;49m\u001b[43m_input_request\u001b[49m\u001b[43m(\u001b[49m\n\u001b[0;32m   1162\u001b[0m \u001b[43m    \u001b[49m\u001b[38;5;28;43mstr\u001b[39;49m\u001b[43m(\u001b[49m\u001b[43mprompt\u001b[49m\u001b[43m)\u001b[49m\u001b[43m,\u001b[49m\n\u001b[0;32m   1163\u001b[0m \u001b[43m    \u001b[49m\u001b[38;5;28;43mself\u001b[39;49m\u001b[38;5;241;43m.\u001b[39;49m\u001b[43m_parent_ident\u001b[49m\u001b[43m[\u001b[49m\u001b[38;5;124;43m\"\u001b[39;49m\u001b[38;5;124;43mshell\u001b[39;49m\u001b[38;5;124;43m\"\u001b[39;49m\u001b[43m]\u001b[49m\u001b[43m,\u001b[49m\n\u001b[0;32m   1164\u001b[0m \u001b[43m    \u001b[49m\u001b[38;5;28;43mself\u001b[39;49m\u001b[38;5;241;43m.\u001b[39;49m\u001b[43mget_parent\u001b[49m\u001b[43m(\u001b[49m\u001b[38;5;124;43m\"\u001b[39;49m\u001b[38;5;124;43mshell\u001b[39;49m\u001b[38;5;124;43m\"\u001b[39;49m\u001b[43m)\u001b[49m\u001b[43m,\u001b[49m\n\u001b[0;32m   1165\u001b[0m \u001b[43m    \u001b[49m\u001b[43mpassword\u001b[49m\u001b[38;5;241;43m=\u001b[39;49m\u001b[38;5;28;43;01mFalse\u001b[39;49;00m\u001b[43m,\u001b[49m\n\u001b[0;32m   1166\u001b[0m \u001b[43m\u001b[49m\u001b[43m)\u001b[49m\n",
      "File \u001b[1;32m~\\AppData\\Local\\Programs\\Python\\Python310\\lib\\site-packages\\ipykernel\\kernelbase.py:1205\u001b[0m, in \u001b[0;36mKernel._input_request\u001b[1;34m(self, prompt, ident, parent, password)\u001b[0m\n\u001b[0;32m   1202\u001b[0m             \u001b[38;5;28;01mbreak\u001b[39;00m\n\u001b[0;32m   1203\u001b[0m \u001b[38;5;28;01mexcept\u001b[39;00m \u001b[38;5;167;01mKeyboardInterrupt\u001b[39;00m:\n\u001b[0;32m   1204\u001b[0m     \u001b[38;5;66;03m# re-raise KeyboardInterrupt, to truncate traceback\u001b[39;00m\n\u001b[1;32m-> 1205\u001b[0m     \u001b[38;5;28;01mraise\u001b[39;00m \u001b[38;5;167;01mKeyboardInterrupt\u001b[39;00m(\u001b[38;5;124m\"\u001b[39m\u001b[38;5;124mInterrupted by user\u001b[39m\u001b[38;5;124m\"\u001b[39m) \u001b[38;5;28;01mfrom\u001b[39;00m \u001b[38;5;28mNone\u001b[39m\n\u001b[0;32m   1206\u001b[0m \u001b[38;5;28;01mexcept\u001b[39;00m \u001b[38;5;167;01mException\u001b[39;00m:\n\u001b[0;32m   1207\u001b[0m     \u001b[38;5;28mself\u001b[39m\u001b[38;5;241m.\u001b[39mlog\u001b[38;5;241m.\u001b[39mwarning(\u001b[38;5;124m\"\u001b[39m\u001b[38;5;124mInvalid Message:\u001b[39m\u001b[38;5;124m\"\u001b[39m, exc_info\u001b[38;5;241m=\u001b[39m\u001b[38;5;28;01mTrue\u001b[39;00m)\n",
      "\u001b[1;31mKeyboardInterrupt\u001b[0m: Interrupted by user"
     ]
    }
   ],
   "source": [
    "number=int(input('Enter any integer number'))\n",
    "remainder=number%2\n",
    "if(remainder==0):\n",
    "    print(number,\"FIZZ\")\n",
    "else:\n",
    "    print(number,\"BUZZ\")"
   ]
  },
  {
   "cell_type": "code",
   "execution_count": null,
   "id": "402e5fd8",
   "metadata": {},
   "outputs": [],
   "source": [
    "data1=[1,2,5,73,45,68]\n",
    "for i in data1:\n",
    "    if i%2==0:\n",
    "        print(\"fizz is\",i)\n",
    "    else:\n",
    "        print(\"buzz is\",i)"
   ]
  },
  {
   "cell_type": "code",
   "execution_count": null,
   "id": "3afb464e",
   "metadata": {},
   "outputs": [],
   "source": [
    "data1=[3,25,34,8]\n",
    "data2=[ f\"{x}:fizz\" if x%2==0 else f\"{x}:buzz\" for x in data1]\n",
    "print(data2)"
   ]
  },
  {
   "cell_type": "code",
   "execution_count": null,
   "id": "396a50ae",
   "metadata": {},
   "outputs": [],
   "source": [
    " a=[]\n",
    "for i in range(11):\n",
    "    user=int(input(\"enter number\"))\n",
    "    a.append(user)\n",
    "print((a))\n",
    "b=[]\n",
    "for j in a:\n",
    "    if j%5 == 0:\n",
    "        b.append(j)\n",
    "print(tuple(b))"
   ]
  },
  {
   "cell_type": "code",
   "execution_count": null,
   "id": "0de1ed29",
   "metadata": {},
   "outputs": [],
   "source": []
  },
  {
   "cell_type": "code",
   "execution_count": null,
   "id": "7dfba9c6",
   "metadata": {},
   "outputs": [],
   "source": [
    "n=5\n",
    "for i in range(n):\n",
    "    for j in range(i+1):\n",
    "        print('*',end=\" \")\n",
    "    print()"
   ]
  },
  {
   "cell_type": "code",
   "execution_count": null,
   "id": "9885c892",
   "metadata": {},
   "outputs": [],
   "source": [
    "n=int(input())\n",
    "for i in range(n+1):\n",
    "    if i%5==0 and i%3==0:\n",
    "        print('Fizz Buzz')\n",
    "    elif i%5==0 and i%3!=0:\n",
    "        print('Buzz')\n",
    "    elif i%3==0 and i%5!=0:\n",
    "        print('Fizz')\n",
    "    else:\n",
    "        print('None')"
   ]
  },
  {
   "cell_type": "markdown",
   "id": "ea57540b",
   "metadata": {},
   "source": [
    "\n",
    "# star pattern task"
   ]
  },
  {
   "cell_type": "code",
   "execution_count": null,
   "id": "91491157",
   "metadata": {},
   "outputs": [],
   "source": []
  },
  {
   "cell_type": "code",
   "execution_count": 1,
   "id": "b43352c0",
   "metadata": {},
   "outputs": [
    {
     "name": "stdout",
     "output_type": "stream",
     "text": [
      "* \n",
      "* * \n",
      "* * * \n",
      "* * * * \n",
      "* * * * * \n"
     ]
    }
   ],
   "source": [
    "# pattern1:increasing triangle\n",
    "n=5\n",
    "for i in range(n):\n",
    "    for j in range(i+1):\n",
    "        print(\"*\",end=\" \")\n",
    "    print()"
   ]
  },
  {
   "cell_type": "code",
   "execution_count": 2,
   "id": "a5b5b840",
   "metadata": {},
   "outputs": [
    {
     "name": "stdout",
     "output_type": "stream",
     "text": [
      "* * * * * \n",
      "* * * * \n",
      "* * * \n",
      "* * \n",
      "* \n"
     ]
    }
   ],
   "source": [
    "# pattern 2 for dicreasing traingle\n",
    "n=5\n",
    "for i in range(n):\n",
    "    for j in range(i,n):\n",
    "        print('*',end=\" \")\n",
    "    print()"
   ]
  },
  {
   "cell_type": "code",
   "execution_count": 3,
   "id": "de43efb1",
   "metadata": {},
   "outputs": [
    {
     "name": "stdout",
     "output_type": "stream",
     "text": [
      "          * \n",
      "        * * \n",
      "      * * * \n",
      "    * * * * \n",
      "  * * * * * \n"
     ]
    }
   ],
   "source": [
    "# pattern 7 for increasing triangle\n",
    "n=5\n",
    "for i in range(n):\n",
    "    for j  in range(i,n):\n",
    "        print(\" \",end=' ')\n",
    "    for k in range(i+1):\n",
    "        print(\"*\",end=' ')\n",
    "    print()\n",
    "        "
   ]
  },
  {
   "cell_type": "code",
   "execution_count": 4,
   "id": "071f9602",
   "metadata": {},
   "outputs": [
    {
     "name": "stdout",
     "output_type": "stream",
     "text": [
      "          & \n",
      "        * & & \n",
      "      * * & & & \n",
      "    * * * & & & & \n",
      "  * * * * & & & & & \n"
     ]
    }
   ],
   "source": [
    "# pattern9 prism pattern\n",
    "n=5\n",
    "for i in range(n):\n",
    "    for j in range(i,n):\n",
    "        print(\" \",end=\" \")\n",
    "    for k in range(i):\n",
    "        print(\"*\",end=\" \")\n",
    "    for m in range(i+1):\n",
    "        print(\"&\",end=\" \")\n",
    "    print()"
   ]
  },
  {
   "cell_type": "markdown",
   "id": "3edc642d",
   "metadata": {},
   "source": [
    "# Number pattern:"
   ]
  },
  {
   "cell_type": "code",
   "execution_count": null,
   "id": "dcff068b",
   "metadata": {},
   "outputs": [],
   "source": []
  },
  {
   "cell_type": "code",
   "execution_count": null,
   "id": "26cb50c2",
   "metadata": {},
   "outputs": [],
   "source": []
  },
  {
   "cell_type": "code",
   "execution_count": 2,
   "id": "0ef8f5bd",
   "metadata": {},
   "outputs": [
    {
     "name": "stdout",
     "output_type": "stream",
     "text": [
      "\n",
      "\n",
      "\n",
      "\n",
      "\n",
      "\n",
      "\n",
      "\n",
      "\n",
      "\n",
      "\n",
      "\n",
      "\n",
      "\n"
     ]
    }
   ],
   "source": [
    "# pattern3\n",
    "n=4\n",
    "p=1\n",
    "for i in range(n):\n",
    "    for j in range(i+1):\n",
    "        print()\n",
    "        p+=1\n",
    "    print()"
   ]
  },
  {
   "cell_type": "code",
   "execution_count": 3,
   "id": "117dc469",
   "metadata": {},
   "outputs": [
    {
     "name": "stdout",
     "output_type": "stream",
     "text": [
      "1 \n",
      "1 2 \n",
      "1 2 3 \n",
      "1 2 3 4 \n",
      "1 2 3 4 5 \n"
     ]
    }
   ],
   "source": [
    "# change in column paterrn\n",
    "# pattern4\n",
    "n=5\n",
    "for i in range(n):\n",
    "    p=1\n",
    "    for j in range(i+1):\n",
    "        print(p,end=\" \")\n",
    "        p+=1\n",
    "    print()"
   ]
  },
  {
   "cell_type": "code",
   "execution_count": 8,
   "id": "4faf009d",
   "metadata": {},
   "outputs": [
    {
     "name": "stdout",
     "output_type": "stream",
     "text": [
      "1 2 3 4 5 \n",
      "1 2 3 4 \n",
      "1 2 3 \n",
      "1 2 \n",
      "1 \n"
     ]
    }
   ],
   "source": [
    "# pattern8\n",
    "n=5\n",
    "for i in range(n):\n",
    "    p=1\n",
    "    for j in range(i,n):\n",
    "        print(p,end=\" \")\n",
    "        p+=1\n",
    "    print()"
   ]
  },
  {
   "cell_type": "code",
   "execution_count": 9,
   "id": "8d7cf36d",
   "metadata": {},
   "outputs": [
    {
     "name": "stdout",
     "output_type": "stream",
     "text": [
      "5 4 3 2 1 \n",
      "  4 3 2 1 \n",
      "    3 2 1 \n",
      "      2 1 \n",
      "        1 \n"
     ]
    }
   ],
   "source": [
    "# decrement column in triangle\n",
    "n=5\n",
    "k=5\n",
    "for i in range(n):\n",
    "    p=k\n",
    "    for j in range(i):\n",
    "        print(\" \",end=\" \")\n",
    "    for j in range(i,n):\n",
    "        print(p,end=\" \")\n",
    "        p-=1\n",
    "    k-=1\n",
    "    print()"
   ]
  },
  {
   "cell_type": "code",
   "execution_count": 12,
   "id": "de3510e6",
   "metadata": {},
   "outputs": [
    {
     "name": "stdout",
     "output_type": "stream",
     "text": [
      "A \n",
      "A B \n",
      "A B C \n",
      "A B C D \n",
      "A B C D E \n"
     ]
    }
   ],
   "source": [
    "# pattern5\n",
    "n=5\n",
    "for i in range(n):\n",
    "    p=65\n",
    "    for j in range(i+1):\n",
    "        print(chr(p),end=' ')\n",
    "        p+=1\n",
    "    print()"
   ]
  },
  {
   "cell_type": "code",
   "execution_count": 1,
   "id": "e1b842f7",
   "metadata": {},
   "outputs": [
    {
     "name": "stdout",
     "output_type": "stream",
     "text": [
      "A \n",
      "B C \n",
      "D E F \n",
      "G H I J \n",
      "K L M N O \n"
     ]
    }
   ],
   "source": [
    "# pattern6\n",
    "n=5\n",
    "a=65\n",
    "for i in range(n):\n",
    "    for j in range(i+1):\n",
    "        print(chr(a),end=' ')\n",
    "        a+=1\n",
    "    print()"
   ]
  },
  {
   "cell_type": "markdown",
   "id": "b43f502f",
   "metadata": {},
   "source": []
  },
  {
   "cell_type": "markdown",
   "id": "29cefe06",
   "metadata": {},
   "source": [
    "# function task qn:"
   ]
  },
  {
   "cell_type": "code",
   "execution_count": 2,
   "id": "000b7102",
   "metadata": {},
   "outputs": [
    {
     "name": "stdout",
     "output_type": "stream",
     "text": [
      "14\n"
     ]
    }
   ],
   "source": [
    "#1.Write a Python function to find the Max of three numbers.\n",
    "def maximum(a, b, c):\n",
    "    if (a >= b) and (a >= c):\n",
    "        largest = a\n",
    "    elif (b >= a) and (b >= c):\n",
    "        largest = b\n",
    "    else:\n",
    "        largest = c\n",
    "    return largest\n",
    "#call functn here:\n",
    "a = 10\n",
    "b = 14\n",
    "c = 12\n",
    "print(maximum(a, b, c))"
   ]
  },
  {
   "cell_type": "code",
   "execution_count": null,
   "id": "9c3b8702",
   "metadata": {},
   "outputs": [],
   "source": [
    "# 2.Define a function that accepts 2 values and return its sum, subtraction and multiplication..\n",
    "a=int(input(\"\"))\n",
    "b=int(input(\" \"))\n",
    "def func(a,b):\n",
    "    print(\"sum of given numbers\",a+b)\n",
    "    print(\"subtraction of given numbers\",a-b)\n",
    "    print(\"multiplication of given number\",a*b)\n",
    "func(a,b)"
   ]
  },
  {
   "cell_type": "code",
   "execution_count": 3,
   "id": "c9298ba7",
   "metadata": {},
   "outputs": [
    {
     "name": "stdout",
     "output_type": "stream",
     "text": [
      "6\n"
     ]
    }
   ],
   "source": [
    "# 3.Write a Python function to multiply all the numbers in a list. \n",
    "mylist=[1,2,3]\n",
    "result=1\n",
    "for x in mylist:\n",
    "    result=result*x\n",
    "print(result)"
   ]
  },
  {
   "cell_type": "code",
   "execution_count": 4,
   "id": "16c33778",
   "metadata": {},
   "outputs": [
    {
     "name": "stdout",
     "output_type": "stream",
     "text": [
      "factorial= 6\n"
     ]
    }
   ],
   "source": [
    "# 4.write a Python function to calculate the factorial of a number (a non-negative integer).\n",
    "# The function accepts the number as an argument\n",
    "# 5.Find the factorial of a given number:\n",
    "#i=5\n",
    "def factorial(i):\n",
    "    fac=1\n",
    "    while i>0:\n",
    "        fac=fac*i\n",
    "        i-=1\n",
    "    print(\"factorial=\",fac)\n",
    "factorial(3)"
   ]
  },
  {
   "cell_type": "code",
   "execution_count": 5,
   "id": "736dc86e",
   "metadata": {},
   "outputs": [
    {
     "name": "stdout",
     "output_type": "stream",
     "text": [
      "[0, 1, 4, 9, 16, 25, 36, 49, 64, 81, 100, 121, 144, 169, 196, 225, 256, 289, 324, 361, 400, 441, 484, 529, 576, 625, 676, 729, 784, 841]\n"
     ]
    }
   ],
   "source": [
    "# 5.write a Python function to create and print a list where the values are square of numbers between 1 and 30 (both included).\n",
    "input=list(range(30))\n",
    "def square(l):\n",
    "    a=[]\n",
    "    for i in l:\n",
    "        a.append(i**2)\n",
    "    return a \n",
    "print(square(input))"
   ]
  },
  {
   "cell_type": "code",
   "execution_count": 6,
   "id": "326ef1c0",
   "metadata": {},
   "outputs": [
    {
     "name": "stdout",
     "output_type": "stream",
     "text": [
      "[1, 4, 9, 16, 25, 36, 49, 64, 81, 100, 121, 144, 169, 196, 225, 256, 289, 324, 361, 400]\n"
     ]
    }
   ],
   "source": [
    "def printValues():\n",
    "    l = list()\n",
    "    for i in range(1,21):\n",
    "        l.append(i**2)\n",
    "    print(l)\n",
    "printValues()"
   ]
  },
  {
   "cell_type": "code",
   "execution_count": 7,
   "id": "267c2a65",
   "metadata": {},
   "outputs": [
    {
     "name": "stdout",
     "output_type": "stream",
     "text": [
      "Original String: SURAIYA nargis 1234\n",
      "No.of Upper case characters: 7\n",
      "No.of Lower case characters: 6\n"
     ]
    }
   ],
   "source": [
    "#6.Write a Python function that accepts a string and calculate the number of upper case letters and lower case letters\n",
    "def string_test(s):\n",
    "    d={\"UPPER_CASE\":0,\"LOWER_CASE\":0}\n",
    "    for c in s:\n",
    "        if c.isupper():\n",
    "           d[\"UPPER_CASE\"]+=1\n",
    "        elif c.islower():\n",
    "           d[\"LOWER_CASE\"]+=1\n",
    "        #elif c.isalnum():\n",
    "           # d[\"number\"]+=1\n",
    "        else:\n",
    "          pass\n",
    "    print (\"Original String:\", s)\n",
    "    print (\"No.of Upper case characters:\", d[\"UPPER_CASE\"])\n",
    "    print (\"No.of Lower case characters:\", d[\"LOWER_CASE\"])\n",
    "   # print (\"No.:\", d[\"number\"])\n",
    "\n",
    "string_test('SURAIYA nargis 1234')"
   ]
  },
  {
   "cell_type": "code",
   "execution_count": 8,
   "id": "a311ad75",
   "metadata": {},
   "outputs": [
    {
     "ename": "TypeError",
     "evalue": "'list' object is not callable",
     "output_type": "error",
     "traceback": [
      "\u001b[1;31m---------------------------------------------------------------------------\u001b[0m",
      "\u001b[1;31mTypeError\u001b[0m                                 Traceback (most recent call last)",
      "Input \u001b[1;32mIn [8]\u001b[0m, in \u001b[0;36m<cell line: 9>\u001b[1;34m()\u001b[0m\n\u001b[0;32m      7\u001b[0m         \u001b[38;5;28;01melse\u001b[39;00m:\n\u001b[0;32m      8\u001b[0m             \u001b[38;5;28mprint\u001b[39m(\u001b[38;5;124m'\u001b[39m\u001b[38;5;124mStudent is absent\u001b[39m\u001b[38;5;124m'\u001b[39m)\n\u001b[1;32m----> 9\u001b[0m b\u001b[38;5;241m=\u001b[39m\u001b[38;5;28mint\u001b[39m(\u001b[38;5;28;43minput\u001b[39;49m\u001b[43m(\u001b[49m\u001b[38;5;124;43m'\u001b[39;49m\u001b[38;5;124;43mEnter rollno:\u001b[39;49m\u001b[38;5;124;43m'\u001b[39;49m\u001b[43m)\u001b[49m)\n\u001b[0;32m     10\u001b[0m student(b)\n",
      "\u001b[1;31mTypeError\u001b[0m: 'list' object is not callable"
     ]
    }
   ],
   "source": [
    "###### 7.Define a function that accepts roll number and returns whether the student is present or absent.\n",
    "a=[1,2,3,4,5,6,7,8]\n",
    "def student(b):\n",
    "    #for i in a:\n",
    "        if b in a:\n",
    "            print('Student is present',b)\n",
    "        else:\n",
    "            print('Student is absent')\n",
    "b=int(input('Enter rollno:'))\n",
    "student(b)"
   ]
  },
  {
   "cell_type": "code",
   "execution_count": 9,
   "id": "75893f3f",
   "metadata": {},
   "outputs": [
    {
     "ename": "TypeError",
     "evalue": "'list' object is not callable",
     "output_type": "error",
     "traceback": [
      "\u001b[1;31m---------------------------------------------------------------------------\u001b[0m",
      "\u001b[1;31mTypeError\u001b[0m                                 Traceback (most recent call last)",
      "Input \u001b[1;32mIn [9]\u001b[0m, in \u001b[0;36m<cell line: 1>\u001b[1;34m()\u001b[0m\n\u001b[1;32m----> 1\u001b[0m sentence\u001b[38;5;241m=\u001b[39m\u001b[38;5;28;43minput\u001b[39;49m\u001b[43m(\u001b[49m\u001b[38;5;124;43m'\u001b[39;49m\u001b[38;5;124;43menter sentence \u001b[39;49m\u001b[38;5;124;43m'\u001b[39;49m\u001b[43m)\u001b[49m\n\u001b[0;32m      2\u001b[0m \u001b[38;5;28;01mdef\u001b[39;00m \u001b[38;5;21malp\u001b[39m(a):\n\u001b[0;32m      3\u001b[0m     vowels\u001b[38;5;241m=\u001b[39m\u001b[38;5;124m\"\u001b[39m\u001b[38;5;124ma,e,i,o,u,A,E,I,O,U,\u001b[39m\u001b[38;5;124m\"\u001b[39m\n",
      "\u001b[1;31mTypeError\u001b[0m: 'list' object is not callable"
     ]
    }
   ],
   "source": [
    "sentence=input('enter sentence ')\n",
    "def alp(a):\n",
    "    vowels=\"a,e,i,o,u,A,E,I,O,U,\"\n",
    "    vowel=0\n",
    "    count=0\n",
    "    for i in sentence:\n",
    "        if i in vowels:\n",
    "            vowel+=1\n",
    "        else:\n",
    "            count+=1\n",
    "    print('total vowels in sentence',vowel)\n",
    "    print('total consonant in sentence',count)\n",
    "alp(sentence)"
   ]
  },
  {
   "cell_type": "code",
   "execution_count": 10,
   "id": "eef5469b",
   "metadata": {},
   "outputs": [
    {
     "ename": "TypeError",
     "evalue": "'list' object is not callable",
     "output_type": "error",
     "traceback": [
      "\u001b[1;31m---------------------------------------------------------------------------\u001b[0m",
      "\u001b[1;31mTypeError\u001b[0m                                 Traceback (most recent call last)",
      "Input \u001b[1;32mIn [10]\u001b[0m, in \u001b[0;36m<cell line: 2>\u001b[1;34m()\u001b[0m\n\u001b[0;32m      1\u001b[0m \u001b[38;5;66;03m# 9.define a function that accepts radius and returns the area of a circle.\u001b[39;00m\n\u001b[1;32m----> 2\u001b[0m r\u001b[38;5;241m=\u001b[39m\u001b[38;5;28mint\u001b[39m(\u001b[38;5;28;43minput\u001b[39;49m\u001b[43m(\u001b[49m\u001b[38;5;124;43m'\u001b[39;49m\u001b[38;5;124;43menter radius of circle\u001b[39;49m\u001b[38;5;124;43m'\u001b[39;49m\u001b[43m)\u001b[49m)\n\u001b[0;32m      3\u001b[0m \u001b[38;5;28;01mdef\u001b[39;00m \u001b[38;5;21mcircle\u001b[39m(r):\n\u001b[0;32m      4\u001b[0m     \u001b[38;5;28mprint\u001b[39m(\u001b[38;5;124m'\u001b[39m\u001b[38;5;124mA\u001b[39m\u001b[38;5;124m'\u001b[39m,\u001b[38;5;241m3.14\u001b[39m\u001b[38;5;241m*\u001b[39mr\u001b[38;5;241m*\u001b[39m\u001b[38;5;241m*\u001b[39m\u001b[38;5;241m2\u001b[39m)\n",
      "\u001b[1;31mTypeError\u001b[0m: 'list' object is not callable"
     ]
    }
   ],
   "source": [
    "# 9.define a function that accepts radius and returns the area of a circle.\n",
    "r=int(input('enter radius of circle'))\n",
    "def circle(r):\n",
    "    print('A',3.14*r**2)\n",
    "circle(r)"
   ]
  },
  {
   "cell_type": "code",
   "execution_count": 11,
   "id": "a66d394c",
   "metadata": {},
   "outputs": [
    {
     "ename": "TypeError",
     "evalue": "'list' object is not callable",
     "output_type": "error",
     "traceback": [
      "\u001b[1;31m---------------------------------------------------------------------------\u001b[0m",
      "\u001b[1;31mTypeError\u001b[0m                                 Traceback (most recent call last)",
      "Input \u001b[1;32mIn [11]\u001b[0m, in \u001b[0;36m<cell line: 1>\u001b[1;34m()\u001b[0m\n\u001b[1;32m----> 1\u001b[0m n\u001b[38;5;241m=\u001b[39m\u001b[38;5;28mint\u001b[39m(\u001b[38;5;28;43minput\u001b[39;49m\u001b[43m(\u001b[49m\u001b[43m)\u001b[49m)\n\u001b[0;32m      2\u001b[0m \u001b[38;5;28;01mif\u001b[39;00m n\u001b[38;5;241m%\u001b[39m\u001b[38;5;241m2\u001b[39m\u001b[38;5;241m!=\u001b[39m\u001b[38;5;241m0\u001b[39m:\n\u001b[0;32m      3\u001b[0m      \u001b[38;5;28mprint\u001b[39m(\u001b[38;5;124m'\u001b[39m\u001b[38;5;124mweird\u001b[39m\u001b[38;5;124m'\u001b[39m)\n",
      "\u001b[1;31mTypeError\u001b[0m: 'list' object is not callable"
     ]
    }
   ],
   "source": [
    "n=int(input())\n",
    "if n%2!=0:\n",
    "     print('weird')\n",
    "elif n%2==0 and n in range(2,5):\n",
    "     print('not weird')\n",
    "elif n%2==0 and n>20:\n",
    "     print('yesss')\n",
    "else:\n",
    "    print(\"hsh\")"
   ]
  },
  {
   "cell_type": "code",
   "execution_count": 12,
   "id": "79b7acd8",
   "metadata": {},
   "outputs": [
    {
     "ename": "TypeError",
     "evalue": "'list' object is not callable",
     "output_type": "error",
     "traceback": [
      "\u001b[1;31m---------------------------------------------------------------------------\u001b[0m",
      "\u001b[1;31mTypeError\u001b[0m                                 Traceback (most recent call last)",
      "Input \u001b[1;32mIn [12]\u001b[0m, in \u001b[0;36m<cell line: 1>\u001b[1;34m()\u001b[0m\n\u001b[1;32m----> 1\u001b[0m n\u001b[38;5;241m=\u001b[39m\u001b[38;5;28mint\u001b[39m(\u001b[38;5;28;43minput\u001b[39;49m\u001b[43m(\u001b[49m\u001b[43m)\u001b[49m)\n\u001b[0;32m      2\u001b[0m \u001b[38;5;28;01mif\u001b[39;00m n\u001b[38;5;241m%\u001b[39m\u001b[38;5;241m2\u001b[39m\u001b[38;5;241m!=\u001b[39m\u001b[38;5;241m0\u001b[39m:\n\u001b[0;32m      3\u001b[0m      \u001b[38;5;28mprint\u001b[39m(\u001b[38;5;124m'\u001b[39m\u001b[38;5;124mweird\u001b[39m\u001b[38;5;124m'\u001b[39m)\n",
      "\u001b[1;31mTypeError\u001b[0m: 'list' object is not callable"
     ]
    }
   ],
   "source": [
    "n=int(input())\n",
    "if n%2!=0:\n",
    "     print('weird')\n",
    "elif n%2==0 and n in range(2,5):\n",
    "     print('not weird')\n",
    "elif n%2==0 and n>20:\n",
    "     print('yesss')\n",
    "else:\n",
    "    print(\"hsh\")"
   ]
  },
  {
   "cell_type": "markdown",
   "id": "d0411317",
   "metadata": {},
   "source": []
  },
  {
   "cell_type": "code",
   "execution_count": 13,
   "id": "4de1a4be",
   "metadata": {},
   "outputs": [
    {
     "ename": "TypeError",
     "evalue": "'list' object is not callable",
     "output_type": "error",
     "traceback": [
      "\u001b[1;31m---------------------------------------------------------------------------\u001b[0m",
      "\u001b[1;31mTypeError\u001b[0m                                 Traceback (most recent call last)",
      "Input \u001b[1;32mIn [13]\u001b[0m, in \u001b[0;36m<cell line: 1>\u001b[1;34m()\u001b[0m\n\u001b[1;32m----> 1\u001b[0m n\u001b[38;5;241m=\u001b[39m\u001b[38;5;28mint\u001b[39m(\u001b[38;5;28;43minput\u001b[39;49m\u001b[43m(\u001b[49m\u001b[38;5;124;43m'\u001b[39;49m\u001b[38;5;124;43m'\u001b[39;49m\u001b[43m)\u001b[49m)\n\u001b[0;32m      2\u001b[0m \u001b[38;5;28;01mif\u001b[39;00m n\u001b[38;5;241m%\u001b[39m\u001b[38;5;241m2\u001b[39m\u001b[38;5;241m!=\u001b[39m\u001b[38;5;241m0\u001b[39m:\n\u001b[0;32m      3\u001b[0m      \u001b[38;5;28mprint\u001b[39m(\u001b[38;5;124m'\u001b[39m\u001b[38;5;124mWeird\u001b[39m\u001b[38;5;124m'\u001b[39m)\n",
      "\u001b[1;31mTypeError\u001b[0m: 'list' object is not callable"
     ]
    }
   ],
   "source": [
    "n=int(input(''))\n",
    "if n%2!=0:\n",
    "     print('Weird')\n",
    "elif n%2==0 and n in range(2,5):\n",
    "     print('Not Weird')\n",
    "elif n%2==0 and n in range(6,20):\n",
    "     print('Weird')\n",
    "elif n%2==0 and n>20:\n",
    "    print('Not Weird')"
   ]
  },
  {
   "cell_type": "code",
   "execution_count": 14,
   "id": "b31562ec",
   "metadata": {},
   "outputs": [
    {
     "ename": "TypeError",
     "evalue": "'list' object is not callable",
     "output_type": "error",
     "traceback": [
      "\u001b[1;31m---------------------------------------------------------------------------\u001b[0m",
      "\u001b[1;31mTypeError\u001b[0m                                 Traceback (most recent call last)",
      "Input \u001b[1;32mIn [14]\u001b[0m, in \u001b[0;36m<cell line: 1>\u001b[1;34m()\u001b[0m\n\u001b[1;32m----> 1\u001b[0m n\u001b[38;5;241m=\u001b[39m\u001b[38;5;28mint\u001b[39m(\u001b[38;5;28;43minput\u001b[39;49m\u001b[43m(\u001b[49m\u001b[38;5;124;43m\"\u001b[39;49m\u001b[38;5;124;43menter number\u001b[39;49m\u001b[38;5;124;43m\"\u001b[39;49m\u001b[43m)\u001b[49m)\n\u001b[0;32m      2\u001b[0m \u001b[38;5;28;01mfor\u001b[39;00m i \u001b[38;5;129;01min\u001b[39;00m \u001b[38;5;28mrange\u001b[39m(\u001b[38;5;241m0\u001b[39m,\u001b[38;5;241m10\u001b[39m):\n\u001b[0;32m      3\u001b[0m     \u001b[38;5;28mprint\u001b[39m(i\u001b[38;5;241m*\u001b[39m\u001b[38;5;241m*\u001b[39m\u001b[38;5;241m2\u001b[39m)\n",
      "\u001b[1;31mTypeError\u001b[0m: 'list' object is not callable"
     ]
    }
   ],
   "source": [
    "n=int(input(\"enter number\"))\n",
    "for i in range(0,10):\n",
    "    print(i**2)"
   ]
  },
  {
   "cell_type": "code",
   "execution_count": 15,
   "id": "c027e122",
   "metadata": {},
   "outputs": [
    {
     "name": "stdout",
     "output_type": "stream",
     "text": [
      "* * * * * \n",
      "* * * * \n",
      "* * * \n",
      "* * \n",
      "* \n"
     ]
    }
   ],
   "source": [
    "#n=int(input(\"\"))\n",
    "n=5\n",
    "for i in range(n):\n",
    "    for j in range(i,n):\n",
    "        print('*',end=\" \")\n",
    "    print()"
   ]
  },
  {
   "cell_type": "code",
   "execution_count": 16,
   "id": "4af99b9a",
   "metadata": {},
   "outputs": [
    {
     "name": "stdout",
     "output_type": "stream",
     "text": [
      "9\n",
      "10\n",
      "11\n",
      "12\n"
     ]
    }
   ],
   "source": [
    "list1=[1,2,3,4]\n",
    "list2=[5,6,7,8]\n",
    "for i in list1:\n",
    "    for j in list2:\n",
    "        n=i+j\n",
    "    print(n)"
   ]
  },
  {
   "cell_type": "code",
   "execution_count": 17,
   "id": "8353cd09",
   "metadata": {},
   "outputs": [
    {
     "data": {
      "text/plain": [
       "[(1, 5), (2, 6), (3, 7), (4, 8)]"
      ]
     },
     "execution_count": 17,
     "metadata": {},
     "output_type": "execute_result"
    }
   ],
   "source": [
    "list1=[1,2,3,4]\n",
    "list2=[5,6,7,8]\n",
    "list(zip(list1,list2))"
   ]
  },
  {
   "cell_type": "code",
   "execution_count": 14,
   "id": "3946b6cb",
   "metadata": {},
   "outputs": [
    {
     "data": {
      "text/plain": [
       "[(1, 5), (2, 6), (3, 7), (4, 8)]"
      ]
     },
     "execution_count": 14,
     "metadata": {},
     "output_type": "execute_result"
    }
   ],
   "source": [
    "\n",
    "list1=[1,2,3,4]\n",
    "list2=[5,6,7,8]\n",
    "list(zip(list1,list2))"
   ]
  },
  {
   "cell_type": "code",
   "execution_count": 3,
   "id": "3e64dbcf",
   "metadata": {},
   "outputs": [
    {
     "name": "stdout",
     "output_type": "stream",
     "text": [
      "1\n",
      "2\n",
      "3\n"
     ]
    }
   ],
   "source": [
    "i=1\n",
    "while i<6:\n",
    "    print(i)\n",
    "    if i==3:\n",
    "        break      \n",
    "    i+=1  "
   ]
  },
  {
   "cell_type": "code",
   "execution_count": 5,
   "id": "2c247165",
   "metadata": {},
   "outputs": [
    {
     "name": "stdout",
     "output_type": "stream",
     "text": [
      "1\n",
      "3\n",
      "5\n"
     ]
    }
   ],
   "source": [
    "dList = [{'a': 1}, {'b': 3}, {'c': 5}]\n",
    "for index in range(len(dList)):\n",
    "    for key in dList[index]:\n",
    "        print(dList[index][key])\n"
   ]
  },
  {
   "cell_type": "code",
   "execution_count": 3,
   "id": "a0279693",
   "metadata": {},
   "outputs": [
    {
     "ename": "TypeError",
     "evalue": "unsupported operand type(s) for -: 'list' and 'list'",
     "output_type": "error",
     "traceback": [
      "\u001b[1;31m---------------------------------------------------------------------------\u001b[0m",
      "\u001b[1;31mTypeError\u001b[0m                                 Traceback (most recent call last)",
      "Input \u001b[1;32mIn [3]\u001b[0m, in \u001b[0;36m<cell line: 3>\u001b[1;34m()\u001b[0m\n\u001b[0;32m      1\u001b[0m x \u001b[38;5;241m=\u001b[39m [\u001b[38;5;241m1\u001b[39m, \u001b[38;5;241m2\u001b[39m, \u001b[38;5;241m3\u001b[39m, \u001b[38;5;241m4\u001b[39m]\n\u001b[0;32m      2\u001b[0m y \u001b[38;5;241m=\u001b[39m [\u001b[38;5;241m2\u001b[39m, \u001b[38;5;241m5\u001b[39m, \u001b[38;5;241m2\u001b[39m]\n\u001b[1;32m----> 3\u001b[0m z \u001b[38;5;241m=\u001b[39m \u001b[43mx\u001b[49m\u001b[43m \u001b[49m\u001b[38;5;241;43m-\u001b[39;49m\u001b[43m \u001b[49m\u001b[43my\u001b[49m   \n\u001b[0;32m      4\u001b[0m \u001b[38;5;28mprint\u001b[39m(z)\n",
      "\u001b[1;31mTypeError\u001b[0m: unsupported operand type(s) for -: 'list' and 'list'"
     ]
    }
   ],
   "source": [
    "x = [1, 2, 3, 4]\n",
    "y = [2, 5, 2]\n",
    "z = x - y   \n",
    "print(z)"
   ]
  },
  {
   "cell_type": "code",
   "execution_count": 3,
   "id": "358a0f0a",
   "metadata": {},
   "outputs": [
    {
     "name": "stdout",
     "output_type": "stream",
     "text": [
      "OOL\n"
     ]
    }
   ],
   "source": [
    "d=\"HELLOWORLDSCHOOL\"\n",
    "print(d[6:-15:-2])"
   ]
  },
  {
   "cell_type": "code",
   "execution_count": 10,
   "id": "8339bda4",
   "metadata": {},
   "outputs": [
    {
     "name": "stdout",
     "output_type": "stream",
     "text": [
      "Total Number of Characters in this String =  7\n"
     ]
    }
   ],
   "source": [
    "str1 =\"suraiya\"\n",
    "total = 0\n",
    "i = 0\n",
    "while(i < len(str1)):\n",
    "    total = total + 1\n",
    "    i = i + 1\n",
    "print(\"Total Number of Characters in this String = \", total)\n"
   ]
  },
  {
   "cell_type": "code",
   "execution_count": null,
   "id": "ac28980d",
   "metadata": {},
   "outputs": [],
   "source": []
  },
  {
   "cell_type": "code",
   "execution_count": null,
   "id": "fd80ae66",
   "metadata": {},
   "outputs": [],
   "source": []
  }
 ],
 "metadata": {
  "kernelspec": {
   "display_name": "Python 3 (ipykernel)",
   "language": "python",
   "name": "python3"
  },
  "language_info": {
   "codemirror_mode": {
    "name": "ipython",
    "version": 3
   },
   "file_extension": ".py",
   "mimetype": "text/x-python",
   "name": "python",
   "nbconvert_exporter": "python",
   "pygments_lexer": "ipython3",
   "version": "3.10.6"
  }
 },
 "nbformat": 4,
 "nbformat_minor": 5
}
